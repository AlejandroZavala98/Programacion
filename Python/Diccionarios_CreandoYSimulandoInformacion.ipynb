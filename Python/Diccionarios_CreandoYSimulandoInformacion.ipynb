{
 "cells": [
  {
   "cell_type": "markdown",
   "id": "8f691b97",
   "metadata": {},
   "source": [
    "# Diccionarios"
   ]
  },
  {
   "cell_type": "code",
   "execution_count": 1,
   "id": "3789d548",
   "metadata": {},
   "outputs": [],
   "source": [
    "import random # To generate new values\n",
    "import pandas as pd # To manipulate data\n",
    "import json # To save,update and load data on format json\n",
    "import numpy as np # Use some transformations"
   ]
  },
  {
   "cell_type": "markdown",
   "id": "0bc6fc80",
   "metadata": {},
   "source": [
    "¿Qué son los diccionarios?\n",
    "\n",
    "Los diccionarios en Python son un tipo de estructuras de datos que permite guardar un conjunto no ordenado de pares por medio de una clave y un valor, siendo el valor una lista, un string, un caracter, un arreglo, entre otros.\n",
    "\n",
    "Se crearan los siguentes diccionarios, esto para crear datos de personas con edad,ojo de color y ciudad"
   ]
  },
  {
   "cell_type": "code",
   "execution_count": 2,
   "id": "9858f94a",
   "metadata": {},
   "outputs": [],
   "source": [
    "names_to_add = {1: \"Alejandro\",\n",
    "                2: \"Joel\",\n",
    "                3: \"Daniel\",\n",
    "                4: \"Luis\",\n",
    "                5: \"Armando\",\n",
    "                6: \"Gerardo\",\n",
    "                7: \"Alfredo\",\n",
    "                8: \"Jorge\",\n",
    "                9: \"Mike\",\n",
    "                10: \"Carlos\",\n",
    "                11: \"Cristian\",\n",
    "                12: \"Manuel\",\n",
    "                13: \"Ivan\"}\n",
    "\n",
    "age_to_add = {1: 23,\n",
    "              2: 54,\n",
    "              3: 34,\n",
    "              4: 19,\n",
    "              5: 27,\n",
    "              6: 33,\n",
    "              7: 29,\n",
    "              8: 36,\n",
    "              9: 42,\n",
    "              10: 52,\n",
    "              11: np.NAN}\n",
    "\n",
    "eye_color = {1: \"Blue\",\n",
    "             2: \"Brown\",\n",
    "             3: \"Black\",\n",
    "             4: \"Green\",\n",
    "             5: np.NAN}\n",
    "\n",
    "city_to_add = {1: \"CDMX\",\n",
    "               2: \"Monterrey\",\n",
    "               3: \"Queretaro\",\n",
    "               4: \"Zacatecas\",\n",
    "               5: \"EDOMEX\",\n",
    "               6: \"Quintana Roo\",\n",
    "               7: \"Oaxaca\",\n",
    "               8: \"Tlaxcala\",\n",
    "               9: \"Veracruz\",\n",
    "               10: np.NAN}\n",
    "\n",
    "folio_id = {i: str(1000 + i).zfill(6) for i in range(1,36)}\n",
    "# Creamos folios unicos de 35 sucursales en los que trabajan"
   ]
  },
  {
   "cell_type": "code",
   "execution_count": 3,
   "id": "af46b1d0",
   "metadata": {},
   "outputs": [
    {
     "name": "stdout",
     "output_type": "stream",
     "text": [
      "La llave 1 tiene como valor: Alejandro\n",
      "La llave 2 tiene como valor: Joel\n",
      "La llave 3 tiene como valor: Daniel\n",
      "La llave 4 tiene como valor: Luis\n",
      "La llave 5 tiene como valor: Armando\n",
      "La llave 6 tiene como valor: Gerardo\n",
      "La llave 7 tiene como valor: Alfredo\n",
      "La llave 8 tiene como valor: Jorge\n",
      "La llave 9 tiene como valor: Mike\n",
      "La llave 10 tiene como valor: Carlos\n",
      "La llave 11 tiene como valor: Cristian\n",
      "La llave 12 tiene como valor: Manuel\n",
      "La llave 13 tiene como valor: Ivan\n"
     ]
    }
   ],
   "source": [
    "for k,v in names_to_add.items(): #K for key & v for value\n",
    "    print(\"La llave {} tiene como valor: {}\".format(k,v))"
   ]
  },
  {
   "cell_type": "markdown",
   "id": "d071b0f9",
   "metadata": {},
   "source": [
    "## Creación del dataset\n",
    "\n",
    "Vamos a crear un conjunto de datos con estos diccionarios, para tenerlo en un diccionario total y almacenarlo en un archivo json"
   ]
  },
  {
   "cell_type": "code",
   "execution_count": 4,
   "id": "b329dedc",
   "metadata": {},
   "outputs": [],
   "source": [
    "n_total = 15 # Registros a simular\n",
    "dict_totalDF = {}\n",
    "\n",
    "\n",
    "for i in range(0,n_total):\n",
    "    dict_toDF = {}\n",
    "    dict_toDF[\"Name\"] = names_to_add[random.randint(1,13)]\n",
    "    dict_toDF[\"Age\"] = age_to_add[random.randint(1,11)]\n",
    "    dict_toDF[\"Eye Color\"] = eye_color[random.randint(1,5)]\n",
    "    dict_toDF[\"City\"] = city_to_add[random.randint(1,10)]\n",
    "    dict_toDF[\"Id\"] = folio_id[random.randint(1,35)]\n",
    "    dict_totalDF[\"Registro No.\"+str(i).zfill(6)] = dict_toDF"
   ]
  },
  {
   "cell_type": "markdown",
   "id": "43d109a2",
   "metadata": {},
   "source": [
    "Veamos el contenido creado en un diccionario"
   ]
  },
  {
   "cell_type": "code",
   "execution_count": 5,
   "id": "1782f065",
   "metadata": {},
   "outputs": [
    {
     "data": {
      "text/plain": [
       "{'Registro No.000000': {'Name': 'Alfredo',\n",
       "  'Age': 42,\n",
       "  'Eye Color': 'Green',\n",
       "  'City': 'Zacatecas',\n",
       "  'Id': '001005'},\n",
       " 'Registro No.000001': {'Name': 'Armando',\n",
       "  'Age': 27,\n",
       "  'Eye Color': nan,\n",
       "  'City': 'Veracruz',\n",
       "  'Id': '001009'},\n",
       " 'Registro No.000002': {'Name': 'Joel',\n",
       "  'Age': 33,\n",
       "  'Eye Color': nan,\n",
       "  'City': 'CDMX',\n",
       "  'Id': '001003'},\n",
       " 'Registro No.000003': {'Name': 'Cristian',\n",
       "  'Age': nan,\n",
       "  'Eye Color': nan,\n",
       "  'City': 'Zacatecas',\n",
       "  'Id': '001026'},\n",
       " 'Registro No.000004': {'Name': 'Armando',\n",
       "  'Age': 19,\n",
       "  'Eye Color': 'Green',\n",
       "  'City': 'Veracruz',\n",
       "  'Id': '001006'},\n",
       " 'Registro No.000005': {'Name': 'Carlos',\n",
       "  'Age': 54,\n",
       "  'Eye Color': 'Brown',\n",
       "  'City': 'Queretaro',\n",
       "  'Id': '001015'},\n",
       " 'Registro No.000006': {'Name': 'Jorge',\n",
       "  'Age': 29,\n",
       "  'Eye Color': 'Brown',\n",
       "  'City': nan,\n",
       "  'Id': '001033'},\n",
       " 'Registro No.000007': {'Name': 'Alejandro',\n",
       "  'Age': 42,\n",
       "  'Eye Color': 'Black',\n",
       "  'City': 'EDOMEX',\n",
       "  'Id': '001033'},\n",
       " 'Registro No.000008': {'Name': 'Jorge',\n",
       "  'Age': nan,\n",
       "  'Eye Color': 'Brown',\n",
       "  'City': 'Queretaro',\n",
       "  'Id': '001009'},\n",
       " 'Registro No.000009': {'Name': 'Gerardo',\n",
       "  'Age': 36,\n",
       "  'Eye Color': nan,\n",
       "  'City': 'Oaxaca',\n",
       "  'Id': '001007'},\n",
       " 'Registro No.000010': {'Name': 'Ivan',\n",
       "  'Age': nan,\n",
       "  'Eye Color': 'Green',\n",
       "  'City': 'Queretaro',\n",
       "  'Id': '001001'},\n",
       " 'Registro No.000011': {'Name': 'Carlos',\n",
       "  'Age': 23,\n",
       "  'Eye Color': 'Brown',\n",
       "  'City': 'Quintana Roo',\n",
       "  'Id': '001014'},\n",
       " 'Registro No.000012': {'Name': 'Joel',\n",
       "  'Age': 34,\n",
       "  'Eye Color': 'Black',\n",
       "  'City': 'Veracruz',\n",
       "  'Id': '001034'},\n",
       " 'Registro No.000013': {'Name': 'Mike',\n",
       "  'Age': nan,\n",
       "  'Eye Color': 'Black',\n",
       "  'City': 'Oaxaca',\n",
       "  'Id': '001019'},\n",
       " 'Registro No.000014': {'Name': 'Alfredo',\n",
       "  'Age': 27,\n",
       "  'Eye Color': 'Green',\n",
       "  'City': 'CDMX',\n",
       "  'Id': '001035'}}"
      ]
     },
     "execution_count": 5,
     "metadata": {},
     "output_type": "execute_result"
    }
   ],
   "source": [
    "dict_totalDF"
   ]
  },
  {
   "cell_type": "markdown",
   "id": "8b34f63a",
   "metadata": {},
   "source": [
    "Veamos las llaves de nuestro diccionario principal"
   ]
  },
  {
   "cell_type": "code",
   "execution_count": 6,
   "id": "ab63fe28",
   "metadata": {},
   "outputs": [
    {
     "data": {
      "text/plain": [
       "dict_keys(['Registro No.000000', 'Registro No.000001', 'Registro No.000002', 'Registro No.000003', 'Registro No.000004', 'Registro No.000005', 'Registro No.000006', 'Registro No.000007', 'Registro No.000008', 'Registro No.000009', 'Registro No.000010', 'Registro No.000011', 'Registro No.000012', 'Registro No.000013', 'Registro No.000014'])"
      ]
     },
     "execution_count": 6,
     "metadata": {},
     "output_type": "execute_result"
    }
   ],
   "source": [
    "dict_totalDF.keys()"
   ]
  },
  {
   "cell_type": "markdown",
   "id": "7b994f10",
   "metadata": {},
   "source": [
    "Si accedemos al primer registro"
   ]
  },
  {
   "cell_type": "code",
   "execution_count": 7,
   "id": "8d012d46",
   "metadata": {},
   "outputs": [
    {
     "data": {
      "text/plain": [
       "{'Name': 'Alfredo',\n",
       " 'Age': 42,\n",
       " 'Eye Color': 'Green',\n",
       " 'City': 'Zacatecas',\n",
       " 'Id': '001005'}"
      ]
     },
     "execution_count": 7,
     "metadata": {},
     "output_type": "execute_result"
    }
   ],
   "source": [
    "dict_totalDF['Registro No.000000']"
   ]
  },
  {
   "cell_type": "markdown",
   "id": "bb9dec7a",
   "metadata": {},
   "source": [
    "## Almacenando la información en una lista de diccionarios"
   ]
  },
  {
   "cell_type": "code",
   "execution_count": 8,
   "id": "ded83058",
   "metadata": {},
   "outputs": [],
   "source": [
    "list_dict = []\n",
    "for key_id in dict_totalDF.keys():\n",
    "    list_dict.append(dict_totalDF[key_id])"
   ]
  },
  {
   "cell_type": "code",
   "execution_count": 9,
   "id": "b40fb6de",
   "metadata": {},
   "outputs": [
    {
     "data": {
      "text/html": [
       "<div>\n",
       "<style scoped>\n",
       "    .dataframe tbody tr th:only-of-type {\n",
       "        vertical-align: middle;\n",
       "    }\n",
       "\n",
       "    .dataframe tbody tr th {\n",
       "        vertical-align: top;\n",
       "    }\n",
       "\n",
       "    .dataframe thead th {\n",
       "        text-align: right;\n",
       "    }\n",
       "</style>\n",
       "<table border=\"1\" class=\"dataframe\">\n",
       "  <thead>\n",
       "    <tr style=\"text-align: right;\">\n",
       "      <th></th>\n",
       "      <th>Name</th>\n",
       "      <th>Age</th>\n",
       "      <th>Eye Color</th>\n",
       "      <th>City</th>\n",
       "      <th>Id</th>\n",
       "    </tr>\n",
       "  </thead>\n",
       "  <tbody>\n",
       "    <tr>\n",
       "      <th>0</th>\n",
       "      <td>Alfredo</td>\n",
       "      <td>42.0</td>\n",
       "      <td>Green</td>\n",
       "      <td>Zacatecas</td>\n",
       "      <td>001005</td>\n",
       "    </tr>\n",
       "    <tr>\n",
       "      <th>1</th>\n",
       "      <td>Armando</td>\n",
       "      <td>27.0</td>\n",
       "      <td>NaN</td>\n",
       "      <td>Veracruz</td>\n",
       "      <td>001009</td>\n",
       "    </tr>\n",
       "    <tr>\n",
       "      <th>2</th>\n",
       "      <td>Joel</td>\n",
       "      <td>33.0</td>\n",
       "      <td>NaN</td>\n",
       "      <td>CDMX</td>\n",
       "      <td>001003</td>\n",
       "    </tr>\n",
       "    <tr>\n",
       "      <th>3</th>\n",
       "      <td>Cristian</td>\n",
       "      <td>NaN</td>\n",
       "      <td>NaN</td>\n",
       "      <td>Zacatecas</td>\n",
       "      <td>001026</td>\n",
       "    </tr>\n",
       "    <tr>\n",
       "      <th>4</th>\n",
       "      <td>Armando</td>\n",
       "      <td>19.0</td>\n",
       "      <td>Green</td>\n",
       "      <td>Veracruz</td>\n",
       "      <td>001006</td>\n",
       "    </tr>\n",
       "    <tr>\n",
       "      <th>5</th>\n",
       "      <td>Carlos</td>\n",
       "      <td>54.0</td>\n",
       "      <td>Brown</td>\n",
       "      <td>Queretaro</td>\n",
       "      <td>001015</td>\n",
       "    </tr>\n",
       "    <tr>\n",
       "      <th>6</th>\n",
       "      <td>Jorge</td>\n",
       "      <td>29.0</td>\n",
       "      <td>Brown</td>\n",
       "      <td>NaN</td>\n",
       "      <td>001033</td>\n",
       "    </tr>\n",
       "    <tr>\n",
       "      <th>7</th>\n",
       "      <td>Alejandro</td>\n",
       "      <td>42.0</td>\n",
       "      <td>Black</td>\n",
       "      <td>EDOMEX</td>\n",
       "      <td>001033</td>\n",
       "    </tr>\n",
       "    <tr>\n",
       "      <th>8</th>\n",
       "      <td>Jorge</td>\n",
       "      <td>NaN</td>\n",
       "      <td>Brown</td>\n",
       "      <td>Queretaro</td>\n",
       "      <td>001009</td>\n",
       "    </tr>\n",
       "    <tr>\n",
       "      <th>9</th>\n",
       "      <td>Gerardo</td>\n",
       "      <td>36.0</td>\n",
       "      <td>NaN</td>\n",
       "      <td>Oaxaca</td>\n",
       "      <td>001007</td>\n",
       "    </tr>\n",
       "    <tr>\n",
       "      <th>10</th>\n",
       "      <td>Ivan</td>\n",
       "      <td>NaN</td>\n",
       "      <td>Green</td>\n",
       "      <td>Queretaro</td>\n",
       "      <td>001001</td>\n",
       "    </tr>\n",
       "    <tr>\n",
       "      <th>11</th>\n",
       "      <td>Carlos</td>\n",
       "      <td>23.0</td>\n",
       "      <td>Brown</td>\n",
       "      <td>Quintana Roo</td>\n",
       "      <td>001014</td>\n",
       "    </tr>\n",
       "    <tr>\n",
       "      <th>12</th>\n",
       "      <td>Joel</td>\n",
       "      <td>34.0</td>\n",
       "      <td>Black</td>\n",
       "      <td>Veracruz</td>\n",
       "      <td>001034</td>\n",
       "    </tr>\n",
       "    <tr>\n",
       "      <th>13</th>\n",
       "      <td>Mike</td>\n",
       "      <td>NaN</td>\n",
       "      <td>Black</td>\n",
       "      <td>Oaxaca</td>\n",
       "      <td>001019</td>\n",
       "    </tr>\n",
       "    <tr>\n",
       "      <th>14</th>\n",
       "      <td>Alfredo</td>\n",
       "      <td>27.0</td>\n",
       "      <td>Green</td>\n",
       "      <td>CDMX</td>\n",
       "      <td>001035</td>\n",
       "    </tr>\n",
       "  </tbody>\n",
       "</table>\n",
       "</div>"
      ],
      "text/plain": [
       "         Name   Age Eye Color          City      Id\n",
       "0     Alfredo  42.0     Green     Zacatecas  001005\n",
       "1     Armando  27.0       NaN      Veracruz  001009\n",
       "2        Joel  33.0       NaN          CDMX  001003\n",
       "3    Cristian   NaN       NaN     Zacatecas  001026\n",
       "4     Armando  19.0     Green      Veracruz  001006\n",
       "5      Carlos  54.0     Brown     Queretaro  001015\n",
       "6       Jorge  29.0     Brown           NaN  001033\n",
       "7   Alejandro  42.0     Black        EDOMEX  001033\n",
       "8       Jorge   NaN     Brown     Queretaro  001009\n",
       "9     Gerardo  36.0       NaN        Oaxaca  001007\n",
       "10       Ivan   NaN     Green     Queretaro  001001\n",
       "11     Carlos  23.0     Brown  Quintana Roo  001014\n",
       "12       Joel  34.0     Black      Veracruz  001034\n",
       "13       Mike   NaN     Black        Oaxaca  001019\n",
       "14    Alfredo  27.0     Green          CDMX  001035"
      ]
     },
     "execution_count": 9,
     "metadata": {},
     "output_type": "execute_result"
    }
   ],
   "source": [
    "df_MX = pd.DataFrame.from_dict(list_dict)\n",
    "df_MX.head(15)"
   ]
  },
  {
   "cell_type": "code",
   "execution_count": 10,
   "id": "891fe619",
   "metadata": {},
   "outputs": [
    {
     "data": {
      "text/html": [
       "<div>\n",
       "<style scoped>\n",
       "    .dataframe tbody tr th:only-of-type {\n",
       "        vertical-align: middle;\n",
       "    }\n",
       "\n",
       "    .dataframe tbody tr th {\n",
       "        vertical-align: top;\n",
       "    }\n",
       "\n",
       "    .dataframe thead th {\n",
       "        text-align: right;\n",
       "    }\n",
       "</style>\n",
       "<table border=\"1\" class=\"dataframe\">\n",
       "  <thead>\n",
       "    <tr style=\"text-align: right;\">\n",
       "      <th></th>\n",
       "      <th>Name</th>\n",
       "      <th>Age</th>\n",
       "      <th>Eye Color</th>\n",
       "      <th>City</th>\n",
       "      <th>Id</th>\n",
       "    </tr>\n",
       "  </thead>\n",
       "  <tbody>\n",
       "    <tr>\n",
       "      <th>7</th>\n",
       "      <td>Alejandro</td>\n",
       "      <td>42.0</td>\n",
       "      <td>Black</td>\n",
       "      <td>EDOMEX</td>\n",
       "      <td>001033</td>\n",
       "    </tr>\n",
       "    <tr>\n",
       "      <th>14</th>\n",
       "      <td>Alfredo</td>\n",
       "      <td>27.0</td>\n",
       "      <td>Green</td>\n",
       "      <td>CDMX</td>\n",
       "      <td>001035</td>\n",
       "    </tr>\n",
       "    <tr>\n",
       "      <th>0</th>\n",
       "      <td>Alfredo</td>\n",
       "      <td>42.0</td>\n",
       "      <td>Green</td>\n",
       "      <td>Zacatecas</td>\n",
       "      <td>001005</td>\n",
       "    </tr>\n",
       "    <tr>\n",
       "      <th>1</th>\n",
       "      <td>Armando</td>\n",
       "      <td>27.0</td>\n",
       "      <td>NaN</td>\n",
       "      <td>Veracruz</td>\n",
       "      <td>001009</td>\n",
       "    </tr>\n",
       "    <tr>\n",
       "      <th>4</th>\n",
       "      <td>Armando</td>\n",
       "      <td>19.0</td>\n",
       "      <td>Green</td>\n",
       "      <td>Veracruz</td>\n",
       "      <td>001006</td>\n",
       "    </tr>\n",
       "    <tr>\n",
       "      <th>5</th>\n",
       "      <td>Carlos</td>\n",
       "      <td>54.0</td>\n",
       "      <td>Brown</td>\n",
       "      <td>Queretaro</td>\n",
       "      <td>001015</td>\n",
       "    </tr>\n",
       "    <tr>\n",
       "      <th>11</th>\n",
       "      <td>Carlos</td>\n",
       "      <td>23.0</td>\n",
       "      <td>Brown</td>\n",
       "      <td>Quintana Roo</td>\n",
       "      <td>001014</td>\n",
       "    </tr>\n",
       "    <tr>\n",
       "      <th>3</th>\n",
       "      <td>Cristian</td>\n",
       "      <td>NaN</td>\n",
       "      <td>NaN</td>\n",
       "      <td>Zacatecas</td>\n",
       "      <td>001026</td>\n",
       "    </tr>\n",
       "    <tr>\n",
       "      <th>9</th>\n",
       "      <td>Gerardo</td>\n",
       "      <td>36.0</td>\n",
       "      <td>NaN</td>\n",
       "      <td>Oaxaca</td>\n",
       "      <td>001007</td>\n",
       "    </tr>\n",
       "    <tr>\n",
       "      <th>10</th>\n",
       "      <td>Ivan</td>\n",
       "      <td>NaN</td>\n",
       "      <td>Green</td>\n",
       "      <td>Queretaro</td>\n",
       "      <td>001001</td>\n",
       "    </tr>\n",
       "    <tr>\n",
       "      <th>2</th>\n",
       "      <td>Joel</td>\n",
       "      <td>33.0</td>\n",
       "      <td>NaN</td>\n",
       "      <td>CDMX</td>\n",
       "      <td>001003</td>\n",
       "    </tr>\n",
       "    <tr>\n",
       "      <th>12</th>\n",
       "      <td>Joel</td>\n",
       "      <td>34.0</td>\n",
       "      <td>Black</td>\n",
       "      <td>Veracruz</td>\n",
       "      <td>001034</td>\n",
       "    </tr>\n",
       "    <tr>\n",
       "      <th>8</th>\n",
       "      <td>Jorge</td>\n",
       "      <td>NaN</td>\n",
       "      <td>Brown</td>\n",
       "      <td>Queretaro</td>\n",
       "      <td>001009</td>\n",
       "    </tr>\n",
       "    <tr>\n",
       "      <th>6</th>\n",
       "      <td>Jorge</td>\n",
       "      <td>29.0</td>\n",
       "      <td>Brown</td>\n",
       "      <td>NaN</td>\n",
       "      <td>001033</td>\n",
       "    </tr>\n",
       "    <tr>\n",
       "      <th>13</th>\n",
       "      <td>Mike</td>\n",
       "      <td>NaN</td>\n",
       "      <td>Black</td>\n",
       "      <td>Oaxaca</td>\n",
       "      <td>001019</td>\n",
       "    </tr>\n",
       "  </tbody>\n",
       "</table>\n",
       "</div>"
      ],
      "text/plain": [
       "         Name   Age Eye Color          City      Id\n",
       "7   Alejandro  42.0     Black        EDOMEX  001033\n",
       "14    Alfredo  27.0     Green          CDMX  001035\n",
       "0     Alfredo  42.0     Green     Zacatecas  001005\n",
       "1     Armando  27.0       NaN      Veracruz  001009\n",
       "4     Armando  19.0     Green      Veracruz  001006\n",
       "5      Carlos  54.0     Brown     Queretaro  001015\n",
       "11     Carlos  23.0     Brown  Quintana Roo  001014\n",
       "3    Cristian   NaN       NaN     Zacatecas  001026\n",
       "9     Gerardo  36.0       NaN        Oaxaca  001007\n",
       "10       Ivan   NaN     Green     Queretaro  001001\n",
       "2        Joel  33.0       NaN          CDMX  001003\n",
       "12       Joel  34.0     Black      Veracruz  001034\n",
       "8       Jorge   NaN     Brown     Queretaro  001009\n",
       "6       Jorge  29.0     Brown           NaN  001033\n",
       "13       Mike   NaN     Black        Oaxaca  001019"
      ]
     },
     "execution_count": 10,
     "metadata": {},
     "output_type": "execute_result"
    }
   ],
   "source": [
    "df_MX.sort_values([\"Name\",\"City\"]).head(15)"
   ]
  },
  {
   "cell_type": "code",
   "execution_count": 11,
   "id": "9c41abcf",
   "metadata": {},
   "outputs": [
    {
     "data": {
      "text/plain": [
       "(15, 5)"
      ]
     },
     "execution_count": 11,
     "metadata": {},
     "output_type": "execute_result"
    }
   ],
   "source": [
    "df_MX.shape # Numero de registros y campos del dataframe"
   ]
  },
  {
   "cell_type": "code",
   "execution_count": 12,
   "id": "1ef229cd",
   "metadata": {},
   "outputs": [
    {
     "data": {
      "text/plain": [
       "Name       City        \n",
       "Alejandro  EDOMEX          1\n",
       "Alfredo    CDMX            1\n",
       "           Zacatecas       1\n",
       "Armando    Veracruz        1\n",
       "Carlos     Queretaro       1\n",
       "           Quintana Roo    1\n",
       "Cristian   Zacatecas       0\n",
       "Gerardo    Oaxaca          0\n",
       "Ivan       Queretaro       1\n",
       "Joel       CDMX            0\n",
       "           Veracruz        1\n",
       "Jorge      Queretaro       1\n",
       "           NaN             1\n",
       "Mike       Oaxaca          1\n",
       "Name: Eye Color, dtype: int64"
      ]
     },
     "execution_count": 12,
     "metadata": {},
     "output_type": "execute_result"
    }
   ],
   "source": [
    "df_NameCity_EyeColor = df_MX.groupby([\"Name\",\"City\"], dropna=False)[\"Eye Color\"].count()\n",
    "df_NameCity_EyeColor"
   ]
  },
  {
   "cell_type": "code",
   "execution_count": 13,
   "id": "dcbbd37e",
   "metadata": {},
   "outputs": [
    {
     "data": {
      "text/plain": [
       "Name       City        \n",
       "Alejandro  EDOMEX          42.0\n",
       "Alfredo    CDMX            27.0\n",
       "           Zacatecas       42.0\n",
       "Armando    Veracruz        23.0\n",
       "Carlos     Queretaro       54.0\n",
       "           Quintana Roo    23.0\n",
       "Cristian   Zacatecas        NaN\n",
       "Gerardo    Oaxaca          36.0\n",
       "Ivan       Queretaro        NaN\n",
       "Joel       CDMX            33.0\n",
       "           Veracruz        34.0\n",
       "Jorge      Queretaro        NaN\n",
       "           NaN             29.0\n",
       "Mike       Oaxaca           NaN\n",
       "Name: Age, dtype: float64"
      ]
     },
     "execution_count": 13,
     "metadata": {},
     "output_type": "execute_result"
    }
   ],
   "source": [
    "df_NameCity_Age = df_MX.groupby([\"Name\",\"City\"], dropna=False)[\"Age\"].mean()\n",
    "df_NameCity_Age"
   ]
  },
  {
   "cell_type": "markdown",
   "id": "b76cd182",
   "metadata": {},
   "source": [
    "## Almacenando la información en un archivo JSON"
   ]
  },
  {
   "cell_type": "code",
   "execution_count": 14,
   "id": "9a75039b",
   "metadata": {},
   "outputs": [],
   "source": [
    "with open('dataPeople.json', 'w') as toSave:\n",
    "    json.dump(dict_totalDF, toSave)"
   ]
  },
  {
   "cell_type": "markdown",
   "id": "d4b372b8",
   "metadata": {},
   "source": [
    "## Leyendo el diccionario guardado en el json"
   ]
  },
  {
   "cell_type": "code",
   "execution_count": 15,
   "id": "1db626b6",
   "metadata": {},
   "outputs": [],
   "source": [
    "with open('dataPeople.json', 'r') as toLoad:\n",
    "    dataPeople = json.load(toLoad)"
   ]
  },
  {
   "cell_type": "code",
   "execution_count": 16,
   "id": "5877bdb0",
   "metadata": {},
   "outputs": [
    {
     "data": {
      "text/plain": [
       "{'Registro No.000000': {'Name': 'Alfredo',\n",
       "  'Age': 42,\n",
       "  'Eye Color': 'Green',\n",
       "  'City': 'Zacatecas',\n",
       "  'Id': '001005'},\n",
       " 'Registro No.000001': {'Name': 'Armando',\n",
       "  'Age': 27,\n",
       "  'Eye Color': nan,\n",
       "  'City': 'Veracruz',\n",
       "  'Id': '001009'},\n",
       " 'Registro No.000002': {'Name': 'Joel',\n",
       "  'Age': 33,\n",
       "  'Eye Color': nan,\n",
       "  'City': 'CDMX',\n",
       "  'Id': '001003'},\n",
       " 'Registro No.000003': {'Name': 'Cristian',\n",
       "  'Age': nan,\n",
       "  'Eye Color': nan,\n",
       "  'City': 'Zacatecas',\n",
       "  'Id': '001026'},\n",
       " 'Registro No.000004': {'Name': 'Armando',\n",
       "  'Age': 19,\n",
       "  'Eye Color': 'Green',\n",
       "  'City': 'Veracruz',\n",
       "  'Id': '001006'},\n",
       " 'Registro No.000005': {'Name': 'Carlos',\n",
       "  'Age': 54,\n",
       "  'Eye Color': 'Brown',\n",
       "  'City': 'Queretaro',\n",
       "  'Id': '001015'},\n",
       " 'Registro No.000006': {'Name': 'Jorge',\n",
       "  'Age': 29,\n",
       "  'Eye Color': 'Brown',\n",
       "  'City': nan,\n",
       "  'Id': '001033'},\n",
       " 'Registro No.000007': {'Name': 'Alejandro',\n",
       "  'Age': 42,\n",
       "  'Eye Color': 'Black',\n",
       "  'City': 'EDOMEX',\n",
       "  'Id': '001033'},\n",
       " 'Registro No.000008': {'Name': 'Jorge',\n",
       "  'Age': nan,\n",
       "  'Eye Color': 'Brown',\n",
       "  'City': 'Queretaro',\n",
       "  'Id': '001009'},\n",
       " 'Registro No.000009': {'Name': 'Gerardo',\n",
       "  'Age': 36,\n",
       "  'Eye Color': nan,\n",
       "  'City': 'Oaxaca',\n",
       "  'Id': '001007'},\n",
       " 'Registro No.000010': {'Name': 'Ivan',\n",
       "  'Age': nan,\n",
       "  'Eye Color': 'Green',\n",
       "  'City': 'Queretaro',\n",
       "  'Id': '001001'},\n",
       " 'Registro No.000011': {'Name': 'Carlos',\n",
       "  'Age': 23,\n",
       "  'Eye Color': 'Brown',\n",
       "  'City': 'Quintana Roo',\n",
       "  'Id': '001014'},\n",
       " 'Registro No.000012': {'Name': 'Joel',\n",
       "  'Age': 34,\n",
       "  'Eye Color': 'Black',\n",
       "  'City': 'Veracruz',\n",
       "  'Id': '001034'},\n",
       " 'Registro No.000013': {'Name': 'Mike',\n",
       "  'Age': nan,\n",
       "  'Eye Color': 'Black',\n",
       "  'City': 'Oaxaca',\n",
       "  'Id': '001019'},\n",
       " 'Registro No.000014': {'Name': 'Alfredo',\n",
       "  'Age': 27,\n",
       "  'Eye Color': 'Green',\n",
       "  'City': 'CDMX',\n",
       "  'Id': '001035'}}"
      ]
     },
     "execution_count": 16,
     "metadata": {},
     "output_type": "execute_result"
    }
   ],
   "source": [
    "dataPeople"
   ]
  },
  {
   "cell_type": "code",
   "execution_count": 17,
   "id": "32c31a7c",
   "metadata": {},
   "outputs": [
    {
     "data": {
      "text/plain": [
       "15"
      ]
     },
     "execution_count": 17,
     "metadata": {},
     "output_type": "execute_result"
    }
   ],
   "source": [
    "len(dataPeople) # VIENDO EL TAMAÑO DE DATOS EXISTENTES"
   ]
  },
  {
   "cell_type": "markdown",
   "id": "f4a47766",
   "metadata": {},
   "source": [
    "## Código para agregar nuevos registros"
   ]
  },
  {
   "cell_type": "code",
   "execution_count": 18,
   "id": "4bc5594c",
   "metadata": {},
   "outputs": [],
   "source": [
    "def AddKeys(dict_original,new_key):\n",
    "    all_ids = []\n",
    "    for key_unique in dict_original.keys():\n",
    "        all_ids.append(int(key_unique.replace(\"Registro No.\",\"\")))\n",
    "        \n",
    "    if new_key in all_ids:\n",
    "        dict_local = \"Existe\"\n",
    "    else:\n",
    "        print(\"Agregando nuevo registro\")\n",
    "        dict_local = {}\n",
    "        dict_local[\"Name\"] = input(\"Dame tu nombre:\\t\")\n",
    "        dict_local[\"Age\"] = int(input(\"Dame tu edad:\\t\"))\n",
    "        dict_local[\"Eye Color\"] = input(\"Dame el color de tus ojos:\\t\")\n",
    "        dict_local[\"City\"] = input(\"Dame el nombre de tu ciudad:\\t\")\n",
    "        dict_local['Id'] = input(\"Dame el  folio de tu sucursal:\\t\")\n",
    "    return dict_local"
   ]
  },
  {
   "cell_type": "code",
   "execution_count": 19,
   "id": "7dfa804e",
   "metadata": {},
   "outputs": [
    {
     "name": "stdout",
     "output_type": "stream",
     "text": [
      "\n",
      "\n",
      "Registro duplicado o existente\n",
      "\n",
      "\n",
      "Agregando nuevo registro\n",
      "Dame tu nombre:\tAlejandro Zavala\n",
      "Dame tu edad:\t23\n",
      "Dame el color de tus ojos:\tCafe\n",
      "Dame el nombre de tu ciudad:\tCDMX\n",
      "Dame el  folio de tu sucursal:\t001021\n",
      "\n",
      "\n",
      "Ahora el diccionario tiene 16 elementos (llaves)\n"
     ]
    }
   ],
   "source": [
    "new_ids = [14,15]\n",
    "for new_id in new_ids:\n",
    "    dict_new = AddKeys(dataPeople,new_id)\n",
    "    if type(dict_new) == dict:\n",
    "        print(\"\\n\")\n",
    "        dataPeople[\"Registro No.\"+str(new_id).zfill(6)] = dict_new\n",
    "        print(\"Ahora el diccionario tiene {} elementos (llaves)\".format(len(dataPeople)))\n",
    "    else:\n",
    "        print(\"\\n\")\n",
    "        print(\"Registro duplicado o existente\")\n",
    "        print(\"\\n\")"
   ]
  },
  {
   "cell_type": "code",
   "execution_count": 20,
   "id": "4475ae92",
   "metadata": {},
   "outputs": [
    {
     "data": {
      "text/plain": [
       "{'Name': 'Alejandro Zavala',\n",
       " 'Age': 23,\n",
       " 'Eye Color': 'Cafe',\n",
       " 'City': 'CDMX',\n",
       " 'Id': '001021'}"
      ]
     },
     "execution_count": 20,
     "metadata": {},
     "output_type": "execute_result"
    }
   ],
   "source": [
    "dataPeople['Registro No.000015']"
   ]
  },
  {
   "cell_type": "code",
   "execution_count": 21,
   "id": "de9c10e4",
   "metadata": {},
   "outputs": [],
   "source": [
    "with open('dataPeople.json', 'w') as toSave:\n",
    "    json.dump(dataPeople, toSave)"
   ]
  }
 ],
 "metadata": {
  "kernelspec": {
   "display_name": "Python 3 (ipykernel)",
   "language": "python",
   "name": "python3"
  },
  "language_info": {
   "codemirror_mode": {
    "name": "ipython",
    "version": 3
   },
   "file_extension": ".py",
   "mimetype": "text/x-python",
   "name": "python",
   "nbconvert_exporter": "python",
   "pygments_lexer": "ipython3",
   "version": "3.9.7"
  }
 },
 "nbformat": 4,
 "nbformat_minor": 5
}
