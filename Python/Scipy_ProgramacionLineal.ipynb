{
 "cells": [
  {
   "cell_type": "markdown",
   "id": "85a54ebf",
   "metadata": {},
   "source": [
    "# Programación lineal con Scipy"
   ]
  },
  {
   "cell_type": "code",
   "execution_count": 14,
   "id": "e25b8419",
   "metadata": {},
   "outputs": [],
   "source": [
    "from scipy.optimize import linprog\n",
    "import numpy as np"
   ]
  },
  {
   "cell_type": "markdown",
   "id": "30e6ab90",
   "metadata": {},
   "source": [
    "$$\n",
    "max \\text{    } 700x_{1} + 900x_{2} \\\\\n",
    "\\text{sujeto a}\n",
    "\\\\\n",
    "3x_{1}+ 5x_{2} \\leq 3600 \\\\\n",
    "x_{1}+ 2x_{2} \\leq 1600 \\\\\n",
    "50x_{1}+ 20x_{2} \\leq 48000 \\\\\n",
    "$$"
   ]
  },
  {
   "cell_type": "code",
   "execution_count": 27,
   "id": "01fe591f",
   "metadata": {},
   "outputs": [],
   "source": [
    "c = [-700, -900] # Recuerda para max f(x) <-> min -f(x)\n",
    "\n",
    "A = [[3, 5],\n",
    "     [1, 2],\n",
    "     [50,20]]\n",
    "b = [3600, 1600,48000]\n",
    "\n",
    "x1_bounds = (None, None)\n",
    "x2_bounds = (None, None)\n",
    "\n",
    "res = linprog(c, A_ub=A, b_ub=b, bounds=[x1_bounds, x2_bounds])"
   ]
  },
  {
   "cell_type": "code",
   "execution_count": 28,
   "id": "d2226306",
   "metadata": {},
   "outputs": [
    {
     "data": {
      "text/plain": [
       "array([884.21050528, 189.47367975])"
      ]
     },
     "execution_count": 28,
     "metadata": {},
     "output_type": "execute_result"
    }
   ],
   "source": [
    "res.x # Valores optimos"
   ]
  },
  {
   "cell_type": "code",
   "execution_count": 29,
   "id": "820dab0f",
   "metadata": {},
   "outputs": [
    {
     "data": {
      "text/plain": [
       "-789473.6654672713"
      ]
     },
     "execution_count": 29,
     "metadata": {},
     "output_type": "execute_result"
    }
   ],
   "source": [
    "res.fun # Valor de la función objetivo"
   ]
  },
  {
   "cell_type": "code",
   "execution_count": 30,
   "id": "e668866f",
   "metadata": {},
   "outputs": [
    {
     "data": {
      "text/plain": [
       "-789473.6654672713"
      ]
     },
     "execution_count": 30,
     "metadata": {},
     "output_type": "execute_result"
    }
   ],
   "source": [
    "np.dot(np.transpose(res.x),c) # Comprobando manualmente"
   ]
  },
  {
   "cell_type": "markdown",
   "id": "4dbcd559",
   "metadata": {},
   "source": [
    "Veamos el siguiente caso\n",
    "\n",
    "$$\n",
    "min \\text{    } x_{1} + x_{2} + x_{3} + x_{4} + x_{5} + x_{6} + x_{7}\\\\\n",
    "\\text{sujeto a}\n",
    "\\\\\n",
    "\\begin{matrix}\n",
    "x_{1} & & & +x_{4} & +x_{5} & +x_{6} & +x_{7} &\\geq 110\\\\\n",
    "x_{1} & +x_{2} &  & & +x_{5} & +x_{6} & +x_{7} &\\geq 80\\\\\n",
    "x_{1} & +x_{2} & +x_{3} & & & +x_{6} & +x_{7} &\\geq 150\\\\\n",
    "x_{1} & +x_{2} & +x_{3} & +x_{4} & & & +x_{7} &\\geq 30\\\\\n",
    "x_{1} & +x_{2} & +x_{3} & +x_{4} & +x_{5} & & &\\geq 70\\\\\n",
    "& x_{2} & +x_{3} & +x_{4} & +x_{5} & +x_{6} & &\\geq 160\\\\\n",
    " &  & x_{3} & +x_{4} & +x_{5} & +x_{6} & +x_{7} &\\geq 120\\\\\n",
    "\\end{matrix}\n",
    "$$"
   ]
  },
  {
   "cell_type": "code",
   "execution_count": 44,
   "id": "9d9095e8",
   "metadata": {},
   "outputs": [],
   "source": [
    "c = [1,1,1,1,1,1,1]\n",
    "\n",
    "A = [[1,0,0,1,1,1,1],\n",
    "     [1,1,0,0,1,1,1],\n",
    "     [1,1,1,0,0,1,1],\n",
    "     [1,1,1,1,0,0,1],\n",
    "     [1,1,1,1,1,0,0],\n",
    "     [0,1,1,1,1,1,0],\n",
    "     [0,0,1,1,1,1,1]]\n",
    "\n",
    "b = [110,80,150,30,70,160,120]\n",
    "\n",
    "x1_bounds = (0, None)\n",
    "x2_bounds = (0, None)\n",
    "x3_bounds = (0, None)\n",
    "x4_bounds = (0, None)\n",
    "x5_bounds = (0, None)\n",
    "x6_bounds = (0, None)\n",
    "x7_bounds = (0, None)"
   ]
  },
  {
   "cell_type": "code",
   "execution_count": 45,
   "id": "67e5eb22",
   "metadata": {},
   "outputs": [
    {
     "data": {
      "text/plain": [
       "[[1, 0, 0, 1, 1, 1, 1],\n",
       " [1, 1, 0, 0, 1, 1, 1],\n",
       " [1, 1, 1, 0, 0, 1, 1],\n",
       " [1, 1, 1, 1, 0, 0, 1],\n",
       " [1, 1, 1, 1, 1, 0, 0],\n",
       " [0, 1, 1, 1, 1, 1, 0],\n",
       " [0, 0, 1, 1, 1, 1, 1]]"
      ]
     },
     "execution_count": 45,
     "metadata": {},
     "output_type": "execute_result"
    }
   ],
   "source": [
    "A"
   ]
  },
  {
   "cell_type": "code",
   "execution_count": 46,
   "id": "047a785e",
   "metadata": {},
   "outputs": [
    {
     "data": {
      "text/plain": [
       "array([[-1,  0,  0, -1, -1, -1, -1],\n",
       "       [-1, -1,  0,  0, -1, -1, -1],\n",
       "       [-1, -1, -1,  0,  0, -1, -1],\n",
       "       [-1, -1, -1, -1,  0,  0, -1],\n",
       "       [-1, -1, -1, -1, -1,  0,  0],\n",
       "       [ 0, -1, -1, -1, -1, -1,  0],\n",
       "       [ 0,  0, -1, -1, -1, -1, -1]])"
      ]
     },
     "execution_count": 46,
     "metadata": {},
     "output_type": "execute_result"
    }
   ],
   "source": [
    "np.multiply(A,-1)"
   ]
  },
  {
   "cell_type": "code",
   "execution_count": 39,
   "id": "f49c8cd4",
   "metadata": {},
   "outputs": [
    {
     "data": {
      "text/plain": [
       "array([-110,  -80, -150,  -30,  -70, -160, -120])"
      ]
     },
     "execution_count": 39,
     "metadata": {},
     "output_type": "execute_result"
    }
   ],
   "source": [
    "np.multiply(b,-1)"
   ]
  },
  {
   "cell_type": "code",
   "execution_count": 40,
   "id": "0ea6632b",
   "metadata": {},
   "outputs": [],
   "source": [
    "A = np.multiply(A,-1)\n",
    "b = np.multiply(b,-1)\n",
    "\n",
    "res = linprog(c, A_ub=A, b_ub=b, bounds=[x1_bounds,x2_bounds,x3_bounds,x4_bounds,x5_bounds,x6_bounds,x7_bounds])"
   ]
  },
  {
   "cell_type": "code",
   "execution_count": 41,
   "id": "bb078213",
   "metadata": {},
   "outputs": [
    {
     "data": {
      "text/plain": [
       "array([3.33333333e+00, 1.82539464e+01, 3.50793870e+01, 6.74751155e+00,\n",
       "       6.58582178e+00, 9.33333332e+01, 3.97383729e-08])"
      ]
     },
     "execution_count": 41,
     "metadata": {},
     "output_type": "execute_result"
    }
   ],
   "source": [
    "res.x"
   ]
  },
  {
   "cell_type": "code",
   "execution_count": 42,
   "id": "75f1c87d",
   "metadata": {},
   "outputs": [
    {
     "data": {
      "text/plain": [
       "     con: array([], dtype=float64)\n",
       "     fun: 163.3333332757294\n",
       " message: 'Optimization terminated successfully.'\n",
       "     nit: 7\n",
       "   slack: array([-4.68098733e-08,  4.15064348e+01, -5.64971288e-08,  3.34141782e+01,\n",
       "       -1.16336452e-08, -9.76096146e-08,  2.17460536e+01])\n",
       "  status: 0\n",
       " success: True\n",
       "       x: array([3.33333333e+00, 1.82539464e+01, 3.50793870e+01, 6.74751155e+00,\n",
       "       6.58582178e+00, 9.33333332e+01, 3.97383729e-08])"
      ]
     },
     "execution_count": 42,
     "metadata": {},
     "output_type": "execute_result"
    }
   ],
   "source": [
    "res"
   ]
  }
 ],
 "metadata": {
  "kernelspec": {
   "display_name": "Python 3 (ipykernel)",
   "language": "python",
   "name": "python3"
  },
  "language_info": {
   "codemirror_mode": {
    "name": "ipython",
    "version": 3
   },
   "file_extension": ".py",
   "mimetype": "text/x-python",
   "name": "python",
   "nbconvert_exporter": "python",
   "pygments_lexer": "ipython3",
   "version": "3.10.1"
  }
 },
 "nbformat": 4,
 "nbformat_minor": 5
}
