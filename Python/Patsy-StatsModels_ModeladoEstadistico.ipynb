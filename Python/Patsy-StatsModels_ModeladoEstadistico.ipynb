{
 "cells": [
  {
   "cell_type": "markdown",
   "id": "48a12fa4",
   "metadata": {},
   "source": [
    "# Modelado estadístico\n",
    "\n",
    "> \"**patsy**: es un libreria de Python para describir modelos estadísticos (especialmente modelos lineales o modelos que tienen un componente lineal) y matrices de diseño de construcción. Está estrechamente inspirado y es compatible con el minilenguaje de fórmula utilizado en R y S.\"\n",
    "\n",
    "> \"**statsmodels** es un módulo de Python que proporciona clases y funciones para la estimación de muchos modelos estadísticos diferentes, así como para realizar pruebas estadísticas y exploración de datos estadísticos.\""
   ]
  },
  {
   "cell_type": "code",
   "execution_count": 1,
   "id": "6da864d8",
   "metadata": {},
   "outputs": [],
   "source": [
    "import patsy\n",
    "import statsmodels.api as sm\n",
    "import statsmodels.formula.api as smf\n",
    "import statsmodels.graphics.api as smg\n",
    "import matplotlib.pyplot as plt\n",
    "import seaborn as sns\n",
    "import numpy as np\n",
    "import pandas as pd\n",
    "from scipy import stats"
   ]
  },
  {
   "cell_type": "code",
   "execution_count": 2,
   "id": "8253b4ad",
   "metadata": {},
   "outputs": [],
   "source": [
    "y = np.array([1, 2, 3, 4, 5, 6])\n",
    "x1 = np.array([6, 7, 8, 9, 10, 11])\n",
    "x2 = np.array([12, 13, 14, 15, 16, 17])"
   ]
  },
  {
   "cell_type": "code",
   "execution_count": 3,
   "id": "8df4d141",
   "metadata": {},
   "outputs": [
    {
     "data": {
      "text/plain": [
       "array([[  1.,   6.,  12.,  72.],\n",
       "       [  1.,   7.,  13.,  91.],\n",
       "       [  1.,   8.,  14., 112.],\n",
       "       [  1.,   9.,  15., 135.],\n",
       "       [  1.,  10.,  16., 160.],\n",
       "       [  1.,  11.,  17., 187.]])"
      ]
     },
     "execution_count": 3,
     "metadata": {},
     "output_type": "execute_result"
    }
   ],
   "source": [
    "n_data = len(y)\n",
    "X = np.vstack([np.ones(n_data), x1, x2, x1*x2]).T\n",
    "X"
   ]
  },
  {
   "cell_type": "markdown",
   "id": "b170aa0c",
   "metadata": {},
   "source": [
    "## Regresión con numpy"
   ]
  },
  {
   "cell_type": "code",
   "execution_count": 4,
   "id": "cb489959",
   "metadata": {},
   "outputs": [
    {
     "name": "stderr",
     "output_type": "stream",
     "text": [
      "C:\\Users\\ALEJAN~1\\AppData\\Local\\Temp/ipykernel_17364/3940827167.py:2: FutureWarning: `rcond` parameter will change to the default of machine precision times ``max(M, N)`` where M and N are the input matrix dimensions.\n",
      "To use the future default and silence this warning we advise to pass `rcond=None`, to keep using the old, explicitly pass `rcond=-1`.\n",
      "  beta, res, rank, sval = np.linalg.lstsq(X, y)\n"
     ]
    }
   ],
   "source": [
    "# Regresa los estimadores, los residuales, el rango de la Matrix X y valores singulares de X\n",
    "beta, res, rank, sval = np.linalg.lstsq(X, y)"
   ]
  },
  {
   "cell_type": "code",
   "execution_count": 5,
   "id": "47fcc231",
   "metadata": {},
   "outputs": [
    {
     "data": {
      "text/plain": [
       "array([-0.42105263,  1.76315789, -0.76315789,  0.        ])"
      ]
     },
     "execution_count": 5,
     "metadata": {},
     "output_type": "execute_result"
    }
   ],
   "source": [
    "beta"
   ]
  },
  {
   "cell_type": "code",
   "execution_count": 6,
   "id": "9e7a37b2",
   "metadata": {},
   "outputs": [
    {
     "data": {
      "text/plain": [
       "array([], dtype=float64)"
      ]
     },
     "execution_count": 6,
     "metadata": {},
     "output_type": "execute_result"
    }
   ],
   "source": [
    "res"
   ]
  },
  {
   "cell_type": "code",
   "execution_count": 7,
   "id": "b60e743a",
   "metadata": {},
   "outputs": [
    {
     "data": {
      "text/plain": [
       "3"
      ]
     },
     "execution_count": 7,
     "metadata": {},
     "output_type": "execute_result"
    }
   ],
   "source": [
    "rank"
   ]
  },
  {
   "cell_type": "code",
   "execution_count": 8,
   "id": "cd6eb327",
   "metadata": {},
   "outputs": [
    {
     "data": {
      "text/plain": [
       "array([3.26329139e+02, 6.94721868e+00, 1.70242507e-01, 2.05202109e-16])"
      ]
     },
     "execution_count": 8,
     "metadata": {},
     "output_type": "execute_result"
    }
   ],
   "source": [
    "sval"
   ]
  },
  {
   "cell_type": "markdown",
   "id": "83976335",
   "metadata": {},
   "source": [
    "## Modelando con patsy"
   ]
  },
  {
   "cell_type": "code",
   "execution_count": 9,
   "id": "89ccef7e",
   "metadata": {},
   "outputs": [],
   "source": [
    "data = {\"y\": y, \"x1\": x1, \"x2\": x2}\n",
    "y, X = patsy.dmatrices(\"y ~ 1 + x1 + x2 + x1*x2\", data)"
   ]
  },
  {
   "cell_type": "code",
   "execution_count": 10,
   "id": "c16619c7",
   "metadata": {},
   "outputs": [
    {
     "data": {
      "text/plain": [
       "DesignMatrix with shape (6, 1)\n",
       "  y\n",
       "  1\n",
       "  2\n",
       "  3\n",
       "  4\n",
       "  5\n",
       "  6\n",
       "  Terms:\n",
       "    'y' (column 0)"
      ]
     },
     "execution_count": 10,
     "metadata": {},
     "output_type": "execute_result"
    }
   ],
   "source": [
    "y"
   ]
  },
  {
   "cell_type": "code",
   "execution_count": 11,
   "id": "1ed17788",
   "metadata": {},
   "outputs": [
    {
     "data": {
      "text/plain": [
       "DesignMatrix with shape (6, 4)\n",
       "  Intercept  x1  x2  x1:x2\n",
       "          1   6  12     72\n",
       "          1   7  13     91\n",
       "          1   8  14    112\n",
       "          1   9  15    135\n",
       "          1  10  16    160\n",
       "          1  11  17    187\n",
       "  Terms:\n",
       "    'Intercept' (column 0)\n",
       "    'x1' (column 1)\n",
       "    'x2' (column 2)\n",
       "    'x1:x2' (column 3)"
      ]
     },
     "execution_count": 11,
     "metadata": {},
     "output_type": "execute_result"
    }
   ],
   "source": [
    "X"
   ]
  },
  {
   "cell_type": "code",
   "execution_count": 12,
   "id": "bf203e85",
   "metadata": {},
   "outputs": [
    {
     "data": {
      "text/plain": [
       "patsy.design_info.DesignMatrix"
      ]
     },
     "execution_count": 12,
     "metadata": {},
     "output_type": "execute_result"
    }
   ],
   "source": [
    "type(X)"
   ]
  },
  {
   "cell_type": "code",
   "execution_count": 13,
   "id": "21bc44da",
   "metadata": {},
   "outputs": [
    {
     "data": {
      "text/plain": [
       "array([[  1.,   6.,  12.,  72.],\n",
       "       [  1.,   7.,  13.,  91.],\n",
       "       [  1.,   8.,  14., 112.],\n",
       "       [  1.,   9.,  15., 135.],\n",
       "       [  1.,  10.,  16., 160.],\n",
       "       [  1.,  11.,  17., 187.]])"
      ]
     },
     "execution_count": 13,
     "metadata": {},
     "output_type": "execute_result"
    }
   ],
   "source": [
    "np.array(X)"
   ]
  },
  {
   "cell_type": "markdown",
   "id": "92aa442e",
   "metadata": {},
   "source": [
    "**Retornando las matrices en dataframes**"
   ]
  },
  {
   "cell_type": "code",
   "execution_count": 14,
   "id": "1aac7a52",
   "metadata": {},
   "outputs": [],
   "source": [
    "df_data = pd.DataFrame(data)\n",
    "y, X = patsy.dmatrices(\"y ~ 1 + x1 + x2 + x1:x2\", df_data, return_type=\"dataframe\")"
   ]
  },
  {
   "cell_type": "code",
   "execution_count": 15,
   "id": "20041057",
   "metadata": {},
   "outputs": [
    {
     "data": {
      "text/html": [
       "<div>\n",
       "<style scoped>\n",
       "    .dataframe tbody tr th:only-of-type {\n",
       "        vertical-align: middle;\n",
       "    }\n",
       "\n",
       "    .dataframe tbody tr th {\n",
       "        vertical-align: top;\n",
       "    }\n",
       "\n",
       "    .dataframe thead th {\n",
       "        text-align: right;\n",
       "    }\n",
       "</style>\n",
       "<table border=\"1\" class=\"dataframe\">\n",
       "  <thead>\n",
       "    <tr style=\"text-align: right;\">\n",
       "      <th></th>\n",
       "      <th>y</th>\n",
       "    </tr>\n",
       "  </thead>\n",
       "  <tbody>\n",
       "    <tr>\n",
       "      <th>0</th>\n",
       "      <td>1.0</td>\n",
       "    </tr>\n",
       "    <tr>\n",
       "      <th>1</th>\n",
       "      <td>2.0</td>\n",
       "    </tr>\n",
       "    <tr>\n",
       "      <th>2</th>\n",
       "      <td>3.0</td>\n",
       "    </tr>\n",
       "    <tr>\n",
       "      <th>3</th>\n",
       "      <td>4.0</td>\n",
       "    </tr>\n",
       "    <tr>\n",
       "      <th>4</th>\n",
       "      <td>5.0</td>\n",
       "    </tr>\n",
       "    <tr>\n",
       "      <th>5</th>\n",
       "      <td>6.0</td>\n",
       "    </tr>\n",
       "  </tbody>\n",
       "</table>\n",
       "</div>"
      ],
      "text/plain": [
       "     y\n",
       "0  1.0\n",
       "1  2.0\n",
       "2  3.0\n",
       "3  4.0\n",
       "4  5.0\n",
       "5  6.0"
      ]
     },
     "execution_count": 15,
     "metadata": {},
     "output_type": "execute_result"
    }
   ],
   "source": [
    "y"
   ]
  },
  {
   "cell_type": "code",
   "execution_count": 16,
   "id": "12957f0d",
   "metadata": {},
   "outputs": [
    {
     "data": {
      "text/html": [
       "<div>\n",
       "<style scoped>\n",
       "    .dataframe tbody tr th:only-of-type {\n",
       "        vertical-align: middle;\n",
       "    }\n",
       "\n",
       "    .dataframe tbody tr th {\n",
       "        vertical-align: top;\n",
       "    }\n",
       "\n",
       "    .dataframe thead th {\n",
       "        text-align: right;\n",
       "    }\n",
       "</style>\n",
       "<table border=\"1\" class=\"dataframe\">\n",
       "  <thead>\n",
       "    <tr style=\"text-align: right;\">\n",
       "      <th></th>\n",
       "      <th>Intercept</th>\n",
       "      <th>x1</th>\n",
       "      <th>x2</th>\n",
       "      <th>x1:x2</th>\n",
       "    </tr>\n",
       "  </thead>\n",
       "  <tbody>\n",
       "    <tr>\n",
       "      <th>0</th>\n",
       "      <td>1.0</td>\n",
       "      <td>6.0</td>\n",
       "      <td>12.0</td>\n",
       "      <td>72.0</td>\n",
       "    </tr>\n",
       "    <tr>\n",
       "      <th>1</th>\n",
       "      <td>1.0</td>\n",
       "      <td>7.0</td>\n",
       "      <td>13.0</td>\n",
       "      <td>91.0</td>\n",
       "    </tr>\n",
       "    <tr>\n",
       "      <th>2</th>\n",
       "      <td>1.0</td>\n",
       "      <td>8.0</td>\n",
       "      <td>14.0</td>\n",
       "      <td>112.0</td>\n",
       "    </tr>\n",
       "    <tr>\n",
       "      <th>3</th>\n",
       "      <td>1.0</td>\n",
       "      <td>9.0</td>\n",
       "      <td>15.0</td>\n",
       "      <td>135.0</td>\n",
       "    </tr>\n",
       "    <tr>\n",
       "      <th>4</th>\n",
       "      <td>1.0</td>\n",
       "      <td>10.0</td>\n",
       "      <td>16.0</td>\n",
       "      <td>160.0</td>\n",
       "    </tr>\n",
       "    <tr>\n",
       "      <th>5</th>\n",
       "      <td>1.0</td>\n",
       "      <td>11.0</td>\n",
       "      <td>17.0</td>\n",
       "      <td>187.0</td>\n",
       "    </tr>\n",
       "  </tbody>\n",
       "</table>\n",
       "</div>"
      ],
      "text/plain": [
       "   Intercept    x1    x2  x1:x2\n",
       "0        1.0   6.0  12.0   72.0\n",
       "1        1.0   7.0  13.0   91.0\n",
       "2        1.0   8.0  14.0  112.0\n",
       "3        1.0   9.0  15.0  135.0\n",
       "4        1.0  10.0  16.0  160.0\n",
       "5        1.0  11.0  17.0  187.0"
      ]
     },
     "execution_count": 16,
     "metadata": {},
     "output_type": "execute_result"
    }
   ],
   "source": [
    "X"
   ]
  },
  {
   "cell_type": "markdown",
   "id": "b2566a6e",
   "metadata": {},
   "source": [
    "## Regresión con statsmodels"
   ]
  },
  {
   "cell_type": "code",
   "execution_count": 17,
   "id": "59499daf",
   "metadata": {},
   "outputs": [],
   "source": [
    "model = sm.OLS(y, X)"
   ]
  },
  {
   "cell_type": "code",
   "execution_count": 18,
   "id": "dd941184",
   "metadata": {},
   "outputs": [
    {
     "data": {
      "text/plain": [
       "<statsmodels.regression.linear_model.OLS at 0x22f93b7dbd0>"
      ]
     },
     "execution_count": 18,
     "metadata": {},
     "output_type": "execute_result"
    }
   ],
   "source": [
    "model"
   ]
  },
  {
   "cell_type": "code",
   "execution_count": 19,
   "id": "e9dd2852",
   "metadata": {},
   "outputs": [
    {
     "data": {
      "text/plain": [
       "Intercept   -4.210526e-01\n",
       "x1           1.763158e+00\n",
       "x2          -7.631579e-01\n",
       "x1:x2       -1.276756e-15\n",
       "dtype: float64"
      ]
     },
     "execution_count": 19,
     "metadata": {},
     "output_type": "execute_result"
    }
   ],
   "source": [
    "result = model.fit()\n",
    "result.params"
   ]
  },
  {
   "cell_type": "markdown",
   "id": "0bbb0bae",
   "metadata": {},
   "source": [
    "## Simulando un dataset"
   ]
  },
  {
   "cell_type": "code",
   "execution_count": 20,
   "id": "ee41006b",
   "metadata": {},
   "outputs": [],
   "source": [
    "n_data = 100\n",
    "x1 = np.random.randn(n_data)\n",
    "x2 = np.random.randn(n_data)\n",
    "data = pd.DataFrame({\"x1\": x1, \"x2\": x2})\n",
    "def y_true(x1, x2):\n",
    "    return 1 + 1 * x1 + 2 * x2 + 3 * x1 * x2\n",
    "\n",
    "data[\"y_true\"] = y_true(x1, x2)"
   ]
  },
  {
   "cell_type": "code",
   "execution_count": 21,
   "id": "8676c4ea",
   "metadata": {},
   "outputs": [
    {
     "data": {
      "text/html": [
       "<div>\n",
       "<style scoped>\n",
       "    .dataframe tbody tr th:only-of-type {\n",
       "        vertical-align: middle;\n",
       "    }\n",
       "\n",
       "    .dataframe tbody tr th {\n",
       "        vertical-align: top;\n",
       "    }\n",
       "\n",
       "    .dataframe thead th {\n",
       "        text-align: right;\n",
       "    }\n",
       "</style>\n",
       "<table border=\"1\" class=\"dataframe\">\n",
       "  <thead>\n",
       "    <tr style=\"text-align: right;\">\n",
       "      <th></th>\n",
       "      <th>x1</th>\n",
       "      <th>x2</th>\n",
       "      <th>y_true</th>\n",
       "    </tr>\n",
       "  </thead>\n",
       "  <tbody>\n",
       "    <tr>\n",
       "      <th>0</th>\n",
       "      <td>-0.336968</td>\n",
       "      <td>0.253022</td>\n",
       "      <td>0.913294</td>\n",
       "    </tr>\n",
       "    <tr>\n",
       "      <th>1</th>\n",
       "      <td>0.664945</td>\n",
       "      <td>0.717603</td>\n",
       "      <td>4.531648</td>\n",
       "    </tr>\n",
       "    <tr>\n",
       "      <th>2</th>\n",
       "      <td>3.797675</td>\n",
       "      <td>0.453651</td>\n",
       "      <td>10.873436</td>\n",
       "    </tr>\n",
       "    <tr>\n",
       "      <th>3</th>\n",
       "      <td>0.139066</td>\n",
       "      <td>-0.864348</td>\n",
       "      <td>-0.950235</td>\n",
       "    </tr>\n",
       "    <tr>\n",
       "      <th>4</th>\n",
       "      <td>-0.191392</td>\n",
       "      <td>-1.664026</td>\n",
       "      <td>-1.564000</td>\n",
       "    </tr>\n",
       "  </tbody>\n",
       "</table>\n",
       "</div>"
      ],
      "text/plain": [
       "         x1        x2     y_true\n",
       "0 -0.336968  0.253022   0.913294\n",
       "1  0.664945  0.717603   4.531648\n",
       "2  3.797675  0.453651  10.873436\n",
       "3  0.139066 -0.864348  -0.950235\n",
       "4 -0.191392 -1.664026  -1.564000"
      ]
     },
     "execution_count": 21,
     "metadata": {},
     "output_type": "execute_result"
    }
   ],
   "source": [
    "data.head()"
   ]
  },
  {
   "cell_type": "code",
   "execution_count": 22,
   "id": "92d286d9",
   "metadata": {},
   "outputs": [],
   "source": [
    "# Agregando un poco de ruido blanco\n",
    "e = np.random.randn(n_data)\n",
    "data[\"y\"] = data[\"y_true\"] + e #Observaciones reales"
   ]
  },
  {
   "cell_type": "code",
   "execution_count": 23,
   "id": "28dabd48",
   "metadata": {},
   "outputs": [
    {
     "data": {
      "text/html": [
       "<div>\n",
       "<style scoped>\n",
       "    .dataframe tbody tr th:only-of-type {\n",
       "        vertical-align: middle;\n",
       "    }\n",
       "\n",
       "    .dataframe tbody tr th {\n",
       "        vertical-align: top;\n",
       "    }\n",
       "\n",
       "    .dataframe thead th {\n",
       "        text-align: right;\n",
       "    }\n",
       "</style>\n",
       "<table border=\"1\" class=\"dataframe\">\n",
       "  <thead>\n",
       "    <tr style=\"text-align: right;\">\n",
       "      <th></th>\n",
       "      <th>x1</th>\n",
       "      <th>x2</th>\n",
       "      <th>y_true</th>\n",
       "      <th>y</th>\n",
       "    </tr>\n",
       "  </thead>\n",
       "  <tbody>\n",
       "    <tr>\n",
       "      <th>0</th>\n",
       "      <td>-0.336968</td>\n",
       "      <td>0.253022</td>\n",
       "      <td>0.913294</td>\n",
       "      <td>-1.166445</td>\n",
       "    </tr>\n",
       "    <tr>\n",
       "      <th>1</th>\n",
       "      <td>0.664945</td>\n",
       "      <td>0.717603</td>\n",
       "      <td>4.531648</td>\n",
       "      <td>5.406218</td>\n",
       "    </tr>\n",
       "    <tr>\n",
       "      <th>2</th>\n",
       "      <td>3.797675</td>\n",
       "      <td>0.453651</td>\n",
       "      <td>10.873436</td>\n",
       "      <td>11.009969</td>\n",
       "    </tr>\n",
       "    <tr>\n",
       "      <th>3</th>\n",
       "      <td>0.139066</td>\n",
       "      <td>-0.864348</td>\n",
       "      <td>-0.950235</td>\n",
       "      <td>-0.080583</td>\n",
       "    </tr>\n",
       "    <tr>\n",
       "      <th>4</th>\n",
       "      <td>-0.191392</td>\n",
       "      <td>-1.664026</td>\n",
       "      <td>-1.564000</td>\n",
       "      <td>-1.112338</td>\n",
       "    </tr>\n",
       "  </tbody>\n",
       "</table>\n",
       "</div>"
      ],
      "text/plain": [
       "         x1        x2     y_true          y\n",
       "0 -0.336968  0.253022   0.913294  -1.166445\n",
       "1  0.664945  0.717603   4.531648   5.406218\n",
       "2  3.797675  0.453651  10.873436  11.009969\n",
       "3  0.139066 -0.864348  -0.950235  -0.080583\n",
       "4 -0.191392 -1.664026  -1.564000  -1.112338"
      ]
     },
     "execution_count": 23,
     "metadata": {},
     "output_type": "execute_result"
    }
   ],
   "source": [
    "data.head()"
   ]
  },
  {
   "cell_type": "markdown",
   "id": "16164eec",
   "metadata": {},
   "source": [
    "### Probando primer modelo\n",
    "\n",
    "Si queremos ajustar los datos al modelo\n",
    "\n",
    "$$\n",
    "Y = \\beta_{0} + \\beta_{1}x_{1} + \\beta_{2}x_{2}\n",
    "$$"
   ]
  },
  {
   "cell_type": "code",
   "execution_count": 24,
   "id": "077bea81",
   "metadata": {},
   "outputs": [],
   "source": [
    "model1 = smf.ols(\"y ~ x1 + x2\", data)"
   ]
  },
  {
   "cell_type": "code",
   "execution_count": 25,
   "id": "ad71d0c0",
   "metadata": {},
   "outputs": [
    {
     "data": {
      "text/plain": [
       "<statsmodels.regression.linear_model.OLS at 0x22f93b7f340>"
      ]
     },
     "execution_count": 25,
     "metadata": {},
     "output_type": "execute_result"
    }
   ],
   "source": [
    "model1"
   ]
  },
  {
   "cell_type": "code",
   "execution_count": 26,
   "id": "c9d40aa3",
   "metadata": {},
   "outputs": [],
   "source": [
    "result1 = model1.fit()"
   ]
  },
  {
   "cell_type": "code",
   "execution_count": 27,
   "id": "54f316bb",
   "metadata": {},
   "outputs": [
    {
     "data": {
      "text/plain": [
       "<statsmodels.regression.linear_model.RegressionResultsWrapper at 0x22fe1ac7370>"
      ]
     },
     "execution_count": 27,
     "metadata": {},
     "output_type": "execute_result"
    }
   ],
   "source": [
    "result1"
   ]
  },
  {
   "cell_type": "code",
   "execution_count": 28,
   "id": "4ecfb034",
   "metadata": {},
   "outputs": [
    {
     "data": {
      "text/html": [
       "<table class=\"simpletable\">\n",
       "<caption>OLS Regression Results</caption>\n",
       "<tr>\n",
       "  <th>Dep. Variable:</th>            <td>y</td>        <th>  R-squared:         </th> <td>   0.486</td>\n",
       "</tr>\n",
       "<tr>\n",
       "  <th>Model:</th>                   <td>OLS</td>       <th>  Adj. R-squared:    </th> <td>   0.476</td>\n",
       "</tr>\n",
       "<tr>\n",
       "  <th>Method:</th>             <td>Least Squares</td>  <th>  F-statistic:       </th> <td>   45.91</td>\n",
       "</tr>\n",
       "<tr>\n",
       "  <th>Date:</th>             <td>Sat, 05 Mar 2022</td> <th>  Prob (F-statistic):</th> <td>9.34e-15</td>\n",
       "</tr>\n",
       "<tr>\n",
       "  <th>Time:</th>                 <td>12:08:42</td>     <th>  Log-Likelihood:    </th> <td> -232.30</td>\n",
       "</tr>\n",
       "<tr>\n",
       "  <th>No. Observations:</th>      <td>   100</td>      <th>  AIC:               </th> <td>   470.6</td>\n",
       "</tr>\n",
       "<tr>\n",
       "  <th>Df Residuals:</th>          <td>    97</td>      <th>  BIC:               </th> <td>   478.4</td>\n",
       "</tr>\n",
       "<tr>\n",
       "  <th>Df Model:</th>              <td>     2</td>      <th>                     </th>     <td> </td>   \n",
       "</tr>\n",
       "<tr>\n",
       "  <th>Covariance Type:</th>      <td>nonrobust</td>    <th>                     </th>     <td> </td>   \n",
       "</tr>\n",
       "</table>\n",
       "<table class=\"simpletable\">\n",
       "<tr>\n",
       "      <td></td>         <th>coef</th>     <th>std err</th>      <th>t</th>      <th>P>|t|</th>  <th>[0.025</th>    <th>0.975]</th>  \n",
       "</tr>\n",
       "<tr>\n",
       "  <th>Intercept</th> <td>    0.9489</td> <td>    0.253</td> <td>    3.753</td> <td> 0.000</td> <td>    0.447</td> <td>    1.451</td>\n",
       "</tr>\n",
       "<tr>\n",
       "  <th>x1</th>        <td>    1.8346</td> <td>    0.267</td> <td>    6.882</td> <td> 0.000</td> <td>    1.305</td> <td>    2.364</td>\n",
       "</tr>\n",
       "<tr>\n",
       "  <th>x2</th>        <td>    1.7300</td> <td>    0.240</td> <td>    7.198</td> <td> 0.000</td> <td>    1.253</td> <td>    2.207</td>\n",
       "</tr>\n",
       "</table>\n",
       "<table class=\"simpletable\">\n",
       "<tr>\n",
       "  <th>Omnibus:</th>       <td>10.897</td> <th>  Durbin-Watson:     </th> <td>   1.941</td>\n",
       "</tr>\n",
       "<tr>\n",
       "  <th>Prob(Omnibus):</th> <td> 0.004</td> <th>  Jarque-Bera (JB):  </th> <td>  21.365</td>\n",
       "</tr>\n",
       "<tr>\n",
       "  <th>Skew:</th>          <td> 0.347</td> <th>  Prob(JB):          </th> <td>2.29e-05</td>\n",
       "</tr>\n",
       "<tr>\n",
       "  <th>Kurtosis:</th>      <td> 5.156</td> <th>  Cond. No.          </th> <td>    1.19</td>\n",
       "</tr>\n",
       "</table><br/><br/>Notes:<br/>[1] Standard Errors assume that the covariance matrix of the errors is correctly specified."
      ],
      "text/plain": [
       "<class 'statsmodels.iolib.summary.Summary'>\n",
       "\"\"\"\n",
       "                            OLS Regression Results                            \n",
       "==============================================================================\n",
       "Dep. Variable:                      y   R-squared:                       0.486\n",
       "Model:                            OLS   Adj. R-squared:                  0.476\n",
       "Method:                 Least Squares   F-statistic:                     45.91\n",
       "Date:                Sat, 05 Mar 2022   Prob (F-statistic):           9.34e-15\n",
       "Time:                        12:08:42   Log-Likelihood:                -232.30\n",
       "No. Observations:                 100   AIC:                             470.6\n",
       "Df Residuals:                      97   BIC:                             478.4\n",
       "Df Model:                           2                                         \n",
       "Covariance Type:            nonrobust                                         \n",
       "==============================================================================\n",
       "                 coef    std err          t      P>|t|      [0.025      0.975]\n",
       "------------------------------------------------------------------------------\n",
       "Intercept      0.9489      0.253      3.753      0.000       0.447       1.451\n",
       "x1             1.8346      0.267      6.882      0.000       1.305       2.364\n",
       "x2             1.7300      0.240      7.198      0.000       1.253       2.207\n",
       "==============================================================================\n",
       "Omnibus:                       10.897   Durbin-Watson:                   1.941\n",
       "Prob(Omnibus):                  0.004   Jarque-Bera (JB):               21.365\n",
       "Skew:                           0.347   Prob(JB):                     2.29e-05\n",
       "Kurtosis:                       5.156   Cond. No.                         1.19\n",
       "==============================================================================\n",
       "\n",
       "Notes:\n",
       "[1] Standard Errors assume that the covariance matrix of the errors is correctly specified.\n",
       "\"\"\""
      ]
     },
     "metadata": {},
     "output_type": "display_data"
    }
   ],
   "source": [
    "display(result1.summary()) "
   ]
  },
  {
   "cell_type": "markdown",
   "id": "d165a12d",
   "metadata": {},
   "source": [
    "Notemos que la visualizacion de summary es similar al comando summary(lm(model)) en R, esto es porque los desarrolladores se basaron en la logica en **R**\n"
   ]
  },
  {
   "cell_type": "code",
   "execution_count": 29,
   "id": "e91779f8",
   "metadata": {},
   "outputs": [
    {
     "data": {
      "text/plain": [
       "0.4862797570268782"
      ]
     },
     "execution_count": 29,
     "metadata": {},
     "output_type": "execute_result"
    }
   ],
   "source": [
    "result1.rsquared # r^2 del modelo"
   ]
  },
  {
   "cell_type": "code",
   "execution_count": 30,
   "id": "5ebb046b",
   "metadata": {},
   "outputs": [
    {
     "data": {
      "text/plain": [
       "0    -1.934886\n",
       "1     1.995971\n",
       "2     2.309175\n",
       "3     0.210735\n",
       "4     1.168685\n",
       "        ...   \n",
       "95   -3.241354\n",
       "96   -0.305476\n",
       "97   -0.649519\n",
       "98   -0.815539\n",
       "99   -2.128918\n",
       "Length: 100, dtype: float64"
      ]
     },
     "execution_count": 30,
     "metadata": {},
     "output_type": "execute_result"
    }
   ],
   "source": [
    "result1.resid # residuos del modelo"
   ]
  },
  {
   "cell_type": "code",
   "execution_count": 31,
   "id": "caf01150",
   "metadata": {},
   "outputs": [
    {
     "data": {
      "text/plain": [
       "(array([ 2.,  2., 15., 24., 20., 20.,  9.,  6.,  0.,  2.]),\n",
       " array([-5.08837823, -3.70946097, -2.3305437 , -0.95162643,  0.42729083,\n",
       "         1.8062081 ,  3.18512537,  4.56404263,  5.9429599 ,  7.32187717,\n",
       "         8.70079443]),\n",
       " <BarContainer object of 10 artists>)"
      ]
     },
     "execution_count": 31,
     "metadata": {},
     "output_type": "execute_result"
    },
    {
     "data": {
      "image/png": "[encoded data removed]",
      "text/plain": [
       "<Figure size 432x288 with 1 Axes>"
      ]
     },
     "metadata": {
      "needs_background": "light"
     },
     "output_type": "display_data"
    }
   ],
   "source": [
    "plt.hist(result1.fittedvalues.values)"
   ]
  },
  {
   "cell_type": "code",
   "execution_count": 32,
   "id": "5b4b99d3",
   "metadata": {},
   "outputs": [
    {
     "data": {
      "text/plain": [
       "0     0.768441\n",
       "1     3.410247\n",
       "2     8.700794\n",
       "3    -0.291318\n",
       "4    -2.281023\n",
       "        ...   \n",
       "95    1.293580\n",
       "96    2.844545\n",
       "97    2.221960\n",
       "98    4.529861\n",
       "99    1.439562\n",
       "Length: 100, dtype: float64"
      ]
     },
     "execution_count": 32,
     "metadata": {},
     "output_type": "execute_result"
    }
   ],
   "source": [
    "result1.fittedvalues"
   ]
  },
  {
   "cell_type": "markdown",
   "id": "9e333928",
   "metadata": {},
   "source": [
    "**Prueba de normalidad**\n",
    "\n",
    "$$\n",
    "H_{o}: \\textrm{Los residuos se distribuyen normalmente} \\ \\ \\ \\textrm{VS} \\ \\ \\ H_{a}:\\textrm{Los residuos no se distribuyen normalmente}\n",
    "$$"
   ]
  },
  {
   "cell_type": "code",
   "execution_count": 33,
   "id": "28775308",
   "metadata": {},
   "outputs": [],
   "source": [
    "z, p = stats.normaltest(result1.resid.values)"
   ]
  },
  {
   "cell_type": "code",
   "execution_count": 34,
   "id": "d7aebc45",
   "metadata": {},
   "outputs": [
    {
     "data": {
      "text/plain": [
       "10.897311395859266"
      ]
     },
     "execution_count": 34,
     "metadata": {},
     "output_type": "execute_result"
    }
   ],
   "source": [
    "z"
   ]
  },
  {
   "cell_type": "code",
   "execution_count": 35,
   "id": "58665510",
   "metadata": {
    "scrolled": true
   },
   "outputs": [
    {
     "data": {
      "text/plain": [
       "0.004302084105812508"
      ]
     },
     "execution_count": 35,
     "metadata": {},
     "output_type": "execute_result"
    }
   ],
   "source": [
    "# Si el valor p es grande no se puede rechazar la hipotesis nula\n",
    "# Si el valor p es menor al nivel de significancia se rechaza la hipotesis nula\n",
    "p "
   ]
  },
  {
   "cell_type": "code",
   "execution_count": 36,
   "id": "321e44e6",
   "metadata": {},
   "outputs": [
    {
     "data": {
      "image/png": "[encoded data removed]",
      "text/plain": [
       "<Figure size 432x288 with 1 Axes>"
      ]
     },
     "execution_count": 36,
     "metadata": {},
     "output_type": "execute_result"
    },
    {
     "data": {
      "image/png": "[encoded data removed]",
      "text/plain": [
       "<Figure size 432x288 with 1 Axes>"
      ]
     },
     "metadata": {
      "needs_background": "light"
     },
     "output_type": "display_data"
    }
   ],
   "source": [
    "smg.qqplot(result1.resid.values)"
   ]
  },
  {
   "cell_type": "markdown",
   "id": "16a65cbc",
   "metadata": {},
   "source": [
    "### Probando segundo modelo\n",
    "\n",
    "Si queremos ajustar los datos al modelo\n",
    "\n",
    "$$\n",
    "Y = \\beta_{0} + \\beta_{1}x_{1} + \\beta_{2}x_{2} + \\beta_{3}x_{1}x_{2}\n",
    "$$"
   ]
  },
  {
   "cell_type": "code",
   "execution_count": 37,
   "id": "833cf65b",
   "metadata": {},
   "outputs": [],
   "source": [
    "model2 = smf.ols(\"y ~ x1 + x2 + x1*x2\", data)\n",
    "result2 = model2.fit()"
   ]
  },
  {
   "cell_type": "code",
   "execution_count": 38,
   "id": "490d2c6f",
   "metadata": {},
   "outputs": [
    {
     "data": {
      "text/html": [
       "<table class=\"simpletable\">\n",
       "<caption>OLS Regression Results</caption>\n",
       "<tr>\n",
       "  <th>Dep. Variable:</th>            <td>y</td>        <th>  R-squared:         </th> <td>   0.925</td>\n",
       "</tr>\n",
       "<tr>\n",
       "  <th>Model:</th>                   <td>OLS</td>       <th>  Adj. R-squared:    </th> <td>   0.922</td>\n",
       "</tr>\n",
       "<tr>\n",
       "  <th>Method:</th>             <td>Least Squares</td>  <th>  F-statistic:       </th> <td>   393.7</td>\n",
       "</tr>\n",
       "<tr>\n",
       "  <th>Date:</th>             <td>Sat, 05 Mar 2022</td> <th>  Prob (F-statistic):</th> <td>8.55e-54</td>\n",
       "</tr>\n",
       "<tr>\n",
       "  <th>Time:</th>                 <td>12:09:03</td>     <th>  Log-Likelihood:    </th> <td> -136.21</td>\n",
       "</tr>\n",
       "<tr>\n",
       "  <th>No. Observations:</th>      <td>   100</td>      <th>  AIC:               </th> <td>   280.4</td>\n",
       "</tr>\n",
       "<tr>\n",
       "  <th>Df Residuals:</th>          <td>    96</td>      <th>  BIC:               </th> <td>   290.8</td>\n",
       "</tr>\n",
       "<tr>\n",
       "  <th>Df Model:</th>              <td>     3</td>      <th>                     </th>     <td> </td>   \n",
       "</tr>\n",
       "<tr>\n",
       "  <th>Covariance Type:</th>      <td>nonrobust</td>    <th>                     </th>     <td> </td>   \n",
       "</tr>\n",
       "</table>\n",
       "<table class=\"simpletable\">\n",
       "<tr>\n",
       "      <td></td>         <th>coef</th>     <th>std err</th>      <th>t</th>      <th>P>|t|</th>  <th>[0.025</th>    <th>0.975]</th>  \n",
       "</tr>\n",
       "<tr>\n",
       "  <th>Intercept</th> <td>    1.1273</td> <td>    0.098</td> <td>   11.559</td> <td> 0.000</td> <td>    0.934</td> <td>    1.321</td>\n",
       "</tr>\n",
       "<tr>\n",
       "  <th>x1</th>        <td>    1.1582</td> <td>    0.106</td> <td>   10.884</td> <td> 0.000</td> <td>    0.947</td> <td>    1.369</td>\n",
       "</tr>\n",
       "<tr>\n",
       "  <th>x2</th>        <td>    1.8655</td> <td>    0.093</td> <td>   20.148</td> <td> 0.000</td> <td>    1.682</td> <td>    2.049</td>\n",
       "</tr>\n",
       "<tr>\n",
       "  <th>x1:x2</th>     <td>    2.6887</td> <td>    0.114</td> <td>   23.665</td> <td> 0.000</td> <td>    2.463</td> <td>    2.914</td>\n",
       "</tr>\n",
       "</table>\n",
       "<table class=\"simpletable\">\n",
       "<tr>\n",
       "  <th>Omnibus:</th>       <td> 3.502</td> <th>  Durbin-Watson:     </th> <td>   1.951</td>\n",
       "</tr>\n",
       "<tr>\n",
       "  <th>Prob(Omnibus):</th> <td> 0.174</td> <th>  Jarque-Bera (JB):  </th> <td>   2.654</td>\n",
       "</tr>\n",
       "<tr>\n",
       "  <th>Skew:</th>          <td>-0.257</td> <th>  Prob(JB):          </th> <td>   0.265</td>\n",
       "</tr>\n",
       "<tr>\n",
       "  <th>Kurtosis:</th>      <td> 2.389</td> <th>  Cond. No.          </th> <td>    1.47</td>\n",
       "</tr>\n",
       "</table><br/><br/>Notes:<br/>[1] Standard Errors assume that the covariance matrix of the errors is correctly specified."
      ],
      "text/plain": [
       "<class 'statsmodels.iolib.summary.Summary'>\n",
       "\"\"\"\n",
       "                            OLS Regression Results                            \n",
       "==============================================================================\n",
       "Dep. Variable:                      y   R-squared:                       0.925\n",
       "Model:                            OLS   Adj. R-squared:                  0.922\n",
       "Method:                 Least Squares   F-statistic:                     393.7\n",
       "Date:                Sat, 05 Mar 2022   Prob (F-statistic):           8.55e-54\n",
       "Time:                        12:09:03   Log-Likelihood:                -136.21\n",
       "No. Observations:                 100   AIC:                             280.4\n",
       "Df Residuals:                      96   BIC:                             290.8\n",
       "Df Model:                           3                                         \n",
       "Covariance Type:            nonrobust                                         \n",
       "==============================================================================\n",
       "                 coef    std err          t      P>|t|      [0.025      0.975]\n",
       "------------------------------------------------------------------------------\n",
       "Intercept      1.1273      0.098     11.559      0.000       0.934       1.321\n",
       "x1             1.1582      0.106     10.884      0.000       0.947       1.369\n",
       "x2             1.8655      0.093     20.148      0.000       1.682       2.049\n",
       "x1:x2          2.6887      0.114     23.665      0.000       2.463       2.914\n",
       "==============================================================================\n",
       "Omnibus:                        3.502   Durbin-Watson:                   1.951\n",
       "Prob(Omnibus):                  0.174   Jarque-Bera (JB):                2.654\n",
       "Skew:                          -0.257   Prob(JB):                        0.265\n",
       "Kurtosis:                       2.389   Cond. No.                         1.47\n",
       "==============================================================================\n",
       "\n",
       "Notes:\n",
       "[1] Standard Errors assume that the covariance matrix of the errors is correctly specified.\n",
       "\"\"\""
      ]
     },
     "metadata": {},
     "output_type": "display_data"
    }
   ],
   "source": [
    "display(result2.summary())"
   ]
  },
  {
   "cell_type": "code",
   "execution_count": 39,
   "id": "a5935b7d",
   "metadata": {},
   "outputs": [
    {
     "data": {
      "text/plain": [
       "0.9248228926842109"
      ]
     },
     "execution_count": 39,
     "metadata": {},
     "output_type": "execute_result"
    }
   ],
   "source": [
    "result2.rsquared # r^2 del modelo"
   ]
  },
  {
   "cell_type": "code",
   "execution_count": 40,
   "id": "27614e54",
   "metadata": {},
   "outputs": [],
   "source": [
    "z, p = stats.normaltest(result2.resid.values)"
   ]
  },
  {
   "cell_type": "code",
   "execution_count": 41,
   "id": "cf7024e9",
   "metadata": {},
   "outputs": [
    {
     "data": {
      "text/plain": [
       "3.502008425791949"
      ]
     },
     "execution_count": 41,
     "metadata": {},
     "output_type": "execute_result"
    }
   ],
   "source": [
    "z"
   ]
  },
  {
   "cell_type": "code",
   "execution_count": 42,
   "id": "bb0039e3",
   "metadata": {},
   "outputs": [
    {
     "data": {
      "text/plain": [
       "0.17359952500673068"
      ]
     },
     "execution_count": 42,
     "metadata": {},
     "output_type": "execute_result"
    }
   ],
   "source": [
    "p"
   ]
  },
  {
   "cell_type": "code",
   "execution_count": 43,
   "id": "f44b1a52",
   "metadata": {},
   "outputs": [
    {
     "data": {
      "image/png": "[encoded data removed]",
      "text/plain": [
       "<Figure size 432x288 with 1 Axes>"
      ]
     },
     "execution_count": 43,
     "metadata": {},
     "output_type": "execute_result"
    },
    {
     "data": {
      "image/png": "[encoded data removed]",
      "text/plain": [
       "<Figure size 432x288 with 1 Axes>"
      ]
     },
     "metadata": {
      "needs_background": "light"
     },
     "output_type": "display_data"
    }
   ],
   "source": [
    "smg.qqplot(result2.resid.values)"
   ]
  },
  {
   "cell_type": "code",
   "execution_count": 44,
   "id": "9f0c87ab",
   "metadata": {},
   "outputs": [
    {
     "data": {
      "text/plain": [
       "Intercept    1.127323\n",
       "x1           1.158210\n",
       "x2           1.865535\n",
       "x1:x2        2.688665\n",
       "dtype: float64"
      ]
     },
     "execution_count": 44,
     "metadata": {},
     "output_type": "execute_result"
    }
   ],
   "source": [
    "result2.params # betas estimadas"
   ]
  },
  {
   "cell_type": "markdown",
   "id": "0dc7a79d",
   "metadata": {},
   "source": [
    "### Prediciendo nuevos valores"
   ]
  },
  {
   "cell_type": "code",
   "execution_count": 45,
   "id": "34c85df9",
   "metadata": {},
   "outputs": [],
   "source": [
    "x = np.linspace(-2, 2, 40)\n",
    "X1, X2 = np.meshgrid(x, x)\n",
    "new_data = pd.DataFrame({\"x1\": X1.ravel(), \"x2\": X2.ravel()})"
   ]
  },
  {
   "cell_type": "code",
   "execution_count": 46,
   "id": "0e146dbd",
   "metadata": {},
   "outputs": [
    {
     "data": {
      "text/html": [
       "<div>\n",
       "<style scoped>\n",
       "    .dataframe tbody tr th:only-of-type {\n",
       "        vertical-align: middle;\n",
       "    }\n",
       "\n",
       "    .dataframe tbody tr th {\n",
       "        vertical-align: top;\n",
       "    }\n",
       "\n",
       "    .dataframe thead th {\n",
       "        text-align: right;\n",
       "    }\n",
       "</style>\n",
       "<table border=\"1\" class=\"dataframe\">\n",
       "  <thead>\n",
       "    <tr style=\"text-align: right;\">\n",
       "      <th></th>\n",
       "      <th>x1</th>\n",
       "      <th>x2</th>\n",
       "    </tr>\n",
       "  </thead>\n",
       "  <tbody>\n",
       "    <tr>\n",
       "      <th>0</th>\n",
       "      <td>-2.000000</td>\n",
       "      <td>-2.0</td>\n",
       "    </tr>\n",
       "    <tr>\n",
       "      <th>1</th>\n",
       "      <td>-1.897436</td>\n",
       "      <td>-2.0</td>\n",
       "    </tr>\n",
       "    <tr>\n",
       "      <th>2</th>\n",
       "      <td>-1.794872</td>\n",
       "      <td>-2.0</td>\n",
       "    </tr>\n",
       "    <tr>\n",
       "      <th>3</th>\n",
       "      <td>-1.692308</td>\n",
       "      <td>-2.0</td>\n",
       "    </tr>\n",
       "    <tr>\n",
       "      <th>4</th>\n",
       "      <td>-1.589744</td>\n",
       "      <td>-2.0</td>\n",
       "    </tr>\n",
       "    <tr>\n",
       "      <th>5</th>\n",
       "      <td>-1.487179</td>\n",
       "      <td>-2.0</td>\n",
       "    </tr>\n",
       "    <tr>\n",
       "      <th>6</th>\n",
       "      <td>-1.384615</td>\n",
       "      <td>-2.0</td>\n",
       "    </tr>\n",
       "    <tr>\n",
       "      <th>7</th>\n",
       "      <td>-1.282051</td>\n",
       "      <td>-2.0</td>\n",
       "    </tr>\n",
       "    <tr>\n",
       "      <th>8</th>\n",
       "      <td>-1.179487</td>\n",
       "      <td>-2.0</td>\n",
       "    </tr>\n",
       "    <tr>\n",
       "      <th>9</th>\n",
       "      <td>-1.076923</td>\n",
       "      <td>-2.0</td>\n",
       "    </tr>\n",
       "    <tr>\n",
       "      <th>10</th>\n",
       "      <td>-0.974359</td>\n",
       "      <td>-2.0</td>\n",
       "    </tr>\n",
       "    <tr>\n",
       "      <th>11</th>\n",
       "      <td>-0.871795</td>\n",
       "      <td>-2.0</td>\n",
       "    </tr>\n",
       "    <tr>\n",
       "      <th>12</th>\n",
       "      <td>-0.769231</td>\n",
       "      <td>-2.0</td>\n",
       "    </tr>\n",
       "    <tr>\n",
       "      <th>13</th>\n",
       "      <td>-0.666667</td>\n",
       "      <td>-2.0</td>\n",
       "    </tr>\n",
       "    <tr>\n",
       "      <th>14</th>\n",
       "      <td>-0.564103</td>\n",
       "      <td>-2.0</td>\n",
       "    </tr>\n",
       "    <tr>\n",
       "      <th>15</th>\n",
       "      <td>-0.461538</td>\n",
       "      <td>-2.0</td>\n",
       "    </tr>\n",
       "    <tr>\n",
       "      <th>16</th>\n",
       "      <td>-0.358974</td>\n",
       "      <td>-2.0</td>\n",
       "    </tr>\n",
       "    <tr>\n",
       "      <th>17</th>\n",
       "      <td>-0.256410</td>\n",
       "      <td>-2.0</td>\n",
       "    </tr>\n",
       "    <tr>\n",
       "      <th>18</th>\n",
       "      <td>-0.153846</td>\n",
       "      <td>-2.0</td>\n",
       "    </tr>\n",
       "    <tr>\n",
       "      <th>19</th>\n",
       "      <td>-0.051282</td>\n",
       "      <td>-2.0</td>\n",
       "    </tr>\n",
       "    <tr>\n",
       "      <th>20</th>\n",
       "      <td>0.051282</td>\n",
       "      <td>-2.0</td>\n",
       "    </tr>\n",
       "    <tr>\n",
       "      <th>21</th>\n",
       "      <td>0.153846</td>\n",
       "      <td>-2.0</td>\n",
       "    </tr>\n",
       "    <tr>\n",
       "      <th>22</th>\n",
       "      <td>0.256410</td>\n",
       "      <td>-2.0</td>\n",
       "    </tr>\n",
       "    <tr>\n",
       "      <th>23</th>\n",
       "      <td>0.358974</td>\n",
       "      <td>-2.0</td>\n",
       "    </tr>\n",
       "    <tr>\n",
       "      <th>24</th>\n",
       "      <td>0.461538</td>\n",
       "      <td>-2.0</td>\n",
       "    </tr>\n",
       "  </tbody>\n",
       "</table>\n",
       "</div>"
      ],
      "text/plain": [
       "          x1   x2\n",
       "0  -2.000000 -2.0\n",
       "1  -1.897436 -2.0\n",
       "2  -1.794872 -2.0\n",
       "3  -1.692308 -2.0\n",
       "4  -1.589744 -2.0\n",
       "5  -1.487179 -2.0\n",
       "6  -1.384615 -2.0\n",
       "7  -1.282051 -2.0\n",
       "8  -1.179487 -2.0\n",
       "9  -1.076923 -2.0\n",
       "10 -0.974359 -2.0\n",
       "11 -0.871795 -2.0\n",
       "12 -0.769231 -2.0\n",
       "13 -0.666667 -2.0\n",
       "14 -0.564103 -2.0\n",
       "15 -0.461538 -2.0\n",
       "16 -0.358974 -2.0\n",
       "17 -0.256410 -2.0\n",
       "18 -0.153846 -2.0\n",
       "19 -0.051282 -2.0\n",
       "20  0.051282 -2.0\n",
       "21  0.153846 -2.0\n",
       "22  0.256410 -2.0\n",
       "23  0.358974 -2.0\n",
       "24  0.461538 -2.0"
      ]
     },
     "execution_count": 46,
     "metadata": {},
     "output_type": "execute_result"
    }
   ],
   "source": [
    "new_data.head(25)"
   ]
  },
  {
   "cell_type": "code",
   "execution_count": 47,
   "id": "d987e1f0",
   "metadata": {},
   "outputs": [],
   "source": [
    "new_data[\"predict_values\"] = result2.predict(new_data) "
   ]
  },
  {
   "cell_type": "code",
   "execution_count": 48,
   "id": "5379140f",
   "metadata": {},
   "outputs": [
    {
     "data": {
      "text/html": [
       "<div>\n",
       "<style scoped>\n",
       "    .dataframe tbody tr th:only-of-type {\n",
       "        vertical-align: middle;\n",
       "    }\n",
       "\n",
       "    .dataframe tbody tr th {\n",
       "        vertical-align: top;\n",
       "    }\n",
       "\n",
       "    .dataframe thead th {\n",
       "        text-align: right;\n",
       "    }\n",
       "</style>\n",
       "<table border=\"1\" class=\"dataframe\">\n",
       "  <thead>\n",
       "    <tr style=\"text-align: right;\">\n",
       "      <th></th>\n",
       "      <th>x1</th>\n",
       "      <th>x2</th>\n",
       "      <th>predict_values</th>\n",
       "    </tr>\n",
       "  </thead>\n",
       "  <tbody>\n",
       "    <tr>\n",
       "      <th>0</th>\n",
       "      <td>-2.000000</td>\n",
       "      <td>-2.0</td>\n",
       "      <td>5.834491</td>\n",
       "    </tr>\n",
       "    <tr>\n",
       "      <th>1</th>\n",
       "      <td>-1.897436</td>\n",
       "      <td>-2.0</td>\n",
       "      <td>5.401761</td>\n",
       "    </tr>\n",
       "    <tr>\n",
       "      <th>2</th>\n",
       "      <td>-1.794872</td>\n",
       "      <td>-2.0</td>\n",
       "      <td>4.969031</td>\n",
       "    </tr>\n",
       "    <tr>\n",
       "      <th>3</th>\n",
       "      <td>-1.692308</td>\n",
       "      <td>-2.0</td>\n",
       "      <td>4.536301</td>\n",
       "    </tr>\n",
       "    <tr>\n",
       "      <th>4</th>\n",
       "      <td>-1.589744</td>\n",
       "      <td>-2.0</td>\n",
       "      <td>4.103570</td>\n",
       "    </tr>\n",
       "  </tbody>\n",
       "</table>\n",
       "</div>"
      ],
      "text/plain": [
       "         x1   x2  predict_values\n",
       "0 -2.000000 -2.0        5.834491\n",
       "1 -1.897436 -2.0        5.401761\n",
       "2 -1.794872 -2.0        4.969031\n",
       "3 -1.692308 -2.0        4.536301\n",
       "4 -1.589744 -2.0        4.103570"
      ]
     },
     "execution_count": 48,
     "metadata": {},
     "output_type": "execute_result"
    }
   ],
   "source": [
    "new_data.head()"
   ]
  },
  {
   "cell_type": "code",
   "execution_count": 49,
   "id": "aecb6a53",
   "metadata": {},
   "outputs": [
    {
     "data": {
      "text/plain": [
       "Intercept    1.127323\n",
       "x1           1.158210\n",
       "x2           1.865535\n",
       "x1:x2        2.688665\n",
       "dtype: float64"
      ]
     },
     "execution_count": 49,
     "metadata": {},
     "output_type": "execute_result"
    }
   ],
   "source": [
    "result2.params"
   ]
  },
  {
   "cell_type": "code",
   "execution_count": 50,
   "id": "ffaca876",
   "metadata": {},
   "outputs": [],
   "source": [
    "def y_predict(x1, x2):\n",
    "    return 1.096514 + 0.900113* x1 + 1.953532 * x2 + 3.000828 * x1 * x2"
   ]
  },
  {
   "cell_type": "code",
   "execution_count": 51,
   "id": "7814c634",
   "metadata": {},
   "outputs": [],
   "source": [
    "new_data[\"predict_values_ownfunction\"] = y_predict(new_data[\"x1\"].values,new_data[\"x2\"].values) "
   ]
  },
  {
   "cell_type": "code",
   "execution_count": 52,
   "id": "ee8e7c20",
   "metadata": {},
   "outputs": [
    {
     "data": {
      "text/html": [
       "<div>\n",
       "<style scoped>\n",
       "    .dataframe tbody tr th:only-of-type {\n",
       "        vertical-align: middle;\n",
       "    }\n",
       "\n",
       "    .dataframe tbody tr th {\n",
       "        vertical-align: top;\n",
       "    }\n",
       "\n",
       "    .dataframe thead th {\n",
       "        text-align: right;\n",
       "    }\n",
       "</style>\n",
       "<table border=\"1\" class=\"dataframe\">\n",
       "  <thead>\n",
       "    <tr style=\"text-align: right;\">\n",
       "      <th></th>\n",
       "      <th>x1</th>\n",
       "      <th>x2</th>\n",
       "      <th>predict_values</th>\n",
       "      <th>predict_values_ownfunction</th>\n",
       "    </tr>\n",
       "  </thead>\n",
       "  <tbody>\n",
       "    <tr>\n",
       "      <th>0</th>\n",
       "      <td>-2.000000</td>\n",
       "      <td>-2.0</td>\n",
       "      <td>5.834491</td>\n",
       "      <td>7.392536</td>\n",
       "    </tr>\n",
       "    <tr>\n",
       "      <th>1</th>\n",
       "      <td>-1.897436</td>\n",
       "      <td>-2.0</td>\n",
       "      <td>5.401761</td>\n",
       "      <td>6.869301</td>\n",
       "    </tr>\n",
       "    <tr>\n",
       "      <th>2</th>\n",
       "      <td>-1.794872</td>\n",
       "      <td>-2.0</td>\n",
       "      <td>4.969031</td>\n",
       "      <td>6.346066</td>\n",
       "    </tr>\n",
       "    <tr>\n",
       "      <th>3</th>\n",
       "      <td>-1.692308</td>\n",
       "      <td>-2.0</td>\n",
       "      <td>4.536301</td>\n",
       "      <td>5.822830</td>\n",
       "    </tr>\n",
       "    <tr>\n",
       "      <th>4</th>\n",
       "      <td>-1.589744</td>\n",
       "      <td>-2.0</td>\n",
       "      <td>4.103570</td>\n",
       "      <td>5.299595</td>\n",
       "    </tr>\n",
       "  </tbody>\n",
       "</table>\n",
       "</div>"
      ],
      "text/plain": [
       "         x1   x2  predict_values  predict_values_ownfunction\n",
       "0 -2.000000 -2.0        5.834491                    7.392536\n",
       "1 -1.897436 -2.0        5.401761                    6.869301\n",
       "2 -1.794872 -2.0        4.969031                    6.346066\n",
       "3 -1.692308 -2.0        4.536301                    5.822830\n",
       "4 -1.589744 -2.0        4.103570                    5.299595"
      ]
     },
     "execution_count": 52,
     "metadata": {},
     "output_type": "execute_result"
    }
   ],
   "source": [
    "new_data.head()"
   ]
  },
  {
   "cell_type": "markdown",
   "id": "afdce23d",
   "metadata": {},
   "source": [
    "## Modelando el dataset Icecream del paquete Ecdat"
   ]
  },
  {
   "cell_type": "code",
   "execution_count": 53,
   "id": "4df9b8ce",
   "metadata": {},
   "outputs": [],
   "source": [
    "dataset = sm.datasets.get_rdataset(\"Icecream\", \"Ecdat\")"
   ]
  },
  {
   "cell_type": "code",
   "execution_count": 54,
   "id": "e14af45a",
   "metadata": {},
   "outputs": [
    {
     "data": {
      "text/plain": [
       "'Ice Cream Consumption'"
      ]
     },
     "execution_count": 54,
     "metadata": {},
     "output_type": "execute_result"
    }
   ],
   "source": [
    "dataset.title"
   ]
  },
  {
   "cell_type": "code",
   "execution_count": 55,
   "id": "ec21945c",
   "metadata": {},
   "outputs": [
    {
     "data": {
      "text/html": [
       "<div>\n",
       "<style scoped>\n",
       "    .dataframe tbody tr th:only-of-type {\n",
       "        vertical-align: middle;\n",
       "    }\n",
       "\n",
       "    .dataframe tbody tr th {\n",
       "        vertical-align: top;\n",
       "    }\n",
       "\n",
       "    .dataframe thead th {\n",
       "        text-align: right;\n",
       "    }\n",
       "</style>\n",
       "<table border=\"1\" class=\"dataframe\">\n",
       "  <thead>\n",
       "    <tr style=\"text-align: right;\">\n",
       "      <th></th>\n",
       "      <th>cons</th>\n",
       "      <th>income</th>\n",
       "      <th>price</th>\n",
       "      <th>temp</th>\n",
       "    </tr>\n",
       "  </thead>\n",
       "  <tbody>\n",
       "    <tr>\n",
       "      <th>0</th>\n",
       "      <td>0.386</td>\n",
       "      <td>78</td>\n",
       "      <td>0.270</td>\n",
       "      <td>41</td>\n",
       "    </tr>\n",
       "    <tr>\n",
       "      <th>1</th>\n",
       "      <td>0.374</td>\n",
       "      <td>79</td>\n",
       "      <td>0.282</td>\n",
       "      <td>56</td>\n",
       "    </tr>\n",
       "    <tr>\n",
       "      <th>2</th>\n",
       "      <td>0.393</td>\n",
       "      <td>81</td>\n",
       "      <td>0.277</td>\n",
       "      <td>63</td>\n",
       "    </tr>\n",
       "    <tr>\n",
       "      <th>3</th>\n",
       "      <td>0.425</td>\n",
       "      <td>80</td>\n",
       "      <td>0.280</td>\n",
       "      <td>68</td>\n",
       "    </tr>\n",
       "    <tr>\n",
       "      <th>4</th>\n",
       "      <td>0.406</td>\n",
       "      <td>76</td>\n",
       "      <td>0.272</td>\n",
       "      <td>69</td>\n",
       "    </tr>\n",
       "    <tr>\n",
       "      <th>5</th>\n",
       "      <td>0.344</td>\n",
       "      <td>78</td>\n",
       "      <td>0.262</td>\n",
       "      <td>65</td>\n",
       "    </tr>\n",
       "    <tr>\n",
       "      <th>6</th>\n",
       "      <td>0.327</td>\n",
       "      <td>82</td>\n",
       "      <td>0.275</td>\n",
       "      <td>61</td>\n",
       "    </tr>\n",
       "    <tr>\n",
       "      <th>7</th>\n",
       "      <td>0.288</td>\n",
       "      <td>79</td>\n",
       "      <td>0.267</td>\n",
       "      <td>47</td>\n",
       "    </tr>\n",
       "    <tr>\n",
       "      <th>8</th>\n",
       "      <td>0.269</td>\n",
       "      <td>76</td>\n",
       "      <td>0.265</td>\n",
       "      <td>32</td>\n",
       "    </tr>\n",
       "    <tr>\n",
       "      <th>9</th>\n",
       "      <td>0.256</td>\n",
       "      <td>79</td>\n",
       "      <td>0.277</td>\n",
       "      <td>24</td>\n",
       "    </tr>\n",
       "    <tr>\n",
       "      <th>10</th>\n",
       "      <td>0.286</td>\n",
       "      <td>82</td>\n",
       "      <td>0.282</td>\n",
       "      <td>28</td>\n",
       "    </tr>\n",
       "    <tr>\n",
       "      <th>11</th>\n",
       "      <td>0.298</td>\n",
       "      <td>85</td>\n",
       "      <td>0.270</td>\n",
       "      <td>26</td>\n",
       "    </tr>\n",
       "    <tr>\n",
       "      <th>12</th>\n",
       "      <td>0.329</td>\n",
       "      <td>86</td>\n",
       "      <td>0.272</td>\n",
       "      <td>32</td>\n",
       "    </tr>\n",
       "    <tr>\n",
       "      <th>13</th>\n",
       "      <td>0.318</td>\n",
       "      <td>83</td>\n",
       "      <td>0.287</td>\n",
       "      <td>40</td>\n",
       "    </tr>\n",
       "    <tr>\n",
       "      <th>14</th>\n",
       "      <td>0.381</td>\n",
       "      <td>84</td>\n",
       "      <td>0.277</td>\n",
       "      <td>55</td>\n",
       "    </tr>\n",
       "    <tr>\n",
       "      <th>15</th>\n",
       "      <td>0.381</td>\n",
       "      <td>82</td>\n",
       "      <td>0.287</td>\n",
       "      <td>63</td>\n",
       "    </tr>\n",
       "    <tr>\n",
       "      <th>16</th>\n",
       "      <td>0.470</td>\n",
       "      <td>80</td>\n",
       "      <td>0.280</td>\n",
       "      <td>72</td>\n",
       "    </tr>\n",
       "    <tr>\n",
       "      <th>17</th>\n",
       "      <td>0.443</td>\n",
       "      <td>78</td>\n",
       "      <td>0.277</td>\n",
       "      <td>72</td>\n",
       "    </tr>\n",
       "    <tr>\n",
       "      <th>18</th>\n",
       "      <td>0.386</td>\n",
       "      <td>84</td>\n",
       "      <td>0.277</td>\n",
       "      <td>67</td>\n",
       "    </tr>\n",
       "    <tr>\n",
       "      <th>19</th>\n",
       "      <td>0.342</td>\n",
       "      <td>86</td>\n",
       "      <td>0.277</td>\n",
       "      <td>60</td>\n",
       "    </tr>\n",
       "    <tr>\n",
       "      <th>20</th>\n",
       "      <td>0.319</td>\n",
       "      <td>85</td>\n",
       "      <td>0.292</td>\n",
       "      <td>44</td>\n",
       "    </tr>\n",
       "    <tr>\n",
       "      <th>21</th>\n",
       "      <td>0.307</td>\n",
       "      <td>87</td>\n",
       "      <td>0.287</td>\n",
       "      <td>40</td>\n",
       "    </tr>\n",
       "    <tr>\n",
       "      <th>22</th>\n",
       "      <td>0.284</td>\n",
       "      <td>94</td>\n",
       "      <td>0.277</td>\n",
       "      <td>32</td>\n",
       "    </tr>\n",
       "    <tr>\n",
       "      <th>23</th>\n",
       "      <td>0.326</td>\n",
       "      <td>92</td>\n",
       "      <td>0.285</td>\n",
       "      <td>27</td>\n",
       "    </tr>\n",
       "    <tr>\n",
       "      <th>24</th>\n",
       "      <td>0.309</td>\n",
       "      <td>95</td>\n",
       "      <td>0.282</td>\n",
       "      <td>28</td>\n",
       "    </tr>\n",
       "    <tr>\n",
       "      <th>25</th>\n",
       "      <td>0.359</td>\n",
       "      <td>96</td>\n",
       "      <td>0.265</td>\n",
       "      <td>33</td>\n",
       "    </tr>\n",
       "    <tr>\n",
       "      <th>26</th>\n",
       "      <td>0.376</td>\n",
       "      <td>94</td>\n",
       "      <td>0.265</td>\n",
       "      <td>41</td>\n",
       "    </tr>\n",
       "    <tr>\n",
       "      <th>27</th>\n",
       "      <td>0.416</td>\n",
       "      <td>96</td>\n",
       "      <td>0.265</td>\n",
       "      <td>52</td>\n",
       "    </tr>\n",
       "    <tr>\n",
       "      <th>28</th>\n",
       "      <td>0.437</td>\n",
       "      <td>91</td>\n",
       "      <td>0.268</td>\n",
       "      <td>64</td>\n",
       "    </tr>\n",
       "    <tr>\n",
       "      <th>29</th>\n",
       "      <td>0.548</td>\n",
       "      <td>90</td>\n",
       "      <td>0.260</td>\n",
       "      <td>71</td>\n",
       "    </tr>\n",
       "  </tbody>\n",
       "</table>\n",
       "</div>"
      ],
      "text/plain": [
       "     cons  income  price  temp\n",
       "0   0.386      78  0.270    41\n",
       "1   0.374      79  0.282    56\n",
       "2   0.393      81  0.277    63\n",
       "3   0.425      80  0.280    68\n",
       "4   0.406      76  0.272    69\n",
       "5   0.344      78  0.262    65\n",
       "6   0.327      82  0.275    61\n",
       "7   0.288      79  0.267    47\n",
       "8   0.269      76  0.265    32\n",
       "9   0.256      79  0.277    24\n",
       "10  0.286      82  0.282    28\n",
       "11  0.298      85  0.270    26\n",
       "12  0.329      86  0.272    32\n",
       "13  0.318      83  0.287    40\n",
       "14  0.381      84  0.277    55\n",
       "15  0.381      82  0.287    63\n",
       "16  0.470      80  0.280    72\n",
       "17  0.443      78  0.277    72\n",
       "18  0.386      84  0.277    67\n",
       "19  0.342      86  0.277    60\n",
       "20  0.319      85  0.292    44\n",
       "21  0.307      87  0.287    40\n",
       "22  0.284      94  0.277    32\n",
       "23  0.326      92  0.285    27\n",
       "24  0.309      95  0.282    28\n",
       "25  0.359      96  0.265    33\n",
       "26  0.376      94  0.265    41\n",
       "27  0.416      96  0.265    52\n",
       "28  0.437      91  0.268    64\n",
       "29  0.548      90  0.260    71"
      ]
     },
     "execution_count": 55,
     "metadata": {},
     "output_type": "execute_result"
    }
   ],
   "source": [
    "dataset.data #dataframe "
   ]
  },
  {
   "cell_type": "code",
   "execution_count": 56,
   "id": "4d34810d",
   "metadata": {},
   "outputs": [
    {
     "name": "stdout",
     "output_type": "stream",
     "text": [
      "<class 'pandas.core.frame.DataFrame'>\n",
      "RangeIndex: 30 entries, 0 to 29\n",
      "Data columns (total 4 columns):\n",
      " #   Column  Non-Null Count  Dtype  \n",
      "---  ------  --------------  -----  \n",
      " 0   cons    30 non-null     float64\n",
      " 1   income  30 non-null     int64  \n",
      " 2   price   30 non-null     float64\n",
      " 3   temp    30 non-null     int64  \n",
      "dtypes: float64(2), int64(2)\n",
      "memory usage: 1.1 KB\n"
     ]
    },
    {
     "data": {
      "text/plain": [
       "None"
      ]
     },
     "metadata": {},
     "output_type": "display_data"
    }
   ],
   "source": [
    "display(dataset.data.info())"
   ]
  },
  {
   "cell_type": "code",
   "execution_count": 57,
   "id": "d61b0347",
   "metadata": {},
   "outputs": [
    {
     "data": {
      "text/html": [
       "<table class=\"simpletable\">\n",
       "<caption>OLS Regression Results</caption>\n",
       "<tr>\n",
       "  <th>Dep. Variable:</th>          <td>cons</td>       <th>  R-squared (uncentered):</th>      <td>   0.986</td>\n",
       "</tr>\n",
       "<tr>\n",
       "  <th>Model:</th>                   <td>OLS</td>       <th>  Adj. R-squared (uncentered):</th> <td>   0.985</td>\n",
       "</tr>\n",
       "<tr>\n",
       "  <th>Method:</th>             <td>Least Squares</td>  <th>  F-statistic:       </th>          <td>   1001.</td>\n",
       "</tr>\n",
       "<tr>\n",
       "  <th>Date:</th>             <td>Sat, 05 Mar 2022</td> <th>  Prob (F-statistic):</th>          <td>9.03e-27</td>\n",
       "</tr>\n",
       "<tr>\n",
       "  <th>Time:</th>                 <td>12:09:31</td>     <th>  Log-Likelihood:    </th>          <td>  51.903</td>\n",
       "</tr>\n",
       "<tr>\n",
       "  <th>No. Observations:</th>      <td>    30</td>      <th>  AIC:               </th>          <td>  -99.81</td>\n",
       "</tr>\n",
       "<tr>\n",
       "  <th>Df Residuals:</th>          <td>    28</td>      <th>  BIC:               </th>          <td>  -97.00</td>\n",
       "</tr>\n",
       "<tr>\n",
       "  <th>Df Model:</th>              <td>     2</td>      <th>                     </th>              <td> </td>   \n",
       "</tr>\n",
       "<tr>\n",
       "  <th>Covariance Type:</th>      <td>nonrobust</td>    <th>                     </th>              <td> </td>   \n",
       "</tr>\n",
       "</table>\n",
       "<table class=\"simpletable\">\n",
       "<tr>\n",
       "    <td></td>       <th>coef</th>     <th>std err</th>      <th>t</th>      <th>P>|t|</th>  <th>[0.025</th>    <th>0.975]</th>  \n",
       "</tr>\n",
       "<tr>\n",
       "  <th>price</th> <td>    0.7254</td> <td>    0.093</td> <td>    7.805</td> <td> 0.000</td> <td>    0.535</td> <td>    0.916</td>\n",
       "</tr>\n",
       "<tr>\n",
       "  <th>temp</th>  <td>    0.0032</td> <td>    0.000</td> <td>    6.549</td> <td> 0.000</td> <td>    0.002</td> <td>    0.004</td>\n",
       "</tr>\n",
       "</table>\n",
       "<table class=\"simpletable\">\n",
       "<tr>\n",
       "  <th>Omnibus:</th>       <td> 5.350</td> <th>  Durbin-Watson:     </th> <td>   0.637</td>\n",
       "</tr>\n",
       "<tr>\n",
       "  <th>Prob(Omnibus):</th> <td> 0.069</td> <th>  Jarque-Bera (JB):  </th> <td>   3.675</td>\n",
       "</tr>\n",
       "<tr>\n",
       "  <th>Skew:</th>          <td> 0.776</td> <th>  Prob(JB):          </th> <td>   0.159</td>\n",
       "</tr>\n",
       "<tr>\n",
       "  <th>Kurtosis:</th>      <td> 3.729</td> <th>  Cond. No.          </th> <td>    593.</td>\n",
       "</tr>\n",
       "</table><br/><br/>Notes:<br/>[1] R² is computed without centering (uncentered) since the model does not contain a constant.<br/>[2] Standard Errors assume that the covariance matrix of the errors is correctly specified."
      ],
      "text/plain": [
       "<class 'statsmodels.iolib.summary.Summary'>\n",
       "\"\"\"\n",
       "                                 OLS Regression Results                                \n",
       "=======================================================================================\n",
       "Dep. Variable:                   cons   R-squared (uncentered):                   0.986\n",
       "Model:                            OLS   Adj. R-squared (uncentered):              0.985\n",
       "Method:                 Least Squares   F-statistic:                              1001.\n",
       "Date:                Sat, 05 Mar 2022   Prob (F-statistic):                    9.03e-27\n",
       "Time:                        12:09:31   Log-Likelihood:                          51.903\n",
       "No. Observations:                  30   AIC:                                     -99.81\n",
       "Df Residuals:                      28   BIC:                                     -97.00\n",
       "Df Model:                           2                                                  \n",
       "Covariance Type:            nonrobust                                                  \n",
       "==============================================================================\n",
       "                 coef    std err          t      P>|t|      [0.025      0.975]\n",
       "------------------------------------------------------------------------------\n",
       "price          0.7254      0.093      7.805      0.000       0.535       0.916\n",
       "temp           0.0032      0.000      6.549      0.000       0.002       0.004\n",
       "==============================================================================\n",
       "Omnibus:                        5.350   Durbin-Watson:                   0.637\n",
       "Prob(Omnibus):                  0.069   Jarque-Bera (JB):                3.675\n",
       "Skew:                           0.776   Prob(JB):                        0.159\n",
       "Kurtosis:                       3.729   Cond. No.                         593.\n",
       "==============================================================================\n",
       "\n",
       "Notes:\n",
       "[1] R² is computed without centering (uncentered) since the model does not contain a constant.\n",
       "[2] Standard Errors assume that the covariance matrix of the errors is correctly specified.\n",
       "\"\"\""
      ]
     },
     "metadata": {},
     "output_type": "display_data"
    }
   ],
   "source": [
    "model1 = smf.ols(\"cons ~ -1 + price + temp\", data=dataset.data)\n",
    "result1 = model1.fit()\n",
    "display(result1.summary()) "
   ]
  },
  {
   "cell_type": "code",
   "execution_count": 58,
   "id": "d47a0bf2",
   "metadata": {},
   "outputs": [
    {
     "name": "stdout",
     "output_type": "stream",
     "text": [
      "p-valor is 0.06890907714419851\n"
     ]
    }
   ],
   "source": [
    "z, p_value = stats.normaltest(result1.resid.values)\n",
    "print('p-valor is {}'.format(p_value))"
   ]
  },
  {
   "cell_type": "code",
   "execution_count": 59,
   "id": "1ef24b17",
   "metadata": {},
   "outputs": [
    {
     "name": "stderr",
     "output_type": "stream",
     "text": [
      "C:\\Users\\Alejandro Zavala\\AppData\\Local\\Programs\\Python\\Python310\\lib\\site-packages\\seaborn\\distributions.py:2619: FutureWarning: `distplot` is a deprecated function and will be removed in a future version. Please adapt your code to use either `displot` (a figure-level function with similar flexibility) or `histplot` (an axes-level function for histograms).\n",
      "  warnings.warn(msg, FutureWarning)\n"
     ]
    },
    {
     "data": {
      "text/plain": [
       "<AxesSubplot:ylabel='Density'>"
      ]
     },
     "execution_count": 59,
     "metadata": {},
     "output_type": "execute_result"
    },
    {
     "data": {
      "image/png": "[encoded data removed]",
      "text/plain": [
       "<Figure size 864x288 with 2 Axes>"
      ]
     },
     "metadata": {
      "needs_background": "light"
     },
     "output_type": "display_data"
    }
   ],
   "source": [
    "fig, (ax1, ax2) = plt.subplots(1, 2, figsize=(12, 4))\n",
    "smg.qqplot(result1.resid.values,ax=ax1)\n",
    "sns.distplot(result1.resid.values,ax=ax2)"
   ]
  },
  {
   "cell_type": "code",
   "execution_count": 60,
   "id": "e99fc131",
   "metadata": {},
   "outputs": [
    {
     "data": {
      "image/png": "[encoded data removed]",
      "text/plain": [
       "<Figure size 864x288 with 2 Axes>"
      ]
     },
     "execution_count": 60,
     "metadata": {},
     "output_type": "execute_result"
    },
    {
     "data": {
      "image/png": "[encoded data removed]",
      "text/plain": [
       "<Figure size 864x288 with 2 Axes>"
      ]
     },
     "metadata": {
      "needs_background": "light"
     },
     "output_type": "display_data"
    }
   ],
   "source": [
    "fig, (ax1, ax2) = plt.subplots(1, 2, figsize=(12, 4))\n",
    "smg.plot_fit(result1, 0, ax=ax1)\n",
    "smg.plot_fit(result1, 1, ax=ax2)"
   ]
  },
  {
   "cell_type": "code",
   "execution_count": 61,
   "id": "ea0737cf",
   "metadata": {},
   "outputs": [],
   "source": [
    "df_copy = dataset.data[[\"cons\",\"price\",\"temp\"]].copy()\n",
    "df_copy[\"Ajustados_cons\"] = result1.fittedvalues"
   ]
  },
  {
   "cell_type": "code",
   "execution_count": 62,
   "id": "da635fdf",
   "metadata": {},
   "outputs": [
    {
     "data": {
      "text/html": [
       "<div>\n",
       "<style scoped>\n",
       "    .dataframe tbody tr th:only-of-type {\n",
       "        vertical-align: middle;\n",
       "    }\n",
       "\n",
       "    .dataframe tbody tr th {\n",
       "        vertical-align: top;\n",
       "    }\n",
       "\n",
       "    .dataframe thead th {\n",
       "        text-align: right;\n",
       "    }\n",
       "</style>\n",
       "<table border=\"1\" class=\"dataframe\">\n",
       "  <thead>\n",
       "    <tr style=\"text-align: right;\">\n",
       "      <th></th>\n",
       "      <th>index</th>\n",
       "      <th>cons</th>\n",
       "      <th>price</th>\n",
       "      <th>temp</th>\n",
       "      <th>Ajustados_cons</th>\n",
       "      <th>index</th>\n",
       "      <th>cons</th>\n",
       "      <th>price</th>\n",
       "      <th>temp</th>\n",
       "      <th>Ajustados_cons</th>\n",
       "    </tr>\n",
       "  </thead>\n",
       "  <tbody>\n",
       "    <tr>\n",
       "      <th>0</th>\n",
       "      <td>29</td>\n",
       "      <td>0.548</td>\n",
       "      <td>0.260</td>\n",
       "      <td>71</td>\n",
       "      <td>0.418849</td>\n",
       "      <td>9</td>\n",
       "      <td>0.256</td>\n",
       "      <td>0.277</td>\n",
       "      <td>24</td>\n",
       "      <td>0.278757</td>\n",
       "    </tr>\n",
       "    <tr>\n",
       "      <th>1</th>\n",
       "      <td>5</td>\n",
       "      <td>0.344</td>\n",
       "      <td>0.262</td>\n",
       "      <td>65</td>\n",
       "      <td>0.400842</td>\n",
       "      <td>11</td>\n",
       "      <td>0.298</td>\n",
       "      <td>0.270</td>\n",
       "      <td>26</td>\n",
       "      <td>0.280166</td>\n",
       "    </tr>\n",
       "    <tr>\n",
       "      <th>2</th>\n",
       "      <td>27</td>\n",
       "      <td>0.416</td>\n",
       "      <td>0.265</td>\n",
       "      <td>52</td>\n",
       "      <td>0.360858</td>\n",
       "      <td>23</td>\n",
       "      <td>0.326</td>\n",
       "      <td>0.285</td>\n",
       "      <td>27</td>\n",
       "      <td>0.294289</td>\n",
       "    </tr>\n",
       "    <tr>\n",
       "      <th>3</th>\n",
       "      <td>26</td>\n",
       "      <td>0.376</td>\n",
       "      <td>0.265</td>\n",
       "      <td>41</td>\n",
       "      <td>0.325185</td>\n",
       "      <td>24</td>\n",
       "      <td>0.309</td>\n",
       "      <td>0.282</td>\n",
       "      <td>28</td>\n",
       "      <td>0.295356</td>\n",
       "    </tr>\n",
       "    <tr>\n",
       "      <th>4</th>\n",
       "      <td>25</td>\n",
       "      <td>0.359</td>\n",
       "      <td>0.265</td>\n",
       "      <td>33</td>\n",
       "      <td>0.299240</td>\n",
       "      <td>10</td>\n",
       "      <td>0.286</td>\n",
       "      <td>0.282</td>\n",
       "      <td>28</td>\n",
       "      <td>0.295356</td>\n",
       "    </tr>\n",
       "    <tr>\n",
       "      <th>5</th>\n",
       "      <td>8</td>\n",
       "      <td>0.269</td>\n",
       "      <td>0.265</td>\n",
       "      <td>32</td>\n",
       "      <td>0.295997</td>\n",
       "      <td>22</td>\n",
       "      <td>0.284</td>\n",
       "      <td>0.277</td>\n",
       "      <td>32</td>\n",
       "      <td>0.304702</td>\n",
       "    </tr>\n",
       "    <tr>\n",
       "      <th>6</th>\n",
       "      <td>7</td>\n",
       "      <td>0.288</td>\n",
       "      <td>0.267</td>\n",
       "      <td>47</td>\n",
       "      <td>0.346094</td>\n",
       "      <td>8</td>\n",
       "      <td>0.269</td>\n",
       "      <td>0.265</td>\n",
       "      <td>32</td>\n",
       "      <td>0.295997</td>\n",
       "    </tr>\n",
       "    <tr>\n",
       "      <th>7</th>\n",
       "      <td>28</td>\n",
       "      <td>0.437</td>\n",
       "      <td>0.268</td>\n",
       "      <td>64</td>\n",
       "      <td>0.401951</td>\n",
       "      <td>12</td>\n",
       "      <td>0.329</td>\n",
       "      <td>0.272</td>\n",
       "      <td>32</td>\n",
       "      <td>0.301075</td>\n",
       "    </tr>\n",
       "    <tr>\n",
       "      <th>8</th>\n",
       "      <td>11</td>\n",
       "      <td>0.298</td>\n",
       "      <td>0.270</td>\n",
       "      <td>26</td>\n",
       "      <td>0.280166</td>\n",
       "      <td>25</td>\n",
       "      <td>0.359</td>\n",
       "      <td>0.265</td>\n",
       "      <td>33</td>\n",
       "      <td>0.299240</td>\n",
       "    </tr>\n",
       "    <tr>\n",
       "      <th>9</th>\n",
       "      <td>0</td>\n",
       "      <td>0.386</td>\n",
       "      <td>0.270</td>\n",
       "      <td>41</td>\n",
       "      <td>0.328812</td>\n",
       "      <td>13</td>\n",
       "      <td>0.318</td>\n",
       "      <td>0.287</td>\n",
       "      <td>40</td>\n",
       "      <td>0.337900</td>\n",
       "    </tr>\n",
       "    <tr>\n",
       "      <th>10</th>\n",
       "      <td>12</td>\n",
       "      <td>0.329</td>\n",
       "      <td>0.272</td>\n",
       "      <td>32</td>\n",
       "      <td>0.301075</td>\n",
       "      <td>21</td>\n",
       "      <td>0.307</td>\n",
       "      <td>0.287</td>\n",
       "      <td>40</td>\n",
       "      <td>0.337900</td>\n",
       "    </tr>\n",
       "    <tr>\n",
       "      <th>11</th>\n",
       "      <td>4</td>\n",
       "      <td>0.406</td>\n",
       "      <td>0.272</td>\n",
       "      <td>69</td>\n",
       "      <td>0.421068</td>\n",
       "      <td>0</td>\n",
       "      <td>0.386</td>\n",
       "      <td>0.270</td>\n",
       "      <td>41</td>\n",
       "      <td>0.328812</td>\n",
       "    </tr>\n",
       "    <tr>\n",
       "      <th>12</th>\n",
       "      <td>6</td>\n",
       "      <td>0.327</td>\n",
       "      <td>0.275</td>\n",
       "      <td>61</td>\n",
       "      <td>0.397299</td>\n",
       "      <td>26</td>\n",
       "      <td>0.376</td>\n",
       "      <td>0.265</td>\n",
       "      <td>41</td>\n",
       "      <td>0.325185</td>\n",
       "    </tr>\n",
       "    <tr>\n",
       "      <th>13</th>\n",
       "      <td>19</td>\n",
       "      <td>0.342</td>\n",
       "      <td>0.277</td>\n",
       "      <td>60</td>\n",
       "      <td>0.395507</td>\n",
       "      <td>20</td>\n",
       "      <td>0.319</td>\n",
       "      <td>0.292</td>\n",
       "      <td>44</td>\n",
       "      <td>0.354499</td>\n",
       "    </tr>\n",
       "    <tr>\n",
       "      <th>14</th>\n",
       "      <td>2</td>\n",
       "      <td>0.393</td>\n",
       "      <td>0.277</td>\n",
       "      <td>63</td>\n",
       "      <td>0.405236</td>\n",
       "      <td>7</td>\n",
       "      <td>0.288</td>\n",
       "      <td>0.267</td>\n",
       "      <td>47</td>\n",
       "      <td>0.346094</td>\n",
       "    </tr>\n",
       "    <tr>\n",
       "      <th>15</th>\n",
       "      <td>22</td>\n",
       "      <td>0.284</td>\n",
       "      <td>0.277</td>\n",
       "      <td>32</td>\n",
       "      <td>0.304702</td>\n",
       "      <td>27</td>\n",
       "      <td>0.416</td>\n",
       "      <td>0.265</td>\n",
       "      <td>52</td>\n",
       "      <td>0.360858</td>\n",
       "    </tr>\n",
       "    <tr>\n",
       "      <th>16</th>\n",
       "      <td>9</td>\n",
       "      <td>0.256</td>\n",
       "      <td>0.277</td>\n",
       "      <td>24</td>\n",
       "      <td>0.278757</td>\n",
       "      <td>14</td>\n",
       "      <td>0.381</td>\n",
       "      <td>0.277</td>\n",
       "      <td>55</td>\n",
       "      <td>0.379292</td>\n",
       "    </tr>\n",
       "    <tr>\n",
       "      <th>17</th>\n",
       "      <td>18</td>\n",
       "      <td>0.386</td>\n",
       "      <td>0.277</td>\n",
       "      <td>67</td>\n",
       "      <td>0.418208</td>\n",
       "      <td>1</td>\n",
       "      <td>0.374</td>\n",
       "      <td>0.282</td>\n",
       "      <td>56</td>\n",
       "      <td>0.386162</td>\n",
       "    </tr>\n",
       "    <tr>\n",
       "      <th>18</th>\n",
       "      <td>14</td>\n",
       "      <td>0.381</td>\n",
       "      <td>0.277</td>\n",
       "      <td>55</td>\n",
       "      <td>0.379292</td>\n",
       "      <td>19</td>\n",
       "      <td>0.342</td>\n",
       "      <td>0.277</td>\n",
       "      <td>60</td>\n",
       "      <td>0.395507</td>\n",
       "    </tr>\n",
       "    <tr>\n",
       "      <th>19</th>\n",
       "      <td>17</td>\n",
       "      <td>0.443</td>\n",
       "      <td>0.277</td>\n",
       "      <td>72</td>\n",
       "      <td>0.434424</td>\n",
       "      <td>6</td>\n",
       "      <td>0.327</td>\n",
       "      <td>0.275</td>\n",
       "      <td>61</td>\n",
       "      <td>0.397299</td>\n",
       "    </tr>\n",
       "    <tr>\n",
       "      <th>20</th>\n",
       "      <td>16</td>\n",
       "      <td>0.470</td>\n",
       "      <td>0.280</td>\n",
       "      <td>72</td>\n",
       "      <td>0.436600</td>\n",
       "      <td>15</td>\n",
       "      <td>0.381</td>\n",
       "      <td>0.287</td>\n",
       "      <td>63</td>\n",
       "      <td>0.412490</td>\n",
       "    </tr>\n",
       "    <tr>\n",
       "      <th>21</th>\n",
       "      <td>3</td>\n",
       "      <td>0.425</td>\n",
       "      <td>0.280</td>\n",
       "      <td>68</td>\n",
       "      <td>0.423627</td>\n",
       "      <td>2</td>\n",
       "      <td>0.393</td>\n",
       "      <td>0.277</td>\n",
       "      <td>63</td>\n",
       "      <td>0.405236</td>\n",
       "    </tr>\n",
       "    <tr>\n",
       "      <th>22</th>\n",
       "      <td>24</td>\n",
       "      <td>0.309</td>\n",
       "      <td>0.282</td>\n",
       "      <td>28</td>\n",
       "      <td>0.295356</td>\n",
       "      <td>28</td>\n",
       "      <td>0.437</td>\n",
       "      <td>0.268</td>\n",
       "      <td>64</td>\n",
       "      <td>0.401951</td>\n",
       "    </tr>\n",
       "    <tr>\n",
       "      <th>23</th>\n",
       "      <td>1</td>\n",
       "      <td>0.374</td>\n",
       "      <td>0.282</td>\n",
       "      <td>56</td>\n",
       "      <td>0.386162</td>\n",
       "      <td>5</td>\n",
       "      <td>0.344</td>\n",
       "      <td>0.262</td>\n",
       "      <td>65</td>\n",
       "      <td>0.400842</td>\n",
       "    </tr>\n",
       "    <tr>\n",
       "      <th>24</th>\n",
       "      <td>10</td>\n",
       "      <td>0.286</td>\n",
       "      <td>0.282</td>\n",
       "      <td>28</td>\n",
       "      <td>0.295356</td>\n",
       "      <td>18</td>\n",
       "      <td>0.386</td>\n",
       "      <td>0.277</td>\n",
       "      <td>67</td>\n",
       "      <td>0.418208</td>\n",
       "    </tr>\n",
       "    <tr>\n",
       "      <th>25</th>\n",
       "      <td>23</td>\n",
       "      <td>0.326</td>\n",
       "      <td>0.285</td>\n",
       "      <td>27</td>\n",
       "      <td>0.294289</td>\n",
       "      <td>3</td>\n",
       "      <td>0.425</td>\n",
       "      <td>0.280</td>\n",
       "      <td>68</td>\n",
       "      <td>0.423627</td>\n",
       "    </tr>\n",
       "    <tr>\n",
       "      <th>26</th>\n",
       "      <td>21</td>\n",
       "      <td>0.307</td>\n",
       "      <td>0.287</td>\n",
       "      <td>40</td>\n",
       "      <td>0.337900</td>\n",
       "      <td>4</td>\n",
       "      <td>0.406</td>\n",
       "      <td>0.272</td>\n",
       "      <td>69</td>\n",
       "      <td>0.421068</td>\n",
       "    </tr>\n",
       "    <tr>\n",
       "      <th>27</th>\n",
       "      <td>15</td>\n",
       "      <td>0.381</td>\n",
       "      <td>0.287</td>\n",
       "      <td>63</td>\n",
       "      <td>0.412490</td>\n",
       "      <td>29</td>\n",
       "      <td>0.548</td>\n",
       "      <td>0.260</td>\n",
       "      <td>71</td>\n",
       "      <td>0.418849</td>\n",
       "    </tr>\n",
       "    <tr>\n",
       "      <th>28</th>\n",
       "      <td>13</td>\n",
       "      <td>0.318</td>\n",
       "      <td>0.287</td>\n",
       "      <td>40</td>\n",
       "      <td>0.337900</td>\n",
       "      <td>17</td>\n",
       "      <td>0.443</td>\n",
       "      <td>0.277</td>\n",
       "      <td>72</td>\n",
       "      <td>0.434424</td>\n",
       "    </tr>\n",
       "    <tr>\n",
       "      <th>29</th>\n",
       "      <td>20</td>\n",
       "      <td>0.319</td>\n",
       "      <td>0.292</td>\n",
       "      <td>44</td>\n",
       "      <td>0.354499</td>\n",
       "      <td>16</td>\n",
       "      <td>0.470</td>\n",
       "      <td>0.280</td>\n",
       "      <td>72</td>\n",
       "      <td>0.436600</td>\n",
       "    </tr>\n",
       "  </tbody>\n",
       "</table>\n",
       "</div>"
      ],
      "text/plain": [
       "    index   cons  price  temp  Ajustados_cons  index   cons  price  temp  \\\n",
       "0      29  0.548  0.260    71        0.418849      9  0.256  0.277    24   \n",
       "1       5  0.344  0.262    65        0.400842     11  0.298  0.270    26   \n",
       "2      27  0.416  0.265    52        0.360858     23  0.326  0.285    27   \n",
       "3      26  0.376  0.265    41        0.325185     24  0.309  0.282    28   \n",
       "4      25  0.359  0.265    33        0.299240     10  0.286  0.282    28   \n",
       "5       8  0.269  0.265    32        0.295997     22  0.284  0.277    32   \n",
       "6       7  0.288  0.267    47        0.346094      8  0.269  0.265    32   \n",
       "7      28  0.437  0.268    64        0.401951     12  0.329  0.272    32   \n",
       "8      11  0.298  0.270    26        0.280166     25  0.359  0.265    33   \n",
       "9       0  0.386  0.270    41        0.328812     13  0.318  0.287    40   \n",
       "10     12  0.329  0.272    32        0.301075     21  0.307  0.287    40   \n",
       "11      4  0.406  0.272    69        0.421068      0  0.386  0.270    41   \n",
       "12      6  0.327  0.275    61        0.397299     26  0.376  0.265    41   \n",
       "13     19  0.342  0.277    60        0.395507     20  0.319  0.292    44   \n",
       "14      2  0.393  0.277    63        0.405236      7  0.288  0.267    47   \n",
       "15     22  0.284  0.277    32        0.304702     27  0.416  0.265    52   \n",
       "16      9  0.256  0.277    24        0.278757     14  0.381  0.277    55   \n",
       "17     18  0.386  0.277    67        0.418208      1  0.374  0.282    56   \n",
       "18     14  0.381  0.277    55        0.379292     19  0.342  0.277    60   \n",
       "19     17  0.443  0.277    72        0.434424      6  0.327  0.275    61   \n",
       "20     16  0.470  0.280    72        0.436600     15  0.381  0.287    63   \n",
       "21      3  0.425  0.280    68        0.423627      2  0.393  0.277    63   \n",
       "22     24  0.309  0.282    28        0.295356     28  0.437  0.268    64   \n",
       "23      1  0.374  0.282    56        0.386162      5  0.344  0.262    65   \n",
       "24     10  0.286  0.282    28        0.295356     18  0.386  0.277    67   \n",
       "25     23  0.326  0.285    27        0.294289      3  0.425  0.280    68   \n",
       "26     21  0.307  0.287    40        0.337900      4  0.406  0.272    69   \n",
       "27     15  0.381  0.287    63        0.412490     29  0.548  0.260    71   \n",
       "28     13  0.318  0.287    40        0.337900     17  0.443  0.277    72   \n",
       "29     20  0.319  0.292    44        0.354499     16  0.470  0.280    72   \n",
       "\n",
       "    Ajustados_cons  \n",
       "0         0.278757  \n",
       "1         0.280166  \n",
       "2         0.294289  \n",
       "3         0.295356  \n",
       "4         0.295356  \n",
       "5         0.304702  \n",
       "6         0.295997  \n",
       "7         0.301075  \n",
       "8         0.299240  \n",
       "9         0.337900  \n",
       "10        0.337900  \n",
       "11        0.328812  \n",
       "12        0.325185  \n",
       "13        0.354499  \n",
       "14        0.346094  \n",
       "15        0.360858  \n",
       "16        0.379292  \n",
       "17        0.386162  \n",
       "18        0.395507  \n",
       "19        0.397299  \n",
       "20        0.412490  \n",
       "21        0.405236  \n",
       "22        0.401951  \n",
       "23        0.400842  \n",
       "24        0.418208  \n",
       "25        0.423627  \n",
       "26        0.421068  \n",
       "27        0.418849  \n",
       "28        0.434424  \n",
       "29        0.436600  "
      ]
     },
     "execution_count": 62,
     "metadata": {},
     "output_type": "execute_result"
    }
   ],
   "source": [
    "# Concateno el mismo dataframe pero ordenando los valores por precio y por temp (esto para ver la interpretacion d elp0s graficos)\n",
    "pd.concat([df_copy.sort_values('price').reset_index(), df_copy.sort_values('temp').reset_index()], axis=1, join='inner')"
   ]
  },
  {
   "cell_type": "markdown",
   "id": "7ecda39c",
   "metadata": {},
   "source": [
    "## Regresión logística"
   ]
  },
  {
   "cell_type": "code",
   "execution_count": 63,
   "id": "4b70d3f9",
   "metadata": {},
   "outputs": [],
   "source": [
    "df = sm.datasets.get_rdataset(\"iris\").data # Cargando dataset \"iris\""
   ]
  },
  {
   "cell_type": "code",
   "execution_count": 64,
   "id": "d5bf4549",
   "metadata": {},
   "outputs": [
    {
     "name": "stdout",
     "output_type": "stream",
     "text": [
      "<class 'pandas.core.frame.DataFrame'>\n",
      "RangeIndex: 150 entries, 0 to 149\n",
      "Data columns (total 5 columns):\n",
      " #   Column        Non-Null Count  Dtype  \n",
      "---  ------        --------------  -----  \n",
      " 0   Sepal.Length  150 non-null    float64\n",
      " 1   Sepal.Width   150 non-null    float64\n",
      " 2   Petal.Length  150 non-null    float64\n",
      " 3   Petal.Width   150 non-null    float64\n",
      " 4   Species       150 non-null    object \n",
      "dtypes: float64(4), object(1)\n",
      "memory usage: 6.0+ KB\n"
     ]
    }
   ],
   "source": [
    "df.info() # Es como un schema del dataframe"
   ]
  },
  {
   "cell_type": "code",
   "execution_count": 65,
   "id": "6fd5bfd0",
   "metadata": {},
   "outputs": [
    {
     "data": {
      "text/html": [
       "<div>\n",
       "<style scoped>\n",
       "    .dataframe tbody tr th:only-of-type {\n",
       "        vertical-align: middle;\n",
       "    }\n",
       "\n",
       "    .dataframe tbody tr th {\n",
       "        vertical-align: top;\n",
       "    }\n",
       "\n",
       "    .dataframe thead th {\n",
       "        text-align: right;\n",
       "    }\n",
       "</style>\n",
       "<table border=\"1\" class=\"dataframe\">\n",
       "  <thead>\n",
       "    <tr style=\"text-align: right;\">\n",
       "      <th></th>\n",
       "      <th>Sepal.Length</th>\n",
       "      <th>Sepal.Width</th>\n",
       "      <th>Petal.Length</th>\n",
       "      <th>Petal.Width</th>\n",
       "      <th>Species</th>\n",
       "    </tr>\n",
       "  </thead>\n",
       "  <tbody>\n",
       "    <tr>\n",
       "      <th>0</th>\n",
       "      <td>5.1</td>\n",
       "      <td>3.5</td>\n",
       "      <td>1.4</td>\n",
       "      <td>0.2</td>\n",
       "      <td>setosa</td>\n",
       "    </tr>\n",
       "    <tr>\n",
       "      <th>1</th>\n",
       "      <td>4.9</td>\n",
       "      <td>3.0</td>\n",
       "      <td>1.4</td>\n",
       "      <td>0.2</td>\n",
       "      <td>setosa</td>\n",
       "    </tr>\n",
       "    <tr>\n",
       "      <th>2</th>\n",
       "      <td>4.7</td>\n",
       "      <td>3.2</td>\n",
       "      <td>1.3</td>\n",
       "      <td>0.2</td>\n",
       "      <td>setosa</td>\n",
       "    </tr>\n",
       "    <tr>\n",
       "      <th>3</th>\n",
       "      <td>4.6</td>\n",
       "      <td>3.1</td>\n",
       "      <td>1.5</td>\n",
       "      <td>0.2</td>\n",
       "      <td>setosa</td>\n",
       "    </tr>\n",
       "    <tr>\n",
       "      <th>4</th>\n",
       "      <td>5.0</td>\n",
       "      <td>3.6</td>\n",
       "      <td>1.4</td>\n",
       "      <td>0.2</td>\n",
       "      <td>setosa</td>\n",
       "    </tr>\n",
       "  </tbody>\n",
       "</table>\n",
       "</div>"
      ],
      "text/plain": [
       "   Sepal.Length  Sepal.Width  Petal.Length  Petal.Width Species\n",
       "0           5.1          3.5           1.4          0.2  setosa\n",
       "1           4.9          3.0           1.4          0.2  setosa\n",
       "2           4.7          3.2           1.3          0.2  setosa\n",
       "3           4.6          3.1           1.5          0.2  setosa\n",
       "4           5.0          3.6           1.4          0.2  setosa"
      ]
     },
     "execution_count": 65,
     "metadata": {},
     "output_type": "execute_result"
    }
   ],
   "source": [
    "df.head() # Veamos un vistazo rapido a los datos"
   ]
  },
  {
   "cell_type": "code",
   "execution_count": 66,
   "id": "bf9e02c3",
   "metadata": {},
   "outputs": [
    {
     "data": {
      "text/plain": [
       "array(['setosa', 'versicolor', 'virginica'], dtype=object)"
      ]
     },
     "execution_count": 66,
     "metadata": {},
     "output_type": "execute_result"
    }
   ],
   "source": [
    "df[\"Species\"].unique() # Elementos unicos de la columna \"Species\""
   ]
  },
  {
   "cell_type": "code",
   "execution_count": 67,
   "id": "c33f0db0",
   "metadata": {},
   "outputs": [],
   "source": [
    "df_bin = df[df.Species.isin([\"versicolor\", \"virginica\"])].copy().reset_index(drop=True)\n",
    "# Filtramos el dataset para obtener solo dos variables y reseteamos el index (solo para mas presentacion)"
   ]
  },
  {
   "cell_type": "code",
   "execution_count": 68,
   "id": "23e909b2",
   "metadata": {},
   "outputs": [],
   "source": [
    "df_bin[\"bin_species\"] = df_bin[\"Species\"].map({\"versicolor\": 1,\n",
    "                                               \"virginica\": 0})"
   ]
  },
  {
   "cell_type": "code",
   "execution_count": 69,
   "id": "8f19dc18",
   "metadata": {},
   "outputs": [
    {
     "data": {
      "text/html": [
       "<div>\n",
       "<style scoped>\n",
       "    .dataframe tbody tr th:only-of-type {\n",
       "        vertical-align: middle;\n",
       "    }\n",
       "\n",
       "    .dataframe tbody tr th {\n",
       "        vertical-align: top;\n",
       "    }\n",
       "\n",
       "    .dataframe thead th {\n",
       "        text-align: right;\n",
       "    }\n",
       "</style>\n",
       "<table border=\"1\" class=\"dataframe\">\n",
       "  <thead>\n",
       "    <tr style=\"text-align: right;\">\n",
       "      <th></th>\n",
       "      <th>Sepal.Length</th>\n",
       "      <th>Sepal.Width</th>\n",
       "      <th>Petal.Length</th>\n",
       "      <th>Petal.Width</th>\n",
       "      <th>Species</th>\n",
       "      <th>bin_species</th>\n",
       "    </tr>\n",
       "  </thead>\n",
       "  <tbody>\n",
       "    <tr>\n",
       "      <th>38</th>\n",
       "      <td>5.6</td>\n",
       "      <td>3.0</td>\n",
       "      <td>4.1</td>\n",
       "      <td>1.3</td>\n",
       "      <td>versicolor</td>\n",
       "      <td>1</td>\n",
       "    </tr>\n",
       "    <tr>\n",
       "      <th>56</th>\n",
       "      <td>4.9</td>\n",
       "      <td>2.5</td>\n",
       "      <td>4.5</td>\n",
       "      <td>1.7</td>\n",
       "      <td>virginica</td>\n",
       "      <td>0</td>\n",
       "    </tr>\n",
       "    <tr>\n",
       "      <th>0</th>\n",
       "      <td>7.0</td>\n",
       "      <td>3.2</td>\n",
       "      <td>4.7</td>\n",
       "      <td>1.4</td>\n",
       "      <td>versicolor</td>\n",
       "      <td>1</td>\n",
       "    </tr>\n",
       "    <tr>\n",
       "      <th>88</th>\n",
       "      <td>6.0</td>\n",
       "      <td>3.0</td>\n",
       "      <td>4.8</td>\n",
       "      <td>1.8</td>\n",
       "      <td>virginica</td>\n",
       "      <td>0</td>\n",
       "    </tr>\n",
       "    <tr>\n",
       "      <th>47</th>\n",
       "      <td>6.2</td>\n",
       "      <td>2.9</td>\n",
       "      <td>4.3</td>\n",
       "      <td>1.3</td>\n",
       "      <td>versicolor</td>\n",
       "      <td>1</td>\n",
       "    </tr>\n",
       "    <tr>\n",
       "      <th>17</th>\n",
       "      <td>5.8</td>\n",
       "      <td>2.7</td>\n",
       "      <td>4.1</td>\n",
       "      <td>1.0</td>\n",
       "      <td>versicolor</td>\n",
       "      <td>1</td>\n",
       "    </tr>\n",
       "    <tr>\n",
       "      <th>85</th>\n",
       "      <td>7.7</td>\n",
       "      <td>3.0</td>\n",
       "      <td>6.1</td>\n",
       "      <td>2.3</td>\n",
       "      <td>virginica</td>\n",
       "      <td>0</td>\n",
       "    </tr>\n",
       "    <tr>\n",
       "      <th>24</th>\n",
       "      <td>6.4</td>\n",
       "      <td>2.9</td>\n",
       "      <td>4.3</td>\n",
       "      <td>1.3</td>\n",
       "      <td>versicolor</td>\n",
       "      <td>1</td>\n",
       "    </tr>\n",
       "    <tr>\n",
       "      <th>34</th>\n",
       "      <td>5.4</td>\n",
       "      <td>3.0</td>\n",
       "      <td>4.5</td>\n",
       "      <td>1.5</td>\n",
       "      <td>versicolor</td>\n",
       "      <td>1</td>\n",
       "    </tr>\n",
       "    <tr>\n",
       "      <th>43</th>\n",
       "      <td>5.0</td>\n",
       "      <td>2.3</td>\n",
       "      <td>3.3</td>\n",
       "      <td>1.0</td>\n",
       "      <td>versicolor</td>\n",
       "      <td>1</td>\n",
       "    </tr>\n",
       "  </tbody>\n",
       "</table>\n",
       "</div>"
      ],
      "text/plain": [
       "    Sepal.Length  Sepal.Width  Petal.Length  Petal.Width     Species  \\\n",
       "38           5.6          3.0           4.1          1.3  versicolor   \n",
       "56           4.9          2.5           4.5          1.7   virginica   \n",
       "0            7.0          3.2           4.7          1.4  versicolor   \n",
       "88           6.0          3.0           4.8          1.8   virginica   \n",
       "47           6.2          2.9           4.3          1.3  versicolor   \n",
       "17           5.8          2.7           4.1          1.0  versicolor   \n",
       "85           7.7          3.0           6.1          2.3   virginica   \n",
       "24           6.4          2.9           4.3          1.3  versicolor   \n",
       "34           5.4          3.0           4.5          1.5  versicolor   \n",
       "43           5.0          2.3           3.3          1.0  versicolor   \n",
       "\n",
       "    bin_species  \n",
       "38            1  \n",
       "56            0  \n",
       "0             1  \n",
       "88            0  \n",
       "47            1  \n",
       "17            1  \n",
       "85            0  \n",
       "24            1  \n",
       "34            1  \n",
       "43            1  "
      ]
     },
     "execution_count": 69,
     "metadata": {},
     "output_type": "execute_result"
    }
   ],
   "source": [
    "df_bin.sample(n=10) # Muestra aleatoria de 10 (para verificar nueva columna agregada)"
   ]
  },
  {
   "cell_type": "code",
   "execution_count": 70,
   "id": "0e6b8c87",
   "metadata": {},
   "outputs": [],
   "source": [
    "df_bin.rename(columns={\"Sepal.Length\": \"Sepal_Length\",\n",
    "                       \"Sepal.Width\": \"Sepal_Width\",\n",
    "                       \"Petal.Length\": \"Petal_Length\",\n",
    "                       \"Petal.Width\": \"Petal_Width\"},\n",
    "              inplace=True)"
   ]
  },
  {
   "cell_type": "code",
   "execution_count": 71,
   "id": "86023375",
   "metadata": {},
   "outputs": [
    {
     "data": {
      "text/html": [
       "<div>\n",
       "<style scoped>\n",
       "    .dataframe tbody tr th:only-of-type {\n",
       "        vertical-align: middle;\n",
       "    }\n",
       "\n",
       "    .dataframe tbody tr th {\n",
       "        vertical-align: top;\n",
       "    }\n",
       "\n",
       "    .dataframe thead th {\n",
       "        text-align: right;\n",
       "    }\n",
       "</style>\n",
       "<table border=\"1\" class=\"dataframe\">\n",
       "  <thead>\n",
       "    <tr style=\"text-align: right;\">\n",
       "      <th></th>\n",
       "      <th>Sepal_Length</th>\n",
       "      <th>Sepal_Width</th>\n",
       "      <th>Petal_Length</th>\n",
       "      <th>Petal_Width</th>\n",
       "      <th>Species</th>\n",
       "      <th>bin_species</th>\n",
       "    </tr>\n",
       "  </thead>\n",
       "  <tbody>\n",
       "    <tr>\n",
       "      <th>45</th>\n",
       "      <td>5.7</td>\n",
       "      <td>3.0</td>\n",
       "      <td>4.2</td>\n",
       "      <td>1.2</td>\n",
       "      <td>versicolor</td>\n",
       "      <td>1</td>\n",
       "    </tr>\n",
       "    <tr>\n",
       "      <th>33</th>\n",
       "      <td>6.0</td>\n",
       "      <td>2.7</td>\n",
       "      <td>5.1</td>\n",
       "      <td>1.6</td>\n",
       "      <td>versicolor</td>\n",
       "      <td>1</td>\n",
       "    </tr>\n",
       "    <tr>\n",
       "      <th>73</th>\n",
       "      <td>6.3</td>\n",
       "      <td>2.7</td>\n",
       "      <td>4.9</td>\n",
       "      <td>1.8</td>\n",
       "      <td>virginica</td>\n",
       "      <td>0</td>\n",
       "    </tr>\n",
       "    <tr>\n",
       "      <th>79</th>\n",
       "      <td>7.2</td>\n",
       "      <td>3.0</td>\n",
       "      <td>5.8</td>\n",
       "      <td>1.6</td>\n",
       "      <td>virginica</td>\n",
       "      <td>0</td>\n",
       "    </tr>\n",
       "    <tr>\n",
       "      <th>66</th>\n",
       "      <td>6.5</td>\n",
       "      <td>3.0</td>\n",
       "      <td>5.5</td>\n",
       "      <td>1.8</td>\n",
       "      <td>virginica</td>\n",
       "      <td>0</td>\n",
       "    </tr>\n",
       "    <tr>\n",
       "      <th>26</th>\n",
       "      <td>6.8</td>\n",
       "      <td>2.8</td>\n",
       "      <td>4.8</td>\n",
       "      <td>1.4</td>\n",
       "      <td>versicolor</td>\n",
       "      <td>1</td>\n",
       "    </tr>\n",
       "    <tr>\n",
       "      <th>88</th>\n",
       "      <td>6.0</td>\n",
       "      <td>3.0</td>\n",
       "      <td>4.8</td>\n",
       "      <td>1.8</td>\n",
       "      <td>virginica</td>\n",
       "      <td>0</td>\n",
       "    </tr>\n",
       "    <tr>\n",
       "      <th>17</th>\n",
       "      <td>5.8</td>\n",
       "      <td>2.7</td>\n",
       "      <td>4.1</td>\n",
       "      <td>1.0</td>\n",
       "      <td>versicolor</td>\n",
       "      <td>1</td>\n",
       "    </tr>\n",
       "    <tr>\n",
       "      <th>89</th>\n",
       "      <td>6.9</td>\n",
       "      <td>3.1</td>\n",
       "      <td>5.4</td>\n",
       "      <td>2.1</td>\n",
       "      <td>virginica</td>\n",
       "      <td>0</td>\n",
       "    </tr>\n",
       "    <tr>\n",
       "      <th>81</th>\n",
       "      <td>7.9</td>\n",
       "      <td>3.8</td>\n",
       "      <td>6.4</td>\n",
       "      <td>2.0</td>\n",
       "      <td>virginica</td>\n",
       "      <td>0</td>\n",
       "    </tr>\n",
       "  </tbody>\n",
       "</table>\n",
       "</div>"
      ],
      "text/plain": [
       "    Sepal_Length  Sepal_Width  Petal_Length  Petal_Width     Species  \\\n",
       "45           5.7          3.0           4.2          1.2  versicolor   \n",
       "33           6.0          2.7           5.1          1.6  versicolor   \n",
       "73           6.3          2.7           4.9          1.8   virginica   \n",
       "79           7.2          3.0           5.8          1.6   virginica   \n",
       "66           6.5          3.0           5.5          1.8   virginica   \n",
       "26           6.8          2.8           4.8          1.4  versicolor   \n",
       "88           6.0          3.0           4.8          1.8   virginica   \n",
       "17           5.8          2.7           4.1          1.0  versicolor   \n",
       "89           6.9          3.1           5.4          2.1   virginica   \n",
       "81           7.9          3.8           6.4          2.0   virginica   \n",
       "\n",
       "    bin_species  \n",
       "45            1  \n",
       "33            1  \n",
       "73            0  \n",
       "79            0  \n",
       "66            0  \n",
       "26            1  \n",
       "88            0  \n",
       "17            1  \n",
       "89            0  \n",
       "81            0  "
      ]
     },
     "execution_count": 71,
     "metadata": {},
     "output_type": "execute_result"
    }
   ],
   "source": [
    "df_bin.sample(n=10)"
   ]
  },
  {
   "cell_type": "code",
   "execution_count": 72,
   "id": "f7fc2c3f",
   "metadata": {},
   "outputs": [],
   "source": [
    "model = smf.logit(\"bin_species ~ Petal_Length + Petal_Width\", data=df_bin)"
   ]
  },
  {
   "cell_type": "code",
   "execution_count": 73,
   "id": "8ff5aba4",
   "metadata": {},
   "outputs": [
    {
     "name": "stdout",
     "output_type": "stream",
     "text": [
      "Optimization terminated successfully.\n",
      "         Current function value: 0.102818\n",
      "         Iterations 10\n"
     ]
    }
   ],
   "source": [
    "result = model.fit()"
   ]
  },
  {
   "cell_type": "code",
   "execution_count": 74,
   "id": "419eea94",
   "metadata": {},
   "outputs": [
    {
     "data": {
      "text/html": [
       "<table class=\"simpletable\">\n",
       "<caption>Logit Regression Results</caption>\n",
       "<tr>\n",
       "  <th>Dep. Variable:</th>      <td>bin_species</td>   <th>  No. Observations:  </th>  <td>   100</td>  \n",
       "</tr>\n",
       "<tr>\n",
       "  <th>Model:</th>                 <td>Logit</td>      <th>  Df Residuals:      </th>  <td>    97</td>  \n",
       "</tr>\n",
       "<tr>\n",
       "  <th>Method:</th>                 <td>MLE</td>       <th>  Df Model:          </th>  <td>     2</td>  \n",
       "</tr>\n",
       "<tr>\n",
       "  <th>Date:</th>            <td>Sat, 05 Mar 2022</td> <th>  Pseudo R-squ.:     </th>  <td>0.8517</td>  \n",
       "</tr>\n",
       "<tr>\n",
       "  <th>Time:</th>                <td>12:09:53</td>     <th>  Log-Likelihood:    </th> <td> -10.282</td> \n",
       "</tr>\n",
       "<tr>\n",
       "  <th>converged:</th>             <td>True</td>       <th>  LL-Null:           </th> <td> -69.315</td> \n",
       "</tr>\n",
       "<tr>\n",
       "  <th>Covariance Type:</th>     <td>nonrobust</td>    <th>  LLR p-value:       </th> <td>2.303e-26</td>\n",
       "</tr>\n",
       "</table>\n",
       "<table class=\"simpletable\">\n",
       "<tr>\n",
       "        <td></td>          <th>coef</th>     <th>std err</th>      <th>z</th>      <th>P>|z|</th>  <th>[0.025</th>    <th>0.975]</th>  \n",
       "</tr>\n",
       "<tr>\n",
       "  <th>Intercept</th>    <td>   45.2723</td> <td>   13.612</td> <td>    3.326</td> <td> 0.001</td> <td>   18.594</td> <td>   71.951</td>\n",
       "</tr>\n",
       "<tr>\n",
       "  <th>Petal_Length</th> <td>   -5.7545</td> <td>    2.306</td> <td>   -2.496</td> <td> 0.013</td> <td>  -10.274</td> <td>   -1.235</td>\n",
       "</tr>\n",
       "<tr>\n",
       "  <th>Petal_Width</th>  <td>  -10.4467</td> <td>    3.756</td> <td>   -2.782</td> <td> 0.005</td> <td>  -17.808</td> <td>   -3.086</td>\n",
       "</tr>\n",
       "</table><br/><br/>Possibly complete quasi-separation: A fraction 0.34 of observations can be<br/>perfectly predicted. This might indicate that there is complete<br/>quasi-separation. In this case some parameters will not be identified."
      ],
      "text/plain": [
       "<class 'statsmodels.iolib.summary.Summary'>\n",
       "\"\"\"\n",
       "                           Logit Regression Results                           \n",
       "==============================================================================\n",
       "Dep. Variable:            bin_species   No. Observations:                  100\n",
       "Model:                          Logit   Df Residuals:                       97\n",
       "Method:                           MLE   Df Model:                            2\n",
       "Date:                Sat, 05 Mar 2022   Pseudo R-squ.:                  0.8517\n",
       "Time:                        12:09:53   Log-Likelihood:                -10.282\n",
       "converged:                       True   LL-Null:                       -69.315\n",
       "Covariance Type:            nonrobust   LLR p-value:                 2.303e-26\n",
       "================================================================================\n",
       "                   coef    std err          z      P>|z|      [0.025      0.975]\n",
       "--------------------------------------------------------------------------------\n",
       "Intercept       45.2723     13.612      3.326      0.001      18.594      71.951\n",
       "Petal_Length    -5.7545      2.306     -2.496      0.013     -10.274      -1.235\n",
       "Petal_Width    -10.4467      3.756     -2.782      0.005     -17.808      -3.086\n",
       "================================================================================\n",
       "\n",
       "Possibly complete quasi-separation: A fraction 0.34 of observations can be\n",
       "perfectly predicted. This might indicate that there is complete\n",
       "quasi-separation. In this case some parameters will not be identified.\n",
       "\"\"\""
      ]
     },
     "metadata": {},
     "output_type": "display_data"
    }
   ],
   "source": [
    "display(result.summary()) # Ajuste del modelo mas inferencia en algunos parametros"
   ]
  },
  {
   "cell_type": "code",
   "execution_count": 75,
   "id": "d822b87d",
   "metadata": {},
   "outputs": [
    {
     "data": {
      "text/html": [
       "<table class=\"simpletable\">\n",
       "<caption>Logit Marginal Effects</caption>\n",
       "<tr>\n",
       "  <th>Dep. Variable:</th> <td>bin_species</td>\n",
       "</tr>\n",
       "<tr>\n",
       "  <th>Method:</th>           <td>dydx</td>    \n",
       "</tr>\n",
       "<tr>\n",
       "  <th>At:</th>              <td>overall</td>  \n",
       "</tr>\n",
       "</table>\n",
       "<table class=\"simpletable\">\n",
       "<tr>\n",
       "        <th></th>          <th>dy/dx</th>    <th>std err</th>      <th>z</th>      <th>P>|z|</th>  <th>[0.025</th>    <th>0.975]</th>  \n",
       "</tr>\n",
       "<tr>\n",
       "  <th>Petal_Length</th> <td>   -0.1736</td> <td>    0.052</td> <td>   -3.347</td> <td> 0.001</td> <td>   -0.275</td> <td>   -0.072</td>\n",
       "</tr>\n",
       "<tr>\n",
       "  <th>Petal_Width</th>  <td>   -0.3151</td> <td>    0.068</td> <td>   -4.608</td> <td> 0.000</td> <td>   -0.449</td> <td>   -0.181</td>\n",
       "</tr>\n",
       "</table>"
      ],
      "text/plain": [
       "<class 'statsmodels.iolib.summary.Summary'>\n",
       "\"\"\"\n",
       "        Logit Marginal Effects       \n",
       "=====================================\n",
       "Dep. Variable:            bin_species\n",
       "Method:                          dydx\n",
       "At:                           overall\n",
       "================================================================================\n",
       "                  dy/dx    std err          z      P>|z|      [0.025      0.975]\n",
       "--------------------------------------------------------------------------------\n",
       "Petal_Length    -0.1736      0.052     -3.347      0.001      -0.275      -0.072\n",
       "Petal_Width     -0.3151      0.068     -4.608      0.000      -0.449      -0.181\n",
       "================================================================================\n",
       "\"\"\""
      ]
     },
     "metadata": {},
     "output_type": "display_data"
    }
   ],
   "source": [
    "display(result.get_margeff().summary()) # Efectos marginales sobre cada variable"
   ]
  },
  {
   "cell_type": "code",
   "execution_count": 76,
   "id": "66ddb65f",
   "metadata": {},
   "outputs": [
    {
     "data": {
      "text/plain": [
       "<matplotlib.legend.Legend at 0x22f9600a860>"
      ]
     },
     "execution_count": 76,
     "metadata": {},
     "output_type": "execute_result"
    },
    {
     "data": {
      "image/png": "[encoded data removed]",
      "text/plain": [
       "<Figure size 576x288 with 1 Axes>"
      ]
     },
     "metadata": {
      "needs_background": "light"
     },
     "output_type": "display_data"
    }
   ],
   "source": [
    "fig, ax = plt.subplots(1, 1, figsize=(8, 4))\n",
    "# species virginica\n",
    "ax.plot(df_bin[df_bin[\"bin_species\"] == 0].Petal_Length.values,df_bin[df_bin[\"bin_species\"] == 0].Petal_Width.values,\n",
    "'s', label='virginica')\n",
    "    \n",
    "ax.plot(df_bin[df_bin[\"bin_species\"] == 1].Petal_Length.values,\n",
    "df_bin[df_bin[\"bin_species\"] == 1].Petal_Width.values,'s', label='versicolor')\n",
    "               \n",
    "ax.set_xlabel('Petal length')\n",
    "ax.set_ylabel('Petal width')\n",
    "ax.legend()"
   ]
  },
  {
   "cell_type": "code",
   "execution_count": 77,
   "id": "f5abd1d6",
   "metadata": {},
   "outputs": [
    {
     "data": {
      "text/plain": [
       "<matplotlib.legend.Legend at 0x22f95fc3790>"
      ]
     },
     "execution_count": 77,
     "metadata": {},
     "output_type": "execute_result"
    },
    {
     "data": {
      "image/png": "[encoded data removed]",
      "text/plain": [
       "<Figure size 1152x576 with 1 Axes>"
      ]
     },
     "metadata": {
      "needs_background": "light"
     },
     "output_type": "display_data"
    }
   ],
   "source": [
    "# Estimando \n",
    "params = result.params\n",
    "alpha0 = -params['Intercept']/params['Petal_Width']\n",
    "alpha1 = -params['Petal_Length']/params['Petal_Width']\n",
    "\n",
    "\n",
    "# Viendo grafico de nuevo\n",
    "\n",
    "fig, ax = plt.subplots(1, 1, figsize=(16, 8))\n",
    "\n",
    "ax.set_title(\"Regresión logística\",fontsize=17)\n",
    "\n",
    "ax.plot(df_bin[df_bin[\"bin_species\"] == 0][\"Petal_Length\"],\n",
    "        df_bin[df_bin[\"bin_species\"] == 0][\"Petal_Width\"],\n",
    "        's',color=\"limegreen\",label='virginica')\n",
    "    \n",
    "ax.plot(df_bin[df_bin[\"bin_species\"] == 1][\"Petal_Length\"],\n",
    "        df_bin[df_bin[\"bin_species\"] == 1][\"Petal_Width\"],\n",
    "        's',color=\"magenta\",label='versicolor')\n",
    "\n",
    "\n",
    "x_line = np.array([3.0, 7.0])\n",
    "ax.plot(x_line, alpha0 + alpha1 * x_line,color=\"navy\",label=\"Limite\")\n",
    "\n",
    "ax.set_xlabel('Petal length',fontsize=15)\n",
    "ax.set_ylabel('Petal width',fontsize=15)\n",
    "ax.legend(handlelength=7, handleheight=3,fontsize=12)"
   ]
  },
  {
   "cell_type": "markdown",
   "id": "bf9e237f",
   "metadata": {},
   "source": [
    "## Modelo de Poisson"
   ]
  },
  {
   "cell_type": "code",
   "execution_count": 78,
   "id": "93d9862f",
   "metadata": {},
   "outputs": [],
   "source": [
    "dataset_disc = sm.datasets.get_rdataset(\"discoveries\")"
   ]
  },
  {
   "cell_type": "code",
   "execution_count": 79,
   "id": "d4d2ff30",
   "metadata": {},
   "outputs": [
    {
     "data": {
      "text/plain": [
       "<class 'statsmodels.datasets.utils.Dataset'>"
      ]
     },
     "execution_count": 79,
     "metadata": {},
     "output_type": "execute_result"
    }
   ],
   "source": [
    "dataset_disc"
   ]
  },
  {
   "cell_type": "code",
   "execution_count": 80,
   "id": "cd15b646",
   "metadata": {},
   "outputs": [
    {
     "data": {
      "text/html": [
       "<div>\n",
       "<style scoped>\n",
       "    .dataframe tbody tr th:only-of-type {\n",
       "        vertical-align: middle;\n",
       "    }\n",
       "\n",
       "    .dataframe tbody tr th {\n",
       "        vertical-align: top;\n",
       "    }\n",
       "\n",
       "    .dataframe thead th {\n",
       "        text-align: right;\n",
       "    }\n",
       "</style>\n",
       "<table border=\"1\" class=\"dataframe\">\n",
       "  <thead>\n",
       "    <tr style=\"text-align: right;\">\n",
       "      <th></th>\n",
       "      <th>time</th>\n",
       "      <th>value</th>\n",
       "    </tr>\n",
       "  </thead>\n",
       "  <tbody>\n",
       "    <tr>\n",
       "      <th>0</th>\n",
       "      <td>1860</td>\n",
       "      <td>5</td>\n",
       "    </tr>\n",
       "    <tr>\n",
       "      <th>1</th>\n",
       "      <td>1861</td>\n",
       "      <td>3</td>\n",
       "    </tr>\n",
       "    <tr>\n",
       "      <th>2</th>\n",
       "      <td>1862</td>\n",
       "      <td>0</td>\n",
       "    </tr>\n",
       "    <tr>\n",
       "      <th>3</th>\n",
       "      <td>1863</td>\n",
       "      <td>2</td>\n",
       "    </tr>\n",
       "    <tr>\n",
       "      <th>4</th>\n",
       "      <td>1864</td>\n",
       "      <td>0</td>\n",
       "    </tr>\n",
       "  </tbody>\n",
       "</table>\n",
       "</div>"
      ],
      "text/plain": [
       "   time  value\n",
       "0  1860      5\n",
       "1  1861      3\n",
       "2  1862      0\n",
       "3  1863      2\n",
       "4  1864      0"
      ]
     },
     "execution_count": 80,
     "metadata": {},
     "output_type": "execute_result"
    }
   ],
   "source": [
    "dataset_disc.data.head()"
   ]
  },
  {
   "cell_type": "code",
   "execution_count": 81,
   "id": "0c9d10b1",
   "metadata": {},
   "outputs": [],
   "source": [
    "df_disc = dataset_disc.data.rename(columns={\"value\":\"discoveries\"})"
   ]
  },
  {
   "cell_type": "code",
   "execution_count": 82,
   "id": "991eda9d",
   "metadata": {},
   "outputs": [
    {
     "data": {
      "text/html": [
       "<div>\n",
       "<style scoped>\n",
       "    .dataframe tbody tr th:only-of-type {\n",
       "        vertical-align: middle;\n",
       "    }\n",
       "\n",
       "    .dataframe tbody tr th {\n",
       "        vertical-align: top;\n",
       "    }\n",
       "\n",
       "    .dataframe thead th {\n",
       "        text-align: right;\n",
       "    }\n",
       "</style>\n",
       "<table border=\"1\" class=\"dataframe\">\n",
       "  <thead>\n",
       "    <tr style=\"text-align: right;\">\n",
       "      <th></th>\n",
       "      <th>time</th>\n",
       "      <th>discoveries</th>\n",
       "    </tr>\n",
       "  </thead>\n",
       "  <tbody>\n",
       "    <tr>\n",
       "      <th>0</th>\n",
       "      <td>1860</td>\n",
       "      <td>5</td>\n",
       "    </tr>\n",
       "    <tr>\n",
       "      <th>1</th>\n",
       "      <td>1861</td>\n",
       "      <td>3</td>\n",
       "    </tr>\n",
       "    <tr>\n",
       "      <th>2</th>\n",
       "      <td>1862</td>\n",
       "      <td>0</td>\n",
       "    </tr>\n",
       "    <tr>\n",
       "      <th>3</th>\n",
       "      <td>1863</td>\n",
       "      <td>2</td>\n",
       "    </tr>\n",
       "    <tr>\n",
       "      <th>4</th>\n",
       "      <td>1864</td>\n",
       "      <td>0</td>\n",
       "    </tr>\n",
       "  </tbody>\n",
       "</table>\n",
       "</div>"
      ],
      "text/plain": [
       "   time  discoveries\n",
       "0  1860            5\n",
       "1  1861            3\n",
       "2  1862            0\n",
       "3  1863            2\n",
       "4  1864            0"
      ]
     },
     "execution_count": 82,
     "metadata": {},
     "output_type": "execute_result"
    }
   ],
   "source": [
    "df_disc.head()"
   ]
  },
  {
   "cell_type": "code",
   "execution_count": 83,
   "id": "61c530c7",
   "metadata": {},
   "outputs": [
    {
     "data": {
      "text/plain": [
       "<BarContainer object of 100 artists>"
      ]
     },
     "execution_count": 83,
     "metadata": {},
     "output_type": "execute_result"
    },
    {
     "data": {
      "image/png": "[encoded data removed]",
      "text/plain": [
       "<Figure size 1224x432 with 1 Axes>"
      ]
     },
     "metadata": {
      "needs_background": "light"
     },
     "output_type": "display_data"
    }
   ],
   "source": [
    "fig, ax = plt.subplots(1, 1, figsize=(17, 6))\n",
    "ax.set_title(\"Número de grandes descubrimientos por año\",fontsize=17)\n",
    "ax.bar(df_disc[\"time\"], df_disc[\"discoveries\"],color=\"darkcyan\")"
   ]
  },
  {
   "cell_type": "code",
   "execution_count": 84,
   "id": "61710c69",
   "metadata": {},
   "outputs": [],
   "source": [
    "model = smf.poisson(\"discoveries ~ 1\", data=df_disc)"
   ]
  },
  {
   "cell_type": "code",
   "execution_count": 85,
   "id": "3c0248fc",
   "metadata": {},
   "outputs": [
    {
     "name": "stdout",
     "output_type": "stream",
     "text": [
      "Optimization terminated successfully.\n",
      "         Current function value: 2.168457\n",
      "         Iterations 1\n"
     ]
    }
   ],
   "source": [
    "result = model.fit()"
   ]
  },
  {
   "cell_type": "code",
   "execution_count": 86,
   "id": "9e2b0399",
   "metadata": {},
   "outputs": [
    {
     "data": {
      "text/html": [
       "<table class=\"simpletable\">\n",
       "<caption>Poisson Regression Results</caption>\n",
       "<tr>\n",
       "  <th>Dep. Variable:</th>      <td>discoveries</td>   <th>  No. Observations:  </th>  <td>   100</td> \n",
       "</tr>\n",
       "<tr>\n",
       "  <th>Model:</th>                <td>Poisson</td>     <th>  Df Residuals:      </th>  <td>    99</td> \n",
       "</tr>\n",
       "<tr>\n",
       "  <th>Method:</th>                 <td>MLE</td>       <th>  Df Model:          </th>  <td>     0</td> \n",
       "</tr>\n",
       "<tr>\n",
       "  <th>Date:</th>            <td>Sat, 05 Mar 2022</td> <th>  Pseudo R-squ.:     </th>  <td> 0.000</td> \n",
       "</tr>\n",
       "<tr>\n",
       "  <th>Time:</th>                <td>12:10:12</td>     <th>  Log-Likelihood:    </th> <td> -216.85</td>\n",
       "</tr>\n",
       "<tr>\n",
       "  <th>converged:</th>             <td>True</td>       <th>  LL-Null:           </th> <td> -216.85</td>\n",
       "</tr>\n",
       "<tr>\n",
       "  <th>Covariance Type:</th>     <td>nonrobust</td>    <th>  LLR p-value:       </th>  <td>   nan</td> \n",
       "</tr>\n",
       "</table>\n",
       "<table class=\"simpletable\">\n",
       "<tr>\n",
       "      <td></td>         <th>coef</th>     <th>std err</th>      <th>z</th>      <th>P>|z|</th>  <th>[0.025</th>    <th>0.975]</th>  \n",
       "</tr>\n",
       "<tr>\n",
       "  <th>Intercept</th> <td>    1.1314</td> <td>    0.057</td> <td>   19.920</td> <td> 0.000</td> <td>    1.020</td> <td>    1.243</td>\n",
       "</tr>\n",
       "</table>"
      ],
      "text/plain": [
       "<class 'statsmodels.iolib.summary.Summary'>\n",
       "\"\"\"\n",
       "                          Poisson Regression Results                          \n",
       "==============================================================================\n",
       "Dep. Variable:            discoveries   No. Observations:                  100\n",
       "Model:                        Poisson   Df Residuals:                       99\n",
       "Method:                           MLE   Df Model:                            0\n",
       "Date:                Sat, 05 Mar 2022   Pseudo R-squ.:                   0.000\n",
       "Time:                        12:10:12   Log-Likelihood:                -216.85\n",
       "converged:                       True   LL-Null:                       -216.85\n",
       "Covariance Type:            nonrobust   LLR p-value:                       nan\n",
       "==============================================================================\n",
       "                 coef    std err          z      P>|z|      [0.025      0.975]\n",
       "------------------------------------------------------------------------------\n",
       "Intercept      1.1314      0.057     19.920      0.000       1.020       1.243\n",
       "==============================================================================\n",
       "\"\"\""
      ]
     },
     "metadata": {},
     "output_type": "display_data"
    }
   ],
   "source": [
    "display(result.summary())"
   ]
  },
  {
   "cell_type": "code",
   "execution_count": 87,
   "id": "2de108f4",
   "metadata": {},
   "outputs": [],
   "source": [
    "lmbda_coef = np.exp(result.params)"
   ]
  },
  {
   "cell_type": "code",
   "execution_count": 88,
   "id": "c61d2e58",
   "metadata": {},
   "outputs": [
    {
     "data": {
      "text/plain": [
       "Intercept    3.1\n",
       "dtype: float64"
      ]
     },
     "execution_count": 88,
     "metadata": {},
     "output_type": "execute_result"
    }
   ],
   "source": [
    "lmbda_coef"
   ]
  },
  {
   "cell_type": "code",
   "execution_count": 89,
   "id": "0dde48fd",
   "metadata": {},
   "outputs": [],
   "source": [
    "X = stats.poisson(lmbda_coef)"
   ]
  },
  {
   "cell_type": "code",
   "execution_count": 90,
   "id": "b850baac",
   "metadata": {},
   "outputs": [
    {
     "data": {
      "text/html": [
       "<div>\n",
       "<style scoped>\n",
       "    .dataframe tbody tr th:only-of-type {\n",
       "        vertical-align: middle;\n",
       "    }\n",
       "\n",
       "    .dataframe tbody tr th {\n",
       "        vertical-align: top;\n",
       "    }\n",
       "\n",
       "    .dataframe thead th {\n",
       "        text-align: right;\n",
       "    }\n",
       "</style>\n",
       "<table border=\"1\" class=\"dataframe\">\n",
       "  <thead>\n",
       "    <tr style=\"text-align: right;\">\n",
       "      <th></th>\n",
       "      <th>0</th>\n",
       "      <th>1</th>\n",
       "    </tr>\n",
       "  </thead>\n",
       "  <tbody>\n",
       "    <tr>\n",
       "      <th>Intercept</th>\n",
       "      <td>1.020084</td>\n",
       "      <td>1.242721</td>\n",
       "    </tr>\n",
       "  </tbody>\n",
       "</table>\n",
       "</div>"
      ],
      "text/plain": [
       "                  0         1\n",
       "Intercept  1.020084  1.242721"
      ]
     },
     "execution_count": 90,
     "metadata": {},
     "output_type": "execute_result"
    }
   ],
   "source": [
    "result.conf_int()"
   ]
  },
  {
   "cell_type": "code",
   "execution_count": 91,
   "id": "6009fea9",
   "metadata": {},
   "outputs": [],
   "source": [
    "X_ci_l = stats.poisson(np.exp(result.conf_int().values)[0, 0])\n",
    "X_ci_u = stats.poisson(np.exp(result.conf_int().values)[0, 1])"
   ]
  },
  {
   "cell_type": "code",
   "execution_count": 92,
   "id": "05588c0d",
   "metadata": {},
   "outputs": [
    {
     "name": "stdout",
     "output_type": "stream",
     "text": [
      "Limite inferior: <scipy.stats._distn_infrastructure.rv_frozen object at 0x0000022F99247A30> \n",
      " Limite superior: <scipy.stats._distn_infrastructure.rv_frozen object at 0x0000022F99247AF0>\n"
     ]
    }
   ],
   "source": [
    "print(\"Limite inferior: {} \\n Limite superior: {}\".format(X_ci_l,X_ci_u))"
   ]
  },
  {
   "cell_type": "code",
   "execution_count": 93,
   "id": "6c1cb7c8",
   "metadata": {},
   "outputs": [
    {
     "name": "stderr",
     "output_type": "stream",
     "text": [
      "C:\\Users\\ALEJAN~1\\AppData\\Local\\Temp/ipykernel_17364/1384229642.py:1: VisibleDeprecationWarning: Passing `normed=True` on non-uniform bins has always been broken, and computes neither the probability density function nor the probability mass function. The result is only correct if the bins are uniform, when density=True will produce the same result anyway. The argument will be removed in a future version of numpy.\n",
      "  v, k = np.histogram(df_disc.values, bins=12, range=(0, 12),normed=True)\n"
     ]
    }
   ],
   "source": [
    "v, k = np.histogram(df_disc.values, bins=12, range=(0, 12),normed=True)"
   ]
  },
  {
   "cell_type": "code",
   "execution_count": 94,
   "id": "07b36950",
   "metadata": {},
   "outputs": [
    {
     "data": {
      "text/plain": [
       "<matplotlib.legend.Legend at 0x22f95fc1e70>"
      ]
     },
     "execution_count": 94,
     "metadata": {},
     "output_type": "execute_result"
    },
    {
     "data": {
      "image/png": "[encoded data removed]",
      "text/plain": [
       "<Figure size 1152x576 with 1 Axes>"
      ]
     },
     "metadata": {
      "needs_background": "light"
     },
     "output_type": "display_data"
    }
   ],
   "source": [
    "fig, ax = plt.subplots(1, 1, figsize=(16, 8))\n",
    "\n",
    "ax.bar(k[:-1], v, color=\"steelblue\", align='center',\n",
    "label='Descubrimientos por año')\n",
    "\n",
    "ax.bar(k-0.125, X_ci_l.pmf(k), color=\"red\", alpha=0.5,\n",
    "align='center', width=0.25,label='Modelo de poison ajustado(CI, inferior)')\n",
    "\n",
    "ax.bar(k, X.pmf(k), color=\"green\", align='center', width=0.5,\n",
    "label='Modelo de poison ajustado')\n",
    "\n",
    "ax.bar(k+0.125, X_ci_u.pmf(k), color=\"red\", alpha=0.5,\n",
    "align='center', width=0.25,label='Modelo de poison ajustado(CI, superior)')\n",
    "\n",
    "ax.legend()"
   ]
  }
 ],
 "metadata": {
  "kernelspec": {
   "display_name": "Python 3 (ipykernel)",
   "language": "python",
   "name": "python3"
  },
  "language_info": {
   "codemirror_mode": {
    "name": "ipython",
    "version": 3
   },
   "file_extension": ".py",
   "mimetype": "text/x-python",
   "name": "python",
   "nbconvert_exporter": "python",
   "pygments_lexer": "ipython3",
   "version": "3.10.1"
  }
 },
 "nbformat": 4,
 "nbformat_minor": 5
}
