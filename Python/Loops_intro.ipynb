{
 "cells": [
  {
   "cell_type": "markdown",
   "id": "6bf0434b",
   "metadata": {},
   "source": [
    "# Loops en python\n",
    "\n",
    "> \"Un bucle se usa para iterar sobre una secuencia (es decir, una lista, una tupla, un diccionario, un conjunto o una cadena).\""
   ]
  },
  {
   "cell_type": "markdown",
   "id": "1ff2680f",
   "metadata": {},
   "source": [
    "## Tabla de multiplicar del numero 8, de 0 a 10 en pasos de 1"
   ]
  },
  {
   "cell_type": "code",
   "execution_count": 1,
   "id": "c474d68e",
   "metadata": {},
   "outputs": [
    {
     "name": "stdout",
     "output_type": "stream",
     "text": [
      "8 * 0 = 0\n",
      "8 * 1 = 8\n",
      "8 * 2 = 16\n",
      "8 * 3 = 24\n",
      "8 * 4 = 32\n",
      "8 * 5 = 40\n",
      "8 * 6 = 48\n",
      "8 * 7 = 56\n",
      "8 * 8 = 64\n",
      "8 * 9 = 72\n",
      "8 * 10 = 80\n"
     ]
    }
   ],
   "source": [
    "for i in range(0,11,1):\n",
    "    print(\"{} * {} = {}\".format(8,i,8*i))\n",
    "    "
   ]
  },
  {
   "cell_type": "markdown",
   "id": "f320ed4e",
   "metadata": {},
   "source": [
    "## Tabla de multiplicar del numero \"num\", de\"a\" s \"b\"  en pasos de k "
   ]
  },
  {
   "cell_type": "code",
   "execution_count": 2,
   "id": "8dc09280",
   "metadata": {},
   "outputs": [
    {
     "name": "stdout",
     "output_type": "stream",
     "text": [
      "14 * 10 = 140\n",
      "14 * 15 = 210\n",
      "14 * 20 = 280\n",
      "14 * 25 = 350\n",
      "14 * 30 = 420\n",
      "14 * 35 = 490\n",
      "14 * 40 = 560\n",
      "14 * 45 = 630\n",
      "14 * 50 = 700\n"
     ]
    }
   ],
   "source": [
    "num = 14\n",
    "a = 10\n",
    "b = 50\n",
    "k = 5\n",
    "\n",
    "try:\n",
    "    for i in range(a,b+1,k):\n",
    "        print(\"{} * {} = {}\".format(num,i,num*i))\n",
    "except:\n",
    "    print(\"Fallo el loop, revisa las variables ingresadas\")"
   ]
  },
  {
   "cell_type": "markdown",
   "id": "84641f51",
   "metadata": {},
   "source": [
    "## Imprimir numeros impares y pares de \"a\" a \"b\""
   ]
  },
  {
   "cell_type": "code",
   "execution_count": 3,
   "id": "5b6db851",
   "metadata": {},
   "outputs": [
    {
     "name": "stdout",
     "output_type": "stream",
     "text": [
      "El numero -24 es par\n",
      "El numero -23 es impar\n",
      "El numero -22 es par\n",
      "El numero -21 es impar\n",
      "El numero -20 es par\n",
      "El numero -19 es impar\n",
      "El numero -18 es par\n",
      "El numero -17 es impar\n",
      "El numero -16 es par\n",
      "El numero -15 es impar\n",
      "El numero -14 es par\n",
      "El numero -13 es impar\n",
      "El numero -12 es par\n",
      "El numero -11 es impar\n",
      "El numero -10 es par\n",
      "El numero -9 es impar\n",
      "El numero -8 es par\n",
      "El numero -7 es impar\n",
      "El numero -6 es par\n",
      "El numero -5 es impar\n",
      "El numero -4 es par\n",
      "El numero -3 es impar\n",
      "El numero -2 es par\n",
      "El numero -1 es impar\n",
      "El numero 0 es par\n",
      "El numero 1 es impar\n",
      "El numero 2 es par\n",
      "El numero 3 es impar\n",
      "El numero 4 es par\n",
      "El numero 5 es impar\n",
      "El numero 6 es par\n",
      "El numero 7 es impar\n",
      "El numero 8 es par\n",
      "El numero 9 es impar\n",
      "El numero 10 es par\n",
      "El numero 11 es impar\n",
      "El numero 12 es par\n",
      "El numero 13 es impar\n",
      "El numero 14 es par\n",
      "El numero 15 es impar\n",
      "El numero 16 es par\n",
      "El numero 17 es impar\n",
      "El numero 18 es par\n",
      "El numero 19 es impar\n",
      "El numero 20 es par\n",
      "El numero 21 es impar\n",
      "El numero 22 es par\n",
      "El numero 23 es impar\n",
      "El numero 24 es par\n"
     ]
    }
   ],
   "source": [
    "a = -24\n",
    "b = 24\n",
    "k = 1\n",
    "try:\n",
    "    for i in range(a,b+1,k):\n",
    "        if not i % 2 == 0:\n",
    "            print(\"El numero {} es impar\".format(i))\n",
    "        else:\n",
    "            print(\"El numero {} es par\".format(i))\n",
    "except:\n",
    "    print(\"Fallo el loop, revisa las variables ingresadas\")"
   ]
  },
  {
   "cell_type": "markdown",
   "id": "8b256dd2",
   "metadata": {},
   "source": [
    "## Mostar numeros del intervalo \"a\" a \"b\" con la condición de que se muestren solo los números menores o iguales a un \"número dado\", en pasos de k"
   ]
  },
  {
   "cell_type": "code",
   "execution_count": 4,
   "id": "cd4cdf1b",
   "metadata": {},
   "outputs": [
    {
     "name": "stdout",
     "output_type": "stream",
     "text": [
      "El numero limite dado es: 10 \n",
      "\n",
      "El numero -50 cumple la condición dada\n",
      "El numero -40 cumple la condición dada\n",
      "El numero -30 cumple la condición dada\n",
      "El numero -20 cumple la condición dada\n",
      "El numero -10 cumple la condición dada\n",
      "El numero 0 cumple la condición dada\n",
      "El numero 10 cumple la condición dada\n"
     ]
    }
   ],
   "source": [
    "a = -50\n",
    "b = 150\n",
    "k = 10\n",
    "num_lim = 10\n",
    "try:\n",
    "    print(\"El numero limite dado es: {} \\n\".format(num_lim));\n",
    "    \n",
    "    for i in range(a,b+1,k):\n",
    "        if i <= num_lim:\n",
    "            print(\"El numero {} cumple la condición dada\".format(i));\n",
    "        else:\n",
    "            continue;\n",
    "except:\n",
    "    print(\"Fallo el loop, revisa las variables ingresadas\")"
   ]
  },
  {
   "cell_type": "markdown",
   "id": "8142ce09",
   "metadata": {},
   "source": [
    "# Imprima los números del 1 a 10 al revés utilizando el ciclo for"
   ]
  },
  {
   "cell_type": "code",
   "execution_count": 5,
   "id": "790e0469",
   "metadata": {},
   "outputs": [
    {
     "name": "stdout",
     "output_type": "stream",
     "text": [
      "10\n",
      "9\n",
      "8\n",
      "7\n",
      "6\n",
      "5\n",
      "4\n",
      "3\n",
      "2\n",
      "1\n"
     ]
    }
   ],
   "source": [
    "for i in range(10,1-1,-1):\n",
    "    print(i)"
   ]
  },
  {
   "cell_type": "code",
   "execution_count": null,
   "id": "f525a096",
   "metadata": {},
   "outputs": [],
   "source": []
  }
 ],
 "metadata": {
  "kernelspec": {
   "display_name": "Python 3",
   "language": "python",
   "name": "python3"
  },
  "language_info": {
   "codemirror_mode": {
    "name": "ipython",
    "version": 3
   },
   "file_extension": ".py",
   "mimetype": "text/x-python",
   "name": "python",
   "nbconvert_exporter": "python",
   "pygments_lexer": "ipython3",
   "version": "3.9.5"
  }
 },
 "nbformat": 4,
 "nbformat_minor": 5
}
