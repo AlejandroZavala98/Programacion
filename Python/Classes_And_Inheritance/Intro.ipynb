{
 "cells": [
  {
   "cell_type": "markdown",
   "id": "557f392f",
   "metadata": {},
   "source": [
    "# Clases en Python\n",
    "\n",
    "Este notebook fue desarrollado como notas del curso de **Python Classes and Inheritance** para tal efecto se replicaran algunos ejercicios y se agregaran comentarios y notas sobre como crear clases en Python"
   ]
  },
  {
   "cell_type": "code",
   "execution_count": 1,
   "id": "02cc6e34",
   "metadata": {},
   "outputs": [],
   "source": [
    "class Point: # Creamos una clase de nombre Point\n",
    "    \"\"\" Point class for representing and manipulating x,y coordinates. \"\"\"\n",
    "\n",
    "    def __init__(self): # Constructor de inicializacion\n",
    "        self.x = 0\n",
    "        self.y = 0\n",
    "\n",
    "p = Point()         # Instanciar un objeto de tipo **Point**\n",
    "q = Point()         # Creamos otro objeto de tipo **Point**"
   ]
  },
  {
   "cell_type": "code",
   "execution_count": 2,
   "id": "d3113d00",
   "metadata": {},
   "outputs": [
    {
     "name": "stdout",
     "output_type": "stream",
     "text": [
      "<__main__.Point object at 0x00000219BEEDBE80>\n"
     ]
    }
   ],
   "source": [
    "print(p)"
   ]
  },
  {
   "cell_type": "code",
   "execution_count": 3,
   "id": "e8b2bb14",
   "metadata": {},
   "outputs": [
    {
     "name": "stdout",
     "output_type": "stream",
     "text": [
      "<__main__.Point object at 0x00000219BEEDBDF0>\n"
     ]
    }
   ],
   "source": [
    "print(q)"
   ]
  },
  {
   "cell_type": "code",
   "execution_count": 4,
   "id": "723503c1",
   "metadata": {},
   "outputs": [
    {
     "name": "stdout",
     "output_type": "stream",
     "text": [
      "False\n"
     ]
    }
   ],
   "source": [
    "print(p is q) # Dos objetos diferentes"
   ]
  },
  {
   "cell_type": "code",
   "execution_count": 5,
   "id": "d70cfe59",
   "metadata": {},
   "outputs": [
    {
     "name": "stdout",
     "output_type": "stream",
     "text": [
      "x => 0\n",
      "y => 0\n"
     ]
    }
   ],
   "source": [
    "# Atributos del objeto p\n",
    "print('x => {}'.format(p.x))\n",
    "print('y => {}'.format(p.y))"
   ]
  },
  {
   "cell_type": "code",
   "execution_count": 6,
   "id": "dc882322",
   "metadata": {},
   "outputs": [
    {
     "name": "stdout",
     "output_type": "stream",
     "text": [
      "x => 0\n",
      "y => 0\n"
     ]
    }
   ],
   "source": [
    "# Atributos del objeto q\n",
    "print('x => {}'.format(q.x))\n",
    "print('y => {}'.format(q.y))"
   ]
  },
  {
   "cell_type": "markdown",
   "id": "84500ebf",
   "metadata": {},
   "source": [
    "## Asignando atributos a una clase por parte de usuario con el constructor init"
   ]
  },
  {
   "cell_type": "code",
   "execution_count": 7,
   "id": "c015f64a",
   "metadata": {},
   "outputs": [],
   "source": [
    "class Point:\n",
    "    \"\"\" Point class for representing and manipulating x,y coordinates. \"\"\"\n",
    "\n",
    "    def __init__(self, point_x, point_y):\n",
    "\n",
    "        self.x = point_x\n",
    "        self.y = point_y\n",
    "\n",
    "p1 = Point(3,8)"
   ]
  },
  {
   "cell_type": "code",
   "execution_count": 8,
   "id": "17f83f5f",
   "metadata": {},
   "outputs": [
    {
     "name": "stdout",
     "output_type": "stream",
     "text": [
      "<__main__.Point object at 0x00000219BEED9390>\n"
     ]
    }
   ],
   "source": [
    "print(p1)"
   ]
  },
  {
   "cell_type": "code",
   "execution_count": 9,
   "id": "7d29ff95",
   "metadata": {},
   "outputs": [
    {
     "name": "stdout",
     "output_type": "stream",
     "text": [
      "x => 3\n",
      "y => 8\n"
     ]
    }
   ],
   "source": [
    "# Atributos del objeto p1\n",
    "print('x => {}'.format(p1.x))\n",
    "print('y => {}'.format(p1.y))"
   ]
  },
  {
   "cell_type": "code",
   "execution_count": 10,
   "id": "b95562b2",
   "metadata": {},
   "outputs": [
    {
     "name": "stdout",
     "output_type": "stream",
     "text": [
      "<__main__.NumberSet object at 0x00000219BEEDBFA0>\n",
      "num1 => 6\n",
      "num2 => 10\n"
     ]
    }
   ],
   "source": [
    "''' Create a class called NumberSet that accepts 2 integers as input, and defines two instance variables: num1 and num2,\n",
    "    which hold each of the input integers. Then, create an instance of NumberSet where its num1 is 6 and its num2 is 10.\n",
    "    Save this instance to a variable t.'''\n",
    "\n",
    "class NumberSet:\n",
    "    def __init__(self,n1,n2):\n",
    "        self.num1 = n1\n",
    "        self.num2 = n2\n",
    "        \n",
    "t = NumberSet(6,10)\n",
    "\n",
    "print(t)\n",
    "# Atributos del objeto t\n",
    "print('num1 => {}'.format(t.num1))\n",
    "print('num2 => {}'.format(t.num2))"
   ]
  },
  {
   "cell_type": "markdown",
   "id": "47e7fc78",
   "metadata": {},
   "source": [
    "## Agregando métodos a una clase"
   ]
  },
  {
   "cell_type": "code",
   "execution_count": 11,
   "id": "542bf888",
   "metadata": {},
   "outputs": [
    {
     "name": "stdout",
     "output_type": "stream",
     "text": [
      "limbs of spyder is: 8\n"
     ]
    }
   ],
   "source": [
    "''' Create a class called Animal that accepts two numbers as inputs and assigns them respectively to two instance variables:\n",
    "    arms and legs. Create an instance method called limbs that, when called, returns the total number of limbs the animal has.\n",
    "    To the variable name spider, assign an instance of Animal that has 4 arms and 4 legs.\n",
    "    Call the limbs method on the spider instance and save the result to the variable name spidlimbs.'''\n",
    "\n",
    "\n",
    "class Animal:\n",
    "    def __init__(self,n_arms,n_legs):\n",
    "        self.arms = n_arms\n",
    "        self.legs = n_legs\n",
    "    def limbs(self): # Extremidades de un animal\n",
    "        return self.arms + self.legs\n",
    "\n",
    "spider = Animal(n_arms = 4,n_legs = 4)\n",
    "spidlimbs = spider.limbs()\n",
    "print('limbs of spyder is: {}'.format(spidlimbs))"
   ]
  },
  {
   "cell_type": "markdown",
   "id": "b3485c8e",
   "metadata": {},
   "source": [
    "## Objetos como argumentos y parámetros\n",
    "\n",
    "Se puede pasar un objeto como argumento a una función, de la manera habitual."
   ]
  },
  {
   "cell_type": "code",
   "execution_count": 12,
   "id": "7cd83ab6",
   "metadata": {},
   "outputs": [
    {
     "name": "stdout",
     "output_type": "stream",
     "text": [
      "Distance point p from origin is: 5.0\n",
      "Distance point q from origin is: 12.806248474865697\n",
      "Distance p from q is: 8.06225774829855\n",
      "Distance q from p is: 8.06225774829855\n"
     ]
    }
   ],
   "source": [
    "import math\n",
    "\n",
    "class Point:\n",
    "    \"\"\" Point class for representing and manipulating x,y coordinates. \"\"\"\n",
    "\n",
    "    def __init__(self, initX, initY):\n",
    "\n",
    "        self.x = initX\n",
    "        self.y = initY\n",
    "\n",
    "    def getX(self):\n",
    "        return self.x\n",
    "\n",
    "    def getY(self):\n",
    "        return self.y\n",
    "\n",
    "    def distanceFromOrigin(self):\n",
    "        return ((self.x ** 2) + (self.y ** 2)) ** 0.5\n",
    "\n",
    "    def distance(self, point2): # Enviamos un objeto como argumento\n",
    "        xdiff = point2.getX()-self.getX() # Llamamos el metodo getX del objeto point2\n",
    "        ydiff = point2.getY()-self.getY()\n",
    "\n",
    "        dist = math.sqrt(xdiff**2 + ydiff**2)\n",
    "        return dist\n",
    "\n",
    "p = Point(3,4)\n",
    "q = Point(10,8)\n",
    "print('Distance point p from origin is: {}'.format(p.distanceFromOrigin()))\n",
    "print('Distance point q from origin is: {}'.format(q.distanceFromOrigin()))\n",
    "print('Distance p from q is: {}'.format(p.distance(q)))\n",
    "print('Distance q from p is: {}'.format(q.distance(p))) # Realmente no era necesario"
   ]
  },
  {
   "cell_type": "markdown",
   "id": "99fb6ecc",
   "metadata": {},
   "source": [
    "## Estado de un objeto"
   ]
  },
  {
   "cell_type": "code",
   "execution_count": 13,
   "id": "9b091279",
   "metadata": {},
   "outputs": [
    {
     "name": "stdout",
     "output_type": "stream",
     "text": [
      "Corn Flakes cereal is produced by Kellogg's and has 2 grams of fiber in every serving!\n",
      "Honey Nut Cheerios cereal is produced by General Mills and has 3 grams of fiber in every serving!\n"
     ]
    }
   ],
   "source": [
    "''' Create a class called Cereal that accepts three inputs: 2 strings and 1 integer, and assigns them to 3 instance variables in the constructor: name, brand, and fiber.\n",
    "    When an instance of Cereal is printed, the user should see the following: \n",
    "    “[name] cereal is produced by [brand] and has [fiber integer] grams of fiber in every serving!” \n",
    "    To the variable name c1, assign an instance of Cereal whose name is \"Corn Flakes\", brand is \"Kellogg's\", and fiber is 2.\n",
    "    To the variable name c2, assign an instance of Cereal whose name is \"Honey Nut Cheerios\", brand is \"General Mills\", and fiber is 3'''\n",
    "\n",
    "class Cereal:\n",
    "\n",
    "    def __init__(self,id_name,id_brand,n_fiber):\n",
    "        self.name = id_name\n",
    "        self.brand = id_brand\n",
    "        self.fiber = n_fiber\n",
    "\n",
    "    def __str__(self):\n",
    "        return '{0} cereal is produced by {1} and has {2} grams of fiber in every serving!'.format(self.name,self.brand,self.fiber)\n",
    "    \n",
    "c1 = Cereal('Corn Flakes','Kellogg\\'s',2)\n",
    "c2 = Cereal('Honey Nut Cheerios','General Mills',3)\n",
    "\n",
    "print(c1)\n",
    "print(c2)"
   ]
  },
  {
   "cell_type": "code",
   "execution_count": 16,
   "id": "23110cb3",
   "metadata": {},
   "outputs": [
    {
     "name": "stdout",
     "output_type": "stream",
     "text": [
      "\t\t testOne\n",
      "<__main__.Bike object at 0x00000219BEED95D0>\n",
      "color => blue\n",
      "price => 89.99\n",
      "\t\t testTwo\n",
      "<__main__.Bike object at 0x00000219BEEDB670>\n",
      "color => purple\n",
      "price => 25\n"
     ]
    }
   ],
   "source": [
    "''' Define a class called Bike that accepts a string and a float as input, and assigns those inputs respectively to two instance variables, color and price.\n",
    "    Assign to the variable testOne an instance of Bike whose color is blue and whose price is 89.99. Assign to the variable testTwo an instance of Bike whose color is purple and whose price is 25.0.'''\n",
    "\n",
    "class Bike:\n",
    "    def __init__(self,id_col,id_price):\n",
    "        self.color = id_col\n",
    "        self.price = id_price\n",
    "testOne = Bike('blue',89.99)\n",
    "testTwo = Bike('purple',25)\n",
    "\n",
    "print('\\t\\t testOne')\n",
    "print(testOne)\n",
    "print('color => {}'.format(testOne.color))\n",
    "print('price => {}'.format(testOne.price))\n",
    "\n",
    "print('\\t\\t testTwo')\n",
    "print(testTwo)\n",
    "print('color => {}'.format(testTwo.color))\n",
    "print('price => {}'.format(testTwo.price))\n"
   ]
  },
  {
   "cell_type": "code",
   "execution_count": 17,
   "id": "b7167d8a",
   "metadata": {},
   "outputs": [
    {
     "name": "stdout",
     "output_type": "stream",
     "text": [
      "A basket of 4 blue apples.\n",
      "None\n",
      "A basket of 5 blue apples.\n",
      "None\n",
      "A basket of 6 blue apples.\n",
      "None\n",
      "A basket of 7 blue apples.\n",
      "A basket of 7 blue apples.\n"
     ]
    }
   ],
   "source": [
    "''' Create a class called AppleBasket whose constructor accepts two inputs: a string representing a color, and a number representing a quantity of apples.\n",
    "    The constructor should initialize two instance variables: apple_color and apple_quantity. Write a class method called increase that increases the quantity by 1 each time it is invoked. \n",
    "    You should also write a __str__ method for this class that returns a string of the format: \"A basket of [quantity goes here] [color goes here] apples.\" \n",
    "    e.g. \"A basket of 4 red apples.\" or \"A basket of 50 blue apples.\" (Writing some test code that creates instances and assigns values to variables may help you solve this problem!)'''\n",
    "\n",
    "class AppleBasket:\n",
    "    def __init__(self,id_col,n_quantity):\n",
    "        # Variables de instancia\n",
    "        self.apple_color = id_col\n",
    "        self.apple_quantity = n_quantity\n",
    "    def increase(self):\n",
    "        self.apple_quantity += 1\n",
    "    def __str__(self):\n",
    "        return 'A basket of {1} {0} apples.'.format(self.apple_color,self.apple_quantity)\n",
    "\n",
    "testOne = AppleBasket('blue',4)\n",
    "print(testOne)\n",
    "print(testOne.increase()) # Incrementemos en 1\n",
    "print(testOne)\n",
    "print(testOne.increase()) # Incrementemos en 1\n",
    "print(testOne)\n",
    "print(testOne.increase()) # Incrementemos en 1\n",
    "print(testOne)\n",
    "print(testOne)"
   ]
  },
  {
   "cell_type": "code",
   "execution_count": 18,
   "id": "d2556e8a",
   "metadata": {},
   "outputs": [
    {
     "name": "stdout",
     "output_type": "stream",
     "text": [
      "Your account, Bob, has 100 dollars.\n"
     ]
    }
   ],
   "source": [
    "''' Define a class called BankAccount that accepts the name you want associated with your bank account in a string, and an integer that represents the amount of money in the account.\n",
    "    The constructor should initialize two instance variables from those inputs: name and amt. Add a string method so that when you print an instance of BankAccount, you see\n",
    "    \"Your account, [name goes here], has [start_amt goes here] dollars.\" Create an instance of this class with \"Bob\" as the name and 100 as the amount. Save this to the variable t1.'''\n",
    "\n",
    "class BankAccount:\n",
    "    def __init__(self, a, b):\n",
    "        self.name = a\n",
    "        self.amt = b\n",
    "    def __str__(self):\n",
    "        return 'Your account, {}, has {} dollars.'.format(self.name,self.amt)\n",
    "t1 = BankAccount('Bob',100)\n",
    "print(t1)"
   ]
  },
  {
   "cell_type": "markdown",
   "id": "cc9e8192",
   "metadata": {},
   "source": [
    "## Instancias como valores de retorno\n",
    "\n",
    "Las funciones y métodos pueden devolver objetos"
   ]
  },
  {
   "cell_type": "code",
   "execution_count": 19,
   "id": "ccad3ba8",
   "metadata": {},
   "outputs": [
    {
     "name": "stdout",
     "output_type": "stream",
     "text": [
      "Print p\n",
      "x = 3, y = 4\n",
      "Print q\n",
      "x = 5, y = 12\n",
      "Print mid\n",
      "x = 4.0, y = 8.0\n",
      "4.0\n",
      "8.0\n"
     ]
    }
   ],
   "source": [
    "class Point:\n",
    "\n",
    "    def __init__(self, initX, initY):\n",
    "        self.x = initX\n",
    "        self.y = initY\n",
    "\n",
    "    def getX(self):\n",
    "        return self.x\n",
    "\n",
    "    def getY(self):\n",
    "        return self.y\n",
    "\n",
    "    def distanceFromOrigin(self):\n",
    "        return ((self.x ** 2) + (self.y ** 2)) ** 0.5\n",
    "\n",
    "    def __str__(self):\n",
    "        return \"x = {}, y = {}\".format(self.x, self.y)\n",
    "\n",
    "    def halfway(self, target):\n",
    "        mx = (self.x + target.x)/2\n",
    "        my = (self.y + target.y)/2\n",
    "        return Point(mx, my) # Retornamos un objeto que analizando el codigo retorna el constructor __str__\n",
    "\n",
    "p = Point(3,4)\n",
    "q = Point(5,12)\n",
    "mid = p.halfway(q)\n",
    "print('Print p')\n",
    "print(p)\n",
    "print('Print q')\n",
    "print(q)\n",
    "print('Print mid')\n",
    "print(mid) # Notese que mid tambien es un objeto\n",
    "print(mid.getX())\n",
    "print(mid.getY())"
   ]
  }
 ],
 "metadata": {
  "kernelspec": {
   "display_name": "Python 3 (ipykernel)",
   "language": "python",
   "name": "python3"
  },
  "language_info": {
   "codemirror_mode": {
    "name": "ipython",
    "version": 3
   },
   "file_extension": ".py",
   "mimetype": "text/x-python",
   "name": "python",
   "nbconvert_exporter": "python",
   "pygments_lexer": "ipython3",
   "version": "3.10.1"
  }
 },
 "nbformat": 4,
 "nbformat_minor": 5
}
