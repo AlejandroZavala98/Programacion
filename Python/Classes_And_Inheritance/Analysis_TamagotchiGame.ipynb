{
 "cells": [
  {
   "cell_type": "markdown",
   "id": "ef6c9248",
   "metadata": {},
   "source": [
    "# Analisis del juego Tamagotchi\n",
    "\n",
    "Este notebook fue desarrollado como notas del curso de Python **Classes and Inheritance** para tal efecto se analizara el codigo compartido en dicho curso y se pondra a prueba"
   ]
  },
  {
   "cell_type": "code",
   "execution_count": 1,
   "id": "b50982f1",
   "metadata": {},
   "outputs": [],
   "source": [
    "from random import randrange\n",
    "\n",
    "class Pet():\n",
    "    boredom_decrement = 4\n",
    "    hunger_decrement = 6\n",
    "    boredom_threshold = 5\n",
    "    hunger_threshold = 10\n",
    "    sounds = ['Mrrp']\n",
    "    def __init__(self, name = \"Kitty\"):\n",
    "        self.name = name\n",
    "        self.hunger = randrange(self.hunger_threshold)\n",
    "        self.boredom = randrange(self.boredom_threshold)\n",
    "        self.sounds = self.sounds[:]  # copy the class attribute, so that when we make changes to it, we won't affect the other Pets in the class\n",
    "\n",
    "    def clock_tick(self):\n",
    "        self.boredom += 1\n",
    "        self.hunger += 1\n",
    "\n",
    "    def mood(self):\n",
    "        if self.hunger <= self.hunger_threshold and self.boredom <= self.boredom_threshold:\n",
    "            return \"happy\"\n",
    "        elif self.hunger > self.hunger_threshold:\n",
    "            return \"hungry\"\n",
    "        else:\n",
    "            return \"bored\"\n",
    "\n",
    "    def __str__(self):\n",
    "        state = \"     I'm \" + self.name + \". \"\n",
    "        state += \" I feel \" + self.mood() + \". \"\n",
    "        # state += \"Hunger {} Boredom {} Words {}\".format(self.hunger, self.boredom, self.sounds)\n",
    "        return state\n",
    "\n",
    "    def hi(self):\n",
    "        print(self.sounds[randrange(len(self.sounds))])\n",
    "        self.reduce_boredom()\n",
    "\n",
    "    def teach(self, word):\n",
    "        self.sounds.append(word)\n",
    "        self.reduce_boredom()\n",
    "\n",
    "    def feed(self):\n",
    "        self.reduce_hunger()\n",
    "\n",
    "    def reduce_hunger(self):\n",
    "        self.hunger = max(0, self.hunger - self.hunger_decrement)\n",
    "\n",
    "    def reduce_boredom(self):\n",
    "        self.boredom = max(0, self.boredom - self.boredom_decrement)"
   ]
  },
  {
   "cell_type": "code",
   "execution_count": 2,
   "id": "fddc00dd",
   "metadata": {},
   "outputs": [],
   "source": [
    "p1 = Pet(\"Fido\")"
   ]
  },
  {
   "cell_type": "code",
   "execution_count": 3,
   "id": "37d828f7",
   "metadata": {},
   "outputs": [
    {
     "name": "stdout",
     "output_type": "stream",
     "text": [
      "     I'm Fido.  I feel happy. \n"
     ]
    }
   ],
   "source": [
    "print(p1)"
   ]
  },
  {
   "cell_type": "code",
   "execution_count": 4,
   "id": "275b89d3",
   "metadata": {},
   "outputs": [
    {
     "data": {
      "text/plain": [
       "3"
      ]
     },
     "execution_count": 4,
     "metadata": {},
     "output_type": "execute_result"
    }
   ],
   "source": [
    "p1.boredom"
   ]
  },
  {
   "cell_type": "code",
   "execution_count": 5,
   "id": "380c6054",
   "metadata": {},
   "outputs": [
    {
     "data": {
      "text/plain": [
       "7"
      ]
     },
     "execution_count": 5,
     "metadata": {},
     "output_type": "execute_result"
    }
   ],
   "source": [
    "p1.hunger"
   ]
  },
  {
   "cell_type": "code",
   "execution_count": 6,
   "id": "4a277005",
   "metadata": {},
   "outputs": [
    {
     "data": {
      "text/plain": [
       "5"
      ]
     },
     "execution_count": 6,
     "metadata": {},
     "output_type": "execute_result"
    }
   ],
   "source": [
    "p1.boredom_threshold"
   ]
  },
  {
   "cell_type": "code",
   "execution_count": 7,
   "id": "5675b220",
   "metadata": {},
   "outputs": [
    {
     "data": {
      "text/plain": [
       "10"
      ]
     },
     "execution_count": 7,
     "metadata": {},
     "output_type": "execute_result"
    }
   ],
   "source": [
    "p1.hunger_threshold"
   ]
  },
  {
   "cell_type": "code",
   "execution_count": 8,
   "id": "cb7a9fc8",
   "metadata": {},
   "outputs": [
    {
     "name": "stdout",
     "output_type": "stream",
     "text": [
      "     I'm Fido.  I feel happy. \n",
      "     I'm Fido.  I feel happy. \n",
      "     I'm Fido.  I feel bored. \n",
      "     I'm Fido.  I feel hungry. \n",
      "     I'm Fido.  I feel hungry. \n",
      "     I'm Fido.  I feel hungry. \n",
      "     I'm Fido.  I feel hungry. \n",
      "     I'm Fido.  I feel hungry. \n",
      "     I'm Fido.  I feel hungry. \n",
      "     I'm Fido.  I feel hungry. \n"
     ]
    }
   ],
   "source": [
    "for i in range(10):\n",
    "    p1.clock_tick() # Increase boredom and hunger\n",
    "    print(p1)"
   ]
  },
  {
   "cell_type": "code",
   "execution_count": 9,
   "id": "aa4835d0",
   "metadata": {},
   "outputs": [],
   "source": [
    "p1.feed()"
   ]
  },
  {
   "cell_type": "code",
   "execution_count": 10,
   "id": "50392203",
   "metadata": {},
   "outputs": [
    {
     "name": "stdout",
     "output_type": "stream",
     "text": [
      "Mrrp\n"
     ]
    }
   ],
   "source": [
    "p1.hi()"
   ]
  },
  {
   "cell_type": "code",
   "execution_count": 11,
   "id": "aac5c746",
   "metadata": {},
   "outputs": [],
   "source": [
    "p1.teach(\"Boo\")"
   ]
  },
  {
   "cell_type": "code",
   "execution_count": 12,
   "id": "b11ef155",
   "metadata": {},
   "outputs": [
    {
     "name": "stdout",
     "output_type": "stream",
     "text": [
      "Boo\n",
      "Boo\n",
      "Boo\n",
      "Mrrp\n",
      "Boo\n",
      "Mrrp\n",
      "Boo\n",
      "Boo\n",
      "Boo\n",
      "Mrrp\n"
     ]
    }
   ],
   "source": [
    "for i in range(10):\n",
    "    p1.hi()"
   ]
  },
  {
   "cell_type": "code",
   "execution_count": 13,
   "id": "f9a8288e",
   "metadata": {},
   "outputs": [
    {
     "name": "stdout",
     "output_type": "stream",
     "text": [
      "     I'm Fido.  I feel hungry. \n"
     ]
    }
   ],
   "source": [
    "print(p1)"
   ]
  },
  {
   "cell_type": "code",
   "execution_count": null,
   "id": "5eeb22ab",
   "metadata": {},
   "outputs": [],
   "source": []
  }
 ],
 "metadata": {
  "kernelspec": {
   "display_name": "Python 3 (ipykernel)",
   "language": "python",
   "name": "python3"
  },
  "language_info": {
   "codemirror_mode": {
    "name": "ipython",
    "version": 3
   },
   "file_extension": ".py",
   "mimetype": "text/x-python",
   "name": "python",
   "nbconvert_exporter": "python",
   "pygments_lexer": "ipython3",
   "version": "3.10.1"
  }
 },
 "nbformat": 4,
 "nbformat_minor": 5
}
