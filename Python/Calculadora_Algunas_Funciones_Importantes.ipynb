{
 "cells": [
  {
   "cell_type": "markdown",
   "id": "be3a4796",
   "metadata": {},
   "source": [
    "# Calculadora de python\n",
    "\n",
    "Un pequeño programa que se desarrollara acabo sera el replicar algunas operaciones que pueden encontrarse en Python, algunas vienen predeterminadas y otras mas suelen integrarse en algunas librerias de python.\n",
    "\n",
    "Definamos unas variables que nos serviran mas adelante"
   ]
  },
  {
   "cell_type": "code",
   "execution_count": 31,
   "id": "ae87e634",
   "metadata": {},
   "outputs": [],
   "source": [
    "# Libreria importante\n",
    "\n",
    "import math as mathlib\n",
    "\n",
    "# Variables numericas (enteras, flotantes)\n",
    "a = 32;\n",
    "b = 53.71;\n",
    "c = 0;\n",
    "d = -0.125;\n",
    "\n",
    "\n",
    "# Variables tipo string\n",
    "text_str = \"Esto es una variable string\"\n",
    "\n",
    "# Variables booleanas \n",
    "\n",
    "var_answer = True"
   ]
  },
  {
   "cell_type": "markdown",
   "id": "7ac95798",
   "metadata": {},
   "source": [
    "## Suma"
   ]
  },
  {
   "cell_type": "code",
   "execution_count": 4,
   "id": "368b7a16",
   "metadata": {},
   "outputs": [
    {
     "name": "stdout",
     "output_type": "stream",
     "text": [
      "La suma de 32 + 53 = 85\n"
     ]
    }
   ],
   "source": [
    "print(\"La suma de {} + {} = {}\".format(a,b,a+b))"
   ]
  },
  {
   "cell_type": "markdown",
   "id": "e45ec263",
   "metadata": {},
   "source": [
    "## Resta"
   ]
  },
  {
   "cell_type": "code",
   "execution_count": 7,
   "id": "0659e090",
   "metadata": {},
   "outputs": [
    {
     "name": "stdout",
     "output_type": "stream",
     "text": [
      "La resta de 32 - 53 = -21\n"
     ]
    }
   ],
   "source": [
    "print(\"La resta de {} - {} = {}\".format(a,b,a-b))"
   ]
  },
  {
   "cell_type": "markdown",
   "id": "14dcab48",
   "metadata": {},
   "source": [
    "## Multiplicación"
   ]
  },
  {
   "cell_type": "code",
   "execution_count": 8,
   "id": "148262bf",
   "metadata": {},
   "outputs": [
    {
     "name": "stdout",
     "output_type": "stream",
     "text": [
      "El producto de 32 * 53 = 1696\n"
     ]
    }
   ],
   "source": [
    "print(\"El producto de {} * {} = {}\".format(a,b,a*b))"
   ]
  },
  {
   "cell_type": "markdown",
   "id": "0ae26eff",
   "metadata": {},
   "source": [
    "## División"
   ]
  },
  {
   "cell_type": "code",
   "execution_count": 11,
   "id": "eb90c0e4",
   "metadata": {},
   "outputs": [
    {
     "name": "stdout",
     "output_type": "stream",
     "text": [
      "La división de 32 / 53 = 0.6037735849056604\n"
     ]
    }
   ],
   "source": [
    "print(\"La división de {} / {} = {}\".format(a,b,a/b))"
   ]
  },
  {
   "cell_type": "markdown",
   "id": "005114db",
   "metadata": {},
   "source": [
    "## Potencia"
   ]
  },
  {
   "cell_type": "code",
   "execution_count": 33,
   "id": "e55dd8f9",
   "metadata": {},
   "outputs": [
    {
     "name": "stdout",
     "output_type": "stream",
     "text": [
      "El resultado de 32 ^ 2 = 1024\n",
      "El resultado de 32 ^ 2 = 1024.0\n"
     ]
    }
   ],
   "source": [
    "print(\"El resultado de {} ^ {} = {}\".format(a,2,a**2))\n",
    "\n",
    "# Usando funciones de librerias\n",
    "\n",
    "print(\"El resultado de {} ^ {} = {}\".format(a,2,mathlib.pow(a,2)))"
   ]
  },
  {
   "cell_type": "markdown",
   "id": "b4507d49",
   "metadata": {},
   "source": [
    "## Raiz cuadrada\n"
   ]
  },
  {
   "cell_type": "code",
   "execution_count": 34,
   "id": "b5e9d571",
   "metadata": {},
   "outputs": [
    {
     "name": "stdout",
     "output_type": "stream",
     "text": [
      "El resultado de raiz 32 de 2 = 5.656854249492381\n",
      "El resultado de raiz 32 de 2 = 5.656854249492381\n"
     ]
    }
   ],
   "source": [
    "print(\"El resultado de raiz {} de {} = {}\".format(a,2,a**(1/2)))\n",
    "\n",
    "# Usando funciones de librerias\n",
    "\n",
    "print(\"El resultado de raiz {} de {} = {}\".format(a,2,mathlib.sqrt(a)))"
   ]
  },
  {
   "cell_type": "markdown",
   "id": "c0941664",
   "metadata": {},
   "source": [
    "## Algunas constantes importantes"
   ]
  },
  {
   "cell_type": "code",
   "execution_count": 81,
   "id": "20d82d90",
   "metadata": {},
   "outputs": [
    {
     "name": "stdout",
     "output_type": "stream",
     "text": [
      "La constante e es equivalente a 2.718281828459045\n",
      "La constante pi es equivalente a 3.141592653589793\n"
     ]
    }
   ],
   "source": [
    "print(\"La constante e es equivalente a {}\".format(mathlib.e))\n",
    "\n",
    "print(\"La constante pi es equivalente a {}\".format(mathlib.pi))\n"
   ]
  },
  {
   "cell_type": "markdown",
   "id": "75122463",
   "metadata": {},
   "source": [
    "## Exponente base \"e\""
   ]
  },
  {
   "cell_type": "code",
   "execution_count": 48,
   "id": "1f2bdf8d",
   "metadata": {},
   "outputs": [
    {
     "name": "stdout",
     "output_type": "stream",
     "text": [
      "El resultado de 2.7183 a la 3 = 20.0855\n"
     ]
    }
   ],
   "source": [
    "print(\"El resultado de {:.4f} a la {} = {:.4f}\".format(mathlib.exp(1),3,mathlib.exp(3)))"
   ]
  },
  {
   "cell_type": "markdown",
   "id": "68b7c9a4",
   "metadata": {},
   "source": [
    "## Logaritmos"
   ]
  },
  {
   "cell_type": "code",
   "execution_count": 50,
   "id": "f0763665",
   "metadata": {},
   "outputs": [
    {
     "name": "stdout",
     "output_type": "stream",
     "text": [
      "El logaritmo natural de 20.0855 = 3.0000\n"
     ]
    }
   ],
   "source": [
    "print(\"El logaritmo natural de {} = {:.4f}\".format(20.0855,mathlib.log(20.0855)))"
   ]
  },
  {
   "cell_type": "code",
   "execution_count": 51,
   "id": "5a3c2d15",
   "metadata": {},
   "outputs": [
    {
     "name": "stdout",
     "output_type": "stream",
     "text": [
      "El logaritmo base 10 de 10000 = 4.0000\n"
     ]
    }
   ],
   "source": [
    "print(\"El logaritmo base 10 de {} = {:.4f}\".format(10000,mathlib.log10(10000)))"
   ]
  },
  {
   "cell_type": "code",
   "execution_count": 55,
   "id": "1ef56216",
   "metadata": {},
   "outputs": [
    {
     "name": "stdout",
     "output_type": "stream",
     "text": [
      "El logaritmo base 15 de 56 = 2.2466\n"
     ]
    }
   ],
   "source": [
    "print(\"El logaritmo base {} de {} = {:.4f}\".format(15,56,mathlib.log(56,6)))"
   ]
  },
  {
   "cell_type": "code",
   "execution_count": 54,
   "id": "b6deb193",
   "metadata": {},
   "outputs": [
    {
     "data": {
      "text/plain": [
       "2.2465915542053168"
      ]
     },
     "execution_count": 54,
     "metadata": {},
     "output_type": "execute_result"
    }
   ],
   "source": [
    "mathlib.log(56,6)"
   ]
  },
  {
   "cell_type": "markdown",
   "id": "0e4a4a48",
   "metadata": {},
   "source": [
    "## Conversión angular"
   ]
  },
  {
   "cell_type": "code",
   "execution_count": 68,
   "id": "b38862c4",
   "metadata": {},
   "outputs": [
    {
     "name": "stdout",
     "output_type": "stream",
     "text": [
      "El equivalente de 35 a radianes es: 0.6108652381980153\n"
     ]
    }
   ],
   "source": [
    "print(\"El equivalente de {} a radianes es: {}\".format(35,mathlib.radians(35)))"
   ]
  },
  {
   "cell_type": "code",
   "execution_count": 70,
   "id": "90e1b80b",
   "metadata": {},
   "outputs": [
    {
     "name": "stdout",
     "output_type": "stream",
     "text": [
      "El equivalente de 0.6108652381980153 a grados es: 35.0\n"
     ]
    }
   ],
   "source": [
    "print(\"El equivalente de {} a grados es: {}\".format(0.6108652381980153,mathlib.degrees(0.6108652381980153)))"
   ]
  },
  {
   "cell_type": "markdown",
   "id": "42187b82",
   "metadata": {},
   "source": [
    "## Algunas funciones trigonométricas (El argumento debera estar en radianes)"
   ]
  },
  {
   "cell_type": "code",
   "execution_count": 65,
   "id": "208fb5d5",
   "metadata": {},
   "outputs": [
    {
     "name": "stdout",
     "output_type": "stream",
     "text": [
      "El coseno de 0.6109 es 0.8192\n"
     ]
    }
   ],
   "source": [
    "print(\"El coseno de {:.4f} es {:.4f}\".format(35*(2*mathlib.pi/360),mathlib.cos(35*(2*mathlib.pi/360))))"
   ]
  },
  {
   "cell_type": "code",
   "execution_count": 64,
   "id": "3a22c179",
   "metadata": {},
   "outputs": [
    {
     "name": "stdout",
     "output_type": "stream",
     "text": [
      "El arcotangente de 0.6109 es 0.5484\n"
     ]
    }
   ],
   "source": [
    "print(\"El arcotangente de {:.4f} es {:.4f}\".format(35*(2*mathlib.pi/360),mathlib.atan(35*(2*mathlib.pi/360))))"
   ]
  },
  {
   "cell_type": "markdown",
   "id": "7fefd16d",
   "metadata": {},
   "source": [
    "## Combinatoria"
   ]
  },
  {
   "cell_type": "code",
   "execution_count": 73,
   "id": "8ad72aca",
   "metadata": {},
   "outputs": [
    {
     "name": "stdout",
     "output_type": "stream",
     "text": [
      " 5 C 3 = 10 \n"
     ]
    }
   ],
   "source": [
    "print(\" {} C {} = {} \".format(5,3,mathlib.comb(5,3)))"
   ]
  },
  {
   "cell_type": "markdown",
   "id": "db7cf32a",
   "metadata": {},
   "source": [
    "## Permutación"
   ]
  },
  {
   "cell_type": "code",
   "execution_count": 77,
   "id": "e8bab5ad",
   "metadata": {},
   "outputs": [
    {
     "name": "stdout",
     "output_type": "stream",
     "text": [
      " 5 P 3 = 60 \n"
     ]
    }
   ],
   "source": [
    "print(\" {} P {} = {} \".format(5,3,mathlib.perm(5,3)))"
   ]
  },
  {
   "cell_type": "markdown",
   "id": "8a64315b",
   "metadata": {},
   "source": [
    "# Valor absoluto"
   ]
  },
  {
   "cell_type": "code",
   "execution_count": 75,
   "id": "985b3a63",
   "metadata": {},
   "outputs": [
    {
     "name": "stdout",
     "output_type": "stream",
     "text": [
      "El valor absoluto de '9' es 9.0\n",
      "El valor absoluto de '-9' es 9.0\n"
     ]
    }
   ],
   "source": [
    "print(\"El valor absoluto de '{}' es {}\".format(9,mathlib.fabs(9)))\n",
    "print(\"El valor absoluto de '{}' es {}\".format(-9,mathlib.fabs(-9)))"
   ]
  },
  {
   "cell_type": "markdown",
   "id": "e8d6dd21",
   "metadata": {},
   "source": [
    "# Factoriales "
   ]
  },
  {
   "cell_type": "code",
   "execution_count": 76,
   "id": "bd219f8c",
   "metadata": {},
   "outputs": [
    {
     "name": "stdout",
     "output_type": "stream",
     "text": [
      "Factorial de 5 es : 120\n"
     ]
    }
   ],
   "source": [
    "print(\"Factorial de {} es : {}\".format(5,mathlib.factorial(5)))"
   ]
  },
  {
   "cell_type": "markdown",
   "id": "c5192e45",
   "metadata": {},
   "source": [
    "## Funciones ceil y floor (techo y suelo siendo traducciones respectivamente)"
   ]
  },
  {
   "cell_type": "code",
   "execution_count": 84,
   "id": "dc752656",
   "metadata": {},
   "outputs": [
    {
     "name": "stdout",
     "output_type": "stream",
     "text": [
      "floor(-36.12) :  -37\n",
      "floor(530.6) :  530\n",
      "floor(530.76) :  530\n",
      "\n",
      "ceil(-36.12) :  -36\n",
      "ceil(530.6) :  531\n",
      "ceil(530.76) :  531\n"
     ]
    }
   ],
   "source": [
    "print(\"floor(-36.12) : \", mathlib.floor(-36.12))\n",
    "print(\"floor(530.6) : \", mathlib.floor(530.6))\n",
    "print(\"floor(530.76) : \", mathlib.floor(530.76))\n",
    "print(\"\")\n",
    "print(\"ceil(-36.12) : \", mathlib.ceil(-36.12))\n",
    "print(\"ceil(530.6) : \", mathlib.ceil(530.6))\n",
    "print(\"ceil(530.76) : \", mathlib.ceil(530.76))"
   ]
  },
  {
   "cell_type": "markdown",
   "id": "92ac10f7",
   "metadata": {},
   "source": [
    "**Notemos que cuando hagamos una operación incorrecta, indefinida o con algún otro problema nos puede surgir, diferentes mensajes, por ejemplo**"
   ]
  },
  {
   "cell_type": "code",
   "execution_count": 13,
   "id": "01f44301",
   "metadata": {},
   "outputs": [
    {
     "ename": "ZeroDivisionError",
     "evalue": "division by zero",
     "output_type": "error",
     "traceback": [
      "\u001b[1;31m---------------------------------------------------------------------------\u001b[0m",
      "\u001b[1;31mZeroDivisionError\u001b[0m                         Traceback (most recent call last)",
      "\u001b[1;32m<ipython-input-13-e05edacef538>\u001b[0m in \u001b[0;36m<module>\u001b[1;34m\u001b[0m\n\u001b[1;32m----> 1\u001b[1;33m \u001b[0mprint\u001b[0m\u001b[1;33m(\u001b[0m\u001b[1;34m\"La división de {} / {} = {}\"\u001b[0m\u001b[1;33m.\u001b[0m\u001b[0mformat\u001b[0m\u001b[1;33m(\u001b[0m\u001b[0ma\u001b[0m\u001b[1;33m,\u001b[0m\u001b[0mc\u001b[0m\u001b[1;33m,\u001b[0m\u001b[0ma\u001b[0m\u001b[1;33m/\u001b[0m\u001b[0mc\u001b[0m\u001b[1;33m)\u001b[0m\u001b[1;33m)\u001b[0m\u001b[1;33m\u001b[0m\u001b[1;33m\u001b[0m\u001b[0m\n\u001b[0m",
      "\u001b[1;31mZeroDivisionError\u001b[0m: division by zero"
     ]
    }
   ],
   "source": [
    "print(\"La división de {} / {} = {}\".format(a,c,a/c))"
   ]
  },
  {
   "cell_type": "code",
   "execution_count": 20,
   "id": "eeb730f6",
   "metadata": {},
   "outputs": [
    {
     "ename": "NameError",
     "evalue": "name 'variable_num1' is not defined",
     "output_type": "error",
     "traceback": [
      "\u001b[1;31m---------------------------------------------------------------------------\u001b[0m",
      "\u001b[1;31mNameError\u001b[0m                                 Traceback (most recent call last)",
      "\u001b[1;32m<ipython-input-20-e99c2848fc66>\u001b[0m in \u001b[0;36m<module>\u001b[1;34m\u001b[0m\n\u001b[1;32m----> 1\u001b[1;33m \u001b[0mprint\u001b[0m\u001b[1;33m(\u001b[0m\u001b[1;34m\"Imprimiendo variable que no existe\"\u001b[0m\u001b[1;33m,\u001b[0m \u001b[0mvariable_num1\u001b[0m\u001b[1;33m)\u001b[0m\u001b[1;33m\u001b[0m\u001b[1;33m\u001b[0m\u001b[0m\n\u001b[0m",
      "\u001b[1;31mNameError\u001b[0m: name 'variable_num1' is not defined"
     ]
    }
   ],
   "source": [
    "print(\"Imprimiendo variable que no existe \", variable_num1)"
   ]
  },
  {
   "cell_type": "markdown",
   "id": "a70c4114",
   "metadata": {},
   "source": [
    "## Identificando tipos de variables\n",
    "\n",
    "Si queremos saber que tipo de variable se esta usando podemos usar la función **type()**"
   ]
  },
  {
   "cell_type": "code",
   "execution_count": 29,
   "id": "61bed558",
   "metadata": {},
   "outputs": [
    {
     "name": "stdout",
     "output_type": "stream",
     "text": [
      "La variable '32' es de tipo: <class 'int'>\n",
      "La variable '53.71' es de tipo: <class 'float'>\n",
      "La variable '0' es de tipo: <class 'int'>\n",
      "La variable '-0.125' es de tipo: <class 'float'>\n",
      "\n",
      "La variable 'Esto es una variable string' es de tipo: <class 'str'>\n",
      "\n",
      "La variable 'True' es de tipo: <class 'bool'>\n"
     ]
    }
   ],
   "source": [
    "print(\"La variable '{}' es de tipo: {}\".format(a,type(a)))\n",
    "print(\"La variable '{}' es de tipo: {}\".format(b,type(b)))\n",
    "print(\"La variable '{}' es de tipo: {}\".format(c,type(c)))\n",
    "print(\"La variable '{}' es de tipo: {}\".format(d,type(d)))\n",
    "print(\"\")\n",
    "print(\"La variable '{}' es de tipo: {}\".format(text_str,type(text_str)))\n",
    "print(\"\")\n",
    "print(\"La variable '{}' es de tipo: {}\".format(var_answer,type(var_answer)))\n"
   ]
  }
 ],
 "metadata": {
  "kernelspec": {
   "display_name": "Python 3",
   "language": "python",
   "name": "python3"
  },
  "language_info": {
   "codemirror_mode": {
    "name": "ipython",
    "version": 3
   },
   "file_extension": ".py",
   "mimetype": "text/x-python",
   "name": "python",
   "nbconvert_exporter": "python",
   "pygments_lexer": "ipython3",
   "version": "3.9.5"
  }
 },
 "nbformat": 4,
 "nbformat_minor": 5
}
