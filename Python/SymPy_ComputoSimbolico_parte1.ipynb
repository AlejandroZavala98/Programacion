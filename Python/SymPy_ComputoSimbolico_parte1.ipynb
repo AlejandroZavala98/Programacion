{
 "cells": [
  {
   "cell_type": "markdown",
   "id": "7013d981",
   "metadata": {},
   "source": [
    "# Cómputo simbólico\n",
    "\n",
    "> \"La biblioteca Symbolic Python (SymPy) tiene como objetivo proporcionar una completa sistema de álgebra informática (CAS por sus siglas en ingles). A diferencia de muchos otros CAS, SymPy es principalmente una biblioteca, en lugar de un entorno completo. Esto hace que SymPy sea adecuado para integración en aplicaciones y cálculos que también utilizan otras bibliotecas de Python\"\n",
    "\n",
    "Una característica fundamental de SymPy es representar símbolos matemáticos como objetos de Python"
   ]
  },
  {
   "cell_type": "code",
   "execution_count": 1,
   "id": "20b92728",
   "metadata": {},
   "outputs": [],
   "source": [
    "import sympy #Importando la libreria"
   ]
  },
  {
   "cell_type": "markdown",
   "id": "a591ab4f",
   "metadata": {},
   "source": [
    "Si todo lo que desea es la mejor impresión bonita, use la función init_printing (). Esto habilitará automáticamente la mejor impresora disponible en su entorno. "
   ]
  },
  {
   "cell_type": "code",
   "execution_count": 2,
   "id": "abd7cf85",
   "metadata": {},
   "outputs": [],
   "source": [
    "sympy.init_printing()"
   ]
  },
  {
   "cell_type": "markdown",
   "id": "24935a39",
   "metadata": {},
   "source": [
    "## Importando algunos simbolos importantes"
   ]
  },
  {
   "cell_type": "code",
   "execution_count": 3,
   "id": "bf7ff6a5",
   "metadata": {},
   "outputs": [],
   "source": [
    "from sympy import I, pi, oo"
   ]
  },
  {
   "cell_type": "code",
   "execution_count": 5,
   "id": "f461495b",
   "metadata": {},
   "outputs": [
    {
     "data": {
      "image/png": "[encoded data removed]",
      "text/latex": [
       "$\\displaystyle \\left(-1 + i\\right) \\left(1 + i\\right)$"
      ],
      "text/plain": [
       "(-1 + ⅈ)⋅(1 + ⅈ)"
      ]
     },
     "execution_count": 5,
     "metadata": {},
     "output_type": "execute_result"
    }
   ],
   "source": [
    "(I + 1 )*(I -1) # Numeros imaginarios y complejos"
   ]
  },
  {
   "cell_type": "code",
   "execution_count": 6,
   "id": "d1302d13",
   "metadata": {},
   "outputs": [
    {
     "data": {
      "image/png": "[encoded data removed]",
      "text/latex": [
       "$\\displaystyle \\pi$"
      ],
      "text/plain": [
       "π"
      ]
     },
     "execution_count": 6,
     "metadata": {},
     "output_type": "execute_result"
    }
   ],
   "source": [
    "pi # Constante pi"
   ]
  },
  {
   "cell_type": "code",
   "execution_count": 7,
   "id": "57cb12fe",
   "metadata": {},
   "outputs": [
    {
     "data": {
      "image/png": "[encoded data removed]",
      "text/latex": [
       "$\\displaystyle \\infty$"
      ],
      "text/plain": [
       "∞"
      ]
     },
     "execution_count": 7,
     "metadata": {},
     "output_type": "execute_result"
    }
   ],
   "source": [
    "oo #El infinito"
   ]
  },
  {
   "cell_type": "markdown",
   "id": "c267854f",
   "metadata": {},
   "source": [
    "## Instancia de simbolo\n",
    "\n",
    "Una instancia de Symbol tiene un nombre y un conjunto de atributos que describen sus propiedades y métodos para consultar esas propiedades y para operar en el objeto de símbolo. Veamos como se aplica"
   ]
  },
  {
   "cell_type": "code",
   "execution_count": 8,
   "id": "952e54cf",
   "metadata": {},
   "outputs": [],
   "source": [
    "x = sympy.Symbol(\"x\")"
   ]
  },
  {
   "cell_type": "code",
   "execution_count": 9,
   "id": "9d638ec1",
   "metadata": {},
   "outputs": [
    {
     "data": {
      "image/png": "[encoded data removed]",
      "text/latex": [
       "$\\displaystyle x$"
      ],
      "text/plain": [
       "x"
      ]
     },
     "execution_count": 9,
     "metadata": {},
     "output_type": "execute_result"
    }
   ],
   "source": [
    "x"
   ]
  },
  {
   "cell_type": "code",
   "execution_count": 10,
   "id": "8486651c",
   "metadata": {},
   "outputs": [
    {
     "data": {
      "text/plain": [
       "True"
      ]
     },
     "execution_count": 10,
     "metadata": {},
     "output_type": "execute_result"
    }
   ],
   "source": [
    "x.is_real is None"
   ]
  },
  {
   "cell_type": "markdown",
   "id": "4f97f479",
   "metadata": {},
   "source": [
    "La variable x ahora representa un símbolo matemático abstracto x del cual muy poco la información se conoce por defecto.\n",
    "\n",
    "En este punto, x podría representar, por ejemplo, una número, un entero, un número complejo, una función, así como un gran número de otros posibilidades. En muchos casos es suficiente representar un símbolo matemático con este objeto de símbolo abstracto, no especificado, pero a veces es necesario dar a la biblioteca SymPy más pistas sobre exactamente qué tipo de símbolo representa"
   ]
  },
  {
   "cell_type": "code",
   "execution_count": 11,
   "id": "bf7564a1",
   "metadata": {},
   "outputs": [],
   "source": [
    "y = sympy.Symbol(\"y\", real=True)"
   ]
  },
  {
   "cell_type": "code",
   "execution_count": 12,
   "id": "91d1d2a2",
   "metadata": {},
   "outputs": [
    {
     "data": {
      "image/png": "[encoded data removed]",
      "text/latex": [
       "$\\displaystyle y$"
      ],
      "text/plain": [
       "y"
      ]
     },
     "execution_count": 12,
     "metadata": {},
     "output_type": "execute_result"
    }
   ],
   "source": [
    "y"
   ]
  },
  {
   "cell_type": "code",
   "execution_count": 13,
   "id": "ff5f89ef",
   "metadata": {},
   "outputs": [
    {
     "data": {
      "text/plain": [
       "False"
      ]
     },
     "execution_count": 13,
     "metadata": {},
     "output_type": "execute_result"
    }
   ],
   "source": [
    "y.is_real is None"
   ]
  },
  {
   "cell_type": "code",
   "execution_count": 14,
   "id": "d40af391",
   "metadata": {},
   "outputs": [
    {
     "data": {
      "text/plain": [
       "True"
      ]
     },
     "execution_count": 14,
     "metadata": {},
     "output_type": "execute_result"
    }
   ],
   "source": [
    "y.is_real"
   ]
  },
  {
   "cell_type": "markdown",
   "id": "b2885c8a",
   "metadata": {},
   "source": [
    "Ahora para la variable y, se sabe que es un número real, a diferencia de x que no fue especificado como real"
   ]
  },
  {
   "cell_type": "code",
   "execution_count": 15,
   "id": "003ec161",
   "metadata": {},
   "outputs": [],
   "source": [
    "z = sympy.Symbol(\"z\", imaginary=True)"
   ]
  },
  {
   "cell_type": "code",
   "execution_count": 16,
   "id": "62cd6382",
   "metadata": {},
   "outputs": [
    {
     "data": {
      "text/plain": [
       "False"
      ]
     },
     "execution_count": 16,
     "metadata": {},
     "output_type": "execute_result"
    }
   ],
   "source": [
    "z.is_real"
   ]
  },
  {
   "cell_type": "code",
   "execution_count": 18,
   "id": "8f37f952",
   "metadata": {},
   "outputs": [
    {
     "data": {
      "text/plain": [
       "True"
      ]
     },
     "execution_count": 18,
     "metadata": {},
     "output_type": "execute_result"
    }
   ],
   "source": [
    "z.is_imaginary"
   ]
  },
  {
   "cell_type": "markdown",
   "id": "60e8fb3e",
   "metadata": {},
   "source": [
    "Ahora z fue definido como un numero imaginario"
   ]
  },
  {
   "cell_type": "markdown",
   "id": "85d65448",
   "metadata": {},
   "source": [
    "### Algunos atributos\n",
    "\n",
    "Para ver todos los atributos consultar la documentación de SymPy"
   ]
  },
  {
   "cell_type": "code",
   "execution_count": 19,
   "id": "e07ba622",
   "metadata": {},
   "outputs": [],
   "source": [
    "w = sympy.Symbol(\"y\", real=True , positive=False, odd = True)"
   ]
  },
  {
   "cell_type": "code",
   "execution_count": 20,
   "id": "959503e8",
   "metadata": {},
   "outputs": [
    {
     "data": {
      "text/plain": [
       "True"
      ]
     },
     "execution_count": 20,
     "metadata": {},
     "output_type": "execute_result"
    }
   ],
   "source": [
    "w.is_real # Si la variable es real"
   ]
  },
  {
   "cell_type": "code",
   "execution_count": 21,
   "id": "501c22e3",
   "metadata": {},
   "outputs": [
    {
     "data": {
      "text/plain": [
       "False"
      ]
     },
     "execution_count": 21,
     "metadata": {},
     "output_type": "execute_result"
    }
   ],
   "source": [
    "w.is_positive # Si la variable es positiva"
   ]
  },
  {
   "cell_type": "code",
   "execution_count": 22,
   "id": "a97d49ca",
   "metadata": {},
   "outputs": [
    {
     "data": {
      "text/plain": [
       "True"
      ]
     },
     "execution_count": 22,
     "metadata": {},
     "output_type": "execute_result"
    }
   ],
   "source": [
    "w.is_odd # Si la variable es impar"
   ]
  },
  {
   "cell_type": "code",
   "execution_count": 23,
   "id": "63aaf70e",
   "metadata": {},
   "outputs": [
    {
     "data": {
      "text/plain": [
       "False"
      ]
     },
     "execution_count": 23,
     "metadata": {},
     "output_type": "execute_result"
    }
   ],
   "source": [
    "w.is_even # Si la variable es par"
   ]
  },
  {
   "cell_type": "markdown",
   "id": "5acf9268",
   "metadata": {},
   "source": [
    "### Veamos su importancia"
   ]
  },
  {
   "cell_type": "code",
   "execution_count": 24,
   "id": "4644f3ae",
   "metadata": {},
   "outputs": [],
   "source": [
    "x1 = sympy.Symbol(\"x\")\n",
    "y1 = sympy.Symbol(\"y\", positive=True)"
   ]
  },
  {
   "cell_type": "code",
   "execution_count": 26,
   "id": "34fed1cc",
   "metadata": {},
   "outputs": [
    {
     "data": {
      "image/png": "[encoded data removed]",
      "text/latex": [
       "$\\displaystyle x^{2}$"
      ],
      "text/plain": [
       " 2\n",
       "x "
      ]
     },
     "execution_count": 26,
     "metadata": {},
     "output_type": "execute_result"
    }
   ],
   "source": [
    "x1 ** 2"
   ]
  },
  {
   "cell_type": "code",
   "execution_count": 27,
   "id": "9cb2438e",
   "metadata": {},
   "outputs": [
    {
     "data": {
      "image/png": "[encoded data removed]",
      "text/latex": [
       "$\\displaystyle y^{2}$"
      ],
      "text/plain": [
       " 2\n",
       "y "
      ]
     },
     "execution_count": 27,
     "metadata": {},
     "output_type": "execute_result"
    }
   ],
   "source": [
    "y1 ** 2"
   ]
  },
  {
   "cell_type": "markdown",
   "id": "23dd574c",
   "metadata": {},
   "source": [
    "Notemos que si aplicamos un atributo (raiz cuadrada)"
   ]
  },
  {
   "cell_type": "code",
   "execution_count": 28,
   "id": "3b371c5b",
   "metadata": {},
   "outputs": [
    {
     "data": {
      "image/png": "[encoded data removed]",
      "text/latex": [
       "$\\displaystyle \\sqrt{x^{2}}$"
      ],
      "text/plain": [
       "   ____\n",
       "  ╱  2 \n",
       "╲╱  x  "
      ]
     },
     "execution_count": 28,
     "metadata": {},
     "output_type": "execute_result"
    }
   ],
   "source": [
    "sympy.sqrt(x ** 2) # No se sabe si x es positivo o negativo"
   ]
  },
  {
   "cell_type": "code",
   "execution_count": 29,
   "id": "99cd09a1",
   "metadata": {},
   "outputs": [
    {
     "data": {
      "image/png": "[encoded data removed]",
      "text/latex": [
       "$\\displaystyle y$"
      ],
      "text/plain": [
       "y"
      ]
     },
     "execution_count": 29,
     "metadata": {},
     "output_type": "execute_result"
    }
   ],
   "source": [
    "sympy.sqrt(y1 ** 2) # Se sabe que y es positivo, por ende la raiz es positiva"
   ]
  },
  {
   "cell_type": "markdown",
   "id": "2531b8d8",
   "metadata": {},
   "source": [
    "Algunos ejemplos extras"
   ]
  },
  {
   "cell_type": "code",
   "execution_count": 31,
   "id": "2f707c2f",
   "metadata": {},
   "outputs": [],
   "source": [
    "n1 = sympy.Symbol(\"n\")\n",
    "n2 = sympy.Symbol(\"n\", integer=True)\n",
    "n3 = sympy.Symbol(\"n\", odd=True)"
   ]
  },
  {
   "cell_type": "code",
   "execution_count": 32,
   "id": "39130613",
   "metadata": {},
   "outputs": [
    {
     "data": {
      "image/png": "[encoded data removed]",
      "text/latex": [
       "$\\displaystyle \\cos{\\left(\\pi n \\right)}$"
      ],
      "text/plain": [
       "cos(π⋅n)"
      ]
     },
     "execution_count": 32,
     "metadata": {},
     "output_type": "execute_result"
    }
   ],
   "source": [
    "sympy.cos(n1 * pi) # Coseno de un numero cualesquiera"
   ]
  },
  {
   "cell_type": "code",
   "execution_count": 33,
   "id": "3cdc9380",
   "metadata": {},
   "outputs": [
    {
     "data": {
      "image/png": "[encoded data removed]",
      "text/latex": [
       "$\\displaystyle \\left(-1\\right)^{n}$"
      ],
      "text/plain": [
       "    n\n",
       "(-1) "
      ]
     },
     "execution_count": 33,
     "metadata": {},
     "output_type": "execute_result"
    }
   ],
   "source": [
    "sympy.cos(n2 * pi) #Coseno de un numero entero"
   ]
  },
  {
   "cell_type": "code",
   "execution_count": 34,
   "id": "5f1c8579",
   "metadata": {},
   "outputs": [
    {
     "data": {
      "image/png": "[encoded data removed]",
      "text/latex": [
       "$\\displaystyle -1$"
      ],
      "text/plain": [
       "-1"
      ]
     },
     "execution_count": 34,
     "metadata": {},
     "output_type": "execute_result"
    }
   ],
   "source": [
    "sympy.cos(n3 * pi) # Coseno de un numero impar Por ejemplo cos(5 * pi)"
   ]
  },
  {
   "cell_type": "markdown",
   "id": "cb7f97d4",
   "metadata": {},
   "source": [
    "Podemos lanzar instancias de sympy.Integer y sympy.Float de nuevo"
   ]
  },
  {
   "cell_type": "code",
   "execution_count": 43,
   "id": "dcc9801c",
   "metadata": {},
   "outputs": [],
   "source": [
    "i = sympy.Integer(13)"
   ]
  },
  {
   "cell_type": "code",
   "execution_count": 44,
   "id": "7f90e59b",
   "metadata": {},
   "outputs": [
    {
     "data": {
      "image/png": "[encoded data removed]",
      "text/latex": [
       "$\\displaystyle 13$"
      ],
      "text/plain": [
       "13"
      ]
     },
     "execution_count": 44,
     "metadata": {},
     "output_type": "execute_result"
    }
   ],
   "source": [
    "i"
   ]
  },
  {
   "cell_type": "code",
   "execution_count": 45,
   "id": "74b89077",
   "metadata": {},
   "outputs": [
    {
     "data": {
      "image/png": "[encoded data removed]",
      "text/latex": [
       "$\\displaystyle 130$"
      ],
      "text/plain": [
       "130"
      ]
     },
     "execution_count": 45,
     "metadata": {},
     "output_type": "execute_result"
    }
   ],
   "source": [
    "i*10"
   ]
  },
  {
   "cell_type": "code",
   "execution_count": 46,
   "id": "890f1c16",
   "metadata": {},
   "outputs": [
    {
     "data": {
      "text/plain": [
       "sympy.core.numbers.Integer"
      ]
     },
     "execution_count": 46,
     "metadata": {},
     "output_type": "execute_result"
    }
   ],
   "source": [
    "type(i)"
   ]
  },
  {
   "cell_type": "code",
   "execution_count": 47,
   "id": "4e239270",
   "metadata": {},
   "outputs": [
    {
     "data": {
      "text/plain": [
       "(True, True, True)"
      ]
     },
     "execution_count": 47,
     "metadata": {},
     "output_type": "execute_result"
    }
   ],
   "source": [
    "i.is_Integer, i.is_real, i.is_odd"
   ]
  },
  {
   "cell_type": "code",
   "execution_count": 48,
   "id": "63b984eb",
   "metadata": {},
   "outputs": [],
   "source": [
    "j = sympy.Float(6.81)"
   ]
  },
  {
   "cell_type": "code",
   "execution_count": 49,
   "id": "ec0f8f53",
   "metadata": {},
   "outputs": [
    {
     "data": {
      "image/png": "[encoded data removed]",
      "text/latex": [
       "$\\displaystyle 6.81$"
      ],
      "text/plain": [
       "6.81000000000000"
      ]
     },
     "execution_count": 49,
     "metadata": {},
     "output_type": "execute_result"
    }
   ],
   "source": [
    "j"
   ]
  },
  {
   "cell_type": "code",
   "execution_count": 50,
   "id": "ac685cff",
   "metadata": {},
   "outputs": [
    {
     "data": {
      "text/plain": [
       "sympy.core.numbers.Float"
      ]
     },
     "execution_count": 50,
     "metadata": {},
     "output_type": "execute_result"
    }
   ],
   "source": [
    "type(j)"
   ]
  },
  {
   "cell_type": "code",
   "execution_count": 53,
   "id": "7d86f832",
   "metadata": {},
   "outputs": [
    {
     "data": {
      "text/plain": [
       "[False, True, False]"
      ]
     },
     "execution_count": 53,
     "metadata": {},
     "output_type": "execute_result"
    }
   ],
   "source": [
    "[j.is_Integer, j.is_real, j.is_odd] #Imprimiendo en forma de lista"
   ]
  },
  {
   "cell_type": "code",
   "execution_count": 56,
   "id": "fb102837",
   "metadata": {},
   "outputs": [
    {
     "data": {
      "image/png": "[encoded data removed]",
      "text/latex": [
       "$\\displaystyle x!$"
      ],
      "text/plain": [
       "x!"
      ]
     },
     "execution_count": 56,
     "metadata": {},
     "output_type": "execute_result"
    }
   ],
   "source": [
    "sympy.factorial(x) #Factorial de un numero"
   ]
  },
  {
   "cell_type": "code",
   "execution_count": 58,
   "id": "2231ba8f",
   "metadata": {},
   "outputs": [
    {
     "data": {
      "image/png": "[encoded data removed]",
      "text/latex": [
       "$\\displaystyle 120$"
      ],
      "text/plain": [
       "120"
      ]
     },
     "execution_count": 58,
     "metadata": {},
     "output_type": "execute_result"
    }
   ],
   "source": [
    "sympy.factorial(5) # Factorial del número 5"
   ]
  },
  {
   "cell_type": "code",
   "execution_count": 65,
   "id": "5b056743",
   "metadata": {},
   "outputs": [
    {
     "data": {
      "text/plain": [
       "'0.29999999999999999'"
      ]
     },
     "execution_count": 65,
     "metadata": {},
     "output_type": "execute_result"
    }
   ],
   "source": [
    "'%.17f'% 0.3 # Crea un string con 25 decimales"
   ]
  },
  {
   "cell_type": "code",
   "execution_count": 66,
   "id": "4e581018",
   "metadata": {},
   "outputs": [
    {
     "data": {
      "image/png": "[encoded data removed]",
      "text/latex": [
       "$\\displaystyle 0.29999999999999999$"
      ],
      "text/plain": [
       "0.29999999999999999"
      ]
     },
     "execution_count": 66,
     "metadata": {},
     "output_type": "execute_result"
    }
   ],
   "source": [
    "sympy.Float(0.3, 17)"
   ]
  },
  {
   "cell_type": "markdown",
   "id": "b185fb50",
   "metadata": {},
   "source": [
    "Creando números racionales"
   ]
  },
  {
   "cell_type": "code",
   "execution_count": 68,
   "id": "d7414bea",
   "metadata": {},
   "outputs": [
    {
     "data": {
      "image/png": "[encoded data removed]",
      "text/latex": [
       "$\\displaystyle \\frac{8}{5}$"
      ],
      "text/plain": [
       "8/5"
      ]
     },
     "execution_count": 68,
     "metadata": {},
     "output_type": "execute_result"
    }
   ],
   "source": [
    "sympy.Rational(8, 5)"
   ]
  },
  {
   "cell_type": "code",
   "execution_count": 69,
   "id": "9a2ac211",
   "metadata": {},
   "outputs": [],
   "source": [
    "a1 = sympy.Rational(6, 5)\n",
    "a2 = sympy.Rational(5, 6)"
   ]
  },
  {
   "cell_type": "code",
   "execution_count": 71,
   "id": "65ccdbd1",
   "metadata": {},
   "outputs": [
    {
     "data": {
      "image/png": "[encoded data removed]",
      "text/latex": [
       "$\\displaystyle \\frac{6}{5}$"
      ],
      "text/plain": [
       "6/5"
      ]
     },
     "execution_count": 71,
     "metadata": {},
     "output_type": "execute_result"
    }
   ],
   "source": [
    "a1"
   ]
  },
  {
   "cell_type": "code",
   "execution_count": 72,
   "id": "4fd244ef",
   "metadata": {},
   "outputs": [
    {
     "data": {
      "image/png": "[encoded data removed]",
      "text/latex": [
       "$\\displaystyle \\frac{5}{6}$"
      ],
      "text/plain": [
       "5/6"
      ]
     },
     "execution_count": 72,
     "metadata": {},
     "output_type": "execute_result"
    }
   ],
   "source": [
    "a2"
   ]
  },
  {
   "cell_type": "code",
   "execution_count": 73,
   "id": "1087604d",
   "metadata": {},
   "outputs": [
    {
     "data": {
      "image/png": "[encoded data removed]",
      "text/latex": [
       "$\\displaystyle 1$"
      ],
      "text/plain": [
       "1"
      ]
     },
     "execution_count": 73,
     "metadata": {},
     "output_type": "execute_result"
    }
   ],
   "source": [
    "a1 * a2"
   ]
  },
  {
   "cell_type": "code",
   "execution_count": 74,
   "id": "bb392ce7",
   "metadata": {},
   "outputs": [
    {
     "data": {
      "text/plain": [
       "sin"
      ]
     },
     "execution_count": 74,
     "metadata": {},
     "output_type": "execute_result"
    }
   ],
   "source": [
    "sympy.sin"
   ]
  },
  {
   "cell_type": "markdown",
   "id": "decb8ec1",
   "metadata": {},
   "source": [
    "Cuando se aplica a un símbolo abstracto, como x, la función no se evalua, pero cuando es posible se evalúa a un valor numérico"
   ]
  },
  {
   "cell_type": "code",
   "execution_count": 76,
   "id": "90dc81c6",
   "metadata": {},
   "outputs": [
    {
     "data": {
      "image/png": "[encoded data removed]",
      "text/latex": [
       "$\\displaystyle 0$"
      ],
      "text/plain": [
       "0"
      ]
     },
     "execution_count": 76,
     "metadata": {},
     "output_type": "execute_result"
    }
   ],
   "source": [
    "n_example = sympy.Symbol(\"n\", integer=True)\n",
    "sympy.sin(pi * n_example)"
   ]
  },
  {
   "cell_type": "markdown",
   "id": "e3bec5f6",
   "metadata": {},
   "source": [
    "## Funciones Lambda"
   ]
  },
  {
   "cell_type": "code",
   "execution_count": 79,
   "id": "f794f9a6",
   "metadata": {},
   "outputs": [],
   "source": [
    "import numpy as np"
   ]
  },
  {
   "cell_type": "code",
   "execution_count": 93,
   "id": "5cc5022d",
   "metadata": {},
   "outputs": [],
   "source": [
    "function_h = sympy.Lambda(x, x**2 + sympy.exp(x) + sympy.cos(x))"
   ]
  },
  {
   "cell_type": "code",
   "execution_count": 96,
   "id": "9cd4d5b1",
   "metadata": {},
   "outputs": [
    {
     "data": {
      "image/png": "[encoded data removed]",
      "text/latex": [
       "$\\displaystyle \\left( x \\mapsto x^{2} + e^{x} + \\cos{\\left(x \\right)} \\right)$"
      ],
      "text/plain": [
       "     2    x         \n",
       "x ↦ x  + ℯ  + cos(x)"
      ]
     },
     "execution_count": 96,
     "metadata": {},
     "output_type": "execute_result"
    }
   ],
   "source": [
    "function_h"
   ]
  },
  {
   "cell_type": "code",
   "execution_count": 97,
   "id": "0b28b70a",
   "metadata": {},
   "outputs": [
    {
     "data": {
      "image/png": "[encoded data removed]",
      "text/latex": [
       "$\\displaystyle 2.7763038325905$"
      ],
      "text/plain": [
       "2.77630383259050"
      ]
     },
     "execution_count": 97,
     "metadata": {},
     "output_type": "execute_result"
    }
   ],
   "source": [
    "function_h(0.5) #Evaluando en un número definido"
   ]
  },
  {
   "cell_type": "code",
   "execution_count": 98,
   "id": "c246c93a",
   "metadata": {},
   "outputs": [
    {
     "data": {
      "image/png": "[encoded data removed]",
      "text/latex": [
       "$\\displaystyle 2$"
      ],
      "text/plain": [
       "2"
      ]
     },
     "execution_count": 98,
     "metadata": {},
     "output_type": "execute_result"
    }
   ],
   "source": [
    "function_h(0) #Evaluando en un número definido"
   ]
  },
  {
   "cell_type": "code",
   "execution_count": 100,
   "id": "fbd98946",
   "metadata": {},
   "outputs": [
    {
     "data": {
      "image/png": "[encoded data removed]",
      "text/latex": [
       "$\\displaystyle \\cos{\\left(\\frac{6}{5} \\right)} + \\frac{36}{25} + e^{\\frac{6}{5}}$"
      ],
      "text/plain": [
       "           36    6/5\n",
       "cos(6/5) + ── + ℯ   \n",
       "           25       "
      ]
     },
     "execution_count": 100,
     "metadata": {},
     "output_type": "execute_result"
    }
   ],
   "source": [
    "function_h(sympy.Rational(6, 5)) #Evaluando en mas expresiones"
   ]
  },
  {
   "cell_type": "code",
   "execution_count": 104,
   "id": "22323351",
   "metadata": {},
   "outputs": [
    {
     "data": {
      "image/png": "[encoded data removed]",
      "text/latex": [
       "$\\displaystyle \\left(\\sqrt{x} + 6\\right)^{2} + e^{\\sqrt{x} + 6} + \\cos{\\left(\\sqrt{x} + 6 \\right)}$"
      ],
      "text/plain": [
       "        2    √x + 6              \n",
       "(√x + 6)  + ℯ       + cos(√x + 6)"
      ]
     },
     "execution_count": 104,
     "metadata": {},
     "output_type": "execute_result"
    }
   ],
   "source": [
    "function_h(sympy.sqrt(x)+6) # Evaluando funciones"
   ]
  },
  {
   "cell_type": "markdown",
   "id": "e3c72618",
   "metadata": {},
   "source": [
    "## Expresiones"
   ]
  },
  {
   "cell_type": "code",
   "execution_count": 107,
   "id": "11c6a6c1",
   "metadata": {},
   "outputs": [
    {
     "data": {
      "image/png": "[encoded data removed]",
      "text/latex": [
       "$\\displaystyle 4 x^{4} - 3 x^{3} + 2 x^{2} + 1$"
      ],
      "text/plain": [
       "   4      3      2    \n",
       "4⋅x  - 3⋅x  + 2⋅x  + 1"
      ]
     },
     "execution_count": 107,
     "metadata": {},
     "output_type": "execute_result"
    }
   ],
   "source": [
    "x = sympy.Symbol(\"x\")\n",
    "expr = 1 + 2 * x**2 - 3 * x**3 + (4 * x ** 4) #Se puede usar jerarquia de operaciones\n",
    "expr"
   ]
  },
  {
   "cell_type": "code",
   "execution_count": 108,
   "id": "37b9080f",
   "metadata": {},
   "outputs": [
    {
     "data": {
      "image/png": "[encoded data removed]",
      "text/latex": [
       "$\\displaystyle \\left( 1, \\  - 3 x^{3}, \\  2 x^{2}, \\  4 x^{4}\\right)$"
      ],
      "text/plain": [
       "⎛       3     2     4⎞\n",
       "⎝1, -3⋅x , 2⋅x , 4⋅x ⎠"
      ]
     },
     "execution_count": 108,
     "metadata": {},
     "output_type": "execute_result"
    }
   ],
   "source": [
    "expr.args"
   ]
  },
  {
   "cell_type": "code",
   "execution_count": 110,
   "id": "50889af9",
   "metadata": {},
   "outputs": [
    {
     "data": {
      "image/png": "[encoded data removed]",
      "text/latex": [
       "$\\displaystyle 2 x^{2}$"
      ],
      "text/plain": [
       "   2\n",
       "2⋅x "
      ]
     },
     "execution_count": 110,
     "metadata": {},
     "output_type": "execute_result"
    }
   ],
   "source": [
    "expr.args[2] # Tomamos el segundo argumento (2x^2)"
   ]
  },
  {
   "cell_type": "code",
   "execution_count": 111,
   "id": "97c8eb8b",
   "metadata": {},
   "outputs": [
    {
     "data": {
      "image/png": "[encoded data removed]",
      "text/latex": [
       "$\\displaystyle \\left( 2, \\  x^{2}\\right)$"
      ],
      "text/plain": [
       "⎛    2⎞\n",
       "⎝2, x ⎠"
      ]
     },
     "execution_count": 111,
     "metadata": {},
     "output_type": "execute_result"
    }
   ],
   "source": [
    "expr.args[2].args # Vemos los argumentos del segundo argumento (2x^2)"
   ]
  },
  {
   "cell_type": "code",
   "execution_count": 112,
   "id": "282aaff8",
   "metadata": {},
   "outputs": [
    {
     "data": {
      "image/png": "[encoded data removed]",
      "text/latex": [
       "$\\displaystyle x^{2}$"
      ],
      "text/plain": [
       " 2\n",
       "x "
      ]
     },
     "execution_count": 112,
     "metadata": {},
     "output_type": "execute_result"
    }
   ],
   "source": [
    "expr.args[2].args[1]"
   ]
  },
  {
   "cell_type": "code",
   "execution_count": 113,
   "id": "93abc5c6",
   "metadata": {},
   "outputs": [
    {
     "data": {
      "image/png": "[encoded data removed]",
      "text/latex": [
       "$\\displaystyle \\left( x, \\  2\\right)$"
      ],
      "text/plain": [
       "(x, 2)"
      ]
     },
     "execution_count": 113,
     "metadata": {},
     "output_type": "execute_result"
    }
   ],
   "source": [
    "expr.args[2].args[1].args"
   ]
  },
  {
   "cell_type": "markdown",
   "id": "b3b0517c",
   "metadata": {},
   "source": [
    "## Simplificación de expresiones"
   ]
  },
  {
   "cell_type": "code",
   "execution_count": 122,
   "id": "38c7b534",
   "metadata": {},
   "outputs": [],
   "source": [
    "expr1 = 2 * (x**2 - x) - x * (x + 1)"
   ]
  },
  {
   "cell_type": "code",
   "execution_count": 123,
   "id": "c477d5f9",
   "metadata": {},
   "outputs": [
    {
     "data": {
      "image/png": "[encoded data removed]",
      "text/latex": [
       "$\\displaystyle 2 x^{2} - x \\left(x + 1\\right) - 2 x$"
      ],
      "text/plain": [
       "   2                  \n",
       "2⋅x  - x⋅(x + 1) - 2⋅x"
      ]
     },
     "execution_count": 123,
     "metadata": {},
     "output_type": "execute_result"
    }
   ],
   "source": [
    "expr1"
   ]
  },
  {
   "cell_type": "code",
   "execution_count": 125,
   "id": "e9bd77fe",
   "metadata": {},
   "outputs": [
    {
     "data": {
      "image/png": "[encoded data removed]",
      "text/latex": [
       "$\\displaystyle x \\left(x - 3\\right)$"
      ],
      "text/plain": [
       "x⋅(x - 3)"
      ]
     },
     "execution_count": 125,
     "metadata": {},
     "output_type": "execute_result"
    }
   ],
   "source": [
    "sympy.simplify(expr1) #Simplificacion"
   ]
  },
  {
   "cell_type": "code",
   "execution_count": 129,
   "id": "8d2dec80",
   "metadata": {},
   "outputs": [
    {
     "data": {
      "image/png": "[encoded data removed]",
      "text/latex": [
       "$\\displaystyle x \\left(x - 3\\right)$"
      ],
      "text/plain": [
       "x⋅(x - 3)"
      ]
     },
     "execution_count": 129,
     "metadata": {},
     "output_type": "execute_result"
    }
   ],
   "source": [
    "expr1.simplify() #Similar"
   ]
  },
  {
   "cell_type": "markdown",
   "id": "b2f4c7bc",
   "metadata": {},
   "source": [
    "### Algunas simplificaciones extras"
   ]
  },
  {
   "cell_type": "code",
   "execution_count": 136,
   "id": "d41322a1",
   "metadata": {},
   "outputs": [
    {
     "data": {
      "image/png": "[encoded data removed]",
      "text/latex": [
       "$\\displaystyle 2 \\sin{\\left(x \\right)} \\cos{\\left(x \\right)}$"
      ],
      "text/plain": [
       "2⋅sin(x)⋅cos(x)"
      ]
     },
     "execution_count": 136,
     "metadata": {},
     "output_type": "execute_result"
    }
   ],
   "source": [
    "expr2 = 2 * sympy.cos(x) * sympy.sin(x)\n",
    "expr2 # Seno de un angulo doble"
   ]
  },
  {
   "cell_type": "code",
   "execution_count": 137,
   "id": "e9cbc235",
   "metadata": {},
   "outputs": [
    {
     "data": {
      "image/png": "[encoded data removed]",
      "text/latex": [
       "$\\displaystyle \\sin{\\left(2 x \\right)}$"
      ],
      "text/plain": [
       "sin(2⋅x)"
      ]
     },
     "execution_count": 137,
     "metadata": {},
     "output_type": "execute_result"
    }
   ],
   "source": [
    "expr2.simplify()"
   ]
  },
  {
   "cell_type": "code",
   "execution_count": 145,
   "id": "0d7fd1c0",
   "metadata": {},
   "outputs": [
    {
     "data": {
      "image/png": "[encoded data removed]",
      "text/latex": [
       "$\\displaystyle - \\sin^{2}{\\left(x \\right)} + \\cos^{2}{\\left(x \\right)}$"
      ],
      "text/plain": [
       "     2         2   \n",
       "- sin (x) + cos (x)"
      ]
     },
     "execution_count": 145,
     "metadata": {},
     "output_type": "execute_result"
    }
   ],
   "source": [
    "expr3 =sympy.cos(x) ** 2 - sympy.sin(x)** 2\n",
    "expr3 # Coseno de un angulo doble"
   ]
  },
  {
   "cell_type": "code",
   "execution_count": 146,
   "id": "7ae453c7",
   "metadata": {},
   "outputs": [
    {
     "data": {
      "image/png": "[encoded data removed]",
      "text/latex": [
       "$\\displaystyle \\cos{\\left(2 x \\right)}$"
      ],
      "text/plain": [
       "cos(2⋅x)"
      ]
     },
     "execution_count": 146,
     "metadata": {},
     "output_type": "execute_result"
    }
   ],
   "source": [
    "expr3.simplify()"
   ]
  },
  {
   "cell_type": "markdown",
   "id": "dbcae79f",
   "metadata": {},
   "source": [
    "## Expandiendo expresiones"
   ]
  },
  {
   "cell_type": "code",
   "execution_count": 151,
   "id": "aaeb7efa",
   "metadata": {},
   "outputs": [],
   "source": [
    "expr4 = ((x + 1) ** 2 * (x + 2)) ** 2"
   ]
  },
  {
   "cell_type": "code",
   "execution_count": 152,
   "id": "f4c1a548",
   "metadata": {},
   "outputs": [
    {
     "data": {
      "image/png": "[encoded data removed]",
      "text/latex": [
       "$\\displaystyle \\left(x + 1\\right)^{4} \\left(x + 2\\right)^{2}$"
      ],
      "text/plain": [
       "       4        2\n",
       "(x + 1) ⋅(x + 2) "
      ]
     },
     "execution_count": 152,
     "metadata": {},
     "output_type": "execute_result"
    }
   ],
   "source": [
    "expr4"
   ]
  },
  {
   "cell_type": "code",
   "execution_count": 154,
   "id": "40a92e32",
   "metadata": {},
   "outputs": [
    {
     "data": {
      "image/png": "[encoded data removed]",
      "text/latex": [
       "$\\displaystyle x^{6} + 8 x^{5} + 26 x^{4} + 44 x^{3} + 41 x^{2} + 20 x + 4$"
      ],
      "text/plain": [
       " 6      5       4       3       2           \n",
       "x  + 8⋅x  + 26⋅x  + 44⋅x  + 41⋅x  + 20⋅x + 4"
      ]
     },
     "execution_count": 154,
     "metadata": {},
     "output_type": "execute_result"
    }
   ],
   "source": [
    "sympy.expand(expr4)"
   ]
  },
  {
   "cell_type": "code",
   "execution_count": 155,
   "id": "913192f7",
   "metadata": {},
   "outputs": [
    {
     "data": {
      "image/png": "[encoded data removed]",
      "text/latex": [
       "$\\displaystyle \\frac{2 \\tan{\\left(x \\right)}}{1 - \\tan^{2}{\\left(x \\right)}}$"
      ],
      "text/plain": [
       "  2⋅tan(x) \n",
       "───────────\n",
       "       2   \n",
       "1 - tan (x)"
      ]
     },
     "execution_count": 155,
     "metadata": {},
     "output_type": "execute_result"
    }
   ],
   "source": [
    "sympy.tan(x + x ).expand(trig=True) # Tangente(2x)"
   ]
  },
  {
   "cell_type": "code",
   "execution_count": 160,
   "id": "9310363a",
   "metadata": {},
   "outputs": [
    {
     "data": {
      "image/png": "[encoded data removed]",
      "text/latex": [
       "$\\displaystyle i e^{b} \\sin{\\left(a \\right)} + e^{b} \\cos{\\left(a \\right)}$"
      ],
      "text/plain": [
       "   b           b       \n",
       "ⅈ⋅ℯ ⋅sin(a) + ℯ ⋅cos(a)"
      ]
     },
     "execution_count": 160,
     "metadata": {},
     "output_type": "execute_result"
    }
   ],
   "source": [
    "a, b = sympy.symbols(\"a, b\", positive=True)\n",
    "\n",
    "sympy.exp(I*a + b).expand(complex=True)"
   ]
  },
  {
   "cell_type": "markdown",
   "id": "0765103a",
   "metadata": {},
   "source": [
    "## Factorización"
   ]
  },
  {
   "cell_type": "code",
   "execution_count": 161,
   "id": "13bb31de",
   "metadata": {},
   "outputs": [
    {
     "data": {
      "image/png": "[encoded data removed]",
      "text/latex": [
       "$\\displaystyle \\left(x - 1\\right) \\left(x + 1\\right) \\left(x^{2} + 1\\right)$"
      ],
      "text/plain": [
       "                ⎛ 2    ⎞\n",
       "(x - 1)⋅(x + 1)⋅⎝x  + 1⎠"
      ]
     },
     "execution_count": 161,
     "metadata": {},
     "output_type": "execute_result"
    }
   ],
   "source": [
    "sympy.factor(x**4 - 1)"
   ]
  },
  {
   "cell_type": "code",
   "execution_count": 163,
   "id": "6c9a168f",
   "metadata": {},
   "outputs": [
    {
     "data": {
      "image/png": "[encoded data removed]",
      "text/latex": [
       "$\\displaystyle \\left(x + 4\\right)^{2}$"
      ],
      "text/plain": [
       "       2\n",
       "(x + 4) "
      ]
     },
     "execution_count": 163,
     "metadata": {},
     "output_type": "execute_result"
    }
   ],
   "source": [
    "sympy.factor(x**2 + 8 * x + 16)"
   ]
  },
  {
   "cell_type": "markdown",
   "id": "bec76efa",
   "metadata": {},
   "source": [
    "## Combinar"
   ]
  },
  {
   "cell_type": "code",
   "execution_count": 164,
   "id": "1bc95fdb",
   "metadata": {},
   "outputs": [
    {
     "data": {
      "image/png": "[encoded data removed]",
      "text/latex": [
       "$\\displaystyle \\log{\\left(\\frac{a}{b} \\right)}$"
      ],
      "text/plain": [
       "   ⎛a⎞\n",
       "log⎜─⎟\n",
       "   ⎝b⎠"
      ]
     },
     "execution_count": 164,
     "metadata": {},
     "output_type": "execute_result"
    }
   ],
   "source": [
    "sympy.logcombine(sympy.log(a) - sympy.log(b))"
   ]
  },
  {
   "cell_type": "markdown",
   "id": "8564a699",
   "metadata": {},
   "source": [
    "## Colectar"
   ]
  },
  {
   "cell_type": "code",
   "execution_count": 174,
   "id": "7b523c6c",
   "metadata": {},
   "outputs": [
    {
     "data": {
      "image/png": "[encoded data removed]",
      "text/latex": [
       "$\\displaystyle x y z + x z + y z$"
      ],
      "text/plain": [
       "x⋅y⋅z + x⋅z + y⋅z"
      ]
     },
     "execution_count": 174,
     "metadata": {},
     "output_type": "execute_result"
    }
   ],
   "source": [
    "expr5 = x*z + y*z + x * y * z \n",
    "expr5"
   ]
  },
  {
   "cell_type": "code",
   "execution_count": 173,
   "id": "19d3b962",
   "metadata": {},
   "outputs": [
    {
     "data": {
      "image/png": "[encoded data removed]",
      "text/latex": [
       "$\\displaystyle x y z + x y + x z + y z$"
      ],
      "text/plain": [
       "x⋅y⋅z + x⋅y + x⋅z + y⋅z"
      ]
     },
     "execution_count": 173,
     "metadata": {},
     "output_type": "execute_result"
    }
   ],
   "source": [
    "expr5.simplify()"
   ]
  },
  {
   "cell_type": "code",
   "execution_count": 178,
   "id": "1b18d22d",
   "metadata": {},
   "outputs": [
    {
     "data": {
      "image/png": "[encoded data removed]",
      "text/latex": [
       "$\\displaystyle x \\left(y z + z\\right) + y z$"
      ],
      "text/plain": [
       "x⋅(y⋅z + z) + y⋅z"
      ]
     },
     "execution_count": 178,
     "metadata": {},
     "output_type": "execute_result"
    }
   ],
   "source": [
    "expr5.collect(x) #Factorizando por x"
   ]
  },
  {
   "cell_type": "code",
   "execution_count": 179,
   "id": "3ae80dea",
   "metadata": {},
   "outputs": [
    {
     "data": {
      "image/png": "[encoded data removed]",
      "text/latex": [
       "$\\displaystyle x z + y \\left(x z + z\\right)$"
      ],
      "text/plain": [
       "x⋅z + y⋅(x⋅z + z)"
      ]
     },
     "execution_count": 179,
     "metadata": {},
     "output_type": "execute_result"
    }
   ],
   "source": [
    "expr5.collect(y) #Factorizando por y"
   ]
  },
  {
   "cell_type": "code",
   "execution_count": 180,
   "id": "3f010c8f",
   "metadata": {},
   "outputs": [
    {
     "data": {
      "image/png": "[encoded data removed]",
      "text/latex": [
       "$\\displaystyle z \\left(x y + x + y\\right)$"
      ],
      "text/plain": [
       "z⋅(x⋅y + x + y)"
      ]
     },
     "execution_count": 180,
     "metadata": {},
     "output_type": "execute_result"
    }
   ],
   "source": [
    "expr5.collect(z) #Factorizando por z"
   ]
  },
  {
   "cell_type": "code",
   "execution_count": 183,
   "id": "41101308",
   "metadata": {},
   "outputs": [
    {
     "data": {
      "image/png": "[encoded data removed]",
      "text/latex": [
       "$\\displaystyle x z \\left(y + 1\\right) + y z$"
      ],
      "text/plain": [
       "x⋅z⋅(y + 1) + y⋅z"
      ]
     },
     "execution_count": 183,
     "metadata": {},
     "output_type": "execute_result"
    }
   ],
   "source": [
    "expr5.collect(x*z) #Factorizando por x*z"
   ]
  },
  {
   "cell_type": "markdown",
   "id": "a798a2b0",
   "metadata": {},
   "source": [
    "## Fracciones parciales"
   ]
  },
  {
   "cell_type": "code",
   "execution_count": 190,
   "id": "79257c71",
   "metadata": {},
   "outputs": [
    {
     "data": {
      "image/png": "[encoded data removed]",
      "text/latex": [
       "$\\displaystyle - \\frac{1}{x + 5} + \\frac{1}{x + 4}$"
      ],
      "text/plain": [
       "    1       1  \n",
       "- ───── + ─────\n",
       "  x + 5   x + 4"
      ]
     },
     "execution_count": 190,
     "metadata": {},
     "output_type": "execute_result"
    }
   ],
   "source": [
    "sympy.apart(1/(x**2 + 9*x + 20), x)"
   ]
  },
  {
   "cell_type": "code",
   "execution_count": 193,
   "id": "727aeb22",
   "metadata": {},
   "outputs": [
    {
     "data": {
      "image/png": "[encoded data removed]",
      "text/latex": [
       "$\\displaystyle \\frac{1}{x y + y} + \\frac{1}{x + 1}$"
      ],
      "text/plain": [
       "   1        1  \n",
       "─────── + ─────\n",
       "x⋅y + y   x + 1"
      ]
     },
     "execution_count": 193,
     "metadata": {},
     "output_type": "execute_result"
    }
   ],
   "source": [
    "1 / (y * x + y) + 1 / (1+x)"
   ]
  },
  {
   "cell_type": "code",
   "execution_count": 194,
   "id": "204d27d0",
   "metadata": {},
   "outputs": [
    {
     "data": {
      "image/png": "[encoded data removed]",
      "text/latex": [
       "$\\displaystyle \\frac{y + 1}{y \\left(x + 1\\right)}$"
      ],
      "text/plain": [
       "  y + 1  \n",
       "─────────\n",
       "y⋅(x + 1)"
      ]
     },
     "execution_count": 194,
     "metadata": {},
     "output_type": "execute_result"
    }
   ],
   "source": [
    "sympy.together(1 / (y * x + y) + 1 / (1+x))"
   ]
  },
  {
   "cell_type": "code",
   "execution_count": 195,
   "id": "d4b5e7ff",
   "metadata": {},
   "outputs": [
    {
     "data": {
      "image/png": "[encoded data removed]",
      "text/latex": [
       "$\\displaystyle \\frac{1}{x + 1}$"
      ],
      "text/plain": [
       "  1  \n",
       "─────\n",
       "x + 1"
      ]
     },
     "execution_count": 195,
     "metadata": {},
     "output_type": "execute_result"
    }
   ],
   "source": [
    "sympy.cancel(y / (y * x + y))"
   ]
  },
  {
   "cell_type": "markdown",
   "id": "4a161d6a",
   "metadata": {},
   "source": [
    "## Sustituciones"
   ]
  },
  {
   "cell_type": "code",
   "execution_count": 198,
   "id": "601ea456",
   "metadata": {},
   "outputs": [
    {
     "data": {
      "image/png": "[encoded data removed]",
      "text/latex": [
       "$\\displaystyle x + y$"
      ],
      "text/plain": [
       "x + y"
      ]
     },
     "execution_count": 198,
     "metadata": {},
     "output_type": "execute_result"
    }
   ],
   "source": [
    "x + y"
   ]
  },
  {
   "cell_type": "code",
   "execution_count": 199,
   "id": "7fd9a338",
   "metadata": {},
   "outputs": [
    {
     "data": {
      "image/png": "[encoded data removed]",
      "text/latex": [
       "$\\displaystyle 2 y$"
      ],
      "text/plain": [
       "2⋅y"
      ]
     },
     "execution_count": 199,
     "metadata": {},
     "output_type": "execute_result"
    }
   ],
   "source": [
    "(x + y).subs(x, y) # Sustituir x por y"
   ]
  },
  {
   "cell_type": "code",
   "execution_count": 205,
   "id": "3ea58cf0",
   "metadata": {},
   "outputs": [
    {
     "data": {
      "image/png": "[encoded data removed]",
      "text/latex": [
       "$\\displaystyle \\sin{\\left(2 y e^{x} + \\cos{\\left(2 y \\right)} \\right)}$"
      ],
      "text/plain": [
       "   ⎛     x           ⎞\n",
       "sin⎝2⋅y⋅ℯ  + cos(2⋅y)⎠"
      ]
     },
     "execution_count": 205,
     "metadata": {},
     "output_type": "execute_result"
    }
   ],
   "source": [
    "sympy.sin(2*y * sympy.exp(x) + sympy.cos(2 * y))"
   ]
  },
  {
   "cell_type": "code",
   "execution_count": 207,
   "id": "364a1990",
   "metadata": {},
   "outputs": [
    {
     "data": {
      "image/png": "[encoded data removed]",
      "text/latex": [
       "$\\displaystyle \\sin{\\left(2 x e^{x} + \\cos{\\left(2 x \\right)} \\right)}$"
      ],
      "text/plain": [
       "   ⎛     x           ⎞\n",
       "sin⎝2⋅x⋅ℯ  + cos(2⋅x)⎠"
      ]
     },
     "execution_count": 207,
     "metadata": {},
     "output_type": "execute_result"
    }
   ],
   "source": [
    "sympy.sin(2*y * sympy.exp(x) + sympy.cos(2 * y)).subs(y, x) #Sustituir y por x"
   ]
  }
 ],
 "metadata": {
  "kernelspec": {
   "display_name": "Python 3 (ipykernel)",
   "language": "python",
   "name": "python3"
  },
  "language_info": {
   "codemirror_mode": {
    "name": "ipython",
    "version": 3
   },
   "file_extension": ".py",
   "mimetype": "text/x-python",
   "name": "python",
   "nbconvert_exporter": "python",
   "pygments_lexer": "ipython3",
   "version": "3.9.7"
  }
 },
 "nbformat": 4,
 "nbformat_minor": 5
}
