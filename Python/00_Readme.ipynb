{
 "cells": [
  {
   "cell_type": "markdown",
   "id": "d63229e8",
   "metadata": {},
   "source": [
    "# Readme\n",
    "\n",
    "Este un notebook para correr código en lenguaje **python**. Un notebook es un documento web de una lista ordenadas de celdas, en estas puede escribirse código en \n",
    "\n",
    "1. Python\n",
    "2. HTML\n",
    "3. PDF\n",
    "4. Markdown\n",
    "\n",
    "Lo hace atractivo por lo fácil de usarse y la comodidad que provee para la mayoría de usarios.\n",
    "\n",
    "En esta carpeta se anexaran programas en Python que se vayan desarrollando en este lenguaje de programación."
   ]
  },
  {
   "cell_type": "code",
   "execution_count": 1,
   "id": "51466eb1",
   "metadata": {},
   "outputs": [
    {
     "name": "stdout",
     "output_type": "stream",
     "text": [
      "Hola Mundo. Soy Alejandro Zavala \n",
      "Bienvenidos y disfruten del contenido que estaré subiendo\n"
     ]
    }
   ],
   "source": [
    "print(\"Hola Mundo. Soy Alejandro Zavala \\nBienvenidos y disfruten del contenido que estaré subiendo\")"
   ]
  },
  {
   "cell_type": "markdown",
   "id": "770a60ac",
   "metadata": {},
   "source": [
    "A continuación dejo mi información de contacto\n",
    "\n",
    "\n",
    "Mail: alejandro.zavala1001@gmail.com\n",
    "\n",
    "Facebook: https://www.facebook.com/AlejandroZavala1001\n",
    "\n",
    "Git: https://github.com/AlejandroZavala98"
   ]
  },
  {
   "cell_type": "code",
   "execution_count": null,
   "id": "251e2a3b",
   "metadata": {},
   "outputs": [],
   "source": []
  }
 ],
 "metadata": {
  "kernelspec": {
   "display_name": "Python 3",
   "language": "python",
   "name": "python3"
  },
  "language_info": {
   "codemirror_mode": {
    "name": "ipython",
    "version": 3
   },
   "file_extension": ".py",
   "mimetype": "text/x-python",
   "name": "python",
   "nbconvert_exporter": "python",
   "pygments_lexer": "ipython3",
   "version": "3.9.5"
  }
 },
 "nbformat": 4,
 "nbformat_minor": 5
}
