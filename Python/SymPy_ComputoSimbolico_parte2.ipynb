{
 "cells": [
  {
   "cell_type": "markdown",
   "id": "7013d981",
   "metadata": {},
   "source": [
    "# Cómputo simbólico (Parte 2)"
   ]
  },
  {
   "cell_type": "code",
   "execution_count": 36,
   "id": "20b92728",
   "metadata": {},
   "outputs": [],
   "source": [
    "import sympy #Importando la libreria\n",
    "import numpy as np\n",
    "import matplotlib.pyplot as plt"
   ]
  },
  {
   "cell_type": "markdown",
   "id": "a591ab4f",
   "metadata": {},
   "source": [
    "Si todo lo que desea es la mejor impresión bonita, use la función init_printing (). Esto habilitará automáticamente la mejor impresora disponible en su entorno. "
   ]
  },
  {
   "cell_type": "code",
   "execution_count": 2,
   "id": "abd7cf85",
   "metadata": {},
   "outputs": [],
   "source": [
    "sympy.init_printing()"
   ]
  },
  {
   "cell_type": "markdown",
   "id": "24935a39",
   "metadata": {},
   "source": [
    "## Sustituciones"
   ]
  },
  {
   "cell_type": "code",
   "execution_count": 5,
   "id": "e1963527",
   "metadata": {},
   "outputs": [
    {
     "data": {
      "image/png": "[encoded data removed]",
      "text/latex": [
       "$\\displaystyle x_{1} x_{2} + 2 x_{1}$"
      ],
      "text/plain": [
       "x₁⋅x₂ + 2⋅x₁"
      ]
     },
     "execution_count": 5,
     "metadata": {},
     "output_type": "execute_result"
    }
   ],
   "source": [
    "x1 = sympy.Symbol('x1')\n",
    "x2 = sympy.Symbol('x2')\n",
    "expr = x1 * x2 + 2 * x1\n",
    "expr #Funcion inicial expr(x1,x2)"
   ]
  },
  {
   "cell_type": "code",
   "execution_count": 9,
   "id": "412a6ffc",
   "metadata": {},
   "outputs": [
    {
     "data": {
      "image/png": "[encoded data removed]",
      "text/latex": [
       "$\\displaystyle 1.75$"
      ],
      "text/plain": [
       "1.75000000000000"
      ]
     },
     "execution_count": 9,
     "metadata": {},
     "output_type": "execute_result"
    }
   ],
   "source": [
    "values1 ={ 'x1': 0.5, 'x2':1.5}\n",
    "expr.subs(values1) #Funcion evaluada en expr(x1=0.5,x2=1.5x|)"
   ]
  },
  {
   "cell_type": "code",
   "execution_count": 10,
   "id": "b9d81760",
   "metadata": {},
   "outputs": [
    {
     "data": {
      "image/png": "[encoded data removed]",
      "text/latex": [
       "$\\displaystyle x y + 2 x$"
      ],
      "text/plain": [
       "x⋅y + 2⋅x"
      ]
     },
     "execution_count": 10,
     "metadata": {},
     "output_type": "execute_result"
    }
   ],
   "source": [
    "values2 ={ 'x1': sympy.Symbol('x'), 'x2':sympy.Symbol('y')}\n",
    "expr.subs(values2) #Funcion evaluada en expr(x,y)"
   ]
  },
  {
   "cell_type": "markdown",
   "id": "a7fc4df5",
   "metadata": {},
   "source": [
    "## Evaluación numérica"
   ]
  },
  {
   "cell_type": "code",
   "execution_count": 12,
   "id": "afe42e86",
   "metadata": {},
   "outputs": [
    {
     "data": {
      "image/png": "[encoded data removed]",
      "text/latex": [
       "$\\displaystyle 4.14159265358979$"
      ],
      "text/plain": [
       "4.14159265358979"
      ]
     },
     "execution_count": 12,
     "metadata": {},
     "output_type": "execute_result"
    }
   ],
   "source": [
    "sympy.N(1 + sympy.pi) # 1+pi"
   ]
  },
  {
   "cell_type": "code",
   "execution_count": 14,
   "id": "49d11ff3",
   "metadata": {},
   "outputs": [
    {
     "data": {
      "image/png": "[encoded data removed]",
      "text/latex": [
       "$\\displaystyle 3 x_{1} + 45$"
      ],
      "text/plain": [
       "3⋅x₁ + 45"
      ]
     },
     "execution_count": 14,
     "metadata": {},
     "output_type": "execute_result"
    }
   ],
   "source": [
    "expr_recta = 3*x1 + 45\n",
    "expr_recta"
   ]
  },
  {
   "cell_type": "code",
   "execution_count": 17,
   "id": "9ea76b79",
   "metadata": {},
   "outputs": [
    {
     "data": {
      "image/png": "[encoded data removed]",
      "text/latex": [
       "$\\displaystyle 48.0$"
      ],
      "text/plain": [
       "48.0"
      ]
     },
     "execution_count": 17,
     "metadata": {},
     "output_type": "execute_result"
    }
   ],
   "source": [
    "expr_recta.subs(x1,1).evalf(3)"
   ]
  },
  {
   "cell_type": "markdown",
   "id": "5e4a089b",
   "metadata": {},
   "source": [
    "Ahora para mas variables"
   ]
  },
  {
   "cell_type": "code",
   "execution_count": 24,
   "id": "74fff0e5",
   "metadata": {},
   "outputs": [
    {
     "data": {
      "image/png": "[encoded data removed]",
      "text/latex": [
       "$\\displaystyle 2 x^{3} + 4 x y - 8 z$"
      ],
      "text/plain": [
       "   3              \n",
       "2⋅x  + 4⋅x⋅y - 8⋅z"
      ]
     },
     "execution_count": 24,
     "metadata": {},
     "output_type": "execute_result"
    }
   ],
   "source": [
    "x, y, z = sympy.symbols(\"x y z\")\n",
    "expr_3var = 2 * x**3 + 4*x*y - 8 * z\n",
    "expr_3var"
   ]
  },
  {
   "cell_type": "code",
   "execution_count": 25,
   "id": "5978e847",
   "metadata": {},
   "outputs": [
    {
     "data": {
      "image/png": "[encoded data removed]",
      "text/latex": [
       "$\\displaystyle 48$"
      ],
      "text/plain": [
       "48"
      ]
     },
     "execution_count": 25,
     "metadata": {},
     "output_type": "execute_result"
    }
   ],
   "source": [
    "expr_3var.subs([(x, 2), (y, 4), (z, 0)]) # Funcion evaluada en f(2,4,0)"
   ]
  },
  {
   "cell_type": "code",
   "execution_count": 30,
   "id": "fc42038d",
   "metadata": {},
   "outputs": [
    {
     "data": {
      "image/png": "[encoded data removed]",
      "text/latex": [
       "$\\displaystyle - 16.0 z + 4.0 e^{y} \\cos{\\left(x \\right)} + 2.0 \\cos^{3}{\\left(x \\right)}$"
      ],
      "text/plain": [
       "               y                 3   \n",
       "-16.0⋅z + 4.0⋅ℯ ⋅cos(x) + 2.0⋅cos (x)"
      ]
     },
     "execution_count": 30,
     "metadata": {},
     "output_type": "execute_result"
    }
   ],
   "source": [
    "expr_3var.subs([(x, sympy.cos(x)), (y, sympy.exp(y)), (z, 2*z)]) # Funcion evaluada en f(cos(x),e^x,2*z)"
   ]
  },
  {
   "cell_type": "markdown",
   "id": "d8bac610",
   "metadata": {},
   "source": [
    "# Un método mas usual"
   ]
  },
  {
   "cell_type": "code",
   "execution_count": 33,
   "id": "596c908a",
   "metadata": {},
   "outputs": [
    {
     "data": {
      "image/png": "[encoded data removed]",
      "text/latex": [
       "$\\displaystyle \\sin{\\left(\\pi x e^{x} \\right)}$"
      ],
      "text/plain": [
       "   ⎛     x⎞\n",
       "sin⎝π⋅x⋅ℯ ⎠"
      ]
     },
     "execution_count": 33,
     "metadata": {},
     "output_type": "execute_result"
    }
   ],
   "source": [
    "expr_fin = sympy.sin(sympy.pi * x * sympy.exp(x))\n",
    "expr_fin"
   ]
  },
  {
   "cell_type": "code",
   "execution_count": 37,
   "id": "fd064747",
   "metadata": {},
   "outputs": [
    {
     "data": {
      "text/plain": [
       "array([ 0.        ,  0.77394269,  0.64198244,  0.72163867,  0.94361635,\n",
       "        0.20523391,  0.97398794,  0.97734066, -0.87034418, -0.69512687,\n",
       "        0.879394  , -0.98294789])"
      ]
     },
     "execution_count": 37,
     "metadata": {},
     "output_type": "execute_result"
    }
   ],
   "source": [
    "expr_funct = sympy.lambdify(x, expr_fin, 'numpy')\n",
    "x_val = np.arange(0, 12)\n",
    "expr_funct(x_val)"
   ]
  },
  {
   "cell_type": "code",
   "execution_count": 40,
   "id": "bd1c6495",
   "metadata": {},
   "outputs": [
    {
     "data": {
      "text/plain": [
       "[<matplotlib.lines.Line2D at 0x1a323905b80>]"
      ]
     },
     "execution_count": 40,
     "metadata": {},
     "output_type": "execute_result"
    },
    {
     "data": {
      "image/png": "[encoded data removed]",
      "text/plain": [
       "<Figure size 432x288 with 1 Axes>"
      ]
     },
     "metadata": {
      "needs_background": "light"
     },
     "output_type": "display_data"
    }
   ],
   "source": [
    "plt.plot(x_val,expr_funct(x_val))"
   ]
  },
  {
   "cell_type": "markdown",
   "id": "a7b26102",
   "metadata": {},
   "source": [
    "Ahora retomando una función ya creada"
   ]
  },
  {
   "cell_type": "code",
   "execution_count": 42,
   "id": "c3e44f08",
   "metadata": {},
   "outputs": [
    {
     "data": {
      "image/png": "[encoded data removed]",
      "text/latex": [
       "$\\displaystyle 2 x^{3} + 4 x y - 8 z$"
      ],
      "text/plain": [
       "   3              \n",
       "2⋅x  + 4⋅x⋅y - 8⋅z"
      ]
     },
     "execution_count": 42,
     "metadata": {},
     "output_type": "execute_result"
    }
   ],
   "source": [
    "expr_3var"
   ]
  },
  {
   "cell_type": "code",
   "execution_count": 49,
   "id": "31442ff5",
   "metadata": {},
   "outputs": [
    {
     "data": {
      "text/plain": [
       "array([-160, -122,  -64,   26,  160,  350,  608,  946, 1376, 1910, 2560,\n",
       "       3338])"
      ]
     },
     "execution_count": 49,
     "metadata": {},
     "output_type": "execute_result"
    }
   ],
   "source": [
    "expr_3var_l = sympy.lambdify((x,y,z), expr_3var, 'numpy')\n",
    "x_val = np.arange(0, 12)\n",
    "y_val = np.arange(10,22)\n",
    "z_val = np.arange(20,32)\n",
    "expr_3var_l(x_val,y_val,z_val)"
   ]
  },
  {
   "cell_type": "markdown",
   "id": "f4b41834",
   "metadata": {},
   "source": [
    "## Derivadas"
   ]
  },
  {
   "cell_type": "code",
   "execution_count": 63,
   "id": "79a054a5",
   "metadata": {},
   "outputs": [
    {
     "data": {
      "image/png": "[encoded data removed]",
      "text/latex": [
       "$\\displaystyle f{\\left(x \\right)}$"
      ],
      "text/plain": [
       "f(x)"
      ]
     },
     "execution_count": 63,
     "metadata": {},
     "output_type": "execute_result"
    }
   ],
   "source": [
    "x = sympy.Symbol('x')\n",
    "f = sympy.Function('f')(x)\n",
    "f"
   ]
  },
  {
   "cell_type": "code",
   "execution_count": 54,
   "id": "2f6ce3f4",
   "metadata": {},
   "outputs": [
    {
     "data": {
      "image/png": "[encoded data removed]",
      "text/latex": [
       "$\\displaystyle \\frac{d}{d x} f{\\left(x \\right)}$"
      ],
      "text/plain": [
       "d       \n",
       "──(f(x))\n",
       "dx      "
      ]
     },
     "execution_count": 54,
     "metadata": {},
     "output_type": "execute_result"
    }
   ],
   "source": [
    "sympy.diff(f,x) #primera derivada"
   ]
  },
  {
   "cell_type": "code",
   "execution_count": 55,
   "id": "2252f99f",
   "metadata": {},
   "outputs": [
    {
     "data": {
      "image/png": "[encoded data removed]",
      "text/latex": [
       "$\\displaystyle \\frac{d^{2}}{d x^{2}} f{\\left(x \\right)}$"
      ],
      "text/plain": [
       "  2      \n",
       " d       \n",
       "───(f(x))\n",
       "  2      \n",
       "dx       "
      ]
     },
     "execution_count": 55,
     "metadata": {},
     "output_type": "execute_result"
    }
   ],
   "source": [
    "sympy.diff(f,x,x) #segunda derivada"
   ]
  },
  {
   "cell_type": "code",
   "execution_count": 56,
   "id": "211468c1",
   "metadata": {},
   "outputs": [
    {
     "data": {
      "image/png": "[encoded data removed]",
      "text/latex": [
       "$\\displaystyle \\frac{d^{3}}{d x^{3}} f{\\left(x \\right)}$"
      ],
      "text/plain": [
       "  3      \n",
       " d       \n",
       "───(f(x))\n",
       "  3      \n",
       "dx       "
      ]
     },
     "execution_count": 56,
     "metadata": {},
     "output_type": "execute_result"
    }
   ],
   "source": [
    "sympy.diff(f,x,3) # equivalente a sympy.diff(f,x,x,x)"
   ]
  },
  {
   "cell_type": "markdown",
   "id": "6055c67e",
   "metadata": {},
   "source": [
    "Para cálculo de varias variables"
   ]
  },
  {
   "cell_type": "code",
   "execution_count": 57,
   "id": "c08847c8",
   "metadata": {},
   "outputs": [],
   "source": [
    "g = sympy.Function('g')(x,y)"
   ]
  },
  {
   "cell_type": "code",
   "execution_count": 61,
   "id": "6d8f4746",
   "metadata": {},
   "outputs": [
    {
     "data": {
      "image/png": "[encoded data removed]",
      "text/latex": [
       "$\\displaystyle \\frac{\\partial^{5}}{\\partial y^{3}\\partial x^{2}} g{\\left(x,y \\right)}$"
      ],
      "text/plain": [
       "    5           \n",
       "   ∂            \n",
       "───────(g(x, y))\n",
       "  3   2         \n",
       "∂y  ∂x          "
      ]
     },
     "execution_count": 61,
     "metadata": {},
     "output_type": "execute_result"
    }
   ],
   "source": [
    "sympy.diff(g,x,2,y,3)"
   ]
  },
  {
   "cell_type": "markdown",
   "id": "785c4418",
   "metadata": {},
   "source": [
    "Veamos un ejemplo en una variable"
   ]
  },
  {
   "cell_type": "code",
   "execution_count": 70,
   "id": "72a91cc5",
   "metadata": {},
   "outputs": [
    {
     "data": {
      "image/png": "[encoded data removed]",
      "text/latex": [
       "$\\displaystyle 5 x^{3} - 2 x^{2} + x + \\sin{\\left(x \\right)} + \\pi$"
      ],
      "text/plain": [
       "   3      2                 \n",
       "5⋅x  - 2⋅x  + x + sin(x) + π"
      ]
     },
     "execution_count": 70,
     "metadata": {},
     "output_type": "execute_result"
    }
   ],
   "source": [
    "f1_toDeriva = 5 * x**3 - 2 * x**2 + x + sympy.pi + sympy.sin(x)\n",
    "f1_toDeriva # Funcion inicial"
   ]
  },
  {
   "cell_type": "code",
   "execution_count": 71,
   "id": "ef6c991f",
   "metadata": {},
   "outputs": [
    {
     "data": {
      "image/png": "[encoded data removed]",
      "text/latex": [
       "$\\displaystyle 15 x^{2} - 4 x + \\cos{\\left(x \\right)} + 1$"
      ],
      "text/plain": [
       "    2                   \n",
       "15⋅x  - 4⋅x + cos(x) + 1"
      ]
     },
     "execution_count": 71,
     "metadata": {},
     "output_type": "execute_result"
    }
   ],
   "source": [
    "f1_toDeriva.diff(x) # Primera derivada"
   ]
  },
  {
   "cell_type": "code",
   "execution_count": 73,
   "id": "2d580230",
   "metadata": {},
   "outputs": [
    {
     "data": {
      "image/png": "[encoded data removed]",
      "text/latex": [
       "$\\displaystyle 30 x - \\sin{\\left(x \\right)} - 4$"
      ],
      "text/plain": [
       "30⋅x - sin(x) - 4"
      ]
     },
     "execution_count": 73,
     "metadata": {},
     "output_type": "execute_result"
    }
   ],
   "source": [
    "f1_toDeriva.diff(x,2) # Segunda derivada"
   ]
  },
  {
   "cell_type": "markdown",
   "id": "8141f492",
   "metadata": {},
   "source": [
    "Veamos un ejemplo en varias variables"
   ]
  },
  {
   "cell_type": "code",
   "execution_count": 103,
   "id": "7e90fad2",
   "metadata": {},
   "outputs": [
    {
     "data": {
      "image/png": "[encoded data removed]",
      "text/latex": [
       "$\\displaystyle 2 x^{3} y^{6} z^{6} + 4 z \\log{\\left(y z \\right)} - 8 \\cos{\\left(x y \\right)}$"
      ],
      "text/plain": [
       "   3  6  6                            \n",
       "2⋅x ⋅y ⋅z  + 4⋅z⋅log(y⋅z) - 8⋅cos(x⋅y)"
      ]
     },
     "execution_count": 103,
     "metadata": {},
     "output_type": "execute_result"
    }
   ],
   "source": [
    "x, y, z = sympy.symbols(\"x y z\")\n",
    "f2_toDeriva = 2 * x**3 * y ** 6 * z **6 + 4*z* sympy.log(z*y) - 8 * sympy.cos(x*y)\n",
    "f2_toDeriva"
   ]
  },
  {
   "cell_type": "code",
   "execution_count": 104,
   "id": "ff1780d3",
   "metadata": {},
   "outputs": [
    {
     "data": {
      "image/png": "[encoded data removed]",
      "text/latex": [
       "$\\displaystyle 6 x^{2} y^{6} z^{6} + 8 y \\sin{\\left(x y \\right)}$"
      ],
      "text/plain": [
       "   2  6  6               \n",
       "6⋅x ⋅y ⋅z  + 8⋅y⋅sin(x⋅y)"
      ]
     },
     "execution_count": 104,
     "metadata": {},
     "output_type": "execute_result"
    }
   ],
   "source": [
    "f2_toDeriva.diff(x)# Derivada parcial respecto a x"
   ]
  },
  {
   "cell_type": "code",
   "execution_count": 105,
   "id": "35f00375",
   "metadata": {},
   "outputs": [
    {
     "data": {
      "image/png": "[encoded data removed]",
      "text/latex": [
       "$\\displaystyle 4 \\left(9 x^{2} y^{5} z^{6} + 2 x y \\cos{\\left(x y \\right)} + 2 \\sin{\\left(x y \\right)}\\right)$"
      ],
      "text/plain": [
       "  ⎛   2  5  6                              ⎞\n",
       "4⋅⎝9⋅x ⋅y ⋅z  + 2⋅x⋅y⋅cos(x⋅y) + 2⋅sin(x⋅y)⎠"
      ]
     },
     "execution_count": 105,
     "metadata": {},
     "output_type": "execute_result"
    }
   ],
   "source": [
    "f2_toDeriva.diff(x,y)# Derivada parcial respecto a x, despues a y"
   ]
  },
  {
   "cell_type": "code",
   "execution_count": 107,
   "id": "eea55c70",
   "metadata": {},
   "outputs": [
    {
     "data": {
      "image/png": "[encoded data removed]",
      "text/latex": [
       "$\\displaystyle 216 x^{2} y^{5} z^{5}$"
      ],
      "text/plain": [
       "     2  5  5\n",
       "216⋅x ⋅y ⋅z "
      ]
     },
     "execution_count": 107,
     "metadata": {},
     "output_type": "execute_result"
    }
   ],
   "source": [
    "f2_toDeriva.diff(x,y,z)# Derivada parcial respecto a x, despues a y, despues a z"
   ]
  },
  {
   "cell_type": "code",
   "execution_count": 113,
   "id": "357b3b6a",
   "metadata": {},
   "outputs": [
    {
     "data": {
      "image/png": "[encoded data removed]",
      "text/latex": [
       "$\\displaystyle \\frac{\\partial^{11}}{\\partial z^{6}\\partial y^{3}\\partial x^{2}} \\left(2 x^{3} y^{6} z^{6} + 4 z \\log{\\left(y z \\right)} - 8 \\cos{\\left(x y \\right)}\\right)$"
      ],
      "text/plain": [
       "     11                                            \n",
       "    ∂      ⎛   3  6  6                            ⎞\n",
       "───────────⎝2⋅x ⋅y ⋅z  + 4⋅z⋅log(y⋅z) - 8⋅cos(x⋅y)⎠\n",
       "  6   3   2                                        \n",
       "∂z  ∂y  ∂x                                         "
      ]
     },
     "execution_count": 113,
     "metadata": {},
     "output_type": "execute_result"
    }
   ],
   "source": [
    "sympy.Derivative(f2_toDeriva,x,2,y,3,z,6) # Expresando solamente"
   ]
  },
  {
   "cell_type": "markdown",
   "id": "140fb33b",
   "metadata": {},
   "source": [
    "## Integrales"
   ]
  },
  {
   "cell_type": "code",
   "execution_count": 116,
   "id": "9d70e97b",
   "metadata": {},
   "outputs": [
    {
     "data": {
      "image/png": "[encoded data removed]",
      "text/latex": [
       "$\\displaystyle f{\\left(x \\right)}$"
      ],
      "text/plain": [
       "f(x)"
      ]
     },
     "execution_count": 116,
     "metadata": {},
     "output_type": "execute_result"
    }
   ],
   "source": [
    "a , b = sympy.symbols(' a , b')\n",
    "x = sympy.Symbol('x')\n",
    "f = sympy.Function('f')(x)\n",
    "f"
   ]
  },
  {
   "cell_type": "code",
   "execution_count": 117,
   "id": "c3d92fff",
   "metadata": {},
   "outputs": [
    {
     "data": {
      "image/png": "[encoded data removed]",
      "text/latex": [
       "$\\displaystyle \\int f{\\left(x \\right)}\\, dx$"
      ],
      "text/plain": [
       "⌠        \n",
       "⎮ f(x) dx\n",
       "⌡        "
      ]
     },
     "execution_count": 117,
     "metadata": {},
     "output_type": "execute_result"
    }
   ],
   "source": [
    "sympy.integrate(f) # Integral indefinida"
   ]
  },
  {
   "cell_type": "code",
   "execution_count": 121,
   "id": "8e959c98",
   "metadata": {},
   "outputs": [
    {
     "data": {
      "image/png": "[encoded data removed]",
      "text/latex": [
       "$\\displaystyle \\int\\limits_{a}^{b} f{\\left(x \\right)}\\, dx$"
      ],
      "text/plain": [
       "b        \n",
       "⌠        \n",
       "⎮ f(x) dx\n",
       "⌡        \n",
       "a        "
      ]
     },
     "execution_count": 121,
     "metadata": {},
     "output_type": "execute_result"
    }
   ],
   "source": [
    "sympy.integrate(f, (x,a,b))"
   ]
  },
  {
   "cell_type": "code",
   "execution_count": 124,
   "id": "a16b6b13",
   "metadata": {},
   "outputs": [
    {
     "data": {
      "image/png": "[encoded data removed]",
      "text/latex": [
       "$\\displaystyle - \\cos{\\left(x \\right)}$"
      ],
      "text/plain": [
       "-cos(x)"
      ]
     },
     "execution_count": 124,
     "metadata": {},
     "output_type": "execute_result"
    }
   ],
   "source": [
    "sympy.integrate(sympy.sin(x)) # Integral de sen(x)"
   ]
  },
  {
   "cell_type": "code",
   "execution_count": 127,
   "id": "7b2235a0",
   "metadata": {},
   "outputs": [
    {
     "data": {
      "image/png": "[encoded data removed]",
      "text/latex": [
       "$\\displaystyle \\cos{\\left(2 \\right)} - \\cos{\\left(3 \\right)}$"
      ],
      "text/plain": [
       "cos(2) - cos(3)"
      ]
     },
     "execution_count": 127,
     "metadata": {},
     "output_type": "execute_result"
    }
   ],
   "source": [
    "sympy.integrate(sympy.sin(x), (x,2,3)) # Integral de sen(x) en el intervalo [2,3]"
   ]
  },
  {
   "cell_type": "markdown",
   "id": "aea8c80e",
   "metadata": {},
   "source": [
    "Fallos de integral"
   ]
  },
  {
   "cell_type": "code",
   "execution_count": 128,
   "id": "ddbe7da0",
   "metadata": {},
   "outputs": [
    {
     "data": {
      "image/png": "[encoded data removed]",
      "text/latex": [
       "$\\displaystyle \\int \\sin{\\left(x \\cos{\\left(x \\right)} \\right)}\\, dx$"
      ],
      "text/plain": [
       "⌠                 \n",
       "⎮ sin(x⋅cos(x)) dx\n",
       "⌡                 "
      ]
     },
     "execution_count": 128,
     "metadata": {},
     "output_type": "execute_result"
    }
   ],
   "source": [
    "sympy.integrate(sympy.sin(x * sympy.cos(x)))"
   ]
  },
  {
   "cell_type": "markdown",
   "id": "7873f30a",
   "metadata": {},
   "source": [
    "Expresiones multivariables para integrar en python"
   ]
  },
  {
   "cell_type": "code",
   "execution_count": 134,
   "id": "e1594e64",
   "metadata": {},
   "outputs": [
    {
     "data": {
      "image/png": "[encoded data removed]",
      "text/latex": [
       "$\\displaystyle \\left(x + y\\right)^{3}$"
      ],
      "text/plain": [
       "       3\n",
       "(x + y) "
      ]
     },
     "execution_count": 134,
     "metadata": {},
     "output_type": "execute_result"
    }
   ],
   "source": [
    "expr_multi = (x + y) ** 3\n",
    "expr_multi"
   ]
  },
  {
   "cell_type": "code",
   "execution_count": 141,
   "id": "8ddb2786",
   "metadata": {},
   "outputs": [
    {
     "data": {
      "image/png": "[encoded data removed]",
      "text/latex": [
       "$\\displaystyle x^{3} y + \\frac{3 x^{2} y^{2}}{2} + x y^{3} + \\frac{y^{4}}{4}$"
      ],
      "text/plain": [
       "          2  2           4\n",
       " 3     3⋅x ⋅y       3   y \n",
       "x ⋅y + ─────── + x⋅y  + ──\n",
       "          2             4 "
      ]
     },
     "execution_count": 141,
     "metadata": {},
     "output_type": "execute_result"
    }
   ],
   "source": [
    "sympy.integrate(expr_multi,y)"
   ]
  },
  {
   "cell_type": "code",
   "execution_count": 142,
   "id": "b233ca83",
   "metadata": {},
   "outputs": [
    {
     "data": {
      "image/png": "[encoded data removed]",
      "text/latex": [
       "$\\displaystyle \\frac{x^{4}}{4} + x^{3} y + \\frac{3 x^{2} y^{2}}{2} + x y^{3}$"
      ],
      "text/plain": [
       " 4             2  2       \n",
       "x     3     3⋅x ⋅y       3\n",
       "── + x ⋅y + ─────── + x⋅y \n",
       "4              2          "
      ]
     },
     "execution_count": 142,
     "metadata": {},
     "output_type": "execute_result"
    }
   ],
   "source": [
    "sympy.integrate(expr_multi, x)"
   ]
  },
  {
   "cell_type": "code",
   "execution_count": 143,
   "id": "c12ff4cb",
   "metadata": {},
   "outputs": [
    {
     "data": {
      "image/png": "[encoded data removed]",
      "text/latex": [
       "$\\displaystyle \\frac{x^{4} y}{4} + \\frac{x^{3} y^{2}}{2} + \\frac{x^{2} y^{3}}{2} + \\frac{x y^{4}}{4}$"
      ],
      "text/plain": [
       " 4      3  2    2  3      4\n",
       "x ⋅y   x ⋅y    x ⋅y    x⋅y \n",
       "──── + ───── + ───── + ────\n",
       " 4       2       2      4  "
      ]
     },
     "execution_count": 143,
     "metadata": {},
     "output_type": "execute_result"
    }
   ],
   "source": [
    "sympy.integrate(expr_multi,x,y)"
   ]
  },
  {
   "cell_type": "code",
   "execution_count": 144,
   "id": "166ec2c8",
   "metadata": {},
   "outputs": [
    {
     "data": {
      "image/png": "[encoded data removed]",
      "text/latex": [
       "$\\displaystyle 105$"
      ],
      "text/plain": [
       "105"
      ]
     },
     "execution_count": 144,
     "metadata": {},
     "output_type": "execute_result"
    }
   ],
   "source": [
    "sympy.integrate(expr_multi, (x,0,1) , (y,0,4))"
   ]
  },
  {
   "cell_type": "markdown",
   "id": "bfb0ffa4",
   "metadata": {},
   "source": [
    "## Series"
   ]
  },
  {
   "cell_type": "code",
   "execution_count": 150,
   "id": "31521654",
   "metadata": {},
   "outputs": [
    {
     "data": {
      "image/png": "[encoded data removed]",
      "text/latex": [
       "$\\displaystyle f{\\left(x \\right)}$"
      ],
      "text/plain": [
       "f(x)"
      ]
     },
     "execution_count": 150,
     "metadata": {},
     "output_type": "execute_result"
    }
   ],
   "source": [
    "x,y = sympy.symbols('x , y')\n",
    "f = sympy.Function('f')(x)\n",
    "f"
   ]
  },
  {
   "cell_type": "code",
   "execution_count": 149,
   "id": "e86ee735",
   "metadata": {},
   "outputs": [
    {
     "data": {
      "text/latex": [
       "$\\displaystyle f{\\left(0 \\right)} + x \\left. \\frac{d}{d \\xi} f{\\left(\\xi \\right)} \\right|_{\\substack{ \\xi=0 }} + \\frac{x^{2} \\left. \\frac{d^{2}}{d \\xi^{2}} f{\\left(\\xi \\right)} \\right|_{\\substack{ \\xi=0 }}}{2} + \\frac{x^{3} \\left. \\frac{d^{3}}{d \\xi^{3}} f{\\left(\\xi \\right)} \\right|_{\\substack{ \\xi=0 }}}{6} + \\frac{x^{4} \\left. \\frac{d^{4}}{d \\xi^{4}} f{\\left(\\xi \\right)} \\right|_{\\substack{ \\xi=0 }}}{24} + \\frac{x^{5} \\left. \\frac{d^{5}}{d \\xi^{5}} f{\\left(\\xi \\right)} \\right|_{\\substack{ \\xi=0 }}}{120} + O\\left(x^{6}\\right)$"
      ],
      "text/plain": [
       "                             ⎛  2      ⎞│         ⎛  3      ⎞│         ⎛  4   \n",
       "                           2 ⎜ d       ⎟│       3 ⎜ d       ⎟│       4 ⎜ d    \n",
       "                          x ⋅⎜───(f(ξ))⎟│      x ⋅⎜───(f(ξ))⎟│      x ⋅⎜───(f(\n",
       "                             ⎜  2      ⎟│         ⎜  3      ⎟│         ⎜  4   \n",
       "         ⎛d       ⎞│         ⎝dξ       ⎠│ξ=0      ⎝dξ       ⎠│ξ=0      ⎝dξ    \n",
       "f(0) + x⋅⎜──(f(ξ))⎟│    + ────────────────── + ────────────────── + ──────────\n",
       "         ⎝dξ      ⎠│ξ=0           2                    6                    24\n",
       "\n",
       "   ⎞│         ⎛  5      ⎞│           \n",
       "   ⎟│       5 ⎜ d       ⎟│           \n",
       "ξ))⎟│      x ⋅⎜───(f(ξ))⎟│           \n",
       "   ⎟│         ⎜  5      ⎟│           \n",
       "   ⎠│ξ=0      ⎝dξ       ⎠│ξ=0    ⎛ 6⎞\n",
       "──────── + ────────────────── + O⎝x ⎠\n",
       "                  120                "
      ]
     },
     "execution_count": 149,
     "metadata": {},
     "output_type": "execute_result"
    }
   ],
   "source": [
    "sympy.series(f,x)"
   ]
  },
  {
   "cell_type": "code",
   "execution_count": 151,
   "id": "abcdd07f",
   "metadata": {},
   "outputs": [
    {
     "data": {
      "text/latex": [
       "$\\displaystyle f{\\left({x_0} \\right)} + \\left(x - {x_0}\\right) \\left. \\frac{d}{d \\xi_{1}} f{\\left(\\xi_{1} \\right)} \\right|_{\\substack{ \\xi_{1}={x_0} }} + \\frac{\\left(x - {x_0}\\right)^{2} \\left. \\frac{d^{2}}{d \\xi_{1}^{2}} f{\\left(\\xi_{1} \\right)} \\right|_{\\substack{ \\xi_{1}={x_0} }}}{2} + O\\left(\\left(x - {x_0}\\right)^{3}; x\\rightarrow {x_0}\\right)$"
      ],
      "text/plain": [
       "                                                            ⎛  2        ⎞│    \n",
       "                                                          2 ⎜ d         ⎟│    \n",
       "                                               (x - {x_0}) ⋅⎜────(f(ξ₁))⎟│    \n",
       "                                                            ⎜   2       ⎟│    \n",
       "                       ⎛ d        ⎞│                        ⎝dξ₁        ⎠│ξ₁={\n",
       "f({x_0}) + (x - {x_0})⋅⎜───(f(ξ₁))⎟│         + ───────────────────────────────\n",
       "                       ⎝dξ₁       ⎠│ξ₁={x_0}                    2             \n",
       "\n",
       "                                 \n",
       "                                 \n",
       "                                 \n",
       "                                 \n",
       "x_0}    ⎛           3           ⎞\n",
       "──── + O⎝(x - {x_0}) ; x → {x_0}⎠\n",
       "                                 "
      ]
     },
     "execution_count": 151,
     "metadata": {},
     "output_type": "execute_result"
    }
   ],
   "source": [
    "x0 = sympy.Symbol(\"{x_0}\")\n",
    "f.series(x,x0,n=3)"
   ]
  },
  {
   "cell_type": "code",
   "execution_count": 154,
   "id": "1da9e879",
   "metadata": {},
   "outputs": [
    {
     "data": {
      "text/latex": [
       "$\\displaystyle f{\\left({x_0} \\right)} + \\left(x - {x_0}\\right) \\left. \\frac{d}{d \\xi_{1}} f{\\left(\\xi_{1} \\right)} \\right|_{\\substack{ \\xi_{1}={x_0} }} + \\frac{\\left(x - {x_0}\\right)^{2} \\left. \\frac{d^{2}}{d \\xi_{1}^{2}} f{\\left(\\xi_{1} \\right)} \\right|_{\\substack{ \\xi_{1}={x_0} }}}{2} + \\frac{\\left(x - {x_0}\\right)^{3} \\left. \\frac{d^{3}}{d \\xi_{1}^{3}} f{\\left(\\xi_{1} \\right)} \\right|_{\\substack{ \\xi_{1}={x_0} }}}{6} + O\\left(\\left(x - {x_0}\\right)^{4}; x\\rightarrow {x_0}\\right)$"
      ],
      "text/plain": [
       "                                                            ⎛  2        ⎞│    \n",
       "                                                          2 ⎜ d         ⎟│    \n",
       "                                               (x - {x_0}) ⋅⎜────(f(ξ₁))⎟│    \n",
       "                                                            ⎜   2       ⎟│    \n",
       "                       ⎛ d        ⎞│                        ⎝dξ₁        ⎠│ξ₁={\n",
       "f({x_0}) + (x - {x_0})⋅⎜───(f(ξ₁))⎟│         + ───────────────────────────────\n",
       "                       ⎝dξ₁       ⎠│ξ₁={x_0}                    2             \n",
       "\n",
       "                    ⎛  3        ⎞│                                     \n",
       "                  3 ⎜ d         ⎟│                                     \n",
       "       (x - {x_0}) ⋅⎜────(f(ξ₁))⎟│                                     \n",
       "                    ⎜   3       ⎟│                                     \n",
       "x_0}                ⎝dξ₁        ⎠│ξ₁={x_0}    ⎛           4           ⎞\n",
       "──── + ─────────────────────────────────── + O⎝(x - {x_0}) ; x → {x_0}⎠\n",
       "                        6                                              "
      ]
     },
     "execution_count": 154,
     "metadata": {},
     "output_type": "execute_result"
    }
   ],
   "source": [
    "f.series(x,x0,n=4)"
   ]
  },
  {
   "cell_type": "markdown",
   "id": "73dfee58",
   "metadata": {},
   "source": [
    "Algunos ejemplos"
   ]
  },
  {
   "cell_type": "code",
   "execution_count": 155,
   "id": "261c4630",
   "metadata": {},
   "outputs": [
    {
     "data": {
      "image/png": "[encoded data removed]",
      "text/latex": [
       "$\\displaystyle 1 - \\frac{x^{2}}{2} + \\frac{x^{4}}{24} + O\\left(x^{6}\\right)$"
      ],
      "text/plain": [
       "     2    4        \n",
       "    x    x     ⎛ 6⎞\n",
       "1 - ── + ── + O⎝x ⎠\n",
       "    2    24        "
      ]
     },
     "execution_count": 155,
     "metadata": {},
     "output_type": "execute_result"
    }
   ],
   "source": [
    "sympy.cos(x).series() # Serie del coseno"
   ]
  },
  {
   "cell_type": "code",
   "execution_count": 156,
   "id": "f1e09f09",
   "metadata": {},
   "outputs": [
    {
     "data": {
      "image/png": "[encoded data removed]",
      "text/latex": [
       "$\\displaystyle x - \\frac{x^{3}}{6} + \\frac{x^{5}}{120} + O\\left(x^{6}\\right)$"
      ],
      "text/plain": [
       "     3     5        \n",
       "    x     x     ⎛ 6⎞\n",
       "x - ── + ─── + O⎝x ⎠\n",
       "    6    120        "
      ]
     },
     "execution_count": 156,
     "metadata": {},
     "output_type": "execute_result"
    }
   ],
   "source": [
    "sympy.sin(x).series() # Serie del seno"
   ]
  },
  {
   "cell_type": "code",
   "execution_count": 157,
   "id": "18e8779a",
   "metadata": {},
   "outputs": [
    {
     "data": {
      "image/png": "[encoded data removed]",
      "text/latex": [
       "$\\displaystyle 1 + x + \\frac{x^{2}}{2} + \\frac{x^{3}}{6} + \\frac{x^{4}}{24} + \\frac{x^{5}}{120} + O\\left(x^{6}\\right)$"
      ],
      "text/plain": [
       "         2    3    4     5        \n",
       "        x    x    x     x     ⎛ 6⎞\n",
       "1 + x + ── + ── + ── + ─── + O⎝x ⎠\n",
       "        2    6    24   120        "
      ]
     },
     "execution_count": 157,
     "metadata": {},
     "output_type": "execute_result"
    }
   ],
   "source": [
    "sympy.exp(x).series() # Serie del exponencial"
   ]
  },
  {
   "cell_type": "code",
   "execution_count": 159,
   "id": "feb16a78",
   "metadata": {},
   "outputs": [
    {
     "data": {
      "image/png": "[encoded data removed]",
      "text/latex": [
       "$\\displaystyle 1 + \\frac{x^{2}}{6} + \\frac{7 x^{4}}{360} + O\\left(x^{6}\\right)$"
      ],
      "text/plain": [
       "     2      4        \n",
       "    x    7⋅x     ⎛ 6⎞\n",
       "1 + ── + ──── + O⎝x ⎠\n",
       "    6    360         "
      ]
     },
     "execution_count": 159,
     "metadata": {},
     "output_type": "execute_result"
    }
   ],
   "source": [
    "(x/sympy.sin(x)).series()"
   ]
  },
  {
   "cell_type": "markdown",
   "id": "da8de7c1",
   "metadata": {},
   "source": [
    "## Solución de ecuaciones\n",
    "\n",
    "Para resolver ecuaciones con SymPy el argumento debera ser igualado a cero"
   ]
  },
  {
   "cell_type": "code",
   "execution_count": 161,
   "id": "86cdd78b",
   "metadata": {},
   "outputs": [
    {
     "data": {
      "image/png": "[encoded data removed]",
      "text/latex": [
       "$\\displaystyle \\left[ \\frac{- b + \\sqrt{- 4 a c + b^{2}}}{2 a}, \\  - \\frac{b + \\sqrt{- 4 a c + b^{2}}}{2 a}\\right]$"
      ],
      "text/plain": [
       "⎡        _____________   ⎛       _____________⎞ ⎤\n",
       "⎢       ╱           2    ⎜      ╱           2 ⎟ ⎥\n",
       "⎢-b + ╲╱  -4⋅a⋅c + b    -⎝b + ╲╱  -4⋅a⋅c + b  ⎠ ⎥\n",
       "⎢─────────────────────, ────────────────────────⎥\n",
       "⎣         2⋅a                     2⋅a           ⎦"
      ]
     },
     "execution_count": 161,
     "metadata": {},
     "output_type": "execute_result"
    }
   ],
   "source": [
    "a, b, c, d = sympy.symbols(\"a, b, c, d\")\n",
    "sympy.solve(a * x**2 + b * x + c, x) # Ecuacion cuadratica"
   ]
  },
  {
   "cell_type": "code",
   "execution_count": 162,
   "id": "b30ee9fa",
   "metadata": {},
   "outputs": [
    {
     "data": {
      "image/png": "[encoded data removed]",
      "text/latex": [
       "$\\displaystyle \\left[ - \\frac{- \\frac{3 c}{a} + \\frac{b^{2}}{a^{2}}}{3 \\sqrt[3]{\\frac{\\sqrt{- 4 \\left(- \\frac{3 c}{a} + \\frac{b^{2}}{a^{2}}\\right)^{3} + \\left(\\frac{27 d}{a} - \\frac{9 b c}{a^{2}} + \\frac{2 b^{3}}{a^{3}}\\right)^{2}}}{2} + \\frac{27 d}{2 a} - \\frac{9 b c}{2 a^{2}} + \\frac{b^{3}}{a^{3}}}} - \\frac{\\sqrt[3]{\\frac{\\sqrt{- 4 \\left(- \\frac{3 c}{a} + \\frac{b^{2}}{a^{2}}\\right)^{3} + \\left(\\frac{27 d}{a} - \\frac{9 b c}{a^{2}} + \\frac{2 b^{3}}{a^{3}}\\right)^{2}}}{2} + \\frac{27 d}{2 a} - \\frac{9 b c}{2 a^{2}} + \\frac{b^{3}}{a^{3}}}}{3} - \\frac{b}{3 a}, \\  - \\frac{- \\frac{3 c}{a} + \\frac{b^{2}}{a^{2}}}{3 \\left(- \\frac{1}{2} - \\frac{\\sqrt{3} i}{2}\\right) \\sqrt[3]{\\frac{\\sqrt{- 4 \\left(- \\frac{3 c}{a} + \\frac{b^{2}}{a^{2}}\\right)^{3} + \\left(\\frac{27 d}{a} - \\frac{9 b c}{a^{2}} + \\frac{2 b^{3}}{a^{3}}\\right)^{2}}}{2} + \\frac{27 d}{2 a} - \\frac{9 b c}{2 a^{2}} + \\frac{b^{3}}{a^{3}}}} - \\frac{\\left(- \\frac{1}{2} - \\frac{\\sqrt{3} i}{2}\\right) \\sqrt[3]{\\frac{\\sqrt{- 4 \\left(- \\frac{3 c}{a} + \\frac{b^{2}}{a^{2}}\\right)^{3} + \\left(\\frac{27 d}{a} - \\frac{9 b c}{a^{2}} + \\frac{2 b^{3}}{a^{3}}\\right)^{2}}}{2} + \\frac{27 d}{2 a} - \\frac{9 b c}{2 a^{2}} + \\frac{b^{3}}{a^{3}}}}{3} - \\frac{b}{3 a}, \\  - \\frac{- \\frac{3 c}{a} + \\frac{b^{2}}{a^{2}}}{3 \\left(- \\frac{1}{2} + \\frac{\\sqrt{3} i}{2}\\right) \\sqrt[3]{\\frac{\\sqrt{- 4 \\left(- \\frac{3 c}{a} + \\frac{b^{2}}{a^{2}}\\right)^{3} + \\left(\\frac{27 d}{a} - \\frac{9 b c}{a^{2}} + \\frac{2 b^{3}}{a^{3}}\\right)^{2}}}{2} + \\frac{27 d}{2 a} - \\frac{9 b c}{2 a^{2}} + \\frac{b^{3}}{a^{3}}}} - \\frac{\\left(- \\frac{1}{2} + \\frac{\\sqrt{3} i}{2}\\right) \\sqrt[3]{\\frac{\\sqrt{- 4 \\left(- \\frac{3 c}{a} + \\frac{b^{2}}{a^{2}}\\right)^{3} + \\left(\\frac{27 d}{a} - \\frac{9 b c}{a^{2}} + \\frac{2 b^{3}}{a^{3}}\\right)^{2}}}{2} + \\frac{27 d}{2 a} - \\frac{9 b c}{2 a^{2}} + \\frac{b^{3}}{a^{3}}}}{3} - \\frac{b}{3 a}\\right]$"
      ],
      "text/plain": [
       "⎡                                                                             \n",
       "⎢                                                                             \n",
       "⎢                                                                             \n",
       "⎢                                                                             \n",
       "⎢                                                                             \n",
       "⎢                                                                             \n",
       "⎢                                                 2                           \n",
       "⎢                                          3⋅c   b                            \n",
       "⎢                                        - ─── + ──                           \n",
       "⎢                                           a     2                           \n",
       "⎢                                                a                            \n",
       "⎢- ───────────────────────────────────────────────────────────────────────────\n",
       "⎢               ______________________________________________________________\n",
       "⎢              ╱        ____________________________________________          \n",
       "⎢             ╱        ╱                 3                        2           \n",
       "⎢            ╱        ╱      ⎛         2⎞    ⎛                  3⎞            \n",
       "⎢           ╱        ╱       ⎜  3⋅c   b ⎟    ⎜27⋅d   9⋅b⋅c   2⋅b ⎟            \n",
       "⎢          ╱        ╱    - 4⋅⎜- ─── + ──⎟  + ⎜──── - ───── + ────⎟            \n",
       "⎢         ╱        ╱         ⎜   a     2⎟    ⎜ a        2      3 ⎟            \n",
       "⎢        ╱       ╲╱          ⎝        a ⎠    ⎝         a      a  ⎠     27⋅d   \n",
       "⎢  3⋅   ╱        ─────────────────────────────────────────────────── + ──── - \n",
       "⎢    3 ╱                                  2                            2⋅a    \n",
       "⎣    ╲╱                                                                       \n",
       "\n",
       "                         _____________________________________________________\n",
       "                        ╱        ____________________________________________ \n",
       "                       ╱        ╱                 3                        2  \n",
       "                      ╱        ╱      ⎛         2⎞    ⎛                  3⎞   \n",
       "                     ╱        ╱       ⎜  3⋅c   b ⎟    ⎜27⋅d   9⋅b⋅c   2⋅b ⎟   \n",
       "                    ╱        ╱    - 4⋅⎜- ─── + ──⎟  + ⎜──── - ───── + ────⎟   \n",
       "                   ╱        ╱         ⎜   a     2⎟    ⎜ a        2      3 ⎟   \n",
       "                  ╱       ╲╱          ⎝        a ⎠    ⎝         a      a  ⎠   \n",
       "                 ╱        ─────────────────────────────────────────────────── \n",
       "              3 ╱                                  2                          \n",
       "              ╲╱                                                              \n",
       "─────────── - ────────────────────────────────────────────────────────────────\n",
       "___________                                            3                      \n",
       "                                                                              \n",
       "                                                                              \n",
       "                                                                              \n",
       "                                                                              \n",
       "                                                                              \n",
       "         3                                                                    \n",
       "9⋅b⋅c   b                                                                     \n",
       "───── + ──                                                                    \n",
       "    2    3                                                                    \n",
       " 2⋅a    a                                                                     \n",
       "\n",
       "____________________                                                          \n",
       "                                                                              \n",
       "                                                                              \n",
       "                                                                              \n",
       "                                                                              \n",
       "                                                                              \n",
       "                  3                                                           \n",
       "  27⋅d   9⋅b⋅c   b                                                           3\n",
       "+ ──── - ───── + ──                                                        - ─\n",
       "  2⋅a        2    3                                                           \n",
       "          2⋅a    a      b                                                     \n",
       "──────────────────── - ───, - ────────────────────────────────────────────────\n",
       "                       3⋅a                              ______________________\n",
       "                                                       ╱        ______________\n",
       "                                                      ╱        ╱              \n",
       "                                                     ╱        ╱      ⎛        \n",
       "                                                    ╱        ╱       ⎜  3⋅c   \n",
       "                                                   ╱        ╱    - 4⋅⎜- ─── + \n",
       "                                                  ╱        ╱         ⎜   a    \n",
       "                                ⎛  1   √3⋅ⅈ⎞     ╱       ╲╱          ⎝        \n",
       "                              3⋅⎜- ─ - ────⎟⋅   ╱        ─────────────────────\n",
       "                                ⎝  2    2  ⎠ 3 ╱                              \n",
       "                                             ╲╱                               \n",
       "\n",
       "                                                                              \n",
       "                                                                             ╱\n",
       "                                                                            ╱ \n",
       "                                                                           ╱  \n",
       "                                                                          ╱   \n",
       "                                                                         ╱    \n",
       "      2                                                                 ╱     \n",
       "⋅c   b                                                ⎛  1   √3⋅ⅈ⎞     ╱      \n",
       "── + ──                                               ⎜- ─ - ────⎟⋅   ╱       \n",
       "a     2                                               ⎝  2    2  ⎠ 3 ╱        \n",
       "     a                                                             ╲╱         \n",
       "─────────────────────────────────────────────────── - ────────────────────────\n",
       "___________________________________________________                           \n",
       "______________________________                                                \n",
       "   3                        2                                                 \n",
       " 2⎞    ⎛                  3⎞                                                  \n",
       "b ⎟    ⎜27⋅d   9⋅b⋅c   2⋅b ⎟                                                  \n",
       "──⎟  + ⎜──── - ───── + ────⎟                                                  \n",
       " 2⎟    ⎜ a        2      3 ⎟                     3                            \n",
       "a ⎠    ⎝         a      a  ⎠     27⋅d   9⋅b⋅c   b                             \n",
       "────────────────────────────── + ──── - ───── + ──                            \n",
       "    2                            2⋅a        2    3                            \n",
       "                                         2⋅a    a                             \n",
       "\n",
       "_________________________________________________________________________     \n",
       "        ____________________________________________                          \n",
       "       ╱                 3                        2                           \n",
       "      ╱      ⎛         2⎞    ⎛                  3⎞                            \n",
       "     ╱       ⎜  3⋅c   b ⎟    ⎜27⋅d   9⋅b⋅c   2⋅b ⎟                            \n",
       "    ╱    - 4⋅⎜- ─── + ──⎟  + ⎜──── - ───── + ────⎟                            \n",
       "   ╱         ⎜   a     2⎟    ⎜ a        2      3 ⎟                     3      \n",
       " ╲╱          ⎝        a ⎠    ⎝         a      a  ⎠     27⋅d   9⋅b⋅c   b       \n",
       " ─────────────────────────────────────────────────── + ──── - ───── + ──      \n",
       "                          2                            2⋅a        2    3      \n",
       "                                                               2⋅a    a      b\n",
       "───────────────────────────────────────────────────────────────────────── - ──\n",
       "                        3                                                   3⋅\n",
       "                                                                              \n",
       "                                                                              \n",
       "                                                                              \n",
       "                                                                              \n",
       "                                                                              \n",
       "                                                                              \n",
       "                                                                              \n",
       "                                                                              \n",
       "                                                                              \n",
       "                                                                              \n",
       "\n",
       "                                                                              \n",
       "                                                                              \n",
       "                                                                              \n",
       "                                                                              \n",
       "                                                                              \n",
       "                                                                              \n",
       "                                                           2                  \n",
       "                                                    3⋅c   b                   \n",
       "                                                  - ─── + ──                  \n",
       "                                                     a     2                  \n",
       "                                                          a                   \n",
       "─, - ─────────────────────────────────────────────────────────────────────────\n",
       "a                              _______________________________________________\n",
       "                              ╱        _______________________________________\n",
       "                             ╱        ╱                 3                     \n",
       "                            ╱        ╱      ⎛         2⎞    ⎛                 \n",
       "                           ╱        ╱       ⎜  3⋅c   b ⎟    ⎜27⋅d   9⋅b⋅c   2⋅\n",
       "                          ╱        ╱    - 4⋅⎜- ─── + ──⎟  + ⎜──── - ───── + ──\n",
       "                         ╱        ╱         ⎜   a     2⎟    ⎜ a        2      \n",
       "       ⎛  1   √3⋅ⅈ⎞     ╱       ╲╱          ⎝        a ⎠    ⎝         a      a\n",
       "     3⋅⎜- ─ + ────⎟⋅   ╱        ──────────────────────────────────────────────\n",
       "       ⎝  2    2  ⎠ 3 ╱                                  2                    \n",
       "                    ╲╱                                                        \n",
       "\n",
       "                                                     _________________________\n",
       "                                                    ╱        _________________\n",
       "                                                   ╱        ╱                 \n",
       "                                                  ╱        ╱      ⎛         2⎞\n",
       "                                                 ╱        ╱       ⎜  3⋅c   b ⎟\n",
       "                                                ╱        ╱    - 4⋅⎜- ─── + ──⎟\n",
       "                                               ╱        ╱         ⎜   a     2⎟\n",
       "                             ⎛  1   √3⋅ⅈ⎞     ╱       ╲╱          ⎝        a ⎠\n",
       "                             ⎜- ─ + ────⎟⋅   ╱        ────────────────────────\n",
       "                             ⎝  2    2  ⎠ 3 ╱                                 \n",
       "                                          ╲╱                                  \n",
       "────────────────────────── - ─────────────────────────────────────────────────\n",
       "__________________________                                                   3\n",
       "_____                                                                         \n",
       "   2                                                                          \n",
       " 3⎞                                                                           \n",
       "b ⎟                                                                           \n",
       "──⎟                                                                           \n",
       "3 ⎟                     3                                                     \n",
       "  ⎠     27⋅d   9⋅b⋅c   b                                                      \n",
       "───── + ──── - ───── + ──                                                     \n",
       "        2⋅a        2    3                                                     \n",
       "                2⋅a    a                                                      \n",
       "\n",
       "________________________________________________      ⎤\n",
       "___________________________                           ⎥\n",
       "3                        2                            ⎥\n",
       "    ⎛                  3⎞                             ⎥\n",
       "    ⎜27⋅d   9⋅b⋅c   2⋅b ⎟                             ⎥\n",
       "  + ⎜──── - ───── + ────⎟                             ⎥\n",
       "    ⎜ a        2      3 ⎟                     3       ⎥\n",
       "    ⎝         a      a  ⎠     27⋅d   9⋅b⋅c   b        ⎥\n",
       "─────────────────────────── + ──── - ───── + ──       ⎥\n",
       " 2                            2⋅a        2    3       ⎥\n",
       "                                      2⋅a    a      b ⎥\n",
       "──────────────────────────────────────────────── - ───⎥\n",
       "                                                   3⋅a⎥\n",
       "                                                      ⎥\n",
       "                                                      ⎥\n",
       "                                                      ⎥\n",
       "                                                      ⎥\n",
       "                                                      ⎥\n",
       "                                                      ⎥\n",
       "                                                      ⎥\n",
       "                                                      ⎥\n",
       "                                                      ⎥\n",
       "                                                      ⎦"
      ]
     },
     "execution_count": 162,
     "metadata": {},
     "output_type": "execute_result"
    }
   ],
   "source": [
    "sympy.solve(a * x**3 + b * x ** 2 + c * x + d, x) # Ecuacion cubica"
   ]
  },
  {
   "cell_type": "code",
   "execution_count": 166,
   "id": "ff0db5fc",
   "metadata": {},
   "outputs": [
    {
     "data": {
      "image/png": "[encoded data removed]",
      "text/latex": [
       "$\\displaystyle \\sin{\\left(x \\right)} - \\cos{\\left(x \\right)}$"
      ],
      "text/plain": [
       "sin(x) - cos(x)"
      ]
     },
     "execution_count": 166,
     "metadata": {},
     "output_type": "execute_result"
    }
   ],
   "source": [
    "sympy.sin(x) - sympy.cos(x) "
   ]
  },
  {
   "cell_type": "code",
   "execution_count": 164,
   "id": "959cd7de",
   "metadata": {},
   "outputs": [
    {
     "data": {
      "image/png": "[encoded data removed]",
      "text/latex": [
       "$\\displaystyle \\left[ \\frac{\\pi}{4}\\right]$"
      ],
      "text/plain": [
       "⎡π⎤\n",
       "⎢─⎥\n",
       "⎣4⎦"
      ]
     },
     "execution_count": 164,
     "metadata": {},
     "output_type": "execute_result"
    }
   ],
   "source": [
    "sympy.solve(sympy.sin(x) - sympy.cos(x), x)"
   ]
  },
  {
   "cell_type": "markdown",
   "id": "ae84901c",
   "metadata": {},
   "source": [
    "## Sistemas de ecuaciones\n",
    "\n",
    "Mismo caso, las ecuaciones deben estar igualadas a cero"
   ]
  },
  {
   "cell_type": "code",
   "execution_count": 172,
   "id": "b28644d0",
   "metadata": {},
   "outputs": [
    {
     "data": {
      "image/png": "[encoded data removed]",
      "text/latex": [
       "$\\displaystyle \\left[ \\left\\{ x : - \\frac{14}{11}, \\  y : \\frac{5}{11}\\right\\}\\right]$"
      ],
      "text/plain": [
       "⎡⎧   -14          ⎫⎤\n",
       "⎢⎨x: ────, y: 5/11⎬⎥\n",
       "⎣⎩    11          ⎭⎦"
      ]
     },
     "execution_count": 172,
     "metadata": {},
     "output_type": "execute_result"
    }
   ],
   "source": [
    "eq1 = x + 5 * y - 1\n",
    "eq2 = x - 6* y + 4\n",
    "sympy.solve([eq1, eq2], [x, y], dict=True)"
   ]
  },
  {
   "cell_type": "markdown",
   "id": "0394de1d",
   "metadata": {},
   "source": [
    "## Un poco de álgebra lineal"
   ]
  },
  {
   "cell_type": "code",
   "execution_count": 173,
   "id": "8e993024",
   "metadata": {},
   "outputs": [],
   "source": [
    "a, b, c, d , e, f  = sympy.symbols(\"a, b, c, d, e, f\")"
   ]
  },
  {
   "cell_type": "code",
   "execution_count": 183,
   "id": "b955efb4",
   "metadata": {},
   "outputs": [],
   "source": [
    "M1 = sympy.Matrix([[a, b],\n",
    "                   [c, d],\n",
    "                   [e,f]])\n",
    "M2 = sympy.Matrix([[a,c,a],\n",
    "                   [c,a,c]])\n",
    "M3 = sympy.Matrix([[a, b],\n",
    "                   [c, a],\n",
    "                   [b,c]])"
   ]
  },
  {
   "cell_type": "code",
   "execution_count": 184,
   "id": "8c0aac53",
   "metadata": {},
   "outputs": [
    {
     "data": {
      "text/latex": [
       "$\\displaystyle \\left[\\begin{matrix}a & b\\\\c & d\\\\e & f\\end{matrix}\\right]$"
      ],
      "text/plain": [
       "⎡a  b⎤\n",
       "⎢    ⎥\n",
       "⎢c  d⎥\n",
       "⎢    ⎥\n",
       "⎣e  f⎦"
      ]
     },
     "execution_count": 184,
     "metadata": {},
     "output_type": "execute_result"
    }
   ],
   "source": [
    "M1"
   ]
  },
  {
   "cell_type": "code",
   "execution_count": 185,
   "id": "fe7abe5e",
   "metadata": {},
   "outputs": [
    {
     "data": {
      "text/latex": [
       "$\\displaystyle \\left[\\begin{matrix}a & c & a\\\\c & a & c\\end{matrix}\\right]$"
      ],
      "text/plain": [
       "⎡a  c  a⎤\n",
       "⎢       ⎥\n",
       "⎣c  a  c⎦"
      ]
     },
     "execution_count": 185,
     "metadata": {},
     "output_type": "execute_result"
    }
   ],
   "source": [
    "M2"
   ]
  },
  {
   "cell_type": "code",
   "execution_count": 186,
   "id": "8174e5b5",
   "metadata": {},
   "outputs": [
    {
     "data": {
      "text/latex": [
       "$\\displaystyle \\left[\\begin{matrix}a & b\\\\c & a\\\\b & c\\end{matrix}\\right]$"
      ],
      "text/plain": [
       "⎡a  b⎤\n",
       "⎢    ⎥\n",
       "⎢c  a⎥\n",
       "⎢    ⎥\n",
       "⎣b  c⎦"
      ]
     },
     "execution_count": 186,
     "metadata": {},
     "output_type": "execute_result"
    }
   ],
   "source": [
    "M3"
   ]
  },
  {
   "cell_type": "code",
   "execution_count": 180,
   "id": "86831041",
   "metadata": {},
   "outputs": [
    {
     "data": {
      "text/latex": [
       "$\\displaystyle \\left[\\begin{matrix}a^{2} + b c & a b + a c & a^{2} + b c\\\\a c + c d & a d + c^{2} & a c + c d\\\\a e + c f & a f + c e & a e + c f\\end{matrix}\\right]$"
      ],
      "text/plain": [
       "⎡ 2                     2       ⎤\n",
       "⎢a  + b⋅c   a⋅b + a⋅c  a  + b⋅c ⎥\n",
       "⎢                               ⎥\n",
       "⎢                  2            ⎥\n",
       "⎢a⋅c + c⋅d  a⋅d + c    a⋅c + c⋅d⎥\n",
       "⎢                               ⎥\n",
       "⎣a⋅e + c⋅f  a⋅f + c⋅e  a⋅e + c⋅f⎦"
      ]
     },
     "execution_count": 180,
     "metadata": {},
     "output_type": "execute_result"
    }
   ],
   "source": [
    "M1 * M2 # Producto de matrices"
   ]
  },
  {
   "cell_type": "code",
   "execution_count": 188,
   "id": "5dd10493",
   "metadata": {},
   "outputs": [
    {
     "data": {
      "text/latex": [
       "$\\displaystyle \\left[\\begin{matrix}0 & 0\\\\0 & - a + d\\\\- b + e & - c + f\\end{matrix}\\right]$"
      ],
      "text/plain": [
       "⎡  0       0   ⎤\n",
       "⎢              ⎥\n",
       "⎢  0     -a + d⎥\n",
       "⎢              ⎥\n",
       "⎣-b + e  -c + f⎦"
      ]
     },
     "execution_count": 188,
     "metadata": {},
     "output_type": "execute_result"
    }
   ],
   "source": [
    "M1 - M3"
   ]
  },
  {
   "cell_type": "code",
   "execution_count": 190,
   "id": "2ee6646b",
   "metadata": {},
   "outputs": [
    {
     "data": {
      "text/latex": [
       "$\\displaystyle \\left[\\begin{matrix}2 a & 2 b\\\\2 c & a + d\\\\b + e & c + f\\end{matrix}\\right]$"
      ],
      "text/plain": [
       "⎡ 2⋅a    2⋅b ⎤\n",
       "⎢            ⎥\n",
       "⎢ 2⋅c   a + d⎥\n",
       "⎢            ⎥\n",
       "⎣b + e  c + f⎦"
      ]
     },
     "execution_count": 190,
     "metadata": {},
     "output_type": "execute_result"
    }
   ],
   "source": [
    "M3 + M1"
   ]
  },
  {
   "cell_type": "code",
   "execution_count": 193,
   "id": "76f02a62",
   "metadata": {},
   "outputs": [
    {
     "data": {
      "text/latex": [
       "$\\displaystyle \\left(\\left[\\begin{matrix}a & b\\\\c & d\\\\e & f\\end{matrix}\\right]\\right)^{T}$"
      ],
      "text/plain": [
       "        T\n",
       "⎛⎡a  b⎤⎞ \n",
       "⎜⎢    ⎥⎟ \n",
       "⎜⎢c  d⎥⎟ \n",
       "⎜⎢    ⎥⎟ \n",
       "⎝⎣e  f⎦⎠ "
      ]
     },
     "execution_count": 193,
     "metadata": {},
     "output_type": "execute_result"
    }
   ],
   "source": [
    "sympy.Transpose(M1) # transpuesta de una matrix"
   ]
  },
  {
   "cell_type": "code",
   "execution_count": 194,
   "id": "c6512311",
   "metadata": {},
   "outputs": [
    {
     "data": {
      "text/latex": [
       "$\\displaystyle \\left[\\begin{matrix}a^{2} + b^{2} & a c + b d & a e + b f\\\\a b + a c & a d + c^{2} & a f + c e\\\\a b + b c & b c + c d & b e + c f\\end{matrix}\\right]$"
      ],
      "text/plain": [
       "⎡  2    2                       ⎤\n",
       "⎢ a  + b    a⋅c + b⋅d  a⋅e + b⋅f⎥\n",
       "⎢                               ⎥\n",
       "⎢                  2            ⎥\n",
       "⎢a⋅b + a⋅c  a⋅d + c    a⋅f + c⋅e⎥\n",
       "⎢                               ⎥\n",
       "⎣a⋅b + b⋅c  b⋅c + c⋅d  b⋅e + c⋅f⎦"
      ]
     },
     "execution_count": 194,
     "metadata": {},
     "output_type": "execute_result"
    }
   ],
   "source": [
    "M3 * sympy.Transpose(M1) "
   ]
  }
 ],
 "metadata": {
  "kernelspec": {
   "display_name": "Python 3 (ipykernel)",
   "language": "python",
   "name": "python3"
  },
  "language_info": {
   "codemirror_mode": {
    "name": "ipython",
    "version": 3
   },
   "file_extension": ".py",
   "mimetype": "text/x-python",
   "name": "python",
   "nbconvert_exporter": "python",
   "pygments_lexer": "ipython3",
   "version": "3.9.7"
  }
 },
 "nbformat": 4,
 "nbformat_minor": 5
}
