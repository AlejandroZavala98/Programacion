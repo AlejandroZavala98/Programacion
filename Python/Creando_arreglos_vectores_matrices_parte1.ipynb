{
 "cells": [
  {
   "cell_type": "markdown",
   "id": "b00b1991",
   "metadata": {},
   "source": [
    "# Creando vectores, matrices y arreglos multidimensionales"
   ]
  },
  {
   "cell_type": "code",
   "execution_count": 2,
   "id": "8030feeb",
   "metadata": {},
   "outputs": [],
   "source": [
    "import math as mathlib\n",
    "import numpy as np"
   ]
  },
  {
   "cell_type": "code",
   "execution_count": 5,
   "id": "bde2d500",
   "metadata": {},
   "outputs": [],
   "source": [
    "data = np.array([[1, 2], [3, 4], [5, 6]])"
   ]
  },
  {
   "cell_type": "markdown",
   "id": "fc82fedd",
   "metadata": {},
   "source": [
    "## Clases de array (atributos)"
   ]
  },
  {
   "cell_type": "code",
   "execution_count": 7,
   "id": "342f3463",
   "metadata": {},
   "outputs": [
    {
     "name": "stdout",
     "output_type": "stream",
     "text": [
      "<class 'numpy.ndarray'>\n"
     ]
    }
   ],
   "source": [
    "print(type(data))"
   ]
  },
  {
   "cell_type": "code",
   "execution_count": 8,
   "id": "5a369c30",
   "metadata": {},
   "outputs": [
    {
     "data": {
      "text/plain": [
       "array([[1, 2],\n",
       "       [3, 4],\n",
       "       [5, 6]])"
      ]
     },
     "execution_count": 8,
     "metadata": {},
     "output_type": "execute_result"
    }
   ],
   "source": [
    "data"
   ]
  },
  {
   "cell_type": "code",
   "execution_count": 9,
   "id": "002991a4",
   "metadata": {},
   "outputs": [
    {
     "data": {
      "text/plain": [
       "2"
      ]
     },
     "execution_count": 9,
     "metadata": {},
     "output_type": "execute_result"
    }
   ],
   "source": [
    "data.ndim #Numero de dimensiones del arreglo"
   ]
  },
  {
   "cell_type": "code",
   "execution_count": 15,
   "id": "327f8540",
   "metadata": {},
   "outputs": [
    {
     "data": {
      "text/plain": [
       "(3, 2)"
      ]
     },
     "execution_count": 15,
     "metadata": {},
     "output_type": "execute_result"
    }
   ],
   "source": [
    "data.shape #Forma del arreglo"
   ]
  },
  {
   "cell_type": "code",
   "execution_count": 11,
   "id": "4df07ece",
   "metadata": {},
   "outputs": [
    {
     "data": {
      "text/plain": [
       "6"
      ]
     },
     "execution_count": 11,
     "metadata": {},
     "output_type": "execute_result"
    }
   ],
   "source": [
    "data.size #Tamaño del arreglo"
   ]
  },
  {
   "cell_type": "code",
   "execution_count": 16,
   "id": "9c73ade7",
   "metadata": {},
   "outputs": [
    {
     "data": {
      "text/plain": [
       "dtype('int32')"
      ]
     },
     "execution_count": 16,
     "metadata": {},
     "output_type": "execute_result"
    }
   ],
   "source": [
    "data.dtype #Tipo de información numerica"
   ]
  },
  {
   "cell_type": "code",
   "execution_count": 17,
   "id": "ac3fc0fb",
   "metadata": {},
   "outputs": [
    {
     "data": {
      "text/plain": [
       "24"
      ]
     },
     "execution_count": 17,
     "metadata": {},
     "output_type": "execute_result"
    }
   ],
   "source": [
    "data.nbytes"
   ]
  },
  {
   "cell_type": "markdown",
   "id": "67776f62",
   "metadata": {},
   "source": [
    "### Tipos de arreglos"
   ]
  },
  {
   "cell_type": "code",
   "execution_count": 19,
   "id": "a0d4ee6c",
   "metadata": {},
   "outputs": [
    {
     "data": {
      "text/plain": [
       "array([1, 2, 3])"
      ]
     },
     "execution_count": 19,
     "metadata": {},
     "output_type": "execute_result"
    }
   ],
   "source": [
    "np.array([1, 2, 3], dtype=int) #Entero"
   ]
  },
  {
   "cell_type": "code",
   "execution_count": 21,
   "id": "bb60c23b",
   "metadata": {},
   "outputs": [
    {
     "data": {
      "text/plain": [
       "array([1., 2., 3.])"
      ]
     },
     "execution_count": 21,
     "metadata": {},
     "output_type": "execute_result"
    }
   ],
   "source": [
    "np.array([1, 2, 3], dtype=float) #Flotante"
   ]
  },
  {
   "cell_type": "code",
   "execution_count": 25,
   "id": "99130160",
   "metadata": {},
   "outputs": [
    {
     "data": {
      "text/plain": [
       "array([1.+0.j, 2.+0.j, 3.+0.j])"
      ]
     },
     "execution_count": 25,
     "metadata": {},
     "output_type": "execute_result"
    }
   ],
   "source": [
    "array_complex = np.array([1, 2, 3], dtype=complex) #Numeros complejos\n",
    "array_complex"
   ]
  },
  {
   "cell_type": "code",
   "execution_count": 26,
   "id": "21b046ef",
   "metadata": {},
   "outputs": [
    {
     "data": {
      "text/plain": [
       "array([1., 2., 3.])"
      ]
     },
     "execution_count": 26,
     "metadata": {},
     "output_type": "execute_result"
    }
   ],
   "source": [
    "array_complex.real #Parte real"
   ]
  },
  {
   "cell_type": "code",
   "execution_count": 27,
   "id": "1d081190",
   "metadata": {},
   "outputs": [
    {
     "data": {
      "text/plain": [
       "array([0., 0., 0.])"
      ]
     },
     "execution_count": 27,
     "metadata": {},
     "output_type": "execute_result"
    }
   ],
   "source": [
    "array_complex.imag"
   ]
  },
  {
   "cell_type": "code",
   "execution_count": 31,
   "id": "7195553e",
   "metadata": {},
   "outputs": [
    {
     "data": {
      "text/plain": [
       "array([0, 0, 0, 0, 0, 0, 0, 0, 0, 0])"
      ]
     },
     "execution_count": 31,
     "metadata": {},
     "output_type": "execute_result"
    }
   ],
   "source": [
    "np.zeros(shape = 10,dtype=int) #Crea un vector de 10 elementos de valor 0"
   ]
  },
  {
   "cell_type": "code",
   "execution_count": 34,
   "id": "ee936be5",
   "metadata": {},
   "outputs": [
    {
     "data": {
      "text/plain": [
       "array([[0, 0, 0],\n",
       "       [0, 0, 0],\n",
       "       [0, 0, 0],\n",
       "       [0, 0, 0],\n",
       "       [0, 0, 0]])"
      ]
     },
     "execution_count": 34,
     "metadata": {},
     "output_type": "execute_result"
    }
   ],
   "source": [
    "np.zeros(shape = (5, 3) , dtype = int)"
   ]
  },
  {
   "cell_type": "code",
   "execution_count": 36,
   "id": "d3130e84",
   "metadata": {},
   "outputs": [
    {
     "data": {
      "text/plain": [
       "array([1, 1, 1, 1, 1, 1, 1, 1, 1, 1])"
      ]
     },
     "execution_count": 36,
     "metadata": {},
     "output_type": "execute_result"
    }
   ],
   "source": [
    "np.ones(shape = 10,dtype=int) #Crea un vector de 10 elementos de valor 1"
   ]
  },
  {
   "cell_type": "code",
   "execution_count": 37,
   "id": "faa614e1",
   "metadata": {},
   "outputs": [
    {
     "data": {
      "text/plain": [
       "array([[1, 1, 1, 1, 1],\n",
       "       [1, 1, 1, 1, 1],\n",
       "       [1, 1, 1, 1, 1]])"
      ]
     },
     "execution_count": 37,
     "metadata": {},
     "output_type": "execute_result"
    }
   ],
   "source": [
    "np.ones(shape = (3,5),dtype=int)"
   ]
  },
  {
   "cell_type": "code",
   "execution_count": 40,
   "id": "77363a58",
   "metadata": {},
   "outputs": [
    {
     "data": {
      "text/plain": [
       "array([[1, 0, 0, 0, 0, 0],\n",
       "       [0, 2, 0, 0, 0, 0],\n",
       "       [0, 0, 3, 0, 0, 0],\n",
       "       [0, 0, 0, 6, 0, 0],\n",
       "       [0, 0, 0, 0, 5, 0],\n",
       "       [0, 0, 0, 0, 0, 4]])"
      ]
     },
     "execution_count": 40,
     "metadata": {},
     "output_type": "execute_result"
    }
   ],
   "source": [
    "array_example = np.array([1,2,3,6,5,4]) #Crea una diagonal con un vector dado, las demas entradas son 0\n",
    "np.diag(array_example)"
   ]
  },
  {
   "cell_type": "code",
   "execution_count": 42,
   "id": "a1f06e86",
   "metadata": {},
   "outputs": [
    {
     "data": {
      "text/plain": [
       "array([0, 1, 2, 3, 4, 5, 6, 7])"
      ]
     },
     "execution_count": 42,
     "metadata": {},
     "output_type": "execute_result"
    }
   ],
   "source": [
    "np.arange(8) # Crea un vector de 0 a n"
   ]
  },
  {
   "cell_type": "code",
   "execution_count": 44,
   "id": "8d3bff74",
   "metadata": {},
   "outputs": [
    {
     "data": {
      "text/plain": [
       "array([3, 4, 5, 6, 7, 8])"
      ]
     },
     "execution_count": 44,
     "metadata": {},
     "output_type": "execute_result"
    }
   ],
   "source": [
    "np.arange(3,9) # Crea un vector de iniciando en a hasta b"
   ]
  },
  {
   "cell_type": "code",
   "execution_count": 45,
   "id": "2688007e",
   "metadata": {},
   "outputs": [
    {
     "data": {
      "text/plain": [
       "array([3. , 3.5, 4. , 4.5, 5. , 5.5, 6. , 6.5])"
      ]
     },
     "execution_count": 45,
     "metadata": {},
     "output_type": "execute_result"
    }
   ],
   "source": [
    "np.arange(3,7,0.5)# Crea un vector de iniciando en a hasta b con pasos de c"
   ]
  },
  {
   "cell_type": "code",
   "execution_count": 46,
   "id": "00e0e174",
   "metadata": {},
   "outputs": [
    {
     "data": {
      "text/plain": [
       "array([2.        , 2.11111111, 2.22222222, 2.33333333, 2.44444444,\n",
       "       2.55555556, 2.66666667, 2.77777778, 2.88888889, 3.        ])"
      ]
     },
     "execution_count": 46,
     "metadata": {},
     "output_type": "execute_result"
    }
   ],
   "source": [
    "np.linspace(2.0, 3.0, num=10) #Similar a arange"
   ]
  },
  {
   "cell_type": "code",
   "execution_count": 49,
   "id": "6521baf6",
   "metadata": {},
   "outputs": [
    {
     "data": {
      "text/plain": [
       "array([2. , 2.1, 2.2, 2.3, 2.4, 2.5, 2.6, 2.7, 2.8, 2.9])"
      ]
     },
     "execution_count": 49,
     "metadata": {},
     "output_type": "execute_result"
    }
   ],
   "source": [
    "np.linspace(start = 2.0, stop = 3.0, num=10, endpoint= False)"
   ]
  },
  {
   "cell_type": "code",
   "execution_count": 54,
   "id": "b329deb3",
   "metadata": {},
   "outputs": [
    {
     "data": {
      "text/plain": [
       "array([0.7233541 , 0.47887605, 0.22317457, 0.19275188, 0.11063909,\n",
       "       0.04135065, 0.94182316, 0.28238057, 0.21441154, 0.78276593])"
      ]
     },
     "execution_count": 54,
     "metadata": {},
     "output_type": "execute_result"
    }
   ],
   "source": [
    "np.random.rand(10) #Crea un arreglo de de tamaño 10 con numeros aleatorios (numeros uniformes en 0 a 1)"
   ]
  },
  {
   "cell_type": "markdown",
   "id": "ae0d0a78",
   "metadata": {},
   "source": [
    "## Ejemplos de expresiones de segmentación y indexación de matrices "
   ]
  },
  {
   "cell_type": "code",
   "execution_count": 58,
   "id": "a0c2a92e",
   "metadata": {},
   "outputs": [],
   "source": [
    "array_test = np.array([1,2,9,8,43,5,6,8,8,9,0,12])"
   ]
  },
  {
   "cell_type": "code",
   "execution_count": 59,
   "id": "55f96e37",
   "metadata": {},
   "outputs": [
    {
     "data": {
      "text/plain": [
       "43"
      ]
     },
     "execution_count": 59,
     "metadata": {},
     "output_type": "execute_result"
    }
   ],
   "source": [
    "array_test[4] #Muestra el elemento en el indice 4 (Recordando que un array empieza con indice 0)"
   ]
  },
  {
   "cell_type": "code",
   "execution_count": 62,
   "id": "95cfadd7",
   "metadata": {},
   "outputs": [
    {
     "data": {
      "text/plain": [
       "0"
      ]
     },
     "execution_count": 62,
     "metadata": {},
     "output_type": "execute_result"
    }
   ],
   "source": [
    "array_test[-2] #Muestra el elemento 2 del final hacia atras"
   ]
  },
  {
   "cell_type": "code",
   "execution_count": 64,
   "id": "48abfc0a",
   "metadata": {},
   "outputs": [
    {
     "data": {
      "text/plain": [
       "array([2, 9, 8])"
      ]
     },
     "execution_count": 64,
     "metadata": {},
     "output_type": "execute_result"
    }
   ],
   "source": [
    "array_test[1:4] #Muestra los elementos en el indice 1 al 4"
   ]
  },
  {
   "cell_type": "code",
   "execution_count": 65,
   "id": "024d1f9d",
   "metadata": {},
   "outputs": [
    {
     "data": {
      "text/plain": [
       "array([ 1,  2,  9,  8, 43,  5,  6,  8,  8,  9,  0, 12])"
      ]
     },
     "execution_count": 65,
     "metadata": {},
     "output_type": "execute_result"
    }
   ],
   "source": [
    "array_test[:] #Muestra todos los elementos del array"
   ]
  },
  {
   "cell_type": "code",
   "execution_count": 69,
   "id": "21fdb950",
   "metadata": {},
   "outputs": [
    {
     "data": {
      "text/plain": [
       "array([ 1,  2,  9,  8, 43,  5,  6,  8,  8,  9,  0, 12])"
      ]
     },
     "execution_count": 69,
     "metadata": {},
     "output_type": "execute_result"
    }
   ],
   "source": [
    "array_test[0:] #Muestra todos los elementos del array (similar al anterior)"
   ]
  },
  {
   "cell_type": "code",
   "execution_count": 70,
   "id": "d9895989",
   "metadata": {},
   "outputs": [
    {
     "data": {
      "text/plain": [
       "array([ 9, 43])"
      ]
     },
     "execution_count": 70,
     "metadata": {},
     "output_type": "execute_result"
    }
   ],
   "source": [
    "array_test[2:6:2] #Muestra todos los elementos en el indice 2 al 6 en incrementos de 2"
   ]
  },
  {
   "cell_type": "code",
   "execution_count": 71,
   "id": "d9ebd829",
   "metadata": {},
   "outputs": [
    {
     "data": {
      "text/plain": [
       "array([12,  0,  9,  8,  8,  6,  5, 43,  8,  9,  2,  1])"
      ]
     },
     "execution_count": 71,
     "metadata": {},
     "output_type": "execute_result"
    }
   ],
   "source": [
    "array_test[::-1] #Invierte el arreglo"
   ]
  },
  {
   "cell_type": "markdown",
   "id": "bf6f6bae",
   "metadata": {},
   "source": [
    "## Arreglos Multidimensionales"
   ]
  },
  {
   "cell_type": "code",
   "execution_count": 81,
   "id": "105013a4",
   "metadata": {},
   "outputs": [
    {
     "data": {
      "text/plain": [
       "array([[10, 11, 12, 13, 14, 15],\n",
       "       [20, 21, 22, 23, 24, 25],\n",
       "       [30, 31, 32, 33, 34, 35],\n",
       "       [40, 41, 42, 43, 44, 45],\n",
       "       [50, 51, 52, 53, 54, 55],\n",
       "       [60, 61, 62, 63, 64, 65],\n",
       "       [70, 71, 72, 73, 74, 75],\n",
       "       [80, 81, 82, 83, 84, 85],\n",
       "       [90, 91, 92, 93, 94, 95]])"
      ]
     },
     "execution_count": 81,
     "metadata": {},
     "output_type": "execute_result"
    }
   ],
   "source": [
    "function_to_apply = lambda m, n: n + 10 * (m+1)\n",
    "A = np.fromfunction(function_to_apply, (9, 6), dtype=int)\n",
    "A"
   ]
  },
  {
   "cell_type": "code",
   "execution_count": 82,
   "id": "1e61c555",
   "metadata": {},
   "outputs": [
    {
     "data": {
      "text/plain": [
       "array([11, 21, 31, 41, 51, 61, 71, 81, 91])"
      ]
     },
     "execution_count": 82,
     "metadata": {},
     "output_type": "execute_result"
    }
   ],
   "source": [
    "A[:, 1] # segunda columna"
   ]
  },
  {
   "cell_type": "code",
   "execution_count": 83,
   "id": "b6a86626",
   "metadata": {},
   "outputs": [
    {
     "data": {
      "text/plain": [
       "array([20, 21, 22, 23, 24, 25])"
      ]
     },
     "execution_count": 83,
     "metadata": {},
     "output_type": "execute_result"
    }
   ],
   "source": [
    "A[1, :] # segundo renglon"
   ]
  },
  {
   "cell_type": "code",
   "execution_count": 84,
   "id": "3b29c028",
   "metadata": {},
   "outputs": [
    {
     "data": {
      "text/plain": [
       "array([[10, 11, 12],\n",
       "       [20, 21, 22],\n",
       "       [30, 31, 32]])"
      ]
     },
     "execution_count": 84,
     "metadata": {},
     "output_type": "execute_result"
    }
   ],
   "source": [
    "A[:3, :3] "
   ]
  },
  {
   "cell_type": "code",
   "execution_count": 86,
   "id": "8abb4d67",
   "metadata": {},
   "outputs": [
    {
     "data": {
      "text/plain": [
       "array([[40, 41, 42, 43],\n",
       "       [50, 51, 52, 53],\n",
       "       [60, 61, 62, 63],\n",
       "       [70, 71, 72, 73],\n",
       "       [80, 81, 82, 83],\n",
       "       [90, 91, 92, 93]])"
      ]
     },
     "execution_count": 86,
     "metadata": {},
     "output_type": "execute_result"
    }
   ],
   "source": [
    "A[3:, :4]"
   ]
  },
  {
   "cell_type": "markdown",
   "id": "3970bff3",
   "metadata": {},
   "source": [
    "## Indexación elegante e indexación con valores booleanos "
   ]
  },
  {
   "cell_type": "code",
   "execution_count": 87,
   "id": "13a1eb32",
   "metadata": {},
   "outputs": [
    {
     "data": {
      "text/plain": [
       "array([0. , 0.1, 0.2, 0.3, 0.4, 0.5, 0.6, 0.7, 0.8, 0.9, 1. ])"
      ]
     },
     "execution_count": 87,
     "metadata": {},
     "output_type": "execute_result"
    }
   ],
   "source": [
    "A = np.linspace(0, 1, 11)\n",
    "A"
   ]
  },
  {
   "cell_type": "code",
   "execution_count": 89,
   "id": "927c8105",
   "metadata": {},
   "outputs": [
    {
     "data": {
      "text/plain": [
       "array([0.5, 0.6, 0.7, 0.8, 0.9, 1. ])"
      ]
     },
     "execution_count": 89,
     "metadata": {},
     "output_type": "execute_result"
    }
   ],
   "source": [
    "A[A >= 0.5]"
   ]
  }
 ],
 "metadata": {
  "kernelspec": {
   "display_name": "Python 3 (ipykernel)",
   "language": "python",
   "name": "python3"
  },
  "language_info": {
   "codemirror_mode": {
    "name": "ipython",
    "version": 3
   },
   "file_extension": ".py",
   "mimetype": "text/x-python",
   "name": "python",
   "nbconvert_exporter": "python",
   "pygments_lexer": "ipython3",
   "version": "3.9.7"
  }
 },
 "nbformat": 4,
 "nbformat_minor": 5
}
