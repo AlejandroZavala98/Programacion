{
 "cells": [
  {
   "cell_type": "markdown",
   "id": "01910555",
   "metadata": {},
   "source": [
    "# Creando algunas funciones"
   ]
  },
  {
   "cell_type": "code",
   "execution_count": 1,
   "id": "6469e298",
   "metadata": {},
   "outputs": [],
   "source": [
    "import math as mathlib\n",
    "import numpy as np"
   ]
  },
  {
   "cell_type": "markdown",
   "id": "fd98b0b9",
   "metadata": {},
   "source": [
    "## Suma de un arreglo"
   ]
  },
  {
   "cell_type": "code",
   "execution_count": 2,
   "id": "13f7249e",
   "metadata": {},
   "outputs": [
    {
     "name": "stdout",
     "output_type": "stream",
     "text": [
      "La suma del vector score_math es: 85\n",
      "\n",
      "La suma del vector score_math por linea de comando es: 85\n"
     ]
    }
   ],
   "source": [
    "def suma_arreglo(data_array): #Método similar a lenguaje C\n",
    "    sum_total = 0\n",
    "    for i in range(0,len(data_array)): \n",
    "        sum_total+=data_array[i]\n",
    "    return sum_total\n",
    "\n",
    "score_math = [8,9,9,10,6,7,8,9,10,9] #Lista de datos (calificaciones)\n",
    "array_score_math = np.array(score_math) #Vector de datos (calificaciones)\n",
    "\n",
    "sum_array = suma_arreglo(array_score_math)\n",
    "print('La suma del vector score_math es: {}'.format(sum_array))\n",
    "\n",
    "sum_command_array = np.sum(array_score_math) \n",
    "print('\\nLa suma del vector score_math por linea de comando es: {}'.format(sum_command_array))"
   ]
  },
  {
   "cell_type": "markdown",
   "id": "fa70545e",
   "metadata": {},
   "source": [
    "## Promedio de un arreglo"
   ]
  },
  {
   "cell_type": "code",
   "execution_count": 3,
   "id": "d5ced15e",
   "metadata": {},
   "outputs": [
    {
     "name": "stdout",
     "output_type": "stream",
     "text": [
      "El promedio por función programada es: 8.5\n",
      "\n",
      "El promedio por linea de comando es: 8.5\n"
     ]
    }
   ],
   "source": [
    "def promedio_data(data_list):\n",
    "    return np.sum(data_list)/len(data_list)\n",
    "\n",
    "score_math_avg = promedio_data(array_score_math)\n",
    "print(\"El promedio por función programada es: {}\".format(score_math_avg))\n",
    "\n",
    "score_math_avgpython = np.mean(score_math)\n",
    "print(\"\\nEl promedio por linea de comando es: {}\".format(score_math_avgpython))"
   ]
  },
  {
   "cell_type": "markdown",
   "id": "e2c9ee50",
   "metadata": {},
   "source": [
    "## Mínimo y máximo de un arreglo"
   ]
  },
  {
   "cell_type": "code",
   "execution_count": 5,
   "id": "8f3b74fc",
   "metadata": {},
   "outputs": [
    {
     "name": "stdout",
     "output_type": "stream",
     "text": [
      "El máximo por función programada es: 10\n",
      "El mínimo por función programada es: -6\n",
      "\n",
      "El máximo por linea de comando es: 10\n",
      "El mínimo por linea de comando es: -6\n"
     ]
    }
   ],
   "source": [
    "def min_max_data(data_list):\n",
    "    max_number = data_list[0]\n",
    "    min_number = data_list[0]\n",
    "    \n",
    "    for i in range(0,len(data_list)):\n",
    "        if (data_list[i]>max_number):\n",
    "            max_number = data_list[i]\n",
    "        else:\n",
    "            continue\n",
    "            \n",
    "    for j in range(0,len(data_list)):\n",
    "        if (data_list[j]<min_number):\n",
    "            min_number = data_list[j]\n",
    "        else:\n",
    "            continue\n",
    "            \n",
    "    return min_number,max_number\n",
    "\n",
    "score_test = [-4,8,9,9,10,6,-6,7,8,9,10,9] #Lista de datos (calificaciones)\n",
    "array_score_test = np.array(score_test) #Vector de datos (calificaciones)\n",
    "\n",
    "min_test,max_test = min_max_data(array_score_test)\n",
    "print('El máximo por función programada es: {}'.format(max_test))\n",
    "print('El mínimo por función programada es: {}'.format(min_test))\n",
    "\n",
    "score_math_minpython = np.min(array_score_test)\n",
    "score_math_maxpython = np.max(array_score_test)\n",
    "print('\\nEl máximo por linea de comando es: {}'.format(score_math_maxpython))\n",
    "print('El mínimo por linea de comando es: {}'.format(score_math_minpython))"
   ]
  },
  {
   "cell_type": "markdown",
   "id": "e50bbf8c",
   "metadata": {},
   "source": [
    "## Secuencia de Fibonacci"
   ]
  },
  {
   "cell_type": "code",
   "execution_count": 6,
   "id": "7dab829f",
   "metadata": {},
   "outputs": [
    {
     "name": "stdout",
     "output_type": "stream",
     "text": [
      "La secuencia de Fibonacci con n = 15 es \n",
      "[1, 2, 3, 5, 8, 13, 21, 34, 55, 89, 144, 233, 377, 610, 987]\n"
     ]
    }
   ],
   "source": [
    "def fibonacci_numbers(n):\n",
    "\n",
    "    f0, f1 = 0, 1\n",
    "    f = [1] * n # Lista de tamaño n\n",
    "    for i in range(0, n):\n",
    "        f[i] = f0 + f1\n",
    "        f0, f1 = f1, f[i]\n",
    "    return f\n",
    "\n",
    "n_numbers = 15\n",
    "n_fibonacci = fibonacci_numbers(n_numbers)\n",
    "print('La secuencia de Fibonacci con n = {} es \\n{}'.format(n_numbers,n_fibonacci))"
   ]
  }
 ],
 "metadata": {
  "kernelspec": {
   "display_name": "Python 3 (ipykernel)",
   "language": "python",
   "name": "python3"
  },
  "language_info": {
   "codemirror_mode": {
    "name": "ipython",
    "version": 3
   },
   "file_extension": ".py",
   "mimetype": "text/x-python",
   "name": "python",
   "nbconvert_exporter": "python",
   "pygments_lexer": "ipython3",
   "version": "3.9.7"
  }
 },
 "nbformat": 4,
 "nbformat_minor": 5
}
