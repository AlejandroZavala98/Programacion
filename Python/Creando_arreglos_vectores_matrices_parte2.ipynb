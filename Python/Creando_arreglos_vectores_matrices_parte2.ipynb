{
 "cells": [
  {
   "cell_type": "markdown",
   "id": "b00b1991",
   "metadata": {},
   "source": [
    "# Operaciones aritméticas entre vectores, matrices y arreglos multidimensionales"
   ]
  },
  {
   "cell_type": "code",
   "execution_count": 1,
   "id": "c236c0dc",
   "metadata": {},
   "outputs": [],
   "source": [
    "import numpy as np"
   ]
  },
  {
   "cell_type": "markdown",
   "id": "2b87df7b",
   "metadata": {},
   "source": [
    "## Definiendo matrices iniciales"
   ]
  },
  {
   "cell_type": "code",
   "execution_count": 14,
   "id": "3d0d2ffe",
   "metadata": {},
   "outputs": [],
   "source": [
    "mat_x = np.array([[2, 4], [6, 10]])\n",
    "mat_y = np.array([[3, 5], [7, 10]])"
   ]
  },
  {
   "cell_type": "code",
   "execution_count": 15,
   "id": "4a7474ac",
   "metadata": {},
   "outputs": [
    {
     "data": {
      "text/plain": [
       "array([[ 2,  4],\n",
       "       [ 6, 10]])"
      ]
     },
     "execution_count": 15,
     "metadata": {},
     "output_type": "execute_result"
    }
   ],
   "source": [
    "mat_x"
   ]
  },
  {
   "cell_type": "code",
   "execution_count": 16,
   "id": "b84dd55a",
   "metadata": {},
   "outputs": [
    {
     "data": {
      "text/plain": [
       "array([[ 3,  5],\n",
       "       [ 7, 10]])"
      ]
     },
     "execution_count": 16,
     "metadata": {},
     "output_type": "execute_result"
    }
   ],
   "source": [
    "mat_y"
   ]
  },
  {
   "cell_type": "markdown",
   "id": "c0a62c61",
   "metadata": {},
   "source": [
    "## Adición (Suma de matrices)"
   ]
  },
  {
   "cell_type": "code",
   "execution_count": 17,
   "id": "554bef09",
   "metadata": {},
   "outputs": [
    {
     "data": {
      "text/plain": [
       "array([[ 5,  9],\n",
       "       [13, 20]])"
      ]
     },
     "execution_count": 17,
     "metadata": {},
     "output_type": "execute_result"
    }
   ],
   "source": [
    "mat_x + mat_y"
   ]
  },
  {
   "cell_type": "markdown",
   "id": "baa1292d",
   "metadata": {},
   "source": [
    "## Sustracción (Resta de matrices)"
   ]
  },
  {
   "cell_type": "code",
   "execution_count": 18,
   "id": "9b414392",
   "metadata": {},
   "outputs": [
    {
     "data": {
      "text/plain": [
       "array([[1, 1],\n",
       "       [1, 0]])"
      ]
     },
     "execution_count": 18,
     "metadata": {},
     "output_type": "execute_result"
    }
   ],
   "source": [
    "mat_y - mat_x"
   ]
  },
  {
   "cell_type": "markdown",
   "id": "7e780367",
   "metadata": {},
   "source": [
    "## Multiplicación\n",
    "\n",
    "Notemos que con este operador se multiplican solamente la entrada i-esima, j-esima de cada matriz, por lo tanto no es la multiplicación de matrices"
   ]
  },
  {
   "cell_type": "code",
   "execution_count": 19,
   "id": "35c1036d",
   "metadata": {},
   "outputs": [
    {
     "data": {
      "text/plain": [
       "array([[  6,  20],\n",
       "       [ 42, 100]])"
      ]
     },
     "execution_count": 19,
     "metadata": {},
     "output_type": "execute_result"
    }
   ],
   "source": [
    "mat_y * mat_x"
   ]
  },
  {
   "cell_type": "markdown",
   "id": "8d05e75d",
   "metadata": {},
   "source": [
    "# División\n",
    "\n",
    "Notemos que con este operador se dividen solamente la entrada i-esima, j-esima de cada matriz "
   ]
  },
  {
   "cell_type": "code",
   "execution_count": 20,
   "id": "2f1620c8",
   "metadata": {},
   "outputs": [
    {
     "data": {
      "text/plain": [
       "array([[1.5       , 1.25      ],\n",
       "       [1.16666667, 1.        ]])"
      ]
     },
     "execution_count": 20,
     "metadata": {},
     "output_type": "execute_result"
    }
   ],
   "source": [
    "mat_y / mat_x"
   ]
  },
  {
   "cell_type": "markdown",
   "id": "4f1c5ea4",
   "metadata": {},
   "source": [
    "## Multiplicación con constantes"
   ]
  },
  {
   "cell_type": "code",
   "execution_count": 25,
   "id": "cee15a3e",
   "metadata": {},
   "outputs": [],
   "source": [
    "mat_w = np.array([[2, 4, 6],\n",
    "                  [6, 10, 14],\n",
    "                  [9, 12, 15]])"
   ]
  },
  {
   "cell_type": "code",
   "execution_count": 26,
   "id": "b4b054e4",
   "metadata": {},
   "outputs": [
    {
     "data": {
      "text/plain": [
       "array([[ 2,  4,  6],\n",
       "       [ 6, 10, 14],\n",
       "       [ 9, 12, 15]])"
      ]
     },
     "execution_count": 26,
     "metadata": {},
     "output_type": "execute_result"
    }
   ],
   "source": [
    "mat_w"
   ]
  },
  {
   "cell_type": "code",
   "execution_count": 27,
   "id": "dacbfccd",
   "metadata": {
    "scrolled": true
   },
   "outputs": [
    {
     "data": {
      "text/plain": [
       "array([[ 4,  8, 12],\n",
       "       [12, 20, 28],\n",
       "       [18, 24, 30]])"
      ]
     },
     "execution_count": 27,
     "metadata": {},
     "output_type": "execute_result"
    }
   ],
   "source": [
    "2 * mat_w # Si conserva la propiedad de constante por matrix"
   ]
  },
  {
   "cell_type": "code",
   "execution_count": 29,
   "id": "e25453b3",
   "metadata": {},
   "outputs": [
    {
     "data": {
      "text/plain": [
       "array([[    4,    16,    64],\n",
       "       [   64,  1024, 16384],\n",
       "       [  512,  4096, 32768]], dtype=int32)"
      ]
     },
     "execution_count": 29,
     "metadata": {},
     "output_type": "execute_result"
    }
   ],
   "source": [
    "2 ** mat_w #Eleva el 2 a cada entrada de la matrix, obteniendo una nueva matrix"
   ]
  },
  {
   "cell_type": "markdown",
   "id": "844d5f25",
   "metadata": {},
   "source": [
    "## Remodelar"
   ]
  },
  {
   "cell_type": "code",
   "execution_count": 32,
   "id": "fdd89ec5",
   "metadata": {},
   "outputs": [],
   "source": [
    "array_x = np.array([1, 2, 3, 4]).reshape(2, 2)\n",
    "array_y = np.array([1, 2, 3, 4])"
   ]
  },
  {
   "cell_type": "code",
   "execution_count": 33,
   "id": "12ee76ce",
   "metadata": {},
   "outputs": [
    {
     "data": {
      "text/plain": [
       "array([[1, 2],\n",
       "       [3, 4]])"
      ]
     },
     "execution_count": 33,
     "metadata": {},
     "output_type": "execute_result"
    }
   ],
   "source": [
    "array_x"
   ]
  },
  {
   "cell_type": "code",
   "execution_count": 34,
   "id": "4a79d517",
   "metadata": {},
   "outputs": [
    {
     "data": {
      "text/plain": [
       "array([1, 2, 3, 4])"
      ]
     },
     "execution_count": 34,
     "metadata": {},
     "output_type": "execute_result"
    }
   ],
   "source": [
    "array_y"
   ]
  },
  {
   "cell_type": "markdown",
   "id": "6a7c78b9",
   "metadata": {},
   "source": [
    "## Concatenación de vectores para crear una matrix"
   ]
  },
  {
   "cell_type": "code",
   "execution_count": 36,
   "id": "e7e00b5a",
   "metadata": {},
   "outputs": [],
   "source": [
    "z1 = np.array([[2, 4]])\n",
    "z2 = np.array([[5, 6]])\n",
    "\n",
    "z3 = np.concatenate([z1,z2],axis=0)"
   ]
  },
  {
   "cell_type": "code",
   "execution_count": 37,
   "id": "c92e983e",
   "metadata": {},
   "outputs": [
    {
     "data": {
      "text/plain": [
       "array([[2, 4]])"
      ]
     },
     "execution_count": 37,
     "metadata": {},
     "output_type": "execute_result"
    }
   ],
   "source": [
    "z1"
   ]
  },
  {
   "cell_type": "code",
   "execution_count": 38,
   "id": "8db7e490",
   "metadata": {},
   "outputs": [
    {
     "data": {
      "text/plain": [
       "array([[5, 6]])"
      ]
     },
     "execution_count": 38,
     "metadata": {},
     "output_type": "execute_result"
    }
   ],
   "source": [
    "z2"
   ]
  },
  {
   "cell_type": "code",
   "execution_count": 39,
   "id": "81b4a9c9",
   "metadata": {},
   "outputs": [
    {
     "data": {
      "text/plain": [
       "array([[2, 4],\n",
       "       [5, 6]])"
      ]
     },
     "execution_count": 39,
     "metadata": {},
     "output_type": "execute_result"
    }
   ],
   "source": [
    "z3"
   ]
  },
  {
   "cell_type": "code",
   "execution_count": 40,
   "id": "73fe8857",
   "metadata": {},
   "outputs": [
    {
     "data": {
      "text/plain": [
       "(1, 2)"
      ]
     },
     "execution_count": 40,
     "metadata": {},
     "output_type": "execute_result"
    }
   ],
   "source": [
    "z2.shape # Dimensiones del vector "
   ]
  },
  {
   "cell_type": "markdown",
   "id": "86c4cdb6",
   "metadata": {},
   "source": [
    "## Selección de funciones en NumPy para funciones matemáticas"
   ]
  },
  {
   "cell_type": "code",
   "execution_count": 50,
   "id": "d261e18c",
   "metadata": {},
   "outputs": [],
   "source": [
    "x = np.linspace(start = -1, stop = 1, num = 10)"
   ]
  },
  {
   "cell_type": "code",
   "execution_count": 51,
   "id": "2d9323a4",
   "metadata": {},
   "outputs": [
    {
     "data": {
      "text/plain": [
       "array([-1.        , -0.77777778, -0.55555556, -0.33333333, -0.11111111,\n",
       "        0.11111111,  0.33333333,  0.55555556,  0.77777778,  1.        ])"
      ]
     },
     "execution_count": 51,
     "metadata": {},
     "output_type": "execute_result"
    }
   ],
   "source": [
    "x"
   ]
  },
  {
   "cell_type": "code",
   "execution_count": 61,
   "id": "008bba54",
   "metadata": {},
   "outputs": [
    {
     "name": "stderr",
     "output_type": "stream",
     "text": [
      "C:\\Users\\ALEJAN~1\\AppData\\Local\\Temp/ipykernel_7560/2391977642.py:1: RuntimeWarning: invalid value encountered in sqrt\n",
      "  np.sqrt(x) # Raiz cuadrada\n"
     ]
    },
    {
     "data": {
      "text/plain": [
       "array([       nan,        nan,        nan,        nan,        nan,\n",
       "       0.33333333, 0.57735027, 0.74535599, 0.8819171 , 1.        ])"
      ]
     },
     "execution_count": 61,
     "metadata": {},
     "output_type": "execute_result"
    }
   ],
   "source": [
    "np.sqrt(x) # Raiz cuadrada"
   ]
  },
  {
   "cell_type": "code",
   "execution_count": 62,
   "id": "ac04a7d0",
   "metadata": {},
   "outputs": [
    {
     "data": {
      "text/plain": [
       "array([0.36787944, 0.45942582, 0.57375342, 0.71653131, 0.89483932,\n",
       "       1.11751907, 1.39561243, 1.742909  , 2.17662993, 2.71828183])"
      ]
     },
     "execution_count": 62,
     "metadata": {},
     "output_type": "execute_result"
    }
   ],
   "source": [
    "np.exp(x) # Funcion exponencial"
   ]
  },
  {
   "cell_type": "code",
   "execution_count": 63,
   "id": "0b21b057",
   "metadata": {},
   "outputs": [
    {
     "name": "stderr",
     "output_type": "stream",
     "text": [
      "C:\\Users\\ALEJAN~1\\AppData\\Local\\Temp/ipykernel_7560/1277889159.py:1: RuntimeWarning: invalid value encountered in log\n",
      "  np.log(x)\n"
     ]
    },
    {
     "data": {
      "text/plain": [
       "array([        nan,         nan,         nan,         nan,         nan,\n",
       "       -2.19722458, -1.09861229, -0.58778666, -0.25131443,  0.        ])"
      ]
     },
     "execution_count": 63,
     "metadata": {},
     "output_type": "execute_result"
    }
   ],
   "source": [
    "np.log(x) # Funcion logaritmo natural"
   ]
  },
  {
   "cell_type": "code",
   "execution_count": 64,
   "id": "97536e63",
   "metadata": {},
   "outputs": [
    {
     "name": "stderr",
     "output_type": "stream",
     "text": [
      "C:\\Users\\ALEJAN~1\\AppData\\Local\\Temp/ipykernel_7560/1114196279.py:1: RuntimeWarning: invalid value encountered in log10\n",
      "  np.log10(x)\n"
     ]
    },
    {
     "data": {
      "text/plain": [
       "array([        nan,         nan,         nan,         nan,         nan,\n",
       "       -0.95424251, -0.47712125, -0.25527251, -0.10914447,  0.        ])"
      ]
     },
     "execution_count": 64,
     "metadata": {},
     "output_type": "execute_result"
    }
   ],
   "source": [
    "np.log10(x)"
   ]
  },
  {
   "cell_type": "markdown",
   "id": "402834bf",
   "metadata": {},
   "source": [
    "## Funciones trigonométricas"
   ]
  },
  {
   "cell_type": "code",
   "execution_count": 56,
   "id": "3b810065",
   "metadata": {},
   "outputs": [
    {
     "data": {
      "text/plain": [
       "array([0.54030231, 0.71247462, 0.84960756, 0.94495695, 0.99383351,\n",
       "       0.99383351, 0.94495695, 0.84960756, 0.71247462, 0.54030231])"
      ]
     },
     "execution_count": 56,
     "metadata": {},
     "output_type": "execute_result"
    }
   ],
   "source": [
    "np.cos(x) #coseno"
   ]
  },
  {
   "cell_type": "code",
   "execution_count": 57,
   "id": "16ef7e0c",
   "metadata": {},
   "outputs": [
    {
     "data": {
      "text/plain": [
       "array([-0.84147098, -0.70169788, -0.52741539, -0.3271947 , -0.11088263,\n",
       "        0.11088263,  0.3271947 ,  0.52741539,  0.70169788,  0.84147098])"
      ]
     },
     "execution_count": 57,
     "metadata": {},
     "output_type": "execute_result"
    }
   ],
   "source": [
    "np.sin(x) # seno"
   ]
  },
  {
   "cell_type": "code",
   "execution_count": 58,
   "id": "b7f7a5f2",
   "metadata": {},
   "outputs": [
    {
     "data": {
      "text/plain": [
       "array([3.14159265, 2.46191883, 2.1598273 , 1.91063324, 1.68213734,\n",
       "       1.45945531, 1.23095942, 0.98176536, 0.67967382, 0.        ])"
      ]
     },
     "execution_count": 58,
     "metadata": {},
     "output_type": "execute_result"
    }
   ],
   "source": [
    "np.arccos(x) # arccoseno"
   ]
  },
  {
   "cell_type": "code",
   "execution_count": 59,
   "id": "1f23a803",
   "metadata": {},
   "outputs": [
    {
     "data": {
      "text/plain": [
       "array([-0.78539816, -0.66104317, -0.5070985 , -0.32175055, -0.11065722,\n",
       "        0.11065722,  0.32175055,  0.5070985 ,  0.66104317,  0.78539816])"
      ]
     },
     "execution_count": 59,
     "metadata": {},
     "output_type": "execute_result"
    }
   ],
   "source": [
    "np.arctan(x) # arcotangente"
   ]
  },
  {
   "cell_type": "markdown",
   "id": "1dc4e68b",
   "metadata": {},
   "source": [
    "## Aplicando funciones"
   ]
  },
  {
   "cell_type": "code",
   "execution_count": 65,
   "id": "74d848a5",
   "metadata": {},
   "outputs": [],
   "source": [
    "def funcion_heaviside(x):\n",
    "    return 1 if x>0 else 0"
   ]
  },
  {
   "cell_type": "code",
   "execution_count": 66,
   "id": "3148fe62",
   "metadata": {},
   "outputs": [
    {
     "data": {
      "text/plain": [
       "0"
      ]
     },
     "execution_count": 66,
     "metadata": {},
     "output_type": "execute_result"
    }
   ],
   "source": [
    "funcion_heaviside(-1)"
   ]
  },
  {
   "cell_type": "code",
   "execution_count": 67,
   "id": "fbcb8138",
   "metadata": {},
   "outputs": [
    {
     "data": {
      "text/plain": [
       "1"
      ]
     },
     "execution_count": 67,
     "metadata": {},
     "output_type": "execute_result"
    }
   ],
   "source": [
    "funcion_heaviside(1)"
   ]
  },
  {
   "cell_type": "code",
   "execution_count": 72,
   "id": "bc20e762",
   "metadata": {},
   "outputs": [
    {
     "ename": "ValueError",
     "evalue": "The truth value of an array with more than one element is ambiguous. Use a.any() or a.all()",
     "output_type": "error",
     "traceback": [
      "\u001b[1;31m---------------------------------------------------------------------------\u001b[0m",
      "\u001b[1;31mValueError\u001b[0m                                Traceback (most recent call last)",
      "\u001b[1;32mC:\\Users\\ALEJAN~1\\AppData\\Local\\Temp/ipykernel_7560/16586617.py\u001b[0m in \u001b[0;36m<module>\u001b[1;34m\u001b[0m\n\u001b[1;32m----> 1\u001b[1;33m \u001b[0mfuncion_heaviside\u001b[0m\u001b[1;33m(\u001b[0m\u001b[0mnp\u001b[0m\u001b[1;33m.\u001b[0m\u001b[0mlinspace\u001b[0m\u001b[1;33m(\u001b[0m\u001b[1;33m-\u001b[0m\u001b[1;36m3\u001b[0m\u001b[1;33m,\u001b[0m\u001b[1;36m3\u001b[0m\u001b[1;33m,\u001b[0m\u001b[1;36m7\u001b[0m\u001b[1;33m)\u001b[0m\u001b[1;33m)\u001b[0m\u001b[1;33m\u001b[0m\u001b[1;33m\u001b[0m\u001b[0m\n\u001b[0m",
      "\u001b[1;32mC:\\Users\\ALEJAN~1\\AppData\\Local\\Temp/ipykernel_7560/4060386052.py\u001b[0m in \u001b[0;36mfuncion_heaviside\u001b[1;34m(x)\u001b[0m\n\u001b[0;32m      1\u001b[0m \u001b[1;32mdef\u001b[0m \u001b[0mfuncion_heaviside\u001b[0m\u001b[1;33m(\u001b[0m\u001b[0mx\u001b[0m\u001b[1;33m)\u001b[0m\u001b[1;33m:\u001b[0m\u001b[1;33m\u001b[0m\u001b[1;33m\u001b[0m\u001b[0m\n\u001b[1;32m----> 2\u001b[1;33m     \u001b[1;32mreturn\u001b[0m \u001b[1;36m1\u001b[0m \u001b[1;32mif\u001b[0m \u001b[0mx\u001b[0m\u001b[1;33m>\u001b[0m\u001b[1;36m0\u001b[0m \u001b[1;32melse\u001b[0m \u001b[1;36m0\u001b[0m\u001b[1;33m\u001b[0m\u001b[1;33m\u001b[0m\u001b[0m\n\u001b[0m",
      "\u001b[1;31mValueError\u001b[0m: The truth value of an array with more than one element is ambiguous. Use a.any() or a.all()"
     ]
    }
   ],
   "source": [
    "funcion_heaviside(np.linspace(-3,3,7))"
   ]
  },
  {
   "cell_type": "code",
   "execution_count": 73,
   "id": "aa56282a",
   "metadata": {},
   "outputs": [],
   "source": [
    "funcion_heaviside_vectorize = np.vectorize(funcion_heaviside)"
   ]
  },
  {
   "cell_type": "code",
   "execution_count": 74,
   "id": "9bb91512",
   "metadata": {},
   "outputs": [
    {
     "data": {
      "text/plain": [
       "array([0, 0, 0, 0, 1, 1, 1])"
      ]
     },
     "execution_count": 74,
     "metadata": {},
     "output_type": "execute_result"
    }
   ],
   "source": [
    "funcion_heaviside_vectorize(np.linspace(-3,3,7))"
   ]
  },
  {
   "cell_type": "markdown",
   "id": "ab08be4c",
   "metadata": {},
   "source": [
    "## Funciones NumPy para calcular agregados de matrices NumPy "
   ]
  },
  {
   "cell_type": "code",
   "execution_count": 75,
   "id": "b4a42515",
   "metadata": {},
   "outputs": [],
   "source": [
    "data_score = np.array([8,9,8,9,10,10,10,6,5,6,7,8,7,8,7,8,8,5,8,9,6,6])"
   ]
  },
  {
   "cell_type": "code",
   "execution_count": 83,
   "id": "dcd88b8a",
   "metadata": {},
   "outputs": [
    {
     "data": {
      "text/plain": [
       "array([ 8,  9,  8,  9, 10, 10, 10,  6,  5,  6,  7,  8,  7,  8,  7,  8,  8,\n",
       "        5,  8,  9,  6,  6])"
      ]
     },
     "execution_count": 83,
     "metadata": {},
     "output_type": "execute_result"
    }
   ],
   "source": [
    "data_score"
   ]
  },
  {
   "cell_type": "code",
   "execution_count": 76,
   "id": "6ec9ba9d",
   "metadata": {},
   "outputs": [
    {
     "data": {
      "text/plain": [
       "7.636363636363637"
      ]
     },
     "execution_count": 76,
     "metadata": {},
     "output_type": "execute_result"
    }
   ],
   "source": [
    "np.mean(data_score) # Promedio de un vector"
   ]
  },
  {
   "cell_type": "code",
   "execution_count": 78,
   "id": "bf037ec7",
   "metadata": {},
   "outputs": [
    {
     "data": {
      "text/plain": [
       "1.4937887931959075"
      ]
     },
     "execution_count": 78,
     "metadata": {},
     "output_type": "execute_result"
    }
   ],
   "source": [
    "np.std(data_score) # Desviacion estandar de un vector"
   ]
  },
  {
   "cell_type": "code",
   "execution_count": 79,
   "id": "ce0f580d",
   "metadata": {},
   "outputs": [
    {
     "data": {
      "text/plain": [
       "2.231404958677686"
      ]
     },
     "execution_count": 79,
     "metadata": {},
     "output_type": "execute_result"
    }
   ],
   "source": [
    "np.var(data_score) # Varianza de un vector"
   ]
  },
  {
   "cell_type": "code",
   "execution_count": 80,
   "id": "708b37ee",
   "metadata": {},
   "outputs": [
    {
     "data": {
      "text/plain": [
       "168"
      ]
     },
     "execution_count": 80,
     "metadata": {},
     "output_type": "execute_result"
    }
   ],
   "source": [
    "np.sum(data_score) # Suma de todos los elementos de un vector"
   ]
  },
  {
   "cell_type": "code",
   "execution_count": 84,
   "id": "0ad29284",
   "metadata": {},
   "outputs": [
    {
     "data": {
      "text/plain": [
       "5"
      ]
     },
     "execution_count": 84,
     "metadata": {},
     "output_type": "execute_result"
    }
   ],
   "source": [
    "np.min(data_score) # Elemento minimo de un vector"
   ]
  },
  {
   "cell_type": "code",
   "execution_count": 85,
   "id": "65c9569b",
   "metadata": {},
   "outputs": [
    {
     "data": {
      "text/plain": [
       "10"
      ]
     },
     "execution_count": 85,
     "metadata": {},
     "output_type": "execute_result"
    }
   ],
   "source": [
    "np.max(data_score) # Elemento maximo de un vector"
   ]
  },
  {
   "cell_type": "code",
   "execution_count": 86,
   "id": "021e5d37",
   "metadata": {},
   "outputs": [
    {
     "data": {
      "text/plain": [
       "8"
      ]
     },
     "execution_count": 86,
     "metadata": {},
     "output_type": "execute_result"
    }
   ],
   "source": [
    "np.argmin(data_score) # Indice donde se encuentra el valor minimo"
   ]
  },
  {
   "cell_type": "code",
   "execution_count": 87,
   "id": "0012e223",
   "metadata": {},
   "outputs": [
    {
     "data": {
      "text/plain": [
       "4"
      ]
     },
     "execution_count": 87,
     "metadata": {},
     "output_type": "execute_result"
    }
   ],
   "source": [
    "np.argmax(data_score) # Indice donde se encuentra el valor maximo"
   ]
  },
  {
   "cell_type": "code",
   "execution_count": 88,
   "id": "f7a17b50",
   "metadata": {},
   "outputs": [
    {
     "data": {
      "text/plain": [
       "True"
      ]
     },
     "execution_count": 88,
     "metadata": {},
     "output_type": "execute_result"
    }
   ],
   "source": [
    "np.all(data_score) # ¿Todos los elementos son mayores a 0?"
   ]
  },
  {
   "cell_type": "code",
   "execution_count": 89,
   "id": "c542e3b8",
   "metadata": {},
   "outputs": [
    {
     "data": {
      "text/plain": [
       "True"
      ]
     },
     "execution_count": 89,
     "metadata": {},
     "output_type": "execute_result"
    }
   ],
   "source": [
    "np.any(data_score) # Devuelve True si alguno de los elementos de la matriz de argumentos es distinto de cero. "
   ]
  },
  {
   "cell_type": "code",
   "execution_count": 90,
   "id": "ba200d9b",
   "metadata": {},
   "outputs": [
    {
     "data": {
      "text/plain": [
       "array([ 5,  6,  7,  8,  9, 10])"
      ]
     },
     "execution_count": 90,
     "metadata": {},
     "output_type": "execute_result"
    }
   ],
   "source": [
    "np.unique(data_score) # Devuelve elementos unicos de un vector"
   ]
  },
  {
   "cell_type": "markdown",
   "id": "31b23ef8",
   "metadata": {},
   "source": [
    "## Multiplicación de matrices"
   ]
  },
  {
   "cell_type": "code",
   "execution_count": 91,
   "id": "ec2cdd06",
   "metadata": {},
   "outputs": [],
   "source": [
    "A = np.arange(1, 7).reshape(2, 3)\n",
    "B = np.arange(1, 7).reshape(3, 2)"
   ]
  },
  {
   "cell_type": "code",
   "execution_count": 92,
   "id": "c3f2e3b4",
   "metadata": {},
   "outputs": [
    {
     "data": {
      "text/plain": [
       "array([[1, 2, 3],\n",
       "       [4, 5, 6]])"
      ]
     },
     "execution_count": 92,
     "metadata": {},
     "output_type": "execute_result"
    }
   ],
   "source": [
    "A # Matrix de tamaño 2X3"
   ]
  },
  {
   "cell_type": "code",
   "execution_count": 93,
   "id": "07da0e8b",
   "metadata": {},
   "outputs": [
    {
     "data": {
      "text/plain": [
       "array([[1, 2],\n",
       "       [3, 4],\n",
       "       [5, 6]])"
      ]
     },
     "execution_count": 93,
     "metadata": {},
     "output_type": "execute_result"
    }
   ],
   "source": [
    "B # Matrix de tamaño 3X2"
   ]
  },
  {
   "cell_type": "code",
   "execution_count": 94,
   "id": "3b87d810",
   "metadata": {},
   "outputs": [
    {
     "data": {
      "text/plain": [
       "array([[22, 28],\n",
       "       [49, 64]])"
      ]
     },
     "execution_count": 94,
     "metadata": {},
     "output_type": "execute_result"
    }
   ],
   "source": [
    "np.dot(A,B) # Matrix de tamaño 2X3"
   ]
  },
  {
   "cell_type": "markdown",
   "id": "6824906c",
   "metadata": {},
   "source": [
    "## Inversa de una matrix"
   ]
  },
  {
   "cell_type": "code",
   "execution_count": 110,
   "id": "42007e07",
   "metadata": {},
   "outputs": [],
   "source": [
    "Z = np.random.rand(3,3)"
   ]
  },
  {
   "cell_type": "code",
   "execution_count": 111,
   "id": "ee9fb892",
   "metadata": {},
   "outputs": [
    {
     "data": {
      "text/plain": [
       "array([[0.20303049, 0.2461013 , 0.19520462],\n",
       "       [0.2500264 , 0.3359148 , 0.15193434],\n",
       "       [0.29422468, 0.95489   , 0.84286774]])"
      ]
     },
     "execution_count": 111,
     "metadata": {},
     "output_type": "execute_result"
    }
   ],
   "source": [
    "Z"
   ]
  },
  {
   "cell_type": "code",
   "execution_count": 114,
   "id": "08048c97",
   "metadata": {},
   "outputs": [],
   "source": [
    "Z_inv = np.linalg.inv(Z)"
   ]
  },
  {
   "cell_type": "code",
   "execution_count": 116,
   "id": "8e315ba3",
   "metadata": {},
   "outputs": [
    {
     "data": {
      "text/plain": [
       "array([[ 1., -0., -0.],\n",
       "       [-0.,  1., -0.],\n",
       "       [-0.,  0.,  1.]])"
      ]
     },
     "execution_count": 116,
     "metadata": {},
     "output_type": "execute_result"
    }
   ],
   "source": [
    "np.round(Z.dot(Z_inv))"
   ]
  }
 ],
 "metadata": {
  "kernelspec": {
   "display_name": "Python 3 (ipykernel)",
   "language": "python",
   "name": "python3"
  },
  "language_info": {
   "codemirror_mode": {
    "name": "ipython",
    "version": 3
   },
   "file_extension": ".py",
   "mimetype": "text/x-python",
   "name": "python",
   "nbconvert_exporter": "python",
   "pygments_lexer": "ipython3",
   "version": "3.9.7"
  }
 },
 "nbformat": 4,
 "nbformat_minor": 5
}
